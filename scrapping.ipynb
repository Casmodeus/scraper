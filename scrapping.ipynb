{
 "cells": [
  {
   "cell_type": "code",
   "execution_count": 71,
   "metadata": {},
   "outputs": [],
   "source": [
    "import requests\n",
    "import pandas as pd\n",
    "from bs4 import BeautifulSoup\n",
    "from concurrent.futures import ThreadPoolExecutor\n",
    "import time\n",
    "import csv\n",
    "import numpy as np\n",
    "from selenium import webdriver\n",
    "from selenium.common.exceptions import NoSuchElementException\n",
    "from selenium.common.exceptions import StaleElementReferenceException\n",
    "from fake_useragent import UserAgent\n",
    "#Setting up ower webdriver options:\n",
    "ua = UserAgent()\n",
    "userAgent = ua.random\n",
    "firefox_profile = webdriver.FirefoxProfile()\n",
    "#Assigning fake user-agent to our webdriver in order to not being banned:\n",
    "firefox_profile.set_preference(\"general.useragent.override\", userAgent)\n",
    "firefox_profile.set_preference('permissions.default.image', 2)\n",
    "firefox_profile.set_preference('dom.ipc.plugins.enabled.libflashplayer.so', 'false')\n",
    "driver = webdriver.Firefox(firefox_profile=firefox_profile,executable_path=r\"geckodriver\")"
   ]
  },
  {
   "cell_type": "code",
   "execution_count": 72,
   "metadata": {},
   "outputs": [
    {
     "name": "stdout",
     "output_type": "stream",
     "text": [
      "time scraped: 504.1203577518463 seconds\n"
     ]
    }
   ],
   "source": [
    "start = time.time()\n",
    "#Also some ban preventive maintanence, here we randomizing our pages, order of link openings:\n",
    "def get_page():\n",
    "    new_variable = int(np.random.randint(1, 1001))\n",
    "    while new_variable in page_list:\n",
    "        new_variable = int(np.random.randint(1, 1001))\n",
    "    return new_variable\n",
    "def get_inner_page(n):\n",
    "    new_variable = int(np.random.randint(0, n))\n",
    "    while new_variable in inner_page_list:\n",
    "        new_variable = int(np.random.randint(0, n))\n",
    "    return new_variable\n",
    "page_list = []\n",
    "#Creating our dataframe\n",
    "df = pd.DataFrame(columns=['fullAddress','userType','ownerName','square','rooms','price','lat','lon','phones','description','photo_url'])\n",
    "#Here range 5 is scraping only 5 pages as mentioned in homework desc, of course we can scrape more but here is big chance\n",
    "#that we will be banned\n",
    "for i in range(5):\n",
    "    page = get_page()\n",
    "    driver.get('https://krisha.kz/prodazha/kvartiry/nur-sultan/?page={}'.format(page))\n",
    "    page_list.append(page)\n",
    "    pgs = driver.page_source\n",
    "    soup = BeautifulSoup(pgs,'lxml')\n",
    "    elements = soup.find_all('a',class_='a-card__title',attrs={\"href\":True})\n",
    "    array_of_el = []\n",
    "    inner_page_list = []\n",
    "    #Standart loopimg through elements on page,but with randomizer:\n",
    "    for i in range(len(elements)):\n",
    "        current_page = get_inner_page(len(elements))\n",
    "        driver.get('https://krisha.kz{}'.format(elements[current_page]['href']))\n",
    "        inner_page_list.append(current_page)\n",
    "        #Also ban preventive maintenance, in order to seem like real user we randomizing our page appearing time\n",
    "        time.sleep(np.random.uniform(0.2,2))\n",
    "        pgs2 = driver.page_source\n",
    "        #I found some loophole in code:\n",
    "        data = driver.execute_script('return data')\n",
    "        try:\n",
    "            url_photo = data['advert']['photos'][0]['src']\n",
    "        except:\n",
    "            url_photo = None\n",
    "        #Catching data returned from data JSON file\n",
    "        dict1 = {\n",
    "            'fullAddress':data['adverts'][0]['fullAddress'],\n",
    "            'userType':data['advert']['userType'],\n",
    "            'ownerName':data['advert']['ownerName'],\n",
    "            'square':data['advert']['square'],\n",
    "            'rooms':data['advert']['rooms'],\n",
    "            'price':data['advert']['price'],\n",
    "            'lat':data['advert']['map']['lat'],\n",
    "            'lon':data['advert']['map']['lon'],\n",
    "            'phones':data['adverts'][0]['phones'][0],\n",
    "            'description':data['adverts'][0]['description'],\n",
    "            'photo_url':url_photo\n",
    "        }\n",
    "        array_of_el.append(dict1)\n",
    "    df2= pd.DataFrame(array_of_el)\n",
    "    df = df.append(df2,ignore_index=True)\n",
    "print('time scraped:', time.time()-start, 'seconds')"
   ]
  },
  {
   "cell_type": "code",
   "execution_count": 73,
   "metadata": {},
   "outputs": [
    {
     "data": {
      "text/plain": [
       "[351, 672, 852, 765, 728]"
      ]
     },
     "execution_count": 73,
     "metadata": {},
     "output_type": "execute_result"
    }
   ],
   "source": [
    "page_list"
   ]
  },
  {
   "cell_type": "code",
   "execution_count": 74,
   "metadata": {},
   "outputs": [
    {
     "data": {
      "text/plain": [
       "[14, 17, 15, 2, 10, 9, 6, 11, 18, 0, 3, 19, 8, 16, 4, 1, 12, 5, 7, 13]"
      ]
     },
     "execution_count": 74,
     "metadata": {},
     "output_type": "execute_result"
    }
   ],
   "source": [
    "inner_page_list"
   ]
  },
  {
   "cell_type": "markdown",
   "metadata": {},
   "source": [
    "##### As we can see our dataframe is full:"
   ]
  },
  {
   "cell_type": "code",
   "execution_count": 82,
   "metadata": {},
   "outputs": [
    {
     "data": {
      "text/html": [
       "<div>\n",
       "<style scoped>\n",
       "    .dataframe tbody tr th:only-of-type {\n",
       "        vertical-align: middle;\n",
       "    }\n",
       "\n",
       "    .dataframe tbody tr th {\n",
       "        vertical-align: top;\n",
       "    }\n",
       "\n",
       "    .dataframe thead th {\n",
       "        text-align: right;\n",
       "    }\n",
       "</style>\n",
       "<table border=\"1\" class=\"dataframe\">\n",
       "  <thead>\n",
       "    <tr style=\"text-align: right;\">\n",
       "      <th></th>\n",
       "      <th>fullAddress</th>\n",
       "      <th>userType</th>\n",
       "      <th>ownerName</th>\n",
       "      <th>square</th>\n",
       "      <th>rooms</th>\n",
       "      <th>price</th>\n",
       "      <th>lat</th>\n",
       "      <th>lon</th>\n",
       "      <th>phones</th>\n",
       "      <th>description</th>\n",
       "      <th>photo_url</th>\n",
       "    </tr>\n",
       "  </thead>\n",
       "  <tbody>\n",
       "    <tr>\n",
       "      <th>0</th>\n",
       "      <td>Нур-Султан (Астана), Мухтар Ауезов 56 — Молдог...</td>\n",
       "      <td>owner</td>\n",
       "      <td>id21330440</td>\n",
       "      <td>47.00</td>\n",
       "      <td>2</td>\n",
       "      <td>18000000</td>\n",
       "      <td>51.185874</td>\n",
       "      <td>71.419376</td>\n",
       "      <td>+7 701 299 3993</td>\n",
       "      <td>кирпичный дом, 1985 г.п., состояние: хорошее, ...</td>\n",
       "      <td>https://photos-kr.kcdn.kz/webp/d6/d637f32b-4b1...</td>\n",
       "    </tr>\n",
       "    <tr>\n",
       "      <th>1</th>\n",
       "      <td>Нур-Султан (Астана), Сатпаева 23 — Момышулы</td>\n",
       "      <td>owner</td>\n",
       "      <td>Катя</td>\n",
       "      <td>80.00</td>\n",
       "      <td>2</td>\n",
       "      <td>35000000</td>\n",
       "      <td>51.141895</td>\n",
       "      <td>71.472812</td>\n",
       "      <td>+7 777 263 9483</td>\n",
       "      <td>жил. комплекс Достык, монолитный дом, 2010 г.п...</td>\n",
       "      <td>https://photos-kr.kcdn.kz/webp/bf/bf51513d-db2...</td>\n",
       "    </tr>\n",
       "    <tr>\n",
       "      <th>2</th>\n",
       "      <td>Нур-Султан (Астана), Алматы р-н, Байтурсынова ...</td>\n",
       "      <td>owner</td>\n",
       "      <td>id14856105</td>\n",
       "      <td>53.50</td>\n",
       "      <td>2</td>\n",
       "      <td>24000000</td>\n",
       "      <td>50.304319</td>\n",
       "      <td>72.090836</td>\n",
       "      <td>+7 776 481 8883</td>\n",
       "      <td>жил. комплекс Астана сәні, монолитный дом, 201...</td>\n",
       "      <td>https://photos-kr.kcdn.kz/webp/f6/f6ff9dee-8d7...</td>\n",
       "    </tr>\n",
       "    <tr>\n",
       "      <th>3</th>\n",
       "      <td>Нур-Султан (Астана), Есиль р-н, Достык 5/1</td>\n",
       "      <td>specialist</td>\n",
       "      <td>Сакенов Азамат</td>\n",
       "      <td>170.00</td>\n",
       "      <td>4</td>\n",
       "      <td>67000000</td>\n",
       "      <td>51.128399</td>\n",
       "      <td>71.421715</td>\n",
       "      <td>+7 708 656 9289</td>\n",
       "      <td>жил. комплекс Северное сияние, монолитный дом,...</td>\n",
       "      <td>https://photos-kr.kcdn.kz/webp/9b/9be03f88-7bb...</td>\n",
       "    </tr>\n",
       "    <tr>\n",
       "      <th>4</th>\n",
       "      <td>Нур-Султан (Астана), Алматы р-н, Кошкарбаева 80</td>\n",
       "      <td>owner</td>\n",
       "      <td>gulchik_1985</td>\n",
       "      <td>35.00</td>\n",
       "      <td>1</td>\n",
       "      <td>12500000</td>\n",
       "      <td>51.150420</td>\n",
       "      <td>71.527895</td>\n",
       "      <td>+7 771 505 7766</td>\n",
       "      <td>&lt;span class=\"a-is-mortgaged\"&gt;В залоге&lt;/span&gt;, ...</td>\n",
       "      <td>None</td>\n",
       "    </tr>\n",
       "    <tr>\n",
       "      <th>...</th>\n",
       "      <td>...</td>\n",
       "      <td>...</td>\n",
       "      <td>...</td>\n",
       "      <td>...</td>\n",
       "      <td>...</td>\n",
       "      <td>...</td>\n",
       "      <td>...</td>\n",
       "      <td>...</td>\n",
       "      <td>...</td>\n",
       "      <td>...</td>\n",
       "      <td>...</td>\n",
       "    </tr>\n",
       "    <tr>\n",
       "      <th>95</th>\n",
       "      <td>Нур-Султан (Астана), проспект Женис 17Б</td>\n",
       "      <td>specialist</td>\n",
       "      <td>Каримова Мунира</td>\n",
       "      <td>54.80</td>\n",
       "      <td>2</td>\n",
       "      <td>17300000</td>\n",
       "      <td>51.168645</td>\n",
       "      <td>71.411843</td>\n",
       "      <td>+7 700 550 0820</td>\n",
       "      <td>кирпичный дом, 2004 г.п., Внимание ! СРОЧНАЯ П...</td>\n",
       "      <td>https://photos-kr.kcdn.kz/webp/fd/fd71b60b-a60...</td>\n",
       "    </tr>\n",
       "    <tr>\n",
       "      <th>96</th>\n",
       "      <td>Нур-Султан (Астана), Сарыарка р-н, Женис 49 — ...</td>\n",
       "      <td>specialist</td>\n",
       "      <td>Елтайулы Мухтархан</td>\n",
       "      <td>32.00</td>\n",
       "      <td>1</td>\n",
       "      <td>8900000</td>\n",
       "      <td>51.180074</td>\n",
       "      <td>71.409310</td>\n",
       "      <td>+7 776 970 5937</td>\n",
       "      <td>панельный дом, 1966 г.п., состояние: хорошее, ...</td>\n",
       "      <td>https://photos-kr.kcdn.kz/webp/38/385895dc-508...</td>\n",
       "    </tr>\n",
       "    <tr>\n",
       "      <th>97</th>\n",
       "      <td>Нур-Султан (Астана), Сарыарка р-н, Кенесары — ...</td>\n",
       "      <td>company</td>\n",
       "      <td>Отдел продаж Астана</td>\n",
       "      <td>57.76</td>\n",
       "      <td>2</td>\n",
       "      <td>17907910</td>\n",
       "      <td>51.162701</td>\n",
       "      <td>71.401126</td>\n",
       "      <td>+7 777 079 0451</td>\n",
       "      <td>монолитный дом, 2021 г.п., потолки 3м., Ипотек...</td>\n",
       "      <td>https://photos-kr.kcdn.kz/webp/22/22f2036e-1cf...</td>\n",
       "    </tr>\n",
       "    <tr>\n",
       "      <th>98</th>\n",
       "      <td>Нур-Султан (Астана), Сарыарка р-н, Мкр Самал 1</td>\n",
       "      <td>specialist</td>\n",
       "      <td>Нусупова Саягуль</td>\n",
       "      <td>89.80</td>\n",
       "      <td>3</td>\n",
       "      <td>31500000</td>\n",
       "      <td>51.154202</td>\n",
       "      <td>71.429225</td>\n",
       "      <td>+7 707 189 0321</td>\n",
       "      <td>монолитный дом, 1999 г.п., состояние: среднее,...</td>\n",
       "      <td>https://photos-kr.kcdn.kz/webp/6f/6fe80d95-583...</td>\n",
       "    </tr>\n",
       "    <tr>\n",
       "      <th>99</th>\n",
       "      <td>Нур-Султан (Астана), Сарыарка р-н, Кенесары</td>\n",
       "      <td>specialist</td>\n",
       "      <td>Иманбаева Галия</td>\n",
       "      <td>135.00</td>\n",
       "      <td>3</td>\n",
       "      <td>38400000</td>\n",
       "      <td>51.162661</td>\n",
       "      <td>71.399580</td>\n",
       "      <td>+7 707 119 9045</td>\n",
       "      <td>жил. комплекс Самрук, кирпичный дом, 2009 г.п....</td>\n",
       "      <td>https://photos-kr.kcdn.kz/webp/11/1133ed37-aa1...</td>\n",
       "    </tr>\n",
       "  </tbody>\n",
       "</table>\n",
       "<p>100 rows × 11 columns</p>\n",
       "</div>"
      ],
      "text/plain": [
       "                                          fullAddress    userType  \\\n",
       "0   Нур-Султан (Астана), Мухтар Ауезов 56 — Молдог...       owner   \n",
       "1         Нур-Султан (Астана), Сатпаева 23 — Момышулы       owner   \n",
       "2   Нур-Султан (Астана), Алматы р-н, Байтурсынова ...       owner   \n",
       "3          Нур-Султан (Астана), Есиль р-н, Достык 5/1  specialist   \n",
       "4     Нур-Султан (Астана), Алматы р-н, Кошкарбаева 80       owner   \n",
       "..                                                ...         ...   \n",
       "95            Нур-Султан (Астана), проспект Женис 17Б  specialist   \n",
       "96  Нур-Султан (Астана), Сарыарка р-н, Женис 49 — ...  specialist   \n",
       "97  Нур-Султан (Астана), Сарыарка р-н, Кенесары — ...     company   \n",
       "98     Нур-Султан (Астана), Сарыарка р-н, Мкр Самал 1  specialist   \n",
       "99        Нур-Султан (Астана), Сарыарка р-н, Кенесары  specialist   \n",
       "\n",
       "              ownerName  square rooms     price        lat        lon  \\\n",
       "0            id21330440   47.00     2  18000000  51.185874  71.419376   \n",
       "1                  Катя   80.00     2  35000000  51.141895  71.472812   \n",
       "2            id14856105   53.50     2  24000000  50.304319  72.090836   \n",
       "3        Сакенов Азамат  170.00     4  67000000  51.128399  71.421715   \n",
       "4          gulchik_1985   35.00     1  12500000  51.150420  71.527895   \n",
       "..                  ...     ...   ...       ...        ...        ...   \n",
       "95      Каримова Мунира   54.80     2  17300000  51.168645  71.411843   \n",
       "96   Елтайулы Мухтархан   32.00     1   8900000  51.180074  71.409310   \n",
       "97  Отдел продаж Астана   57.76     2  17907910  51.162701  71.401126   \n",
       "98     Нусупова Саягуль   89.80     3  31500000  51.154202  71.429225   \n",
       "99      Иманбаева Галия  135.00     3  38400000  51.162661  71.399580   \n",
       "\n",
       "             phones                                        description  \\\n",
       "0   +7 701 299 3993  кирпичный дом, 1985 г.п., состояние: хорошее, ...   \n",
       "1   +7 777 263 9483  жил. комплекс Достык, монолитный дом, 2010 г.п...   \n",
       "2   +7 776 481 8883  жил. комплекс Астана сәні, монолитный дом, 201...   \n",
       "3   +7 708 656 9289  жил. комплекс Северное сияние, монолитный дом,...   \n",
       "4   +7 771 505 7766  <span class=\"a-is-mortgaged\">В залоге</span>, ...   \n",
       "..              ...                                                ...   \n",
       "95  +7 700 550 0820  кирпичный дом, 2004 г.п., Внимание ! СРОЧНАЯ П...   \n",
       "96  +7 776 970 5937  панельный дом, 1966 г.п., состояние: хорошее, ...   \n",
       "97  +7 777 079 0451  монолитный дом, 2021 г.п., потолки 3м., Ипотек...   \n",
       "98  +7 707 189 0321  монолитный дом, 1999 г.п., состояние: среднее,...   \n",
       "99  +7 707 119 9045  жил. комплекс Самрук, кирпичный дом, 2009 г.п....   \n",
       "\n",
       "                                            photo_url  \n",
       "0   https://photos-kr.kcdn.kz/webp/d6/d637f32b-4b1...  \n",
       "1   https://photos-kr.kcdn.kz/webp/bf/bf51513d-db2...  \n",
       "2   https://photos-kr.kcdn.kz/webp/f6/f6ff9dee-8d7...  \n",
       "3   https://photos-kr.kcdn.kz/webp/9b/9be03f88-7bb...  \n",
       "4                                                None  \n",
       "..                                                ...  \n",
       "95  https://photos-kr.kcdn.kz/webp/fd/fd71b60b-a60...  \n",
       "96  https://photos-kr.kcdn.kz/webp/38/385895dc-508...  \n",
       "97  https://photos-kr.kcdn.kz/webp/22/22f2036e-1cf...  \n",
       "98  https://photos-kr.kcdn.kz/webp/6f/6fe80d95-583...  \n",
       "99  https://photos-kr.kcdn.kz/webp/11/1133ed37-aa1...  \n",
       "\n",
       "[100 rows x 11 columns]"
      ]
     },
     "execution_count": 82,
     "metadata": {},
     "output_type": "execute_result"
    }
   ],
   "source": [
    "df"
   ]
  },
  {
   "cell_type": "code",
   "execution_count": 84,
   "metadata": {},
   "outputs": [],
   "source": [
    "df.to_excel('homework5.xls')"
   ]
  },
  {
   "cell_type": "markdown",
   "metadata": {},
   "source": [
    "#### Some visualization and statistics:"
   ]
  },
  {
   "cell_type": "code",
   "execution_count": 120,
   "metadata": {},
   "outputs": [],
   "source": [
    "import matplotlib.pyplot as plt\n",
    "import plotly.express as px\n",
    "import plotly.graph_objects as go\n",
    "import folium"
   ]
  },
  {
   "cell_type": "code",
   "execution_count": 90,
   "metadata": {},
   "outputs": [],
   "source": [
    "grouped = df.groupby(by=['userType'],as_index=False).agg({'fullAddress':'count'})"
   ]
  },
  {
   "cell_type": "code",
   "execution_count": 97,
   "metadata": {},
   "outputs": [
    {
     "data": {
      "application/vnd.plotly.v1+json": {
       "config": {
        "plotlyServerURL": "https://plot.ly"
       },
       "data": [
        {
         "domain": {
          "x": [
           0,
           1
          ],
          "y": [
           0,
           1
          ]
         },
         "hovertemplate": "userType=%{label}<br>fullAddress=%{value}<extra></extra>",
         "labels": [
          "company",
          "owner",
          "specialist"
         ],
         "legendgroup": "",
         "name": "",
         "showlegend": true,
         "type": "pie",
         "values": [
          3,
          36,
          61
         ]
        }
       ],
       "layout": {
        "legend": {
         "tracegroupgap": 0
        },
        "margin": {
         "t": 60
        },
        "template": {
         "data": {
          "bar": [
           {
            "error_x": {
             "color": "#2a3f5f"
            },
            "error_y": {
             "color": "#2a3f5f"
            },
            "marker": {
             "line": {
              "color": "#E5ECF6",
              "width": 0.5
             }
            },
            "type": "bar"
           }
          ],
          "barpolar": [
           {
            "marker": {
             "line": {
              "color": "#E5ECF6",
              "width": 0.5
             }
            },
            "type": "barpolar"
           }
          ],
          "carpet": [
           {
            "aaxis": {
             "endlinecolor": "#2a3f5f",
             "gridcolor": "white",
             "linecolor": "white",
             "minorgridcolor": "white",
             "startlinecolor": "#2a3f5f"
            },
            "baxis": {
             "endlinecolor": "#2a3f5f",
             "gridcolor": "white",
             "linecolor": "white",
             "minorgridcolor": "white",
             "startlinecolor": "#2a3f5f"
            },
            "type": "carpet"
           }
          ],
          "choropleth": [
           {
            "colorbar": {
             "outlinewidth": 0,
             "ticks": ""
            },
            "type": "choropleth"
           }
          ],
          "contour": [
           {
            "colorbar": {
             "outlinewidth": 0,
             "ticks": ""
            },
            "colorscale": [
             [
              0,
              "#0d0887"
             ],
             [
              0.1111111111111111,
              "#46039f"
             ],
             [
              0.2222222222222222,
              "#7201a8"
             ],
             [
              0.3333333333333333,
              "#9c179e"
             ],
             [
              0.4444444444444444,
              "#bd3786"
             ],
             [
              0.5555555555555556,
              "#d8576b"
             ],
             [
              0.6666666666666666,
              "#ed7953"
             ],
             [
              0.7777777777777778,
              "#fb9f3a"
             ],
             [
              0.8888888888888888,
              "#fdca26"
             ],
             [
              1,
              "#f0f921"
             ]
            ],
            "type": "contour"
           }
          ],
          "contourcarpet": [
           {
            "colorbar": {
             "outlinewidth": 0,
             "ticks": ""
            },
            "type": "contourcarpet"
           }
          ],
          "heatmap": [
           {
            "colorbar": {
             "outlinewidth": 0,
             "ticks": ""
            },
            "colorscale": [
             [
              0,
              "#0d0887"
             ],
             [
              0.1111111111111111,
              "#46039f"
             ],
             [
              0.2222222222222222,
              "#7201a8"
             ],
             [
              0.3333333333333333,
              "#9c179e"
             ],
             [
              0.4444444444444444,
              "#bd3786"
             ],
             [
              0.5555555555555556,
              "#d8576b"
             ],
             [
              0.6666666666666666,
              "#ed7953"
             ],
             [
              0.7777777777777778,
              "#fb9f3a"
             ],
             [
              0.8888888888888888,
              "#fdca26"
             ],
             [
              1,
              "#f0f921"
             ]
            ],
            "type": "heatmap"
           }
          ],
          "heatmapgl": [
           {
            "colorbar": {
             "outlinewidth": 0,
             "ticks": ""
            },
            "colorscale": [
             [
              0,
              "#0d0887"
             ],
             [
              0.1111111111111111,
              "#46039f"
             ],
             [
              0.2222222222222222,
              "#7201a8"
             ],
             [
              0.3333333333333333,
              "#9c179e"
             ],
             [
              0.4444444444444444,
              "#bd3786"
             ],
             [
              0.5555555555555556,
              "#d8576b"
             ],
             [
              0.6666666666666666,
              "#ed7953"
             ],
             [
              0.7777777777777778,
              "#fb9f3a"
             ],
             [
              0.8888888888888888,
              "#fdca26"
             ],
             [
              1,
              "#f0f921"
             ]
            ],
            "type": "heatmapgl"
           }
          ],
          "histogram": [
           {
            "marker": {
             "colorbar": {
              "outlinewidth": 0,
              "ticks": ""
             }
            },
            "type": "histogram"
           }
          ],
          "histogram2d": [
           {
            "colorbar": {
             "outlinewidth": 0,
             "ticks": ""
            },
            "colorscale": [
             [
              0,
              "#0d0887"
             ],
             [
              0.1111111111111111,
              "#46039f"
             ],
             [
              0.2222222222222222,
              "#7201a8"
             ],
             [
              0.3333333333333333,
              "#9c179e"
             ],
             [
              0.4444444444444444,
              "#bd3786"
             ],
             [
              0.5555555555555556,
              "#d8576b"
             ],
             [
              0.6666666666666666,
              "#ed7953"
             ],
             [
              0.7777777777777778,
              "#fb9f3a"
             ],
             [
              0.8888888888888888,
              "#fdca26"
             ],
             [
              1,
              "#f0f921"
             ]
            ],
            "type": "histogram2d"
           }
          ],
          "histogram2dcontour": [
           {
            "colorbar": {
             "outlinewidth": 0,
             "ticks": ""
            },
            "colorscale": [
             [
              0,
              "#0d0887"
             ],
             [
              0.1111111111111111,
              "#46039f"
             ],
             [
              0.2222222222222222,
              "#7201a8"
             ],
             [
              0.3333333333333333,
              "#9c179e"
             ],
             [
              0.4444444444444444,
              "#bd3786"
             ],
             [
              0.5555555555555556,
              "#d8576b"
             ],
             [
              0.6666666666666666,
              "#ed7953"
             ],
             [
              0.7777777777777778,
              "#fb9f3a"
             ],
             [
              0.8888888888888888,
              "#fdca26"
             ],
             [
              1,
              "#f0f921"
             ]
            ],
            "type": "histogram2dcontour"
           }
          ],
          "mesh3d": [
           {
            "colorbar": {
             "outlinewidth": 0,
             "ticks": ""
            },
            "type": "mesh3d"
           }
          ],
          "parcoords": [
           {
            "line": {
             "colorbar": {
              "outlinewidth": 0,
              "ticks": ""
             }
            },
            "type": "parcoords"
           }
          ],
          "pie": [
           {
            "automargin": true,
            "type": "pie"
           }
          ],
          "scatter": [
           {
            "marker": {
             "colorbar": {
              "outlinewidth": 0,
              "ticks": ""
             }
            },
            "type": "scatter"
           }
          ],
          "scatter3d": [
           {
            "line": {
             "colorbar": {
              "outlinewidth": 0,
              "ticks": ""
             }
            },
            "marker": {
             "colorbar": {
              "outlinewidth": 0,
              "ticks": ""
             }
            },
            "type": "scatter3d"
           }
          ],
          "scattercarpet": [
           {
            "marker": {
             "colorbar": {
              "outlinewidth": 0,
              "ticks": ""
             }
            },
            "type": "scattercarpet"
           }
          ],
          "scattergeo": [
           {
            "marker": {
             "colorbar": {
              "outlinewidth": 0,
              "ticks": ""
             }
            },
            "type": "scattergeo"
           }
          ],
          "scattergl": [
           {
            "marker": {
             "colorbar": {
              "outlinewidth": 0,
              "ticks": ""
             }
            },
            "type": "scattergl"
           }
          ],
          "scattermapbox": [
           {
            "marker": {
             "colorbar": {
              "outlinewidth": 0,
              "ticks": ""
             }
            },
            "type": "scattermapbox"
           }
          ],
          "scatterpolar": [
           {
            "marker": {
             "colorbar": {
              "outlinewidth": 0,
              "ticks": ""
             }
            },
            "type": "scatterpolar"
           }
          ],
          "scatterpolargl": [
           {
            "marker": {
             "colorbar": {
              "outlinewidth": 0,
              "ticks": ""
             }
            },
            "type": "scatterpolargl"
           }
          ],
          "scatterternary": [
           {
            "marker": {
             "colorbar": {
              "outlinewidth": 0,
              "ticks": ""
             }
            },
            "type": "scatterternary"
           }
          ],
          "surface": [
           {
            "colorbar": {
             "outlinewidth": 0,
             "ticks": ""
            },
            "colorscale": [
             [
              0,
              "#0d0887"
             ],
             [
              0.1111111111111111,
              "#46039f"
             ],
             [
              0.2222222222222222,
              "#7201a8"
             ],
             [
              0.3333333333333333,
              "#9c179e"
             ],
             [
              0.4444444444444444,
              "#bd3786"
             ],
             [
              0.5555555555555556,
              "#d8576b"
             ],
             [
              0.6666666666666666,
              "#ed7953"
             ],
             [
              0.7777777777777778,
              "#fb9f3a"
             ],
             [
              0.8888888888888888,
              "#fdca26"
             ],
             [
              1,
              "#f0f921"
             ]
            ],
            "type": "surface"
           }
          ],
          "table": [
           {
            "cells": {
             "fill": {
              "color": "#EBF0F8"
             },
             "line": {
              "color": "white"
             }
            },
            "header": {
             "fill": {
              "color": "#C8D4E3"
             },
             "line": {
              "color": "white"
             }
            },
            "type": "table"
           }
          ]
         },
         "layout": {
          "annotationdefaults": {
           "arrowcolor": "#2a3f5f",
           "arrowhead": 0,
           "arrowwidth": 1
          },
          "coloraxis": {
           "colorbar": {
            "outlinewidth": 0,
            "ticks": ""
           }
          },
          "colorscale": {
           "diverging": [
            [
             0,
             "#8e0152"
            ],
            [
             0.1,
             "#c51b7d"
            ],
            [
             0.2,
             "#de77ae"
            ],
            [
             0.3,
             "#f1b6da"
            ],
            [
             0.4,
             "#fde0ef"
            ],
            [
             0.5,
             "#f7f7f7"
            ],
            [
             0.6,
             "#e6f5d0"
            ],
            [
             0.7,
             "#b8e186"
            ],
            [
             0.8,
             "#7fbc41"
            ],
            [
             0.9,
             "#4d9221"
            ],
            [
             1,
             "#276419"
            ]
           ],
           "sequential": [
            [
             0,
             "#0d0887"
            ],
            [
             0.1111111111111111,
             "#46039f"
            ],
            [
             0.2222222222222222,
             "#7201a8"
            ],
            [
             0.3333333333333333,
             "#9c179e"
            ],
            [
             0.4444444444444444,
             "#bd3786"
            ],
            [
             0.5555555555555556,
             "#d8576b"
            ],
            [
             0.6666666666666666,
             "#ed7953"
            ],
            [
             0.7777777777777778,
             "#fb9f3a"
            ],
            [
             0.8888888888888888,
             "#fdca26"
            ],
            [
             1,
             "#f0f921"
            ]
           ],
           "sequentialminus": [
            [
             0,
             "#0d0887"
            ],
            [
             0.1111111111111111,
             "#46039f"
            ],
            [
             0.2222222222222222,
             "#7201a8"
            ],
            [
             0.3333333333333333,
             "#9c179e"
            ],
            [
             0.4444444444444444,
             "#bd3786"
            ],
            [
             0.5555555555555556,
             "#d8576b"
            ],
            [
             0.6666666666666666,
             "#ed7953"
            ],
            [
             0.7777777777777778,
             "#fb9f3a"
            ],
            [
             0.8888888888888888,
             "#fdca26"
            ],
            [
             1,
             "#f0f921"
            ]
           ]
          },
          "colorway": [
           "#636efa",
           "#EF553B",
           "#00cc96",
           "#ab63fa",
           "#FFA15A",
           "#19d3f3",
           "#FF6692",
           "#B6E880",
           "#FF97FF",
           "#FECB52"
          ],
          "font": {
           "color": "#2a3f5f"
          },
          "geo": {
           "bgcolor": "white",
           "lakecolor": "white",
           "landcolor": "#E5ECF6",
           "showlakes": true,
           "showland": true,
           "subunitcolor": "white"
          },
          "hoverlabel": {
           "align": "left"
          },
          "hovermode": "closest",
          "mapbox": {
           "style": "light"
          },
          "paper_bgcolor": "white",
          "plot_bgcolor": "#E5ECF6",
          "polar": {
           "angularaxis": {
            "gridcolor": "white",
            "linecolor": "white",
            "ticks": ""
           },
           "bgcolor": "#E5ECF6",
           "radialaxis": {
            "gridcolor": "white",
            "linecolor": "white",
            "ticks": ""
           }
          },
          "scene": {
           "xaxis": {
            "backgroundcolor": "#E5ECF6",
            "gridcolor": "white",
            "gridwidth": 2,
            "linecolor": "white",
            "showbackground": true,
            "ticks": "",
            "zerolinecolor": "white"
           },
           "yaxis": {
            "backgroundcolor": "#E5ECF6",
            "gridcolor": "white",
            "gridwidth": 2,
            "linecolor": "white",
            "showbackground": true,
            "ticks": "",
            "zerolinecolor": "white"
           },
           "zaxis": {
            "backgroundcolor": "#E5ECF6",
            "gridcolor": "white",
            "gridwidth": 2,
            "linecolor": "white",
            "showbackground": true,
            "ticks": "",
            "zerolinecolor": "white"
           }
          },
          "shapedefaults": {
           "line": {
            "color": "#2a3f5f"
           }
          },
          "ternary": {
           "aaxis": {
            "gridcolor": "white",
            "linecolor": "white",
            "ticks": ""
           },
           "baxis": {
            "gridcolor": "white",
            "linecolor": "white",
            "ticks": ""
           },
           "bgcolor": "#E5ECF6",
           "caxis": {
            "gridcolor": "white",
            "linecolor": "white",
            "ticks": ""
           }
          },
          "title": {
           "x": 0.05
          },
          "xaxis": {
           "automargin": true,
           "gridcolor": "white",
           "linecolor": "white",
           "ticks": "",
           "title": {
            "standoff": 15
           },
           "zerolinecolor": "white",
           "zerolinewidth": 2
          },
          "yaxis": {
           "automargin": true,
           "gridcolor": "white",
           "linecolor": "white",
           "ticks": "",
           "title": {
            "standoff": 15
           },
           "zerolinecolor": "white",
           "zerolinewidth": 2
          }
         }
        }
       }
      },
      "text/html": [
       "<div>                            <div id=\"16ebdd45-46ae-4847-942d-ebfe3231e930\" class=\"plotly-graph-div\" style=\"height:525px; width:100%;\"></div>            <script type=\"text/javascript\">                require([\"plotly\"], function(Plotly) {                    window.PLOTLYENV=window.PLOTLYENV || {};                                    if (document.getElementById(\"16ebdd45-46ae-4847-942d-ebfe3231e930\")) {                    Plotly.newPlot(                        \"16ebdd45-46ae-4847-942d-ebfe3231e930\",                        [{\"domain\": {\"x\": [0.0, 1.0], \"y\": [0.0, 1.0]}, \"hovertemplate\": \"userType=%{label}<br>fullAddress=%{value}<extra></extra>\", \"labels\": [\"company\", \"owner\", \"specialist\"], \"legendgroup\": \"\", \"name\": \"\", \"showlegend\": true, \"type\": \"pie\", \"values\": [3, 36, 61]}],                        {\"legend\": {\"tracegroupgap\": 0}, \"margin\": {\"t\": 60}, \"template\": {\"data\": {\"bar\": [{\"error_x\": {\"color\": \"#2a3f5f\"}, \"error_y\": {\"color\": \"#2a3f5f\"}, \"marker\": {\"line\": {\"color\": \"#E5ECF6\", \"width\": 0.5}}, \"type\": \"bar\"}], \"barpolar\": [{\"marker\": {\"line\": {\"color\": \"#E5ECF6\", \"width\": 0.5}}, \"type\": \"barpolar\"}], \"carpet\": [{\"aaxis\": {\"endlinecolor\": \"#2a3f5f\", \"gridcolor\": \"white\", \"linecolor\": \"white\", \"minorgridcolor\": \"white\", \"startlinecolor\": \"#2a3f5f\"}, \"baxis\": {\"endlinecolor\": \"#2a3f5f\", \"gridcolor\": \"white\", \"linecolor\": \"white\", \"minorgridcolor\": \"white\", \"startlinecolor\": \"#2a3f5f\"}, \"type\": \"carpet\"}], \"choropleth\": [{\"colorbar\": {\"outlinewidth\": 0, \"ticks\": \"\"}, \"type\": \"choropleth\"}], \"contour\": [{\"colorbar\": {\"outlinewidth\": 0, \"ticks\": \"\"}, \"colorscale\": [[0.0, \"#0d0887\"], [0.1111111111111111, \"#46039f\"], [0.2222222222222222, \"#7201a8\"], [0.3333333333333333, \"#9c179e\"], [0.4444444444444444, \"#bd3786\"], [0.5555555555555556, \"#d8576b\"], [0.6666666666666666, \"#ed7953\"], [0.7777777777777778, \"#fb9f3a\"], [0.8888888888888888, \"#fdca26\"], [1.0, \"#f0f921\"]], \"type\": \"contour\"}], \"contourcarpet\": [{\"colorbar\": {\"outlinewidth\": 0, \"ticks\": \"\"}, \"type\": \"contourcarpet\"}], \"heatmap\": [{\"colorbar\": {\"outlinewidth\": 0, \"ticks\": \"\"}, \"colorscale\": [[0.0, \"#0d0887\"], [0.1111111111111111, \"#46039f\"], [0.2222222222222222, \"#7201a8\"], [0.3333333333333333, \"#9c179e\"], [0.4444444444444444, \"#bd3786\"], [0.5555555555555556, \"#d8576b\"], [0.6666666666666666, \"#ed7953\"], [0.7777777777777778, \"#fb9f3a\"], [0.8888888888888888, \"#fdca26\"], [1.0, \"#f0f921\"]], \"type\": \"heatmap\"}], \"heatmapgl\": [{\"colorbar\": {\"outlinewidth\": 0, \"ticks\": \"\"}, \"colorscale\": [[0.0, \"#0d0887\"], [0.1111111111111111, \"#46039f\"], [0.2222222222222222, \"#7201a8\"], [0.3333333333333333, \"#9c179e\"], [0.4444444444444444, \"#bd3786\"], [0.5555555555555556, \"#d8576b\"], [0.6666666666666666, \"#ed7953\"], [0.7777777777777778, \"#fb9f3a\"], [0.8888888888888888, \"#fdca26\"], [1.0, \"#f0f921\"]], \"type\": \"heatmapgl\"}], \"histogram\": [{\"marker\": {\"colorbar\": {\"outlinewidth\": 0, \"ticks\": \"\"}}, \"type\": \"histogram\"}], \"histogram2d\": [{\"colorbar\": {\"outlinewidth\": 0, \"ticks\": \"\"}, \"colorscale\": [[0.0, \"#0d0887\"], [0.1111111111111111, \"#46039f\"], [0.2222222222222222, \"#7201a8\"], [0.3333333333333333, \"#9c179e\"], [0.4444444444444444, \"#bd3786\"], [0.5555555555555556, \"#d8576b\"], [0.6666666666666666, \"#ed7953\"], [0.7777777777777778, \"#fb9f3a\"], [0.8888888888888888, \"#fdca26\"], [1.0, \"#f0f921\"]], \"type\": \"histogram2d\"}], \"histogram2dcontour\": [{\"colorbar\": {\"outlinewidth\": 0, \"ticks\": \"\"}, \"colorscale\": [[0.0, \"#0d0887\"], [0.1111111111111111, \"#46039f\"], [0.2222222222222222, \"#7201a8\"], [0.3333333333333333, \"#9c179e\"], [0.4444444444444444, \"#bd3786\"], [0.5555555555555556, \"#d8576b\"], [0.6666666666666666, \"#ed7953\"], [0.7777777777777778, \"#fb9f3a\"], [0.8888888888888888, \"#fdca26\"], [1.0, \"#f0f921\"]], \"type\": \"histogram2dcontour\"}], \"mesh3d\": [{\"colorbar\": {\"outlinewidth\": 0, \"ticks\": \"\"}, \"type\": \"mesh3d\"}], \"parcoords\": [{\"line\": {\"colorbar\": {\"outlinewidth\": 0, \"ticks\": \"\"}}, \"type\": \"parcoords\"}], \"pie\": [{\"automargin\": true, \"type\": \"pie\"}], \"scatter\": [{\"marker\": {\"colorbar\": {\"outlinewidth\": 0, \"ticks\": \"\"}}, \"type\": \"scatter\"}], \"scatter3d\": [{\"line\": {\"colorbar\": {\"outlinewidth\": 0, \"ticks\": \"\"}}, \"marker\": {\"colorbar\": {\"outlinewidth\": 0, \"ticks\": \"\"}}, \"type\": \"scatter3d\"}], \"scattercarpet\": [{\"marker\": {\"colorbar\": {\"outlinewidth\": 0, \"ticks\": \"\"}}, \"type\": \"scattercarpet\"}], \"scattergeo\": [{\"marker\": {\"colorbar\": {\"outlinewidth\": 0, \"ticks\": \"\"}}, \"type\": \"scattergeo\"}], \"scattergl\": [{\"marker\": {\"colorbar\": {\"outlinewidth\": 0, \"ticks\": \"\"}}, \"type\": \"scattergl\"}], \"scattermapbox\": [{\"marker\": {\"colorbar\": {\"outlinewidth\": 0, \"ticks\": \"\"}}, \"type\": \"scattermapbox\"}], \"scatterpolar\": [{\"marker\": {\"colorbar\": {\"outlinewidth\": 0, \"ticks\": \"\"}}, \"type\": \"scatterpolar\"}], \"scatterpolargl\": [{\"marker\": {\"colorbar\": {\"outlinewidth\": 0, \"ticks\": \"\"}}, \"type\": \"scatterpolargl\"}], \"scatterternary\": [{\"marker\": {\"colorbar\": {\"outlinewidth\": 0, \"ticks\": \"\"}}, \"type\": \"scatterternary\"}], \"surface\": [{\"colorbar\": {\"outlinewidth\": 0, \"ticks\": \"\"}, \"colorscale\": [[0.0, \"#0d0887\"], [0.1111111111111111, \"#46039f\"], [0.2222222222222222, \"#7201a8\"], [0.3333333333333333, \"#9c179e\"], [0.4444444444444444, \"#bd3786\"], [0.5555555555555556, \"#d8576b\"], [0.6666666666666666, \"#ed7953\"], [0.7777777777777778, \"#fb9f3a\"], [0.8888888888888888, \"#fdca26\"], [1.0, \"#f0f921\"]], \"type\": \"surface\"}], \"table\": [{\"cells\": {\"fill\": {\"color\": \"#EBF0F8\"}, \"line\": {\"color\": \"white\"}}, \"header\": {\"fill\": {\"color\": \"#C8D4E3\"}, \"line\": {\"color\": \"white\"}}, \"type\": \"table\"}]}, \"layout\": {\"annotationdefaults\": {\"arrowcolor\": \"#2a3f5f\", \"arrowhead\": 0, \"arrowwidth\": 1}, \"coloraxis\": {\"colorbar\": {\"outlinewidth\": 0, \"ticks\": \"\"}}, \"colorscale\": {\"diverging\": [[0, \"#8e0152\"], [0.1, \"#c51b7d\"], [0.2, \"#de77ae\"], [0.3, \"#f1b6da\"], [0.4, \"#fde0ef\"], [0.5, \"#f7f7f7\"], [0.6, \"#e6f5d0\"], [0.7, \"#b8e186\"], [0.8, \"#7fbc41\"], [0.9, \"#4d9221\"], [1, \"#276419\"]], \"sequential\": [[0.0, \"#0d0887\"], [0.1111111111111111, \"#46039f\"], [0.2222222222222222, \"#7201a8\"], [0.3333333333333333, \"#9c179e\"], [0.4444444444444444, \"#bd3786\"], [0.5555555555555556, \"#d8576b\"], [0.6666666666666666, \"#ed7953\"], [0.7777777777777778, \"#fb9f3a\"], [0.8888888888888888, \"#fdca26\"], [1.0, \"#f0f921\"]], \"sequentialminus\": [[0.0, \"#0d0887\"], [0.1111111111111111, \"#46039f\"], [0.2222222222222222, \"#7201a8\"], [0.3333333333333333, \"#9c179e\"], [0.4444444444444444, \"#bd3786\"], [0.5555555555555556, \"#d8576b\"], [0.6666666666666666, \"#ed7953\"], [0.7777777777777778, \"#fb9f3a\"], [0.8888888888888888, \"#fdca26\"], [1.0, \"#f0f921\"]]}, \"colorway\": [\"#636efa\", \"#EF553B\", \"#00cc96\", \"#ab63fa\", \"#FFA15A\", \"#19d3f3\", \"#FF6692\", \"#B6E880\", \"#FF97FF\", \"#FECB52\"], \"font\": {\"color\": \"#2a3f5f\"}, \"geo\": {\"bgcolor\": \"white\", \"lakecolor\": \"white\", \"landcolor\": \"#E5ECF6\", \"showlakes\": true, \"showland\": true, \"subunitcolor\": \"white\"}, \"hoverlabel\": {\"align\": \"left\"}, \"hovermode\": \"closest\", \"mapbox\": {\"style\": \"light\"}, \"paper_bgcolor\": \"white\", \"plot_bgcolor\": \"#E5ECF6\", \"polar\": {\"angularaxis\": {\"gridcolor\": \"white\", \"linecolor\": \"white\", \"ticks\": \"\"}, \"bgcolor\": \"#E5ECF6\", \"radialaxis\": {\"gridcolor\": \"white\", \"linecolor\": \"white\", \"ticks\": \"\"}}, \"scene\": {\"xaxis\": {\"backgroundcolor\": \"#E5ECF6\", \"gridcolor\": \"white\", \"gridwidth\": 2, \"linecolor\": \"white\", \"showbackground\": true, \"ticks\": \"\", \"zerolinecolor\": \"white\"}, \"yaxis\": {\"backgroundcolor\": \"#E5ECF6\", \"gridcolor\": \"white\", \"gridwidth\": 2, \"linecolor\": \"white\", \"showbackground\": true, \"ticks\": \"\", \"zerolinecolor\": \"white\"}, \"zaxis\": {\"backgroundcolor\": \"#E5ECF6\", \"gridcolor\": \"white\", \"gridwidth\": 2, \"linecolor\": \"white\", \"showbackground\": true, \"ticks\": \"\", \"zerolinecolor\": \"white\"}}, \"shapedefaults\": {\"line\": {\"color\": \"#2a3f5f\"}}, \"ternary\": {\"aaxis\": {\"gridcolor\": \"white\", \"linecolor\": \"white\", \"ticks\": \"\"}, \"baxis\": {\"gridcolor\": \"white\", \"linecolor\": \"white\", \"ticks\": \"\"}, \"bgcolor\": \"#E5ECF6\", \"caxis\": {\"gridcolor\": \"white\", \"linecolor\": \"white\", \"ticks\": \"\"}}, \"title\": {\"x\": 0.05}, \"xaxis\": {\"automargin\": true, \"gridcolor\": \"white\", \"linecolor\": \"white\", \"ticks\": \"\", \"title\": {\"standoff\": 15}, \"zerolinecolor\": \"white\", \"zerolinewidth\": 2}, \"yaxis\": {\"automargin\": true, \"gridcolor\": \"white\", \"linecolor\": \"white\", \"ticks\": \"\", \"title\": {\"standoff\": 15}, \"zerolinecolor\": \"white\", \"zerolinewidth\": 2}}}},                        {\"responsive\": true}                    ).then(function(){\n",
       "                            \n",
       "var gd = document.getElementById('16ebdd45-46ae-4847-942d-ebfe3231e930');\n",
       "var x = new MutationObserver(function (mutations, observer) {{\n",
       "        var display = window.getComputedStyle(gd).display;\n",
       "        if (!display || display === 'none') {{\n",
       "            console.log([gd, 'removed!']);\n",
       "            Plotly.purge(gd);\n",
       "            observer.disconnect();\n",
       "        }}\n",
       "}});\n",
       "\n",
       "// Listen for the removal of the full notebook cells\n",
       "var notebookContainer = gd.closest('#notebook-container');\n",
       "if (notebookContainer) {{\n",
       "    x.observe(notebookContainer, {childList: true});\n",
       "}}\n",
       "\n",
       "// Listen for the clearing of the current output cell\n",
       "var outputEl = gd.closest('.output');\n",
       "if (outputEl) {{\n",
       "    x.observe(outputEl, {childList: true});\n",
       "}}\n",
       "\n",
       "                        })                };                });            </script>        </div>"
      ]
     },
     "metadata": {},
     "output_type": "display_data"
    }
   ],
   "source": [
    "px.pie(grouped,values='fullAddress',names='userType')"
   ]
  },
  {
   "cell_type": "code",
   "execution_count": 113,
   "metadata": {},
   "outputs": [],
   "source": [
    "m = folium.Map(location=[df['lat'].mean(), df['lon'].mean()],zoom_start=10)"
   ]
  },
  {
   "cell_type": "code",
   "execution_count": 112,
   "metadata": {},
   "outputs": [
    {
     "data": {
      "text/html": [
       "<div style=\"width:100%;\"><div style=\"position:relative;width:100%;height:0;padding-bottom:60%;\"><span style=\"color:#565656\">Make this Notebook Trusted to load map: File -> Trust Notebook</span><iframe src=\"about:blank\" style=\"position:absolute;width:100%;height:100%;left:0;top:0;border:none !important;\" data-html=%3C%21DOCTYPE%20html%3E%0A%3Chead%3E%20%20%20%20%0A%20%20%20%20%3Cmeta%20http-equiv%3D%22content-type%22%20content%3D%22text/html%3B%20charset%3DUTF-8%22%20/%3E%0A%20%20%20%20%0A%20%20%20%20%20%20%20%20%3Cscript%3E%0A%20%20%20%20%20%20%20%20%20%20%20%20L_NO_TOUCH%20%3D%20false%3B%0A%20%20%20%20%20%20%20%20%20%20%20%20L_DISABLE_3D%20%3D%20false%3B%0A%20%20%20%20%20%20%20%20%3C/script%3E%0A%20%20%20%20%0A%20%20%20%20%3Cstyle%3Ehtml%2C%20body%20%7Bwidth%3A%20100%25%3Bheight%3A%20100%25%3Bmargin%3A%200%3Bpadding%3A%200%3B%7D%3C/style%3E%0A%20%20%20%20%3Cstyle%3E%23map%20%7Bposition%3Aabsolute%3Btop%3A0%3Bbottom%3A0%3Bright%3A0%3Bleft%3A0%3B%7D%3C/style%3E%0A%20%20%20%20%3Cscript%20src%3D%22https%3A//cdn.jsdelivr.net/npm/leaflet%401.6.0/dist/leaflet.js%22%3E%3C/script%3E%0A%20%20%20%20%3Cscript%20src%3D%22https%3A//code.jquery.com/jquery-1.12.4.min.js%22%3E%3C/script%3E%0A%20%20%20%20%3Cscript%20src%3D%22https%3A//maxcdn.bootstrapcdn.com/bootstrap/3.2.0/js/bootstrap.min.js%22%3E%3C/script%3E%0A%20%20%20%20%3Cscript%20src%3D%22https%3A//cdnjs.cloudflare.com/ajax/libs/Leaflet.awesome-markers/2.0.2/leaflet.awesome-markers.js%22%3E%3C/script%3E%0A%20%20%20%20%3Clink%20rel%3D%22stylesheet%22%20href%3D%22https%3A//cdn.jsdelivr.net/npm/leaflet%401.6.0/dist/leaflet.css%22/%3E%0A%20%20%20%20%3Clink%20rel%3D%22stylesheet%22%20href%3D%22https%3A//maxcdn.bootstrapcdn.com/bootstrap/3.2.0/css/bootstrap.min.css%22/%3E%0A%20%20%20%20%3Clink%20rel%3D%22stylesheet%22%20href%3D%22https%3A//maxcdn.bootstrapcdn.com/bootstrap/3.2.0/css/bootstrap-theme.min.css%22/%3E%0A%20%20%20%20%3Clink%20rel%3D%22stylesheet%22%20href%3D%22https%3A//maxcdn.bootstrapcdn.com/font-awesome/4.6.3/css/font-awesome.min.css%22/%3E%0A%20%20%20%20%3Clink%20rel%3D%22stylesheet%22%20href%3D%22https%3A//cdnjs.cloudflare.com/ajax/libs/Leaflet.awesome-markers/2.0.2/leaflet.awesome-markers.css%22/%3E%0A%20%20%20%20%3Clink%20rel%3D%22stylesheet%22%20href%3D%22https%3A//cdn.jsdelivr.net/gh/python-visualization/folium/folium/templates/leaflet.awesome.rotate.min.css%22/%3E%0A%20%20%20%20%0A%20%20%20%20%20%20%20%20%20%20%20%20%3Cmeta%20name%3D%22viewport%22%20content%3D%22width%3Ddevice-width%2C%0A%20%20%20%20%20%20%20%20%20%20%20%20%20%20%20%20initial-scale%3D1.0%2C%20maximum-scale%3D1.0%2C%20user-scalable%3Dno%22%20/%3E%0A%20%20%20%20%20%20%20%20%20%20%20%20%3Cstyle%3E%0A%20%20%20%20%20%20%20%20%20%20%20%20%20%20%20%20%23map_0372e994ccf64c4ea30594c13123a576%20%7B%0A%20%20%20%20%20%20%20%20%20%20%20%20%20%20%20%20%20%20%20%20position%3A%20relative%3B%0A%20%20%20%20%20%20%20%20%20%20%20%20%20%20%20%20%20%20%20%20width%3A%20100.0%25%3B%0A%20%20%20%20%20%20%20%20%20%20%20%20%20%20%20%20%20%20%20%20height%3A%20100.0%25%3B%0A%20%20%20%20%20%20%20%20%20%20%20%20%20%20%20%20%20%20%20%20left%3A%200.0%25%3B%0A%20%20%20%20%20%20%20%20%20%20%20%20%20%20%20%20%20%20%20%20top%3A%200.0%25%3B%0A%20%20%20%20%20%20%20%20%20%20%20%20%20%20%20%20%7D%0A%20%20%20%20%20%20%20%20%20%20%20%20%3C/style%3E%0A%20%20%20%20%20%20%20%20%0A%3C/head%3E%0A%3Cbody%3E%20%20%20%20%0A%20%20%20%20%0A%20%20%20%20%20%20%20%20%20%20%20%20%3Cdiv%20class%3D%22folium-map%22%20id%3D%22map_0372e994ccf64c4ea30594c13123a576%22%20%3E%3C/div%3E%0A%20%20%20%20%20%20%20%20%0A%3C/body%3E%0A%3Cscript%3E%20%20%20%20%0A%20%20%20%20%0A%20%20%20%20%20%20%20%20%20%20%20%20var%20map_0372e994ccf64c4ea30594c13123a576%20%3D%20L.map%28%0A%20%20%20%20%20%20%20%20%20%20%20%20%20%20%20%20%22map_0372e994ccf64c4ea30594c13123a576%22%2C%0A%20%20%20%20%20%20%20%20%20%20%20%20%20%20%20%20%7B%0A%20%20%20%20%20%20%20%20%20%20%20%20%20%20%20%20%20%20%20%20center%3A%20%5B51.134096303022915%2C%2071.44354411552358%5D%2C%0A%20%20%20%20%20%20%20%20%20%20%20%20%20%20%20%20%20%20%20%20crs%3A%20L.CRS.EPSG3857%2C%0A%20%20%20%20%20%20%20%20%20%20%20%20%20%20%20%20%20%20%20%20zoom%3A%2010%2C%0A%20%20%20%20%20%20%20%20%20%20%20%20%20%20%20%20%20%20%20%20zoomControl%3A%20true%2C%0A%20%20%20%20%20%20%20%20%20%20%20%20%20%20%20%20%20%20%20%20preferCanvas%3A%20false%2C%0A%20%20%20%20%20%20%20%20%20%20%20%20%20%20%20%20%7D%0A%20%20%20%20%20%20%20%20%20%20%20%20%29%3B%0A%0A%20%20%20%20%20%20%20%20%20%20%20%20%0A%0A%20%20%20%20%20%20%20%20%0A%20%20%20%20%0A%20%20%20%20%20%20%20%20%20%20%20%20var%20tile_layer_b077493e96534dfab6cb4ed21f8206e1%20%3D%20L.tileLayer%28%0A%20%20%20%20%20%20%20%20%20%20%20%20%20%20%20%20%22https%3A//%7Bs%7D.tile.openstreetmap.org/%7Bz%7D/%7Bx%7D/%7By%7D.png%22%2C%0A%20%20%20%20%20%20%20%20%20%20%20%20%20%20%20%20%7B%22attribution%22%3A%20%22Data%20by%20%5Cu0026copy%3B%20%5Cu003ca%20href%3D%5C%22http%3A//openstreetmap.org%5C%22%5Cu003eOpenStreetMap%5Cu003c/a%5Cu003e%2C%20under%20%5Cu003ca%20href%3D%5C%22http%3A//www.openstreetmap.org/copyright%5C%22%5Cu003eODbL%5Cu003c/a%5Cu003e.%22%2C%20%22detectRetina%22%3A%20false%2C%20%22maxNativeZoom%22%3A%2018%2C%20%22maxZoom%22%3A%2018%2C%20%22minZoom%22%3A%200%2C%20%22noWrap%22%3A%20false%2C%20%22opacity%22%3A%201%2C%20%22subdomains%22%3A%20%22abc%22%2C%20%22tms%22%3A%20false%7D%0A%20%20%20%20%20%20%20%20%20%20%20%20%29.addTo%28map_0372e994ccf64c4ea30594c13123a576%29%3B%0A%20%20%20%20%20%20%20%20%0A%20%20%20%20%0A%20%20%20%20%20%20%20%20%20%20%20%20var%20marker_79ad4978d6ed48069bb6ede800a4013d%20%3D%20L.marker%28%0A%20%20%20%20%20%20%20%20%20%20%20%20%20%20%20%20%5B71.419376%2C%2051.185874%5D%2C%0A%20%20%20%20%20%20%20%20%20%20%20%20%20%20%20%20%7B%7D%0A%20%20%20%20%20%20%20%20%20%20%20%20%29.addTo%28map_0372e994ccf64c4ea30594c13123a576%29%3B%0A%20%20%20%20%20%20%20%20%0A%20%20%20%20%0A%20%20%20%20%20%20%20%20var%20popup_da396e14c41445efabbe0cbe7d148dec%20%3D%20L.popup%28%7B%22maxWidth%22%3A%20%22100%25%22%7D%29%3B%0A%0A%20%20%20%20%20%20%20%20%0A%20%20%20%20%20%20%20%20%20%20%20%20var%20html_cbff6f97e9ef40869016b1bdeae0ebb6%20%3D%20%24%28%60%3Cdiv%20id%3D%22html_cbff6f97e9ef40869016b1bdeae0ebb6%22%20style%3D%22width%3A%20100.0%25%3B%20height%3A%20100.0%25%3B%22%3E%D0%9D%D1%83%D1%80-%D0%A1%D1%83%D0%BB%D1%82%D0%B0%D0%BD%20%28%D0%90%D1%81%D1%82%D0%B0%D0%BD%D0%B0%29%2C%20%D0%9C%D1%83%D1%85%D1%82%D0%B0%D1%80%20%D0%90%D1%83%D0%B5%D0%B7%D0%BE%D0%B2%2056%20%E2%80%94%20%D0%9C%D0%BE%D0%BB%D0%B4%D0%BE%D0%B3%D1%83%D0%BB%D0%BE%D0%B2%D0%B0%3C/div%3E%60%29%5B0%5D%3B%0A%20%20%20%20%20%20%20%20%20%20%20%20popup_da396e14c41445efabbe0cbe7d148dec.setContent%28html_cbff6f97e9ef40869016b1bdeae0ebb6%29%3B%0A%20%20%20%20%20%20%20%20%0A%0A%20%20%20%20%20%20%20%20marker_79ad4978d6ed48069bb6ede800a4013d.bindPopup%28popup_da396e14c41445efabbe0cbe7d148dec%29%0A%20%20%20%20%20%20%20%20%3B%0A%0A%20%20%20%20%20%20%20%20%0A%20%20%20%20%0A%20%20%20%20%0A%20%20%20%20%20%20%20%20%20%20%20%20var%20marker_a4a791d748cc4e2d83ada5801a8aa6d0%20%3D%20L.marker%28%0A%20%20%20%20%20%20%20%20%20%20%20%20%20%20%20%20%5B71.472812%2C%2051.141895%5D%2C%0A%20%20%20%20%20%20%20%20%20%20%20%20%20%20%20%20%7B%7D%0A%20%20%20%20%20%20%20%20%20%20%20%20%29.addTo%28map_0372e994ccf64c4ea30594c13123a576%29%3B%0A%20%20%20%20%20%20%20%20%0A%20%20%20%20%0A%20%20%20%20%20%20%20%20var%20popup_7fff293b88e040ba9ad8288c6febd4ec%20%3D%20L.popup%28%7B%22maxWidth%22%3A%20%22100%25%22%7D%29%3B%0A%0A%20%20%20%20%20%20%20%20%0A%20%20%20%20%20%20%20%20%20%20%20%20var%20html_9661eff7fc584490b53eeee561ff7313%20%3D%20%24%28%60%3Cdiv%20id%3D%22html_9661eff7fc584490b53eeee561ff7313%22%20style%3D%22width%3A%20100.0%25%3B%20height%3A%20100.0%25%3B%22%3E%D0%9D%D1%83%D1%80-%D0%A1%D1%83%D0%BB%D1%82%D0%B0%D0%BD%20%28%D0%90%D1%81%D1%82%D0%B0%D0%BD%D0%B0%29%2C%20%D0%A1%D0%B0%D1%82%D0%BF%D0%B0%D0%B5%D0%B2%D0%B0%2023%20%E2%80%94%20%D0%9C%D0%BE%D0%BC%D1%8B%D1%88%D1%83%D0%BB%D1%8B%3C/div%3E%60%29%5B0%5D%3B%0A%20%20%20%20%20%20%20%20%20%20%20%20popup_7fff293b88e040ba9ad8288c6febd4ec.setContent%28html_9661eff7fc584490b53eeee561ff7313%29%3B%0A%20%20%20%20%20%20%20%20%0A%0A%20%20%20%20%20%20%20%20marker_a4a791d748cc4e2d83ada5801a8aa6d0.bindPopup%28popup_7fff293b88e040ba9ad8288c6febd4ec%29%0A%20%20%20%20%20%20%20%20%3B%0A%0A%20%20%20%20%20%20%20%20%0A%20%20%20%20%0A%20%20%20%20%0A%20%20%20%20%20%20%20%20%20%20%20%20var%20marker_52dc98282f82474f865c8ab0c973e700%20%3D%20L.marker%28%0A%20%20%20%20%20%20%20%20%20%20%20%20%20%20%20%20%5B72.090836237866%2C%2050.30431908227%5D%2C%0A%20%20%20%20%20%20%20%20%20%20%20%20%20%20%20%20%7B%7D%0A%20%20%20%20%20%20%20%20%20%20%20%20%29.addTo%28map_0372e994ccf64c4ea30594c13123a576%29%3B%0A%20%20%20%20%20%20%20%20%0A%20%20%20%20%0A%20%20%20%20%20%20%20%20var%20popup_b62293b684a144d2a901e22252c2a6aa%20%3D%20L.popup%28%7B%22maxWidth%22%3A%20%22100%25%22%7D%29%3B%0A%0A%20%20%20%20%20%20%20%20%0A%20%20%20%20%20%20%20%20%20%20%20%20var%20html_c251aa59eb3c4de09c3881c0a8537533%20%3D%20%24%28%60%3Cdiv%20id%3D%22html_c251aa59eb3c4de09c3881c0a8537533%22%20style%3D%22width%3A%20100.0%25%3B%20height%3A%20100.0%25%3B%22%3E%D0%9D%D1%83%D1%80-%D0%A1%D1%83%D0%BB%D1%82%D0%B0%D0%BD%20%28%D0%90%D1%81%D1%82%D0%B0%D0%BD%D0%B0%29%2C%20%D0%90%D0%BB%D0%BC%D0%B0%D1%82%D1%8B%20%D1%80-%D0%BD%2C%20%D0%91%D0%B0%D0%B9%D1%82%D1%83%D1%80%D1%81%D1%8B%D0%BD%D0%BE%D0%B2%D0%B0%2053/1%3C/div%3E%60%29%5B0%5D%3B%0A%20%20%20%20%20%20%20%20%20%20%20%20popup_b62293b684a144d2a901e22252c2a6aa.setContent%28html_c251aa59eb3c4de09c3881c0a8537533%29%3B%0A%20%20%20%20%20%20%20%20%0A%0A%20%20%20%20%20%20%20%20marker_52dc98282f82474f865c8ab0c973e700.bindPopup%28popup_b62293b684a144d2a901e22252c2a6aa%29%0A%20%20%20%20%20%20%20%20%3B%0A%0A%20%20%20%20%20%20%20%20%0A%20%20%20%20%0A%20%20%20%20%0A%20%20%20%20%20%20%20%20%20%20%20%20var%20marker_41dc86df2dc04915ae182c1fc3e2b305%20%3D%20L.marker%28%0A%20%20%20%20%20%20%20%20%20%20%20%20%20%20%20%20%5B71.421715%2C%2051.128399%5D%2C%0A%20%20%20%20%20%20%20%20%20%20%20%20%20%20%20%20%7B%7D%0A%20%20%20%20%20%20%20%20%20%20%20%20%29.addTo%28map_0372e994ccf64c4ea30594c13123a576%29%3B%0A%20%20%20%20%20%20%20%20%0A%20%20%20%20%0A%20%20%20%20%20%20%20%20var%20popup_14a38707d4f44b0fb07faf2f74db7852%20%3D%20L.popup%28%7B%22maxWidth%22%3A%20%22100%25%22%7D%29%3B%0A%0A%20%20%20%20%20%20%20%20%0A%20%20%20%20%20%20%20%20%20%20%20%20var%20html_04ac017e9cc64eb9a110580185576c49%20%3D%20%24%28%60%3Cdiv%20id%3D%22html_04ac017e9cc64eb9a110580185576c49%22%20style%3D%22width%3A%20100.0%25%3B%20height%3A%20100.0%25%3B%22%3E%D0%9D%D1%83%D1%80-%D0%A1%D1%83%D0%BB%D1%82%D0%B0%D0%BD%20%28%D0%90%D1%81%D1%82%D0%B0%D0%BD%D0%B0%29%2C%20%D0%95%D1%81%D0%B8%D0%BB%D1%8C%20%D1%80-%D0%BD%2C%20%D0%94%D0%BE%D1%81%D1%82%D1%8B%D0%BA%205/1%3C/div%3E%60%29%5B0%5D%3B%0A%20%20%20%20%20%20%20%20%20%20%20%20popup_14a38707d4f44b0fb07faf2f74db7852.setContent%28html_04ac017e9cc64eb9a110580185576c49%29%3B%0A%20%20%20%20%20%20%20%20%0A%0A%20%20%20%20%20%20%20%20marker_41dc86df2dc04915ae182c1fc3e2b305.bindPopup%28popup_14a38707d4f44b0fb07faf2f74db7852%29%0A%20%20%20%20%20%20%20%20%3B%0A%0A%20%20%20%20%20%20%20%20%0A%20%20%20%20%0A%20%20%20%20%0A%20%20%20%20%20%20%20%20%20%20%20%20var%20marker_ab43d7476a41489fb33d050daa85539f%20%3D%20L.marker%28%0A%20%20%20%20%20%20%20%20%20%20%20%20%20%20%20%20%5B71.527895476332%2C%2051.150419572067%5D%2C%0A%20%20%20%20%20%20%20%20%20%20%20%20%20%20%20%20%7B%7D%0A%20%20%20%20%20%20%20%20%20%20%20%20%29.addTo%28map_0372e994ccf64c4ea30594c13123a576%29%3B%0A%20%20%20%20%20%20%20%20%0A%20%20%20%20%0A%20%20%20%20%20%20%20%20var%20popup_aa727d79a63c4528a8342681746e756a%20%3D%20L.popup%28%7B%22maxWidth%22%3A%20%22100%25%22%7D%29%3B%0A%0A%20%20%20%20%20%20%20%20%0A%20%20%20%20%20%20%20%20%20%20%20%20var%20html_fab695a58e3549fdb3472091c977034e%20%3D%20%24%28%60%3Cdiv%20id%3D%22html_fab695a58e3549fdb3472091c977034e%22%20style%3D%22width%3A%20100.0%25%3B%20height%3A%20100.0%25%3B%22%3E%D0%9D%D1%83%D1%80-%D0%A1%D1%83%D0%BB%D1%82%D0%B0%D0%BD%20%28%D0%90%D1%81%D1%82%D0%B0%D0%BD%D0%B0%29%2C%20%D0%90%D0%BB%D0%BC%D0%B0%D1%82%D1%8B%20%D1%80-%D0%BD%2C%20%D0%9A%D0%BE%D1%88%D0%BA%D0%B0%D1%80%D0%B1%D0%B0%D0%B5%D0%B2%D0%B0%2080%3C/div%3E%60%29%5B0%5D%3B%0A%20%20%20%20%20%20%20%20%20%20%20%20popup_aa727d79a63c4528a8342681746e756a.setContent%28html_fab695a58e3549fdb3472091c977034e%29%3B%0A%20%20%20%20%20%20%20%20%0A%0A%20%20%20%20%20%20%20%20marker_ab43d7476a41489fb33d050daa85539f.bindPopup%28popup_aa727d79a63c4528a8342681746e756a%29%0A%20%20%20%20%20%20%20%20%3B%0A%0A%20%20%20%20%20%20%20%20%0A%20%20%20%20%0A%20%20%20%20%0A%20%20%20%20%20%20%20%20%20%20%20%20var%20marker_5c9f0641ce494cb28171379709bc4fb7%20%3D%20L.marker%28%0A%20%20%20%20%20%20%20%20%20%20%20%20%20%20%20%20%5B71.433636%2C%2051.179944%5D%2C%0A%20%20%20%20%20%20%20%20%20%20%20%20%20%20%20%20%7B%7D%0A%20%20%20%20%20%20%20%20%20%20%20%20%29.addTo%28map_0372e994ccf64c4ea30594c13123a576%29%3B%0A%20%20%20%20%20%20%20%20%0A%20%20%20%20%0A%20%20%20%20%20%20%20%20var%20popup_5ee30dfd77a44a59a5f8955b70a61df9%20%3D%20L.popup%28%7B%22maxWidth%22%3A%20%22100%25%22%7D%29%3B%0A%0A%20%20%20%20%20%20%20%20%0A%20%20%20%20%20%20%20%20%20%20%20%20var%20html_851a72629b24493392b8bf7e01bc85b9%20%3D%20%24%28%60%3Cdiv%20id%3D%22html_851a72629b24493392b8bf7e01bc85b9%22%20style%3D%22width%3A%20100.0%25%3B%20height%3A%20100.0%25%3B%22%3E%D0%9D%D1%83%D1%80-%D0%A1%D1%83%D0%BB%D1%82%D0%B0%D0%BD%20%28%D0%90%D1%81%D1%82%D0%B0%D0%BD%D0%B0%29%2C%20%D0%A1%D0%B0%D1%80%D1%8B%D0%B0%D1%80%D0%BA%D0%B0%20%D1%80-%D0%BD%2C%20%D0%AB%D0%BA%D1%8B%D0%BB%D0%B0%D1%81%20%D0%94%D1%83%D0%BA%D0%B5%D0%BD%D1%83%D0%BB%D1%8B%2034%3C/div%3E%60%29%5B0%5D%3B%0A%20%20%20%20%20%20%20%20%20%20%20%20popup_5ee30dfd77a44a59a5f8955b70a61df9.setContent%28html_851a72629b24493392b8bf7e01bc85b9%29%3B%0A%20%20%20%20%20%20%20%20%0A%0A%20%20%20%20%20%20%20%20marker_5c9f0641ce494cb28171379709bc4fb7.bindPopup%28popup_5ee30dfd77a44a59a5f8955b70a61df9%29%0A%20%20%20%20%20%20%20%20%3B%0A%0A%20%20%20%20%20%20%20%20%0A%20%20%20%20%0A%20%20%20%20%0A%20%20%20%20%20%20%20%20%20%20%20%20var%20marker_7d26da0f203e4aafb85a3495b1d37bed%20%3D%20L.marker%28%0A%20%20%20%20%20%20%20%20%20%20%20%20%20%20%20%20%5B71.404502557489%2C%2051.170208721926%5D%2C%0A%20%20%20%20%20%20%20%20%20%20%20%20%20%20%20%20%7B%7D%0A%20%20%20%20%20%20%20%20%20%20%20%20%29.addTo%28map_0372e994ccf64c4ea30594c13123a576%29%3B%0A%20%20%20%20%20%20%20%20%0A%20%20%20%20%0A%20%20%20%20%20%20%20%20var%20popup_28f4d38cc94c4841aaf3651a1015b929%20%3D%20L.popup%28%7B%22maxWidth%22%3A%20%22100%25%22%7D%29%3B%0A%0A%20%20%20%20%20%20%20%20%0A%20%20%20%20%20%20%20%20%20%20%20%20var%20html_76541a84d3b5476aaa4f82d271b839bb%20%3D%20%24%28%60%3Cdiv%20id%3D%22html_76541a84d3b5476aaa4f82d271b839bb%22%20style%3D%22width%3A%20100.0%25%3B%20height%3A%20100.0%25%3B%22%3E%D0%9D%D1%83%D1%80-%D0%A1%D1%83%D0%BB%D1%82%D0%B0%D0%BD%20%28%D0%90%D1%81%D1%82%D0%B0%D0%BD%D0%B0%29%2C%20%D0%A1.%20%D0%9A%D1%83%D0%B1%D1%80%D0%B8%D0%BD%D0%B0%2022/1%3C/div%3E%60%29%5B0%5D%3B%0A%20%20%20%20%20%20%20%20%20%20%20%20popup_28f4d38cc94c4841aaf3651a1015b929.setContent%28html_76541a84d3b5476aaa4f82d271b839bb%29%3B%0A%20%20%20%20%20%20%20%20%0A%0A%20%20%20%20%20%20%20%20marker_7d26da0f203e4aafb85a3495b1d37bed.bindPopup%28popup_28f4d38cc94c4841aaf3651a1015b929%29%0A%20%20%20%20%20%20%20%20%3B%0A%0A%20%20%20%20%20%20%20%20%0A%20%20%20%20%0A%20%20%20%20%0A%20%20%20%20%20%20%20%20%20%20%20%20var%20marker_d7873f4bac2c4fb084c82502e495f7a6%20%3D%20L.marker%28%0A%20%20%20%20%20%20%20%20%20%20%20%20%20%20%20%20%5B71.382702%2C%2051.131887%5D%2C%0A%20%20%20%20%20%20%20%20%20%20%20%20%20%20%20%20%7B%7D%0A%20%20%20%20%20%20%20%20%20%20%20%20%29.addTo%28map_0372e994ccf64c4ea30594c13123a576%29%3B%0A%20%20%20%20%20%20%20%20%0A%20%20%20%20%0A%20%20%20%20%20%20%20%20var%20popup_34eb422ccffb439f95f061ed96a76c47%20%3D%20L.popup%28%7B%22maxWidth%22%3A%20%22100%25%22%7D%29%3B%0A%0A%20%20%20%20%20%20%20%20%0A%20%20%20%20%20%20%20%20%20%20%20%20var%20html_f195baf80919499ca51496e6c9e5ec57%20%3D%20%24%28%60%3Cdiv%20id%3D%22html_f195baf80919499ca51496e6c9e5ec57%22%20style%3D%22width%3A%20100.0%25%3B%20height%3A%20100.0%25%3B%22%3E%D0%9D%D1%83%D1%80-%D0%A1%D1%83%D0%BB%D1%82%D0%B0%D0%BD%20%28%D0%90%D1%81%D1%82%D0%B0%D0%BD%D0%B0%29%2C%20%D0%95%D1%81%D0%B8%D0%BB%D1%8C%20%D1%80-%D0%BD%2C%20%D0%95-755%3C/div%3E%60%29%5B0%5D%3B%0A%20%20%20%20%20%20%20%20%20%20%20%20popup_34eb422ccffb439f95f061ed96a76c47.setContent%28html_f195baf80919499ca51496e6c9e5ec57%29%3B%0A%20%20%20%20%20%20%20%20%0A%0A%20%20%20%20%20%20%20%20marker_d7873f4bac2c4fb084c82502e495f7a6.bindPopup%28popup_34eb422ccffb439f95f061ed96a76c47%29%0A%20%20%20%20%20%20%20%20%3B%0A%0A%20%20%20%20%20%20%20%20%0A%20%20%20%20%0A%20%20%20%20%0A%20%20%20%20%20%20%20%20%20%20%20%20var%20marker_6113b98120184bab900f87689e9f3b10%20%3D%20L.marker%28%0A%20%20%20%20%20%20%20%20%20%20%20%20%20%20%20%20%5B71.465338%2C%2051.169486%5D%2C%0A%20%20%20%20%20%20%20%20%20%20%20%20%20%20%20%20%7B%7D%0A%20%20%20%20%20%20%20%20%20%20%20%20%29.addTo%28map_0372e994ccf64c4ea30594c13123a576%29%3B%0A%20%20%20%20%20%20%20%20%0A%20%20%20%20%0A%20%20%20%20%20%20%20%20var%20popup_07128121db674c94bfbc8255e0fb8766%20%3D%20L.popup%28%7B%22maxWidth%22%3A%20%22100%25%22%7D%29%3B%0A%0A%20%20%20%20%20%20%20%20%0A%20%20%20%20%20%20%20%20%20%20%20%20var%20html_9f2ccf0515d2447a945da0cac0d846d4%20%3D%20%24%28%60%3Cdiv%20id%3D%22html_9f2ccf0515d2447a945da0cac0d846d4%22%20style%3D%22width%3A%20100.0%25%3B%20height%3A%20100.0%25%3B%22%3E%D0%9D%D1%83%D1%80-%D0%A1%D1%83%D0%BB%D1%82%D0%B0%D0%BD%20%28%D0%90%D1%81%D1%82%D0%B0%D0%BD%D0%B0%29%2C%20%D1%80-%D0%BD%20%D0%91%D0%B0%D0%B9%D0%BA%D0%BE%D0%BD%D1%83%D1%80%2C%20%D0%90%D1%85%D0%BC%D0%B5%D1%82%D0%B0%20%D0%96%D1%83%D0%B1%D0%B0%D0%BD%D0%BE%D0%B2%D0%B0%2027%3C/div%3E%60%29%5B0%5D%3B%0A%20%20%20%20%20%20%20%20%20%20%20%20popup_07128121db674c94bfbc8255e0fb8766.setContent%28html_9f2ccf0515d2447a945da0cac0d846d4%29%3B%0A%20%20%20%20%20%20%20%20%0A%0A%20%20%20%20%20%20%20%20marker_6113b98120184bab900f87689e9f3b10.bindPopup%28popup_07128121db674c94bfbc8255e0fb8766%29%0A%20%20%20%20%20%20%20%20%3B%0A%0A%20%20%20%20%20%20%20%20%0A%20%20%20%20%0A%20%20%20%20%0A%20%20%20%20%20%20%20%20%20%20%20%20var%20marker_4ef88cf859104c919a6e9baa32dd8474%20%3D%20L.marker%28%0A%20%20%20%20%20%20%20%20%20%20%20%20%20%20%20%20%5B71.481211%2C%2051.140437%5D%2C%0A%20%20%20%20%20%20%20%20%20%20%20%20%20%20%20%20%7B%7D%0A%20%20%20%20%20%20%20%20%20%20%20%20%29.addTo%28map_0372e994ccf64c4ea30594c13123a576%29%3B%0A%20%20%20%20%20%20%20%20%0A%20%20%20%20%0A%20%20%20%20%20%20%20%20var%20popup_5b091844cd7e4f42b5a4cd3e53f001c2%20%3D%20L.popup%28%7B%22maxWidth%22%3A%20%22100%25%22%7D%29%3B%0A%0A%20%20%20%20%20%20%20%20%0A%20%20%20%20%20%20%20%20%20%20%20%20var%20html_89e0c65144c84b55a52b0de2194b9cc8%20%3D%20%24%28%60%3Cdiv%20id%3D%22html_89e0c65144c84b55a52b0de2194b9cc8%22%20style%3D%22width%3A%20100.0%25%3B%20height%3A%20100.0%25%3B%22%3E%D0%9D%D1%83%D1%80-%D0%A1%D1%83%D0%BB%D1%82%D0%B0%D0%BD%20%28%D0%90%D1%81%D1%82%D0%B0%D0%BD%D0%B0%29%2C%20%D0%90%D0%BB%D0%BC%D0%B0%D1%82%D1%8B%20%D1%80-%D0%BD%2C%20%D0%9C%D0%BE%D0%BC%D1%8B%D1%88%D1%83%D0%BB%D1%8B%2014%20%E2%80%94%20%D0%A3%D0%B3%D0%BE%D0%BB%20%D0%90%D0%BC%D0%B0%D0%BD%D0%B0%D1%82%3C/div%3E%60%29%5B0%5D%3B%0A%20%20%20%20%20%20%20%20%20%20%20%20popup_5b091844cd7e4f42b5a4cd3e53f001c2.setContent%28html_89e0c65144c84b55a52b0de2194b9cc8%29%3B%0A%20%20%20%20%20%20%20%20%0A%0A%20%20%20%20%20%20%20%20marker_4ef88cf859104c919a6e9baa32dd8474.bindPopup%28popup_5b091844cd7e4f42b5a4cd3e53f001c2%29%0A%20%20%20%20%20%20%20%20%3B%0A%0A%20%20%20%20%20%20%20%20%0A%20%20%20%20%0A%20%20%20%20%0A%20%20%20%20%20%20%20%20%20%20%20%20var%20marker_2bf9db2d07014771b3609256c2f075d9%20%3D%20L.marker%28%0A%20%20%20%20%20%20%20%20%20%20%20%20%20%20%20%20%5B71.438137%2C%2051.159901%5D%2C%0A%20%20%20%20%20%20%20%20%20%20%20%20%20%20%20%20%7B%7D%0A%20%20%20%20%20%20%20%20%20%20%20%20%29.addTo%28map_0372e994ccf64c4ea30594c13123a576%29%3B%0A%20%20%20%20%20%20%20%20%0A%20%20%20%20%0A%20%20%20%20%20%20%20%20var%20popup_bde0a52aa8f648119baa90a9cd161f6d%20%3D%20L.popup%28%7B%22maxWidth%22%3A%20%22100%25%22%7D%29%3B%0A%0A%20%20%20%20%20%20%20%20%0A%20%20%20%20%20%20%20%20%20%20%20%20var%20html_d43c36f3b7fc461b9637eaafcb69c096%20%3D%20%24%28%60%3Cdiv%20id%3D%22html_d43c36f3b7fc461b9637eaafcb69c096%22%20style%3D%22width%3A%20100.0%25%3B%20height%3A%20100.0%25%3B%22%3E%D0%9D%D1%83%D1%80-%D0%A1%D1%83%D0%BB%D1%82%D0%B0%D0%BD%20%28%D0%90%D1%81%D1%82%D0%B0%D0%BD%D0%B0%29%2C%20%D1%80-%D0%BD%20%D0%91%D0%B0%D0%B9%D0%BA%D0%BE%D0%BD%D1%83%D1%80%2C%20%D0%91%D0%B0%D1%80%D0%B0%D0%B5%D0%B2%D0%B0%2021%3C/div%3E%60%29%5B0%5D%3B%0A%20%20%20%20%20%20%20%20%20%20%20%20popup_bde0a52aa8f648119baa90a9cd161f6d.setContent%28html_d43c36f3b7fc461b9637eaafcb69c096%29%3B%0A%20%20%20%20%20%20%20%20%0A%0A%20%20%20%20%20%20%20%20marker_2bf9db2d07014771b3609256c2f075d9.bindPopup%28popup_bde0a52aa8f648119baa90a9cd161f6d%29%0A%20%20%20%20%20%20%20%20%3B%0A%0A%20%20%20%20%20%20%20%20%0A%20%20%20%20%0A%20%20%20%20%0A%20%20%20%20%20%20%20%20%20%20%20%20var%20marker_8d0e20eadd6345a6964fbdade9f4992b%20%3D%20L.marker%28%0A%20%20%20%20%20%20%20%20%20%20%20%20%20%20%20%20%5B71.435627751052%2C%2051.162492118118%5D%2C%0A%20%20%20%20%20%20%20%20%20%20%20%20%20%20%20%20%7B%7D%0A%20%20%20%20%20%20%20%20%20%20%20%20%29.addTo%28map_0372e994ccf64c4ea30594c13123a576%29%3B%0A%20%20%20%20%20%20%20%20%0A%20%20%20%20%0A%20%20%20%20%20%20%20%20var%20popup_380ef39659124143a2b7fb9c2b181dbe%20%3D%20L.popup%28%7B%22maxWidth%22%3A%20%22100%25%22%7D%29%3B%0A%0A%20%20%20%20%20%20%20%20%0A%20%20%20%20%20%20%20%20%20%20%20%20var%20html_ed4c3dfdc8034c3cb4692ee76cb04e90%20%3D%20%24%28%60%3Cdiv%20id%3D%22html_ed4c3dfdc8034c3cb4692ee76cb04e90%22%20style%3D%22width%3A%20100.0%25%3B%20height%3A%20100.0%25%3B%22%3E%D0%9D%D1%83%D1%80-%D0%A1%D1%83%D0%BB%D1%82%D0%B0%D0%BD%20%28%D0%90%D1%81%D1%82%D0%B0%D0%BD%D0%B0%29%2C%20%D0%90%D0%BB%D0%BC%D0%B0%D1%82%D1%8B%20%D1%80-%D0%BD%2C%20%D0%98%D0%BC%D0%B0%D0%BD%D0%B1%D0%B0%D0%B5%D0%B2%D0%BE%D0%B9%208%3C/div%3E%60%29%5B0%5D%3B%0A%20%20%20%20%20%20%20%20%20%20%20%20popup_380ef39659124143a2b7fb9c2b181dbe.setContent%28html_ed4c3dfdc8034c3cb4692ee76cb04e90%29%3B%0A%20%20%20%20%20%20%20%20%0A%0A%20%20%20%20%20%20%20%20marker_8d0e20eadd6345a6964fbdade9f4992b.bindPopup%28popup_380ef39659124143a2b7fb9c2b181dbe%29%0A%20%20%20%20%20%20%20%20%3B%0A%0A%20%20%20%20%20%20%20%20%0A%20%20%20%20%0A%20%20%20%20%0A%20%20%20%20%20%20%20%20%20%20%20%20var%20marker_29cb4d57bd22458eafb3477f2a25dde7%20%3D%20L.marker%28%0A%20%20%20%20%20%20%20%20%20%20%20%20%20%20%20%20%5B71.420682%2C%2051.198297%5D%2C%0A%20%20%20%20%20%20%20%20%20%20%20%20%20%20%20%20%7B%7D%0A%20%20%20%20%20%20%20%20%20%20%20%20%29.addTo%28map_0372e994ccf64c4ea30594c13123a576%29%3B%0A%20%20%20%20%20%20%20%20%0A%20%20%20%20%0A%20%20%20%20%20%20%20%20var%20popup_7022156a3da848089db5b4970ef59313%20%3D%20L.popup%28%7B%22maxWidth%22%3A%20%22100%25%22%7D%29%3B%0A%0A%20%20%20%20%20%20%20%20%0A%20%20%20%20%20%20%20%20%20%20%20%20var%20html_d59bc7bd6a2840d49f64debce54a2b5c%20%3D%20%24%28%60%3Cdiv%20id%3D%22html_d59bc7bd6a2840d49f64debce54a2b5c%22%20style%3D%22width%3A%20100.0%25%3B%20height%3A%20100.0%25%3B%22%3E%D0%9D%D1%83%D1%80-%D0%A1%D1%83%D0%BB%D1%82%D0%B0%D0%BD%20%28%D0%90%D1%81%D1%82%D0%B0%D0%BD%D0%B0%29%2C%20%D1%80-%D0%BD%20%D0%91%D0%B0%D0%B9%D0%BA%D0%BE%D0%BD%D1%83%D1%80%2C%20%D1%83%D0%BB%D0%B8%D1%86%D0%B0%20%D0%A2%D0%B0%D0%B9%D0%B1%D1%83%D1%80%D1%8B%D0%BB%207%D0%B0%3C/div%3E%60%29%5B0%5D%3B%0A%20%20%20%20%20%20%20%20%20%20%20%20popup_7022156a3da848089db5b4970ef59313.setContent%28html_d59bc7bd6a2840d49f64debce54a2b5c%29%3B%0A%20%20%20%20%20%20%20%20%0A%0A%20%20%20%20%20%20%20%20marker_29cb4d57bd22458eafb3477f2a25dde7.bindPopup%28popup_7022156a3da848089db5b4970ef59313%29%0A%20%20%20%20%20%20%20%20%3B%0A%0A%20%20%20%20%20%20%20%20%0A%20%20%20%20%0A%20%20%20%20%0A%20%20%20%20%20%20%20%20%20%20%20%20var%20marker_ff4dc54dcdec413283a414db48d8c4b9%20%3D%20L.marker%28%0A%20%20%20%20%20%20%20%20%20%20%20%20%20%20%20%20%5B71.43254%2C%2051.094154%5D%2C%0A%20%20%20%20%20%20%20%20%20%20%20%20%20%20%20%20%7B%7D%0A%20%20%20%20%20%20%20%20%20%20%20%20%29.addTo%28map_0372e994ccf64c4ea30594c13123a576%29%3B%0A%20%20%20%20%20%20%20%20%0A%20%20%20%20%0A%20%20%20%20%20%20%20%20var%20popup_355ddb18fe8d48028821ffa4c7eceef4%20%3D%20L.popup%28%7B%22maxWidth%22%3A%20%22100%25%22%7D%29%3B%0A%0A%20%20%20%20%20%20%20%20%0A%20%20%20%20%20%20%20%20%20%20%20%20var%20html_e97a1c2daa8f4fe4a44bf11b121e3d00%20%3D%20%24%28%60%3Cdiv%20id%3D%22html_e97a1c2daa8f4fe4a44bf11b121e3d00%22%20style%3D%22width%3A%20100.0%25%3B%20height%3A%20100.0%25%3B%22%3E%D0%9D%D1%83%D1%80-%D0%A1%D1%83%D0%BB%D1%82%D0%B0%D0%BD%20%28%D0%90%D1%81%D1%82%D0%B0%D0%BD%D0%B0%29%2C%20%D0%95%D1%81%D0%B8%D0%BB%D1%8C%20%D1%80-%D0%BD%2C%20%D0%A3%D0%BB%D1%8B%20%D0%94%D0%B0%D0%BB%D0%B0%2018%20%E2%80%94%20%D0%9C%D0%B0%D0%BD%D0%B3%D0%B8%D0%BB%D0%B8%D0%BA%20%D0%95%D0%BB%3C/div%3E%60%29%5B0%5D%3B%0A%20%20%20%20%20%20%20%20%20%20%20%20popup_355ddb18fe8d48028821ffa4c7eceef4.setContent%28html_e97a1c2daa8f4fe4a44bf11b121e3d00%29%3B%0A%20%20%20%20%20%20%20%20%0A%0A%20%20%20%20%20%20%20%20marker_ff4dc54dcdec413283a414db48d8c4b9.bindPopup%28popup_355ddb18fe8d48028821ffa4c7eceef4%29%0A%20%20%20%20%20%20%20%20%3B%0A%0A%20%20%20%20%20%20%20%20%0A%20%20%20%20%0A%20%20%20%20%0A%20%20%20%20%20%20%20%20%20%20%20%20var%20marker_07ed1a4229ce4b4ab952ce7d9791cf9c%20%3D%20L.marker%28%0A%20%20%20%20%20%20%20%20%20%20%20%20%20%20%20%20%5B71.40489%2C%2051.170808%5D%2C%0A%20%20%20%20%20%20%20%20%20%20%20%20%20%20%20%20%7B%7D%0A%20%20%20%20%20%20%20%20%20%20%20%20%29.addTo%28map_0372e994ccf64c4ea30594c13123a576%29%3B%0A%20%20%20%20%20%20%20%20%0A%20%20%20%20%0A%20%20%20%20%20%20%20%20var%20popup_c44a8ea5286c49f6b2474eea2424450c%20%3D%20L.popup%28%7B%22maxWidth%22%3A%20%22100%25%22%7D%29%3B%0A%0A%20%20%20%20%20%20%20%20%0A%20%20%20%20%20%20%20%20%20%20%20%20var%20html_3d8b823c66eb4b48aca23465274bc57d%20%3D%20%24%28%60%3Cdiv%20id%3D%22html_3d8b823c66eb4b48aca23465274bc57d%22%20style%3D%22width%3A%20100.0%25%3B%20height%3A%20100.0%25%3B%22%3E%D0%9D%D1%83%D1%80-%D0%A1%D1%83%D0%BB%D1%82%D0%B0%D0%BD%20%28%D0%90%D1%81%D1%82%D0%B0%D0%BD%D0%B0%29%2C%20%D0%A1%D0%B0%D1%80%D1%8B%D0%B0%D1%80%D0%BA%D0%B0%20%D1%80-%D0%BD%2C%20%D0%A1%D1%82%D0%B5%D0%BF%D0%B0%D0%BD%D0%B0%20%D0%9A%D1%83%D0%B1%D1%80%D0%B8%D0%BD%D0%B0%2023/1%3C/div%3E%60%29%5B0%5D%3B%0A%20%20%20%20%20%20%20%20%20%20%20%20popup_c44a8ea5286c49f6b2474eea2424450c.setContent%28html_3d8b823c66eb4b48aca23465274bc57d%29%3B%0A%20%20%20%20%20%20%20%20%0A%0A%20%20%20%20%20%20%20%20marker_07ed1a4229ce4b4ab952ce7d9791cf9c.bindPopup%28popup_c44a8ea5286c49f6b2474eea2424450c%29%0A%20%20%20%20%20%20%20%20%3B%0A%0A%20%20%20%20%20%20%20%20%0A%20%20%20%20%0A%20%20%20%20%0A%20%20%20%20%20%20%20%20%20%20%20%20var%20marker_3cfd47f4b3924acc9cfc7ad3114dc4d3%20%3D%20L.marker%28%0A%20%20%20%20%20%20%20%20%20%20%20%20%20%20%20%20%5B71.43254%2C%2051.094154%5D%2C%0A%20%20%20%20%20%20%20%20%20%20%20%20%20%20%20%20%7B%7D%0A%20%20%20%20%20%20%20%20%20%20%20%20%29.addTo%28map_0372e994ccf64c4ea30594c13123a576%29%3B%0A%20%20%20%20%20%20%20%20%0A%20%20%20%20%0A%20%20%20%20%20%20%20%20var%20popup_c2c825d768964f78aebc1524e5f89eb6%20%3D%20L.popup%28%7B%22maxWidth%22%3A%20%22100%25%22%7D%29%3B%0A%0A%20%20%20%20%20%20%20%20%0A%20%20%20%20%20%20%20%20%20%20%20%20var%20html_bdc0e9c573124261a5d833b0831dd1c7%20%3D%20%24%28%60%3Cdiv%20id%3D%22html_bdc0e9c573124261a5d833b0831dd1c7%22%20style%3D%22width%3A%20100.0%25%3B%20height%3A%20100.0%25%3B%22%3E%D0%9D%D1%83%D1%80-%D0%A1%D1%83%D0%BB%D1%82%D0%B0%D0%BD%20%28%D0%90%D1%81%D1%82%D0%B0%D0%BD%D0%B0%29%2C%20%D0%95%D1%81%D0%B8%D0%BB%D1%8C%20%D1%80-%D0%BD%2C%20%D0%A3%D0%BB%D1%8B%20%D0%94%D0%B0%D0%BB%D0%B0%2018%20%E2%80%94%20%D0%9C%D0%B0%D0%BD%D0%B3%D0%B8%D0%BB%D0%B8%D0%BA%20%D0%95%D0%BB%3C/div%3E%60%29%5B0%5D%3B%0A%20%20%20%20%20%20%20%20%20%20%20%20popup_c2c825d768964f78aebc1524e5f89eb6.setContent%28html_bdc0e9c573124261a5d833b0831dd1c7%29%3B%0A%20%20%20%20%20%20%20%20%0A%0A%20%20%20%20%20%20%20%20marker_3cfd47f4b3924acc9cfc7ad3114dc4d3.bindPopup%28popup_c2c825d768964f78aebc1524e5f89eb6%29%0A%20%20%20%20%20%20%20%20%3B%0A%0A%20%20%20%20%20%20%20%20%0A%20%20%20%20%0A%20%20%20%20%0A%20%20%20%20%20%20%20%20%20%20%20%20var%20marker_2598169480904d5bb72f8e8cf37941ee%20%3D%20L.marker%28%0A%20%20%20%20%20%20%20%20%20%20%20%20%20%20%20%20%5B71.387166%2C%2051.167131%5D%2C%0A%20%20%20%20%20%20%20%20%20%20%20%20%20%20%20%20%7B%7D%0A%20%20%20%20%20%20%20%20%20%20%20%20%29.addTo%28map_0372e994ccf64c4ea30594c13123a576%29%3B%0A%20%20%20%20%20%20%20%20%0A%20%20%20%20%0A%20%20%20%20%20%20%20%20var%20popup_d8dd1b79de684280b573e070da474d62%20%3D%20L.popup%28%7B%22maxWidth%22%3A%20%22100%25%22%7D%29%3B%0A%0A%20%20%20%20%20%20%20%20%0A%20%20%20%20%20%20%20%20%20%20%20%20var%20html_12c3782da789462b9567904d681facfa%20%3D%20%24%28%60%3Cdiv%20id%3D%22html_12c3782da789462b9567904d681facfa%22%20style%3D%22width%3A%20100.0%25%3B%20height%3A%20100.0%25%3B%22%3E%D0%9D%D1%83%D1%80-%D0%A1%D1%83%D0%BB%D1%82%D0%B0%D0%BD%20%28%D0%90%D1%81%D1%82%D0%B0%D0%BD%D0%B0%29%2C%20%D0%A1%D0%B0%D1%80%D1%8B%D0%B0%D1%80%D0%BA%D0%B0%20%D1%80-%D0%BD%2C%20%D0%A8%D0%B0%D0%B9%D0%BC%D0%B5%D1%80%D0%B4%D0%B5%D0%BD%D0%B0%20%D0%9A%D0%BE%D1%81%D1%88%D1%8B%D0%B3%D1%83%D0%BB%D1%83%D0%BB%D1%8B%3C/div%3E%60%29%5B0%5D%3B%0A%20%20%20%20%20%20%20%20%20%20%20%20popup_d8dd1b79de684280b573e070da474d62.setContent%28html_12c3782da789462b9567904d681facfa%29%3B%0A%20%20%20%20%20%20%20%20%0A%0A%20%20%20%20%20%20%20%20marker_2598169480904d5bb72f8e8cf37941ee.bindPopup%28popup_d8dd1b79de684280b573e070da474d62%29%0A%20%20%20%20%20%20%20%20%3B%0A%0A%20%20%20%20%20%20%20%20%0A%20%20%20%20%0A%20%20%20%20%0A%20%20%20%20%20%20%20%20%20%20%20%20var%20marker_2219a963b4f24f058c8b589b8f018509%20%3D%20L.marker%28%0A%20%20%20%20%20%20%20%20%20%20%20%20%20%20%20%20%5B71.450387%2C%2051.089123%5D%2C%0A%20%20%20%20%20%20%20%20%20%20%20%20%20%20%20%20%7B%7D%0A%20%20%20%20%20%20%20%20%20%20%20%20%29.addTo%28map_0372e994ccf64c4ea30594c13123a576%29%3B%0A%20%20%20%20%20%20%20%20%0A%20%20%20%20%0A%20%20%20%20%20%20%20%20var%20popup_2071cb01f71a4b8ebc02d67594a99d6c%20%3D%20L.popup%28%7B%22maxWidth%22%3A%20%22100%25%22%7D%29%3B%0A%0A%20%20%20%20%20%20%20%20%0A%20%20%20%20%20%20%20%20%20%20%20%20var%20html_0b5ca40314bd44edb3e1094f301eef3b%20%3D%20%24%28%60%3Cdiv%20id%3D%22html_0b5ca40314bd44edb3e1094f301eef3b%22%20style%3D%22width%3A%20100.0%25%3B%20height%3A%20100.0%25%3B%22%3E%D0%9D%D1%83%D1%80-%D0%A1%D1%83%D0%BB%D1%82%D0%B0%D0%BD%20%28%D0%90%D1%81%D1%82%D0%B0%D0%BD%D0%B0%29%2C%20%D0%95%D1%81%D0%B8%D0%BB%D1%8C%20%D1%80-%D0%BD%2C%2038%2034/1%3C/div%3E%60%29%5B0%5D%3B%0A%20%20%20%20%20%20%20%20%20%20%20%20popup_2071cb01f71a4b8ebc02d67594a99d6c.setContent%28html_0b5ca40314bd44edb3e1094f301eef3b%29%3B%0A%20%20%20%20%20%20%20%20%0A%0A%20%20%20%20%20%20%20%20marker_2219a963b4f24f058c8b589b8f018509.bindPopup%28popup_2071cb01f71a4b8ebc02d67594a99d6c%29%0A%20%20%20%20%20%20%20%20%3B%0A%0A%20%20%20%20%20%20%20%20%0A%20%20%20%20%0A%20%20%20%20%0A%20%20%20%20%20%20%20%20%20%20%20%20var%20marker_d577bc1980ab451b99425cb82a6861a9%20%3D%20L.marker%28%0A%20%20%20%20%20%20%20%20%20%20%20%20%20%20%20%20%5B71.480645308343%2C%2051.123586400428%5D%2C%0A%20%20%20%20%20%20%20%20%20%20%20%20%20%20%20%20%7B%7D%0A%20%20%20%20%20%20%20%20%20%20%20%20%29.addTo%28map_0372e994ccf64c4ea30594c13123a576%29%3B%0A%20%20%20%20%20%20%20%20%0A%20%20%20%20%0A%20%20%20%20%20%20%20%20var%20popup_906cc70fd2ca4686b9881a85213f9892%20%3D%20L.popup%28%7B%22maxWidth%22%3A%20%22100%25%22%7D%29%3B%0A%0A%20%20%20%20%20%20%20%20%0A%20%20%20%20%20%20%20%20%20%20%20%20var%20html_9ecce20f8ea842a98e9d5a2e615ea419%20%3D%20%24%28%60%3Cdiv%20id%3D%22html_9ecce20f8ea842a98e9d5a2e615ea419%22%20style%3D%22width%3A%20100.0%25%3B%20height%3A%20100.0%25%3B%22%3E%D0%9D%D1%83%D1%80-%D0%A1%D1%83%D0%BB%D1%82%D0%B0%D0%BD%20%28%D0%90%D1%81%D1%82%D0%B0%D0%BD%D0%B0%29%2C%20%D0%90%D0%BB%D0%BC%D0%B0%D1%82%D1%8B%20%D1%80-%D0%BD%2C%20%D0%9A%D0%BE%D1%88%D0%BA%D0%B0%D1%80%D0%B1%D0%B0%D0%B5%D0%B2%D0%B0%2032/1%3C/div%3E%60%29%5B0%5D%3B%0A%20%20%20%20%20%20%20%20%20%20%20%20popup_906cc70fd2ca4686b9881a85213f9892.setContent%28html_9ecce20f8ea842a98e9d5a2e615ea419%29%3B%0A%20%20%20%20%20%20%20%20%0A%0A%20%20%20%20%20%20%20%20marker_d577bc1980ab451b99425cb82a6861a9.bindPopup%28popup_906cc70fd2ca4686b9881a85213f9892%29%0A%20%20%20%20%20%20%20%20%3B%0A%0A%20%20%20%20%20%20%20%20%0A%20%20%20%20%0A%20%20%20%20%0A%20%20%20%20%20%20%20%20%20%20%20%20var%20marker_a4f93c2f8ab1479a9dcdedf9c143b7b6%20%3D%20L.marker%28%0A%20%20%20%20%20%20%20%20%20%20%20%20%20%20%20%20%5B71.452829%2C%2051.162143%5D%2C%0A%20%20%20%20%20%20%20%20%20%20%20%20%20%20%20%20%7B%7D%0A%20%20%20%20%20%20%20%20%20%20%20%20%29.addTo%28map_0372e994ccf64c4ea30594c13123a576%29%3B%0A%20%20%20%20%20%20%20%20%0A%20%20%20%20%0A%20%20%20%20%20%20%20%20var%20popup_1b594d6dbae643de8126b747b7bcaf03%20%3D%20L.popup%28%7B%22maxWidth%22%3A%20%22100%25%22%7D%29%3B%0A%0A%20%20%20%20%20%20%20%20%0A%20%20%20%20%20%20%20%20%20%20%20%20var%20html_30b6f3693746467c94c026078eeb1ba0%20%3D%20%24%28%60%3Cdiv%20id%3D%22html_30b6f3693746467c94c026078eeb1ba0%22%20style%3D%22width%3A%20100.0%25%3B%20height%3A%20100.0%25%3B%22%3E%D0%9D%D1%83%D1%80-%D0%A1%D1%83%D0%BB%D1%82%D0%B0%D0%BD%20%28%D0%90%D1%81%D1%82%D0%B0%D0%BD%D0%B0%29%2C%20%D1%80-%D0%BD%20%D0%91%D0%B0%D0%B9%D0%BA%D0%BE%D0%BD%D1%83%D1%80%2C%20%D0%91%D0%B5%D0%B9%D1%81%D0%B5%D0%BA%D0%B1%D0%B0%D0%B5%D0%B2%D0%B0%202%20%E2%80%94%20%D0%98%D0%BC%D0%B0%D0%BD%D0%BE%D0%B2%D0%B0%3C/div%3E%60%29%5B0%5D%3B%0A%20%20%20%20%20%20%20%20%20%20%20%20popup_1b594d6dbae643de8126b747b7bcaf03.setContent%28html_30b6f3693746467c94c026078eeb1ba0%29%3B%0A%20%20%20%20%20%20%20%20%0A%0A%20%20%20%20%20%20%20%20marker_a4f93c2f8ab1479a9dcdedf9c143b7b6.bindPopup%28popup_1b594d6dbae643de8126b747b7bcaf03%29%0A%20%20%20%20%20%20%20%20%3B%0A%0A%20%20%20%20%20%20%20%20%0A%20%20%20%20%0A%20%20%20%20%0A%20%20%20%20%20%20%20%20%20%20%20%20var%20marker_2d6e77d2dcdf47cdb753da538e16947c%20%3D%20L.marker%28%0A%20%20%20%20%20%20%20%20%20%20%20%20%20%20%20%20%5B71.359947%2C%2051.196626%5D%2C%0A%20%20%20%20%20%20%20%20%20%20%20%20%20%20%20%20%7B%7D%0A%20%20%20%20%20%20%20%20%20%20%20%20%29.addTo%28map_0372e994ccf64c4ea30594c13123a576%29%3B%0A%20%20%20%20%20%20%20%20%0A%20%20%20%20%0A%20%20%20%20%20%20%20%20var%20popup_aa141e92b9c04537a8bbcb9032af70f9%20%3D%20L.popup%28%7B%22maxWidth%22%3A%20%22100%25%22%7D%29%3B%0A%0A%20%20%20%20%20%20%20%20%0A%20%20%20%20%20%20%20%20%20%20%20%20var%20html_0350a788b8164ba3a950cae2d3c9690c%20%3D%20%24%28%60%3Cdiv%20id%3D%22html_0350a788b8164ba3a950cae2d3c9690c%22%20style%3D%22width%3A%20100.0%25%3B%20height%3A%20100.0%25%3B%22%3E%D0%9D%D1%83%D1%80-%D0%A1%D1%83%D0%BB%D1%82%D0%B0%D0%BD%20%28%D0%90%D1%81%D1%82%D0%B0%D0%BD%D0%B0%29%2C%20%D0%A1%D0%B0%D1%80%D1%8B%D0%B0%D1%80%D0%BA%D0%B0%20%D1%80-%D0%BD%2C%20%D0%9A.%20%D0%91%D0%B0%D0%B9%D1%81%D0%B5%D0%B8%D1%82%D0%BE%D0%B2%D0%BE%D0%B9%3C/div%3E%60%29%5B0%5D%3B%0A%20%20%20%20%20%20%20%20%20%20%20%20popup_aa141e92b9c04537a8bbcb9032af70f9.setContent%28html_0350a788b8164ba3a950cae2d3c9690c%29%3B%0A%20%20%20%20%20%20%20%20%0A%0A%20%20%20%20%20%20%20%20marker_2d6e77d2dcdf47cdb753da538e16947c.bindPopup%28popup_aa141e92b9c04537a8bbcb9032af70f9%29%0A%20%20%20%20%20%20%20%20%3B%0A%0A%20%20%20%20%20%20%20%20%0A%20%20%20%20%0A%20%20%20%20%0A%20%20%20%20%20%20%20%20%20%20%20%20var%20marker_459aa9f6100c4a9895fa187a8d8bad88%20%3D%20L.marker%28%0A%20%20%20%20%20%20%20%20%20%20%20%20%20%20%20%20%5B71.4559042453765%2C%2051.099969290062106%5D%2C%0A%20%20%20%20%20%20%20%20%20%20%20%20%20%20%20%20%7B%7D%0A%20%20%20%20%20%20%20%20%20%20%20%20%29.addTo%28map_0372e994ccf64c4ea30594c13123a576%29%3B%0A%20%20%20%20%20%20%20%20%0A%20%20%20%20%0A%20%20%20%20%20%20%20%20var%20popup_440baf715e33424994db7f85395f59b7%20%3D%20L.popup%28%7B%22maxWidth%22%3A%20%22100%25%22%7D%29%3B%0A%0A%20%20%20%20%20%20%20%20%0A%20%20%20%20%20%20%20%20%20%20%20%20var%20html_6a63e9b4c5774fa8a757857c2314fb97%20%3D%20%24%28%60%3Cdiv%20id%3D%22html_6a63e9b4c5774fa8a757857c2314fb97%22%20style%3D%22width%3A%20100.0%25%3B%20height%3A%20100.0%25%3B%22%3E%D0%9D%D1%83%D1%80-%D0%A1%D1%83%D0%BB%D1%82%D0%B0%D0%BD%20%28%D0%90%D1%81%D1%82%D0%B0%D0%BD%D0%B0%29%2C%20%D0%95%D1%81%D0%B8%D0%BB%D1%8C%20%D1%80-%D0%BD%2C%20%D0%9A%D0%B5%D1%80%D0%B5%D0%B9%2C%20%D0%96%D0%B0%D0%BD%D0%B8%D0%B1%D0%B5%D0%BA%20%D1%85%D0%B0%D0%BD%D0%B4%D0%B0%D1%80%208%D0%B0%3C/div%3E%60%29%5B0%5D%3B%0A%20%20%20%20%20%20%20%20%20%20%20%20popup_440baf715e33424994db7f85395f59b7.setContent%28html_6a63e9b4c5774fa8a757857c2314fb97%29%3B%0A%20%20%20%20%20%20%20%20%0A%0A%20%20%20%20%20%20%20%20marker_459aa9f6100c4a9895fa187a8d8bad88.bindPopup%28popup_440baf715e33424994db7f85395f59b7%29%0A%20%20%20%20%20%20%20%20%3B%0A%0A%20%20%20%20%20%20%20%20%0A%20%20%20%20%0A%20%20%20%20%0A%20%20%20%20%20%20%20%20%20%20%20%20var%20marker_6fe3900b5df442209b56ec8a1d43f2ac%20%3D%20L.marker%28%0A%20%20%20%20%20%20%20%20%20%20%20%20%20%20%20%20%5B71.4284833501%2C%2051.167318862792%5D%2C%0A%20%20%20%20%20%20%20%20%20%20%20%20%20%20%20%20%7B%7D%0A%20%20%20%20%20%20%20%20%20%20%20%20%29.addTo%28map_0372e994ccf64c4ea30594c13123a576%29%3B%0A%20%20%20%20%20%20%20%20%0A%20%20%20%20%0A%20%20%20%20%20%20%20%20var%20popup_6fa928b712524ec7a673d0105906b018%20%3D%20L.popup%28%7B%22maxWidth%22%3A%20%22100%25%22%7D%29%3B%0A%0A%20%20%20%20%20%20%20%20%0A%20%20%20%20%20%20%20%20%20%20%20%20var%20html_60adf31191ec41c0b57f33fec95c6592%20%3D%20%24%28%60%3Cdiv%20id%3D%22html_60adf31191ec41c0b57f33fec95c6592%22%20style%3D%22width%3A%20100.0%25%3B%20height%3A%20100.0%25%3B%22%3E%D0%9D%D1%83%D1%80-%D0%A1%D1%83%D0%BB%D1%82%D0%B0%D0%BD%20%28%D0%90%D1%81%D1%82%D0%B0%D0%BD%D0%B0%29%2C%20%D1%80-%D0%BD%20%D0%91%D0%B0%D0%B9%D0%BA%D0%BE%D0%BD%D1%83%D1%80%2C%20%D0%9E%D1%82%D1%8B%D1%80%D0%B0%D1%80%202%3C/div%3E%60%29%5B0%5D%3B%0A%20%20%20%20%20%20%20%20%20%20%20%20popup_6fa928b712524ec7a673d0105906b018.setContent%28html_60adf31191ec41c0b57f33fec95c6592%29%3B%0A%20%20%20%20%20%20%20%20%0A%0A%20%20%20%20%20%20%20%20marker_6fe3900b5df442209b56ec8a1d43f2ac.bindPopup%28popup_6fa928b712524ec7a673d0105906b018%29%0A%20%20%20%20%20%20%20%20%3B%0A%0A%20%20%20%20%20%20%20%20%0A%20%20%20%20%0A%20%20%20%20%0A%20%20%20%20%20%20%20%20%20%20%20%20var%20marker_77ef977ff62f4caa944b899892f9aa2f%20%3D%20L.marker%28%0A%20%20%20%20%20%20%20%20%20%20%20%20%20%20%20%20%5B71.457819%2C%2051.112077%5D%2C%0A%20%20%20%20%20%20%20%20%20%20%20%20%20%20%20%20%7B%7D%0A%20%20%20%20%20%20%20%20%20%20%20%20%29.addTo%28map_0372e994ccf64c4ea30594c13123a576%29%3B%0A%20%20%20%20%20%20%20%20%0A%20%20%20%20%0A%20%20%20%20%20%20%20%20var%20popup_6749de59382c4de48a3572e5d85da413%20%3D%20L.popup%28%7B%22maxWidth%22%3A%20%22100%25%22%7D%29%3B%0A%0A%20%20%20%20%20%20%20%20%0A%20%20%20%20%20%20%20%20%20%20%20%20var%20html_f54149dcf8064141960b8cfc25c345e8%20%3D%20%24%28%60%3Cdiv%20id%3D%22html_f54149dcf8064141960b8cfc25c345e8%22%20style%3D%22width%3A%20100.0%25%3B%20height%3A%20100.0%25%3B%22%3E%D0%9D%D1%83%D1%80-%D0%A1%D1%83%D0%BB%D1%82%D0%B0%D0%BD%20%28%D0%90%D1%81%D1%82%D0%B0%D0%BD%D0%B0%29%2C%20%D0%90%D0%BB%D0%BC%D0%B0%D1%82%D1%8B%20%D1%80-%D0%BD%2C%20%D0%98%D0%B2%D0%B0%D0%BD%D0%B0%20%D0%9F%D0%B0%D0%BD%D1%84%D0%B8%D0%BB%D0%BE%D0%B2%D0%B0%2014%3C/div%3E%60%29%5B0%5D%3B%0A%20%20%20%20%20%20%20%20%20%20%20%20popup_6749de59382c4de48a3572e5d85da413.setContent%28html_f54149dcf8064141960b8cfc25c345e8%29%3B%0A%20%20%20%20%20%20%20%20%0A%0A%20%20%20%20%20%20%20%20marker_77ef977ff62f4caa944b899892f9aa2f.bindPopup%28popup_6749de59382c4de48a3572e5d85da413%29%0A%20%20%20%20%20%20%20%20%3B%0A%0A%20%20%20%20%20%20%20%20%0A%20%20%20%20%0A%20%20%20%20%0A%20%20%20%20%20%20%20%20%20%20%20%20var%20marker_6957bc46194f474ca43266b95e2e8d5c%20%3D%20L.marker%28%0A%20%20%20%20%20%20%20%20%20%20%20%20%20%20%20%20%5B71.496608%2C%2051.15206%5D%2C%0A%20%20%20%20%20%20%20%20%20%20%20%20%20%20%20%20%7B%7D%0A%20%20%20%20%20%20%20%20%20%20%20%20%29.addTo%28map_0372e994ccf64c4ea30594c13123a576%29%3B%0A%20%20%20%20%20%20%20%20%0A%20%20%20%20%0A%20%20%20%20%20%20%20%20var%20popup_1db4b1a92e9e4ed28e235b2c54657ef7%20%3D%20L.popup%28%7B%22maxWidth%22%3A%20%22100%25%22%7D%29%3B%0A%0A%20%20%20%20%20%20%20%20%0A%20%20%20%20%20%20%20%20%20%20%20%20var%20html_db1b285037014eedb757d901ca2ceecf%20%3D%20%24%28%60%3Cdiv%20id%3D%22html_db1b285037014eedb757d901ca2ceecf%22%20style%3D%22width%3A%20100.0%25%3B%20height%3A%20100.0%25%3B%22%3E%D0%9D%D1%83%D1%80-%D0%A1%D1%83%D0%BB%D1%82%D0%B0%D0%BD%20%28%D0%90%D1%81%D1%82%D0%B0%D0%BD%D0%B0%29%2C%20%D0%90%D0%BB%D0%BC%D0%B0%D1%82%D1%8B%20%D1%80-%D0%BD%2C%20%D0%A0%D1%8B%D1%81%D0%BA%D1%83%D0%BB%D0%B1%D0%B5%D0%BA%D0%BE%D0%B2%D0%B0%202/1%3C/div%3E%60%29%5B0%5D%3B%0A%20%20%20%20%20%20%20%20%20%20%20%20popup_1db4b1a92e9e4ed28e235b2c54657ef7.setContent%28html_db1b285037014eedb757d901ca2ceecf%29%3B%0A%20%20%20%20%20%20%20%20%0A%0A%20%20%20%20%20%20%20%20marker_6957bc46194f474ca43266b95e2e8d5c.bindPopup%28popup_1db4b1a92e9e4ed28e235b2c54657ef7%29%0A%20%20%20%20%20%20%20%20%3B%0A%0A%20%20%20%20%20%20%20%20%0A%20%20%20%20%0A%20%20%20%20%0A%20%20%20%20%20%20%20%20%20%20%20%20var%20marker_16834d48ffbf4b48a7ca0ca798603697%20%3D%20L.marker%28%0A%20%20%20%20%20%20%20%20%20%20%20%20%20%20%20%20%5B71.485522146831%2C%2051.123139817431%5D%2C%0A%20%20%20%20%20%20%20%20%20%20%20%20%20%20%20%20%7B%7D%0A%20%20%20%20%20%20%20%20%20%20%20%20%29.addTo%28map_0372e994ccf64c4ea30594c13123a576%29%3B%0A%20%20%20%20%20%20%20%20%0A%20%20%20%20%0A%20%20%20%20%20%20%20%20var%20popup_c0eb918384a247fc89d8f52821fe69dd%20%3D%20L.popup%28%7B%22maxWidth%22%3A%20%22100%25%22%7D%29%3B%0A%0A%20%20%20%20%20%20%20%20%0A%20%20%20%20%20%20%20%20%20%20%20%20var%20html_b216a410d38c4be88db24bf486155b35%20%3D%20%24%28%60%3Cdiv%20id%3D%22html_b216a410d38c4be88db24bf486155b35%22%20style%3D%22width%3A%20100.0%25%3B%20height%3A%20100.0%25%3B%22%3E%D0%9D%D1%83%D1%80-%D0%A1%D1%83%D0%BB%D1%82%D0%B0%D0%BD%20%28%D0%90%D1%81%D1%82%D0%B0%D0%BD%D0%B0%29%2C%20%D0%90%D0%BB%D0%BC%D0%B0%D1%82%D1%8B%20%D1%80-%D0%BD%2C%20%D0%91%D0%B0%D0%B9%D1%82%D1%83%D1%80%D1%81%D1%8B%D0%BD%D0%BE%D0%B2%D0%B0%3C/div%3E%60%29%5B0%5D%3B%0A%20%20%20%20%20%20%20%20%20%20%20%20popup_c0eb918384a247fc89d8f52821fe69dd.setContent%28html_b216a410d38c4be88db24bf486155b35%29%3B%0A%20%20%20%20%20%20%20%20%0A%0A%20%20%20%20%20%20%20%20marker_16834d48ffbf4b48a7ca0ca798603697.bindPopup%28popup_c0eb918384a247fc89d8f52821fe69dd%29%0A%20%20%20%20%20%20%20%20%3B%0A%0A%20%20%20%20%20%20%20%20%0A%20%20%20%20%0A%20%20%20%20%0A%20%20%20%20%20%20%20%20%20%20%20%20var%20marker_10fbeb9a0f4a46dcbc0afd23d6965bfd%20%3D%20L.marker%28%0A%20%20%20%20%20%20%20%20%20%20%20%20%20%20%20%20%5B71.379535748512%2C%2051.144223611993%5D%2C%0A%20%20%20%20%20%20%20%20%20%20%20%20%20%20%20%20%7B%7D%0A%20%20%20%20%20%20%20%20%20%20%20%20%29.addTo%28map_0372e994ccf64c4ea30594c13123a576%29%3B%0A%20%20%20%20%20%20%20%20%0A%20%20%20%20%0A%20%20%20%20%20%20%20%20var%20popup_e6e4c523f86d409ab3ea9051a84d84c5%20%3D%20L.popup%28%7B%22maxWidth%22%3A%20%22100%25%22%7D%29%3B%0A%0A%20%20%20%20%20%20%20%20%0A%20%20%20%20%20%20%20%20%20%20%20%20var%20html_f926cd9982f74022b0c3eae0b0793a93%20%3D%20%24%28%60%3Cdiv%20id%3D%22html_f926cd9982f74022b0c3eae0b0793a93%22%20style%3D%22width%3A%20100.0%25%3B%20height%3A%20100.0%25%3B%22%3E%D0%9D%D1%83%D1%80-%D0%A1%D1%83%D0%BB%D1%82%D0%B0%D0%BD%20%28%D0%90%D1%81%D1%82%D0%B0%D0%BD%D0%B0%29%2C%20%D0%95%D1%81%D0%B8%D0%BB%D1%8C%20%D1%80-%D0%BD%2C%2022-4%3C/div%3E%60%29%5B0%5D%3B%0A%20%20%20%20%20%20%20%20%20%20%20%20popup_e6e4c523f86d409ab3ea9051a84d84c5.setContent%28html_f926cd9982f74022b0c3eae0b0793a93%29%3B%0A%20%20%20%20%20%20%20%20%0A%0A%20%20%20%20%20%20%20%20marker_10fbeb9a0f4a46dcbc0afd23d6965bfd.bindPopup%28popup_e6e4c523f86d409ab3ea9051a84d84c5%29%0A%20%20%20%20%20%20%20%20%3B%0A%0A%20%20%20%20%20%20%20%20%0A%20%20%20%20%0A%20%20%20%20%0A%20%20%20%20%20%20%20%20%20%20%20%20var%20marker_f6983f91a6614ff88cd06dd80eaad170%20%3D%20L.marker%28%0A%20%20%20%20%20%20%20%20%20%20%20%20%20%20%20%20%5B71.431004%2C%2051.12226%5D%2C%0A%20%20%20%20%20%20%20%20%20%20%20%20%20%20%20%20%7B%7D%0A%20%20%20%20%20%20%20%20%20%20%20%20%29.addTo%28map_0372e994ccf64c4ea30594c13123a576%29%3B%0A%20%20%20%20%20%20%20%20%0A%20%20%20%20%0A%20%20%20%20%20%20%20%20var%20popup_73a63449a8544bfc913ca654460983b2%20%3D%20L.popup%28%7B%22maxWidth%22%3A%20%22100%25%22%7D%29%3B%0A%0A%20%20%20%20%20%20%20%20%0A%20%20%20%20%20%20%20%20%20%20%20%20var%20html_199e8883f02f4cb4b244ad9229e955d2%20%3D%20%24%28%60%3Cdiv%20id%3D%22html_199e8883f02f4cb4b244ad9229e955d2%22%20style%3D%22width%3A%20100.0%25%3B%20height%3A%20100.0%25%3B%22%3E%D0%9D%D1%83%D1%80-%D0%A1%D1%83%D0%BB%D1%82%D0%B0%D0%BD%20%28%D0%90%D1%81%D1%82%D0%B0%D0%BD%D0%B0%29%2C%20%D0%95%D1%81%D0%B8%D0%BB%D1%8C%20%D1%80-%D0%BD%2C%20%D0%A1%D1%8B%D0%B3%D0%B0%D0%BD%D0%B0%D0%BA%2018/2%20%E2%80%94%20%D0%A2%D1%83%D1%80%D0%BA%D0%B5%D1%81%D1%82%D0%B0%D0%BD%3C/div%3E%60%29%5B0%5D%3B%0A%20%20%20%20%20%20%20%20%20%20%20%20popup_73a63449a8544bfc913ca654460983b2.setContent%28html_199e8883f02f4cb4b244ad9229e955d2%29%3B%0A%20%20%20%20%20%20%20%20%0A%0A%20%20%20%20%20%20%20%20marker_f6983f91a6614ff88cd06dd80eaad170.bindPopup%28popup_73a63449a8544bfc913ca654460983b2%29%0A%20%20%20%20%20%20%20%20%3B%0A%0A%20%20%20%20%20%20%20%20%0A%20%20%20%20%0A%20%20%20%20%0A%20%20%20%20%20%20%20%20%20%20%20%20var%20marker_33e625b39fcb4c99808af8268f3e3184%20%3D%20L.marker%28%0A%20%20%20%20%20%20%20%20%20%20%20%20%20%20%20%20%5B71.42876353873%2C%2051.087586011104%5D%2C%0A%20%20%20%20%20%20%20%20%20%20%20%20%20%20%20%20%7B%7D%0A%20%20%20%20%20%20%20%20%20%20%20%20%29.addTo%28map_0372e994ccf64c4ea30594c13123a576%29%3B%0A%20%20%20%20%20%20%20%20%0A%20%20%20%20%0A%20%20%20%20%20%20%20%20var%20popup_ea122182ec37466b9c3a26371c88b15f%20%3D%20L.popup%28%7B%22maxWidth%22%3A%20%22100%25%22%7D%29%3B%0A%0A%20%20%20%20%20%20%20%20%0A%20%20%20%20%20%20%20%20%20%20%20%20var%20html_882c6c580eb84b67bb026a8276d1b52d%20%3D%20%24%28%60%3Cdiv%20id%3D%22html_882c6c580eb84b67bb026a8276d1b52d%22%20style%3D%22width%3A%20100.0%25%3B%20height%3A%20100.0%25%3B%22%3E%D0%9D%D1%83%D1%80-%D0%A1%D1%83%D0%BB%D1%82%D0%B0%D0%BD%20%28%D0%90%D1%81%D1%82%D0%B0%D0%BD%D0%B0%29%2C%20%D0%95%D1%81%D0%B8%D0%BB%D1%8C%20%D1%80-%D0%BD%2C%20%D0%91%D0%BE%D0%BA%D0%B5%D0%B9%D1%85%D0%B0%D0%BD%D0%B0%2025%3C/div%3E%60%29%5B0%5D%3B%0A%20%20%20%20%20%20%20%20%20%20%20%20popup_ea122182ec37466b9c3a26371c88b15f.setContent%28html_882c6c580eb84b67bb026a8276d1b52d%29%3B%0A%20%20%20%20%20%20%20%20%0A%0A%20%20%20%20%20%20%20%20marker_33e625b39fcb4c99808af8268f3e3184.bindPopup%28popup_ea122182ec37466b9c3a26371c88b15f%29%0A%20%20%20%20%20%20%20%20%3B%0A%0A%20%20%20%20%20%20%20%20%0A%20%20%20%20%0A%20%20%20%20%0A%20%20%20%20%20%20%20%20%20%20%20%20var%20marker_4093a446f0604a908ca912320809cea0%20%3D%20L.marker%28%0A%20%20%20%20%20%20%20%20%20%20%20%20%20%20%20%20%5B71.46865236049%2C%2051.137958386145%5D%2C%0A%20%20%20%20%20%20%20%20%20%20%20%20%20%20%20%20%7B%7D%0A%20%20%20%20%20%20%20%20%20%20%20%20%29.addTo%28map_0372e994ccf64c4ea30594c13123a576%29%3B%0A%20%20%20%20%20%20%20%20%0A%20%20%20%20%0A%20%20%20%20%20%20%20%20var%20popup_1173ec03ad9c423a99e5be80c761cb63%20%3D%20L.popup%28%7B%22maxWidth%22%3A%20%22100%25%22%7D%29%3B%0A%0A%20%20%20%20%20%20%20%20%0A%20%20%20%20%20%20%20%20%20%20%20%20var%20html_60cf1b60baeb409db5345462a1cc5dc9%20%3D%20%24%28%60%3Cdiv%20id%3D%22html_60cf1b60baeb409db5345462a1cc5dc9%22%20style%3D%22width%3A%20100.0%25%3B%20height%3A%20100.0%25%3B%22%3E%D0%9D%D1%83%D1%80-%D0%A1%D1%83%D0%BB%D1%82%D0%B0%D0%BD%20%28%D0%90%D1%81%D1%82%D0%B0%D0%BD%D0%B0%29%2C%20%D0%90%D0%BB%D0%BC%D0%B0%D1%82%D1%8B%20%D1%80-%D0%BD%2C%20%D0%9C%D0%BE%D0%BC%D1%8B%D1%88%D1%83%D0%BB%D1%8B%3C/div%3E%60%29%5B0%5D%3B%0A%20%20%20%20%20%20%20%20%20%20%20%20popup_1173ec03ad9c423a99e5be80c761cb63.setContent%28html_60cf1b60baeb409db5345462a1cc5dc9%29%3B%0A%20%20%20%20%20%20%20%20%0A%0A%20%20%20%20%20%20%20%20marker_4093a446f0604a908ca912320809cea0.bindPopup%28popup_1173ec03ad9c423a99e5be80c761cb63%29%0A%20%20%20%20%20%20%20%20%3B%0A%0A%20%20%20%20%20%20%20%20%0A%20%20%20%20%0A%20%20%20%20%0A%20%20%20%20%20%20%20%20%20%20%20%20var%20marker_5682b98e88f2416c917383ce45bc553d%20%3D%20L.marker%28%0A%20%20%20%20%20%20%20%20%20%20%20%20%20%20%20%20%5B71.449512635582%2C%2051.16763778308%5D%2C%0A%20%20%20%20%20%20%20%20%20%20%20%20%20%20%20%20%7B%7D%0A%20%20%20%20%20%20%20%20%20%20%20%20%29.addTo%28map_0372e994ccf64c4ea30594c13123a576%29%3B%0A%20%20%20%20%20%20%20%20%0A%20%20%20%20%0A%20%20%20%20%20%20%20%20var%20popup_8899666b05ee43b8992428795f2813f6%20%3D%20L.popup%28%7B%22maxWidth%22%3A%20%22100%25%22%7D%29%3B%0A%0A%20%20%20%20%20%20%20%20%0A%20%20%20%20%20%20%20%20%20%20%20%20var%20html_1de1251e7c6b42c1a359113eb0226853%20%3D%20%24%28%60%3Cdiv%20id%3D%22html_1de1251e7c6b42c1a359113eb0226853%22%20style%3D%22width%3A%20100.0%25%3B%20height%3A%20100.0%25%3B%22%3E%D0%9D%D1%83%D1%80-%D0%A1%D1%83%D0%BB%D1%82%D0%B0%D0%BD%20%28%D0%90%D1%81%D1%82%D0%B0%D0%BD%D0%B0%29%2C%20%D1%80-%D0%BD%20%D0%91%D0%B0%D0%B9%D0%BA%D0%BE%D0%BD%D1%83%D1%80%2C%20%D0%A1%D0%B0%D1%80%D1%8B%D0%BA%D0%BE%D0%BB%D1%8C%2032%20%E2%80%94%20%D0%90%D1%85%D0%BC%D0%B5%D1%82%D0%B0%20%D0%91%D0%B0%D0%B9%D1%82%D1%83%D1%80%D1%81%D1%8B%D0%BD%D0%BE%D0%B2%D0%B0%3C/div%3E%60%29%5B0%5D%3B%0A%20%20%20%20%20%20%20%20%20%20%20%20popup_8899666b05ee43b8992428795f2813f6.setContent%28html_1de1251e7c6b42c1a359113eb0226853%29%3B%0A%20%20%20%20%20%20%20%20%0A%0A%20%20%20%20%20%20%20%20marker_5682b98e88f2416c917383ce45bc553d.bindPopup%28popup_8899666b05ee43b8992428795f2813f6%29%0A%20%20%20%20%20%20%20%20%3B%0A%0A%20%20%20%20%20%20%20%20%0A%20%20%20%20%0A%20%20%20%20%0A%20%20%20%20%20%20%20%20%20%20%20%20var%20marker_f3e9416157514040a0134112e18b53f9%20%3D%20L.marker%28%0A%20%20%20%20%20%20%20%20%20%20%20%20%20%20%20%20%5B71.412804%2C%2051.171982%5D%2C%0A%20%20%20%20%20%20%20%20%20%20%20%20%20%20%20%20%7B%7D%0A%20%20%20%20%20%20%20%20%20%20%20%20%29.addTo%28map_0372e994ccf64c4ea30594c13123a576%29%3B%0A%20%20%20%20%20%20%20%20%0A%20%20%20%20%0A%20%20%20%20%20%20%20%20var%20popup_51aba769238e4d418fedffa8f9f58d83%20%3D%20L.popup%28%7B%22maxWidth%22%3A%20%22100%25%22%7D%29%3B%0A%0A%20%20%20%20%20%20%20%20%0A%20%20%20%20%20%20%20%20%20%20%20%20var%20html_6e777fbb74594733831cad0ef0c47b0c%20%3D%20%24%28%60%3Cdiv%20id%3D%22html_6e777fbb74594733831cad0ef0c47b0c%22%20style%3D%22width%3A%20100.0%25%3B%20height%3A%20100.0%25%3B%22%3E%D0%9D%D1%83%D1%80-%D0%A1%D1%83%D0%BB%D1%82%D0%B0%D0%BD%20%28%D0%90%D1%81%D1%82%D0%B0%D0%BD%D0%B0%29%2C%20%D0%A1%D0%B0%D1%80%D1%8B%D0%B0%D1%80%D0%BA%D0%B0%20%D1%80-%D0%BD%2C%20%D0%BF%D1%80%D0%BE%D1%81%D0%BF%D0%B5%D0%BA%D1%82%20%D0%96%D0%B5%D0%BD%D0%B8%D1%81%3C/div%3E%60%29%5B0%5D%3B%0A%20%20%20%20%20%20%20%20%20%20%20%20popup_51aba769238e4d418fedffa8f9f58d83.setContent%28html_6e777fbb74594733831cad0ef0c47b0c%29%3B%0A%20%20%20%20%20%20%20%20%0A%0A%20%20%20%20%20%20%20%20marker_f3e9416157514040a0134112e18b53f9.bindPopup%28popup_51aba769238e4d418fedffa8f9f58d83%29%0A%20%20%20%20%20%20%20%20%3B%0A%0A%20%20%20%20%20%20%20%20%0A%20%20%20%20%0A%20%20%20%20%0A%20%20%20%20%20%20%20%20%20%20%20%20var%20marker_77be51a2212845dd95ded03ef847f315%20%3D%20L.marker%28%0A%20%20%20%20%20%20%20%20%20%20%20%20%20%20%20%20%5B71.466196%2C%2051.119833%5D%2C%0A%20%20%20%20%20%20%20%20%20%20%20%20%20%20%20%20%7B%7D%0A%20%20%20%20%20%20%20%20%20%20%20%20%29.addTo%28map_0372e994ccf64c4ea30594c13123a576%29%3B%0A%20%20%20%20%20%20%20%20%0A%20%20%20%20%0A%20%20%20%20%20%20%20%20var%20popup_b40fcdca6b5740ec89249c4ed8360d0d%20%3D%20L.popup%28%7B%22maxWidth%22%3A%20%22100%25%22%7D%29%3B%0A%0A%20%20%20%20%20%20%20%20%0A%20%20%20%20%20%20%20%20%20%20%20%20var%20html_4307e1989ea34ac39de1170cf495a816%20%3D%20%24%28%60%3Cdiv%20id%3D%22html_4307e1989ea34ac39de1170cf495a816%22%20style%3D%22width%3A%20100.0%25%3B%20height%3A%20100.0%25%3B%22%3E%D0%9D%D1%83%D1%80-%D0%A1%D1%83%D0%BB%D1%82%D0%B0%D0%BD%20%28%D0%90%D1%81%D1%82%D0%B0%D0%BD%D0%B0%29%2C%20%D0%90%D0%BB%D0%BC%D0%B0%D1%82%D1%8B%20%D1%80-%D0%BD%2C%20%D0%9D%D0%B0%D0%B6%D0%B8%D0%BC%D0%B5%D0%B4%D0%B5%D0%BD%D0%BE%D0%B2%D0%B0%20%E2%80%94%20%D0%A2%D0%B0%D1%83%D0%B5%D0%BB%D1%8C%D1%81%D1%8B%D0%B7%D0%B4%D1%8B%D0%BA%3C/div%3E%60%29%5B0%5D%3B%0A%20%20%20%20%20%20%20%20%20%20%20%20popup_b40fcdca6b5740ec89249c4ed8360d0d.setContent%28html_4307e1989ea34ac39de1170cf495a816%29%3B%0A%20%20%20%20%20%20%20%20%0A%0A%20%20%20%20%20%20%20%20marker_77be51a2212845dd95ded03ef847f315.bindPopup%28popup_b40fcdca6b5740ec89249c4ed8360d0d%29%0A%20%20%20%20%20%20%20%20%3B%0A%0A%20%20%20%20%20%20%20%20%0A%20%20%20%20%0A%20%20%20%20%0A%20%20%20%20%20%20%20%20%20%20%20%20var%20marker_e442b7bff5c548108529d43e5c145f11%20%3D%20L.marker%28%0A%20%20%20%20%20%20%20%20%20%20%20%20%20%20%20%20%5B71.434948%2C%2051.105506%5D%2C%0A%20%20%20%20%20%20%20%20%20%20%20%20%20%20%20%20%7B%7D%0A%20%20%20%20%20%20%20%20%20%20%20%20%29.addTo%28map_0372e994ccf64c4ea30594c13123a576%29%3B%0A%20%20%20%20%20%20%20%20%0A%20%20%20%20%0A%20%20%20%20%20%20%20%20var%20popup_57e0af8efa5f409b941208685ec78f13%20%3D%20L.popup%28%7B%22maxWidth%22%3A%20%22100%25%22%7D%29%3B%0A%0A%20%20%20%20%20%20%20%20%0A%20%20%20%20%20%20%20%20%20%20%20%20var%20html_7b5ac9aeb0884742b2c8c6f7db1ea593%20%3D%20%24%28%60%3Cdiv%20id%3D%22html_7b5ac9aeb0884742b2c8c6f7db1ea593%22%20style%3D%22width%3A%20100.0%25%3B%20height%3A%20100.0%25%3B%22%3E%D0%9D%D1%83%D1%80-%D0%A1%D1%83%D0%BB%D1%82%D0%B0%D0%BD%20%28%D0%90%D1%81%D1%82%D0%B0%D0%BD%D0%B0%29%2C%20%D0%95%D1%81%D0%B8%D0%BB%D1%8C%20%D1%80-%D0%BD%2C%20%D0%90%D0%BB%D0%B8%D1%85%D0%B0%D0%BD%D0%B0%20%D0%91%D0%BE%D0%BA%D0%B5%D0%B9%D1%85%D0%B0%D0%BD%D0%BE%D0%B2%D0%B0%3C/div%3E%60%29%5B0%5D%3B%0A%20%20%20%20%20%20%20%20%20%20%20%20popup_57e0af8efa5f409b941208685ec78f13.setContent%28html_7b5ac9aeb0884742b2c8c6f7db1ea593%29%3B%0A%20%20%20%20%20%20%20%20%0A%0A%20%20%20%20%20%20%20%20marker_e442b7bff5c548108529d43e5c145f11.bindPopup%28popup_57e0af8efa5f409b941208685ec78f13%29%0A%20%20%20%20%20%20%20%20%3B%0A%0A%20%20%20%20%20%20%20%20%0A%20%20%20%20%0A%20%20%20%20%0A%20%20%20%20%20%20%20%20%20%20%20%20var%20marker_881876e81ff046c1893dcf7132c9a13e%20%3D%20L.marker%28%0A%20%20%20%20%20%20%20%20%20%20%20%20%20%20%20%20%5B71.379535748512%2C%2051.144223611993%5D%2C%0A%20%20%20%20%20%20%20%20%20%20%20%20%20%20%20%20%7B%7D%0A%20%20%20%20%20%20%20%20%20%20%20%20%29.addTo%28map_0372e994ccf64c4ea30594c13123a576%29%3B%0A%20%20%20%20%20%20%20%20%0A%20%20%20%20%0A%20%20%20%20%20%20%20%20var%20popup_bb7995c4ba9b46e5a1458896ae49fddd%20%3D%20L.popup%28%7B%22maxWidth%22%3A%20%22100%25%22%7D%29%3B%0A%0A%20%20%20%20%20%20%20%20%0A%20%20%20%20%20%20%20%20%20%20%20%20var%20html_6f42b06f73724e7caba008cc6bcfcaef%20%3D%20%24%28%60%3Cdiv%20id%3D%22html_6f42b06f73724e7caba008cc6bcfcaef%22%20style%3D%22width%3A%20100.0%25%3B%20height%3A%20100.0%25%3B%22%3E%D0%9D%D1%83%D1%80-%D0%A1%D1%83%D0%BB%D1%82%D0%B0%D0%BD%20%28%D0%90%D1%81%D1%82%D0%B0%D0%BD%D0%B0%29%2C%20%D0%95%D1%81%D0%B8%D0%BB%D1%8C%20%D1%80-%D0%BD%2C%2022-4%203%3C/div%3E%60%29%5B0%5D%3B%0A%20%20%20%20%20%20%20%20%20%20%20%20popup_bb7995c4ba9b46e5a1458896ae49fddd.setContent%28html_6f42b06f73724e7caba008cc6bcfcaef%29%3B%0A%20%20%20%20%20%20%20%20%0A%0A%20%20%20%20%20%20%20%20marker_881876e81ff046c1893dcf7132c9a13e.bindPopup%28popup_bb7995c4ba9b46e5a1458896ae49fddd%29%0A%20%20%20%20%20%20%20%20%3B%0A%0A%20%20%20%20%20%20%20%20%0A%20%20%20%20%0A%20%20%20%20%0A%20%20%20%20%20%20%20%20%20%20%20%20var%20marker_f49ab414abe94833a0f446565fac59f3%20%3D%20L.marker%28%0A%20%20%20%20%20%20%20%20%20%20%20%20%20%20%20%20%5B71.446231%2C%2051.168221%5D%2C%0A%20%20%20%20%20%20%20%20%20%20%20%20%20%20%20%20%7B%7D%0A%20%20%20%20%20%20%20%20%20%20%20%20%29.addTo%28map_0372e994ccf64c4ea30594c13123a576%29%3B%0A%20%20%20%20%20%20%20%20%0A%20%20%20%20%0A%20%20%20%20%20%20%20%20var%20popup_e5353386ea31407fb00ade60c040e4cc%20%3D%20L.popup%28%7B%22maxWidth%22%3A%20%22100%25%22%7D%29%3B%0A%0A%20%20%20%20%20%20%20%20%0A%20%20%20%20%20%20%20%20%20%20%20%20var%20html_464221392c9e4e1cae609b3e1d2ee24c%20%3D%20%24%28%60%3Cdiv%20id%3D%22html_464221392c9e4e1cae609b3e1d2ee24c%22%20style%3D%22width%3A%20100.0%25%3B%20height%3A%20100.0%25%3B%22%3E%D0%9D%D1%83%D1%80-%D0%A1%D1%83%D0%BB%D1%82%D0%B0%D0%BD%20%28%D0%90%D1%81%D1%82%D0%B0%D0%BD%D0%B0%29%2C%20%D1%80-%D0%BD%20%D0%91%D0%B0%D0%B9%D0%BA%D0%BE%D0%BD%D1%83%D1%80%2C%20%D0%9A%D0%B5%D0%BD%D0%B5%D1%81%D0%B0%D1%80%D1%8B%3C/div%3E%60%29%5B0%5D%3B%0A%20%20%20%20%20%20%20%20%20%20%20%20popup_e5353386ea31407fb00ade60c040e4cc.setContent%28html_464221392c9e4e1cae609b3e1d2ee24c%29%3B%0A%20%20%20%20%20%20%20%20%0A%0A%20%20%20%20%20%20%20%20marker_f49ab414abe94833a0f446565fac59f3.bindPopup%28popup_e5353386ea31407fb00ade60c040e4cc%29%0A%20%20%20%20%20%20%20%20%3B%0A%0A%20%20%20%20%20%20%20%20%0A%20%20%20%20%0A%20%20%20%20%0A%20%20%20%20%20%20%20%20%20%20%20%20var%20marker_8b97b9c6dab74a06b90e592f027138df%20%3D%20L.marker%28%0A%20%20%20%20%20%20%20%20%20%20%20%20%20%20%20%20%5B71.498154817963%2C%2051.114061146007%5D%2C%0A%20%20%20%20%20%20%20%20%20%20%20%20%20%20%20%20%7B%7D%0A%20%20%20%20%20%20%20%20%20%20%20%20%29.addTo%28map_0372e994ccf64c4ea30594c13123a576%29%3B%0A%20%20%20%20%20%20%20%20%0A%20%20%20%20%0A%20%20%20%20%20%20%20%20var%20popup_1f46d228a75b411e96b91c37a4966dfb%20%3D%20L.popup%28%7B%22maxWidth%22%3A%20%22100%25%22%7D%29%3B%0A%0A%20%20%20%20%20%20%20%20%0A%20%20%20%20%20%20%20%20%20%20%20%20var%20html_95474c8ef3494003ba34090e8981a466%20%3D%20%24%28%60%3Cdiv%20id%3D%22html_95474c8ef3494003ba34090e8981a466%22%20style%3D%22width%3A%20100.0%25%3B%20height%3A%20100.0%25%3B%22%3E%D0%9D%D1%83%D1%80-%D0%A1%D1%83%D0%BB%D1%82%D0%B0%D0%BD%20%28%D0%90%D1%81%D1%82%D0%B0%D0%BD%D0%B0%29%2C%20%D0%90%D0%BB%D0%BC%D0%B0%D1%82%D1%8B%20%D1%80-%D0%BD%2C%20%D0%9D%D0%B0%D0%B6%D0%B8%D0%BC%D0%B5%D0%B4%D0%B5%D0%BD%D0%BE%D0%B2%D0%B0%2034%3C/div%3E%60%29%5B0%5D%3B%0A%20%20%20%20%20%20%20%20%20%20%20%20popup_1f46d228a75b411e96b91c37a4966dfb.setContent%28html_95474c8ef3494003ba34090e8981a466%29%3B%0A%20%20%20%20%20%20%20%20%0A%0A%20%20%20%20%20%20%20%20marker_8b97b9c6dab74a06b90e592f027138df.bindPopup%28popup_1f46d228a75b411e96b91c37a4966dfb%29%0A%20%20%20%20%20%20%20%20%3B%0A%0A%20%20%20%20%20%20%20%20%0A%20%20%20%20%0A%20%20%20%20%0A%20%20%20%20%20%20%20%20%20%20%20%20var%20marker_72cee16a276c48ab8d4ed3aa9ae44f0c%20%3D%20L.marker%28%0A%20%20%20%20%20%20%20%20%20%20%20%20%20%20%20%20%5B71.470767931213%2C%2051.146778361007%5D%2C%0A%20%20%20%20%20%20%20%20%20%20%20%20%20%20%20%20%7B%7D%0A%20%20%20%20%20%20%20%20%20%20%20%20%29.addTo%28map_0372e994ccf64c4ea30594c13123a576%29%3B%0A%20%20%20%20%20%20%20%20%0A%20%20%20%20%0A%20%20%20%20%20%20%20%20var%20popup_690c4eefa89349c3aaac42a102ce71b2%20%3D%20L.popup%28%7B%22maxWidth%22%3A%20%22100%25%22%7D%29%3B%0A%0A%20%20%20%20%20%20%20%20%0A%20%20%20%20%20%20%20%20%20%20%20%20var%20html_e1f4496263bf49578cee9ce6190b6bad%20%3D%20%24%28%60%3Cdiv%20id%3D%22html_e1f4496263bf49578cee9ce6190b6bad%22%20style%3D%22width%3A%20100.0%25%3B%20height%3A%20100.0%25%3B%22%3E%D0%9D%D1%83%D1%80-%D0%A1%D1%83%D0%BB%D1%82%D0%B0%D0%BD%20%28%D0%90%D1%81%D1%82%D0%B0%D0%BD%D0%B0%29%2C%20%D0%90%D0%BB%D0%BC%D0%B0%D1%82%D1%8B%20%D1%80-%D0%BD%2C%20%D0%9A%D0%B0%D0%BD%D1%8B%D1%88%D0%B0%20%D0%A1%D0%B0%D1%82%D0%BF%D0%B0%D0%B5%D0%B2%D0%B0%3C/div%3E%60%29%5B0%5D%3B%0A%20%20%20%20%20%20%20%20%20%20%20%20popup_690c4eefa89349c3aaac42a102ce71b2.setContent%28html_e1f4496263bf49578cee9ce6190b6bad%29%3B%0A%20%20%20%20%20%20%20%20%0A%0A%20%20%20%20%20%20%20%20marker_72cee16a276c48ab8d4ed3aa9ae44f0c.bindPopup%28popup_690c4eefa89349c3aaac42a102ce71b2%29%0A%20%20%20%20%20%20%20%20%3B%0A%0A%20%20%20%20%20%20%20%20%0A%20%20%20%20%0A%20%20%20%20%0A%20%20%20%20%20%20%20%20%20%20%20%20var%20marker_f733a61ffe294b509573cdca7cfe7611%20%3D%20L.marker%28%0A%20%20%20%20%20%20%20%20%20%20%20%20%20%20%20%20%5B71.469569%2C%2051.138612%5D%2C%0A%20%20%20%20%20%20%20%20%20%20%20%20%20%20%20%20%7B%7D%0A%20%20%20%20%20%20%20%20%20%20%20%20%29.addTo%28map_0372e994ccf64c4ea30594c13123a576%29%3B%0A%20%20%20%20%20%20%20%20%0A%20%20%20%20%0A%20%20%20%20%20%20%20%20var%20popup_624e55a80a844f0a9552fa48fa60cd6d%20%3D%20L.popup%28%7B%22maxWidth%22%3A%20%22100%25%22%7D%29%3B%0A%0A%20%20%20%20%20%20%20%20%0A%20%20%20%20%20%20%20%20%20%20%20%20var%20html_13c5e451b0cf46ef8c9eeccdf8af6897%20%3D%20%24%28%60%3Cdiv%20id%3D%22html_13c5e451b0cf46ef8c9eeccdf8af6897%22%20style%3D%22width%3A%20100.0%25%3B%20height%3A%20100.0%25%3B%22%3E%D0%9D%D1%83%D1%80-%D0%A1%D1%83%D0%BB%D1%82%D0%B0%D0%BD%20%28%D0%90%D1%81%D1%82%D0%B0%D0%BD%D0%B0%29%2C%20%D0%90%D0%BB%D0%BC%D0%B0%D1%82%D1%8B%20%D1%80-%D0%BD%2C%20%D0%BF%D1%80%D0%BE%D1%81%D0%BF%D0%B5%D0%BA%D1%82%20%D0%91%D0%B0%D1%83%D1%8B%D1%80%D0%B6%D0%B0%D0%BD%D0%B0%20%D0%9C%D0%BE%D0%BC%D1%8B%D1%88%D1%83%D0%BB%D1%8B%3C/div%3E%60%29%5B0%5D%3B%0A%20%20%20%20%20%20%20%20%20%20%20%20popup_624e55a80a844f0a9552fa48fa60cd6d.setContent%28html_13c5e451b0cf46ef8c9eeccdf8af6897%29%3B%0A%20%20%20%20%20%20%20%20%0A%0A%20%20%20%20%20%20%20%20marker_f733a61ffe294b509573cdca7cfe7611.bindPopup%28popup_624e55a80a844f0a9552fa48fa60cd6d%29%0A%20%20%20%20%20%20%20%20%3B%0A%0A%20%20%20%20%20%20%20%20%0A%20%20%20%20%0A%20%20%20%20%0A%20%20%20%20%20%20%20%20%20%20%20%20var%20marker_9eb5c3c7a4024913abae902984a12987%20%3D%20L.marker%28%0A%20%20%20%20%20%20%20%20%20%20%20%20%20%20%20%20%5B71.42876353873%2C%2051.087586011104%5D%2C%0A%20%20%20%20%20%20%20%20%20%20%20%20%20%20%20%20%7B%7D%0A%20%20%20%20%20%20%20%20%20%20%20%20%29.addTo%28map_0372e994ccf64c4ea30594c13123a576%29%3B%0A%20%20%20%20%20%20%20%20%0A%20%20%20%20%0A%20%20%20%20%20%20%20%20var%20popup_627a3261529c4c6eb2b3a0d00a1c8009%20%3D%20L.popup%28%7B%22maxWidth%22%3A%20%22100%25%22%7D%29%3B%0A%0A%20%20%20%20%20%20%20%20%0A%20%20%20%20%20%20%20%20%20%20%20%20var%20html_8324fb030b474e16befe0d55a09c3dc0%20%3D%20%24%28%60%3Cdiv%20id%3D%22html_8324fb030b474e16befe0d55a09c3dc0%22%20style%3D%22width%3A%20100.0%25%3B%20height%3A%20100.0%25%3B%22%3E%D0%9D%D1%83%D1%80-%D0%A1%D1%83%D0%BB%D1%82%D0%B0%D0%BD%20%28%D0%90%D1%81%D1%82%D0%B0%D0%BD%D0%B0%29%2C%20%D0%91%D0%BE%D0%BA%D0%B5%D0%B9%D1%85%D0%B0%D0%BD%D0%B0%2025%3C/div%3E%60%29%5B0%5D%3B%0A%20%20%20%20%20%20%20%20%20%20%20%20popup_627a3261529c4c6eb2b3a0d00a1c8009.setContent%28html_8324fb030b474e16befe0d55a09c3dc0%29%3B%0A%20%20%20%20%20%20%20%20%0A%0A%20%20%20%20%20%20%20%20marker_9eb5c3c7a4024913abae902984a12987.bindPopup%28popup_627a3261529c4c6eb2b3a0d00a1c8009%29%0A%20%20%20%20%20%20%20%20%3B%0A%0A%20%20%20%20%20%20%20%20%0A%20%20%20%20%0A%20%20%20%20%0A%20%20%20%20%20%20%20%20%20%20%20%20var%20marker_b41ce06200524d3fa1013433d93e58c9%20%3D%20L.marker%28%0A%20%20%20%20%20%20%20%20%20%20%20%20%20%20%20%20%5B71.406525%2C%2051.188797%5D%2C%0A%20%20%20%20%20%20%20%20%20%20%20%20%20%20%20%20%7B%7D%0A%20%20%20%20%20%20%20%20%20%20%20%20%29.addTo%28map_0372e994ccf64c4ea30594c13123a576%29%3B%0A%20%20%20%20%20%20%20%20%0A%20%20%20%20%0A%20%20%20%20%20%20%20%20var%20popup_48260f6f4df44a13a11c78f116f931de%20%3D%20L.popup%28%7B%22maxWidth%22%3A%20%22100%25%22%7D%29%3B%0A%0A%20%20%20%20%20%20%20%20%0A%20%20%20%20%20%20%20%20%20%20%20%20var%20html_c451e3a623dd48049f6fd7e1a8b60fa3%20%3D%20%24%28%60%3Cdiv%20id%3D%22html_c451e3a623dd48049f6fd7e1a8b60fa3%22%20style%3D%22width%3A%20100.0%25%3B%20height%3A%20100.0%25%3B%22%3E%D0%9D%D1%83%D1%80-%D0%A1%D1%83%D0%BB%D1%82%D0%B0%D0%BD%20%28%D0%90%D1%81%D1%82%D0%B0%D0%BD%D0%B0%29%2C%20%D0%A1%D0%B0%D1%80%D1%8B%D0%B0%D1%80%D0%BA%D0%B0%20%D1%80-%D0%BD%2C%20%D0%BF%D1%80%D0%BE%D1%81%D0%BF%D0%B5%D0%BA%D1%82%20%D0%96%D0%B5%D0%BD%D0%B8%D1%81%2077%3C/div%3E%60%29%5B0%5D%3B%0A%20%20%20%20%20%20%20%20%20%20%20%20popup_48260f6f4df44a13a11c78f116f931de.setContent%28html_c451e3a623dd48049f6fd7e1a8b60fa3%29%3B%0A%20%20%20%20%20%20%20%20%0A%0A%20%20%20%20%20%20%20%20marker_b41ce06200524d3fa1013433d93e58c9.bindPopup%28popup_48260f6f4df44a13a11c78f116f931de%29%0A%20%20%20%20%20%20%20%20%3B%0A%0A%20%20%20%20%20%20%20%20%0A%20%20%20%20%0A%20%20%20%20%0A%20%20%20%20%20%20%20%20%20%20%20%20var%20marker_438d4ef5fadc4efa9365b4d07ff315ef%20%3D%20L.marker%28%0A%20%20%20%20%20%20%20%20%20%20%20%20%20%20%20%20%5B71.406972527099%2C%2051.09529879806%5D%2C%0A%20%20%20%20%20%20%20%20%20%20%20%20%20%20%20%20%7B%7D%0A%20%20%20%20%20%20%20%20%20%20%20%20%29.addTo%28map_0372e994ccf64c4ea30594c13123a576%29%3B%0A%20%20%20%20%20%20%20%20%0A%20%20%20%20%0A%20%20%20%20%20%20%20%20var%20popup_0362a0d1e8e14c55a14d446365343a73%20%3D%20L.popup%28%7B%22maxWidth%22%3A%20%22100%25%22%7D%29%3B%0A%0A%20%20%20%20%20%20%20%20%0A%20%20%20%20%20%20%20%20%20%20%20%20var%20html_b018c8d2705249359663ad5aa084a61f%20%3D%20%24%28%60%3Cdiv%20id%3D%22html_b018c8d2705249359663ad5aa084a61f%22%20style%3D%22width%3A%20100.0%25%3B%20height%3A%20100.0%25%3B%22%3E%D0%9D%D1%83%D1%80-%D0%A1%D1%83%D0%BB%D1%82%D0%B0%D0%BD%20%28%D0%90%D1%81%D1%82%D0%B0%D0%BD%D0%B0%29%2C%20%D0%95%D1%81%D0%B8%D0%BB%D1%8C%20%D1%80-%D0%BD%2C%20%D0%9A%D0%B0%D0%B1%D0%B0%D0%BD%D0%B1%D0%B0%D0%B9%20%D0%91%D0%B0%D1%82%D1%8B%D1%80%D0%B0%2058%D0%91%3C/div%3E%60%29%5B0%5D%3B%0A%20%20%20%20%20%20%20%20%20%20%20%20popup_0362a0d1e8e14c55a14d446365343a73.setContent%28html_b018c8d2705249359663ad5aa084a61f%29%3B%0A%20%20%20%20%20%20%20%20%0A%0A%20%20%20%20%20%20%20%20marker_438d4ef5fadc4efa9365b4d07ff315ef.bindPopup%28popup_0362a0d1e8e14c55a14d446365343a73%29%0A%20%20%20%20%20%20%20%20%3B%0A%0A%20%20%20%20%20%20%20%20%0A%20%20%20%20%0A%20%20%20%20%0A%20%20%20%20%20%20%20%20%20%20%20%20var%20marker_e5326acdc8854740bf35cc5df888caad%20%3D%20L.marker%28%0A%20%20%20%20%20%20%20%20%20%20%20%20%20%20%20%20%5B71.425507417616%2C%2051.087798386214%5D%2C%0A%20%20%20%20%20%20%20%20%20%20%20%20%20%20%20%20%7B%7D%0A%20%20%20%20%20%20%20%20%20%20%20%20%29.addTo%28map_0372e994ccf64c4ea30594c13123a576%29%3B%0A%20%20%20%20%20%20%20%20%0A%20%20%20%20%0A%20%20%20%20%20%20%20%20var%20popup_2d7343e4e8e34a8ea052c1d37e3f5289%20%3D%20L.popup%28%7B%22maxWidth%22%3A%20%22100%25%22%7D%29%3B%0A%0A%20%20%20%20%20%20%20%20%0A%20%20%20%20%20%20%20%20%20%20%20%20var%20html_3e2778b38e7d4ad1ae8dd6c06bf1c15e%20%3D%20%24%28%60%3Cdiv%20id%3D%22html_3e2778b38e7d4ad1ae8dd6c06bf1c15e%22%20style%3D%22width%3A%20100.0%25%3B%20height%3A%20100.0%25%3B%22%3E%D0%9D%D1%83%D1%80-%D0%A1%D1%83%D0%BB%D1%82%D0%B0%D0%BD%20%28%D0%90%D1%81%D1%82%D0%B0%D0%BD%D0%B0%29%2C%20%D0%95%D1%81%D0%B8%D0%BB%D1%8C%20%D1%80-%D0%BD%2C%20%D0%9C%D0%B0%D0%BD%D0%B3%D0%BB%D0%B8%D0%BA%20%D0%95%D0%BB%2056%3C/div%3E%60%29%5B0%5D%3B%0A%20%20%20%20%20%20%20%20%20%20%20%20popup_2d7343e4e8e34a8ea052c1d37e3f5289.setContent%28html_3e2778b38e7d4ad1ae8dd6c06bf1c15e%29%3B%0A%20%20%20%20%20%20%20%20%0A%0A%20%20%20%20%20%20%20%20marker_e5326acdc8854740bf35cc5df888caad.bindPopup%28popup_2d7343e4e8e34a8ea052c1d37e3f5289%29%0A%20%20%20%20%20%20%20%20%3B%0A%0A%20%20%20%20%20%20%20%20%0A%20%20%20%20%0A%20%20%20%20%0A%20%20%20%20%20%20%20%20%20%20%20%20var%20marker_a4c9b7d265ec45bd9b98bf786cd9168d%20%3D%20L.marker%28%0A%20%20%20%20%20%20%20%20%20%20%20%20%20%20%20%20%5B71.501755%2C%2051.126488%5D%2C%0A%20%20%20%20%20%20%20%20%20%20%20%20%20%20%20%20%7B%7D%0A%20%20%20%20%20%20%20%20%20%20%20%20%29.addTo%28map_0372e994ccf64c4ea30594c13123a576%29%3B%0A%20%20%20%20%20%20%20%20%0A%20%20%20%20%0A%20%20%20%20%20%20%20%20var%20popup_2aa32a604975490e98a96d0b98af0857%20%3D%20L.popup%28%7B%22maxWidth%22%3A%20%22100%25%22%7D%29%3B%0A%0A%20%20%20%20%20%20%20%20%0A%20%20%20%20%20%20%20%20%20%20%20%20var%20html_705ddd9fd21148a9a5873746eb7d6529%20%3D%20%24%28%60%3Cdiv%20id%3D%22html_705ddd9fd21148a9a5873746eb7d6529%22%20style%3D%22width%3A%20100.0%25%3B%20height%3A%20100.0%25%3B%22%3E%D0%9D%D1%83%D1%80-%D0%A1%D1%83%D0%BB%D1%82%D0%B0%D0%BD%20%28%D0%90%D1%81%D1%82%D0%B0%D0%BD%D0%B0%29%2C%20%D0%90%D0%BB%D0%BC%D0%B0%D1%82%D1%8B%20%D1%80-%D0%BD%2C%20%D0%9A%D0%B5%D0%BD%D0%B5%D0%BD%D0%B0%20%D0%90%D0%B7%D0%B5%D1%80%D0%B1%D0%B0%D0%B5%D0%B2%D0%B0%3C/div%3E%60%29%5B0%5D%3B%0A%20%20%20%20%20%20%20%20%20%20%20%20popup_2aa32a604975490e98a96d0b98af0857.setContent%28html_705ddd9fd21148a9a5873746eb7d6529%29%3B%0A%20%20%20%20%20%20%20%20%0A%0A%20%20%20%20%20%20%20%20marker_a4c9b7d265ec45bd9b98bf786cd9168d.bindPopup%28popup_2aa32a604975490e98a96d0b98af0857%29%0A%20%20%20%20%20%20%20%20%3B%0A%0A%20%20%20%20%20%20%20%20%0A%20%20%20%20%0A%20%20%20%20%0A%20%20%20%20%20%20%20%20%20%20%20%20var%20marker_008ebfbb993d48739aa4d8a27001702f%20%3D%20L.marker%28%0A%20%20%20%20%20%20%20%20%20%20%20%20%20%20%20%20%5B71.428435%2C%2051.116945%5D%2C%0A%20%20%20%20%20%20%20%20%20%20%20%20%20%20%20%20%7B%7D%0A%20%20%20%20%20%20%20%20%20%20%20%20%29.addTo%28map_0372e994ccf64c4ea30594c13123a576%29%3B%0A%20%20%20%20%20%20%20%20%0A%20%20%20%20%0A%20%20%20%20%20%20%20%20var%20popup_17b2c12c45844fd7b61d48edc662713b%20%3D%20L.popup%28%7B%22maxWidth%22%3A%20%22100%25%22%7D%29%3B%0A%0A%20%20%20%20%20%20%20%20%0A%20%20%20%20%20%20%20%20%20%20%20%20var%20html_1e089bbb04c642a7b9e1ac866d315d77%20%3D%20%24%28%60%3Cdiv%20id%3D%22html_1e089bbb04c642a7b9e1ac866d315d77%22%20style%3D%22width%3A%20100.0%25%3B%20height%3A%20100.0%25%3B%22%3E%D0%9D%D1%83%D1%80-%D0%A1%D1%83%D0%BB%D1%82%D0%B0%D0%BD%20%28%D0%90%D1%81%D1%82%D0%B0%D0%BD%D0%B0%29%2C%20%D0%A2%D1%83%D1%80%D0%BA%D0%B5%D1%81%D1%82%D0%B0%D0%BD%204%20%E2%80%94%20%D0%90%D0%BB%D0%BC%D0%B0%D1%82%D1%8B%3C/div%3E%60%29%5B0%5D%3B%0A%20%20%20%20%20%20%20%20%20%20%20%20popup_17b2c12c45844fd7b61d48edc662713b.setContent%28html_1e089bbb04c642a7b9e1ac866d315d77%29%3B%0A%20%20%20%20%20%20%20%20%0A%0A%20%20%20%20%20%20%20%20marker_008ebfbb993d48739aa4d8a27001702f.bindPopup%28popup_17b2c12c45844fd7b61d48edc662713b%29%0A%20%20%20%20%20%20%20%20%3B%0A%0A%20%20%20%20%20%20%20%20%0A%20%20%20%20%0A%20%20%20%20%0A%20%20%20%20%20%20%20%20%20%20%20%20var%20marker_4a8f67c6d1f149fe9932f0dc4beb19d1%20%3D%20L.marker%28%0A%20%20%20%20%20%20%20%20%20%20%20%20%20%20%20%20%5B71.40445%2C%2051.172406%5D%2C%0A%20%20%20%20%20%20%20%20%20%20%20%20%20%20%20%20%7B%7D%0A%20%20%20%20%20%20%20%20%20%20%20%20%29.addTo%28map_0372e994ccf64c4ea30594c13123a576%29%3B%0A%20%20%20%20%20%20%20%20%0A%20%20%20%20%0A%20%20%20%20%20%20%20%20var%20popup_e764824710234aa994bd9615b178a09e%20%3D%20L.popup%28%7B%22maxWidth%22%3A%20%22100%25%22%7D%29%3B%0A%0A%20%20%20%20%20%20%20%20%0A%20%20%20%20%20%20%20%20%20%20%20%20var%20html_e495090ec6eb41f7946a667a655ae898%20%3D%20%24%28%60%3Cdiv%20id%3D%22html_e495090ec6eb41f7946a667a655ae898%22%20style%3D%22width%3A%20100.0%25%3B%20height%3A%20100.0%25%3B%22%3E%D0%9D%D1%83%D1%80-%D0%A1%D1%83%D0%BB%D1%82%D0%B0%D0%BD%20%28%D0%90%D1%81%D1%82%D0%B0%D0%BD%D0%B0%29%2C%20%D0%A1%D0%B0%D1%80%D1%8B%D0%B0%D1%80%D0%BA%D0%B0%20%D1%80-%D0%BD%2C%20%D0%BF%D1%80%D0%BE%D1%81%D0%BF%D0%B5%D0%BA%D1%82%20%D0%A1%D0%B0%D1%80%D1%8B%D0%B0%D1%80%D0%BA%D0%B0%2031/2%3C/div%3E%60%29%5B0%5D%3B%0A%20%20%20%20%20%20%20%20%20%20%20%20popup_e764824710234aa994bd9615b178a09e.setContent%28html_e495090ec6eb41f7946a667a655ae898%29%3B%0A%20%20%20%20%20%20%20%20%0A%0A%20%20%20%20%20%20%20%20marker_4a8f67c6d1f149fe9932f0dc4beb19d1.bindPopup%28popup_e764824710234aa994bd9615b178a09e%29%0A%20%20%20%20%20%20%20%20%3B%0A%0A%20%20%20%20%20%20%20%20%0A%20%20%20%20%0A%20%20%20%20%0A%20%20%20%20%20%20%20%20%20%20%20%20var%20marker_99c1b15113024cfdbc88e8066c581162%20%3D%20L.marker%28%0A%20%20%20%20%20%20%20%20%20%20%20%20%20%20%20%20%5B71.433403%2C%2051.116041%5D%2C%0A%20%20%20%20%20%20%20%20%20%20%20%20%20%20%20%20%7B%7D%0A%20%20%20%20%20%20%20%20%20%20%20%20%29.addTo%28map_0372e994ccf64c4ea30594c13123a576%29%3B%0A%20%20%20%20%20%20%20%20%0A%20%20%20%20%0A%20%20%20%20%20%20%20%20var%20popup_dc2dd7fd6a694744b8f607e665592bd3%20%3D%20L.popup%28%7B%22maxWidth%22%3A%20%22100%25%22%7D%29%3B%0A%0A%20%20%20%20%20%20%20%20%0A%20%20%20%20%20%20%20%20%20%20%20%20var%20html_2da6d6eb24fc427096421c1f8c8ad4c9%20%3D%20%24%28%60%3Cdiv%20id%3D%22html_2da6d6eb24fc427096421c1f8c8ad4c9%22%20style%3D%22width%3A%20100.0%25%3B%20height%3A%20100.0%25%3B%22%3E%D0%9D%D1%83%D1%80-%D0%A1%D1%83%D0%BB%D1%82%D0%B0%D0%BD%20%28%D0%90%D1%81%D1%82%D0%B0%D0%BD%D0%B0%29%2C%20%D0%95%D1%81%D0%B8%D0%BB%D1%8C%20%D1%80-%D0%BD%2C%20%D0%9C%D0%B0%D0%BD%D0%B3%D0%B8%D0%BB%D0%B8%D0%BA%20%D0%B5%D0%BB%2017%3C/div%3E%60%29%5B0%5D%3B%0A%20%20%20%20%20%20%20%20%20%20%20%20popup_dc2dd7fd6a694744b8f607e665592bd3.setContent%28html_2da6d6eb24fc427096421c1f8c8ad4c9%29%3B%0A%20%20%20%20%20%20%20%20%0A%0A%20%20%20%20%20%20%20%20marker_99c1b15113024cfdbc88e8066c581162.bindPopup%28popup_dc2dd7fd6a694744b8f607e665592bd3%29%0A%20%20%20%20%20%20%20%20%3B%0A%0A%20%20%20%20%20%20%20%20%0A%20%20%20%20%0A%20%20%20%20%0A%20%20%20%20%20%20%20%20%20%20%20%20var%20marker_80dcd738e6a048189ba2b6a1149d9786%20%3D%20L.marker%28%0A%20%20%20%20%20%20%20%20%20%20%20%20%20%20%20%20%5B71.40507%2C%2051.177906%5D%2C%0A%20%20%20%20%20%20%20%20%20%20%20%20%20%20%20%20%7B%7D%0A%20%20%20%20%20%20%20%20%20%20%20%20%29.addTo%28map_0372e994ccf64c4ea30594c13123a576%29%3B%0A%20%20%20%20%20%20%20%20%0A%20%20%20%20%0A%20%20%20%20%20%20%20%20var%20popup_b016e127065d4f958bf163b82d0622b9%20%3D%20L.popup%28%7B%22maxWidth%22%3A%20%22100%25%22%7D%29%3B%0A%0A%20%20%20%20%20%20%20%20%0A%20%20%20%20%20%20%20%20%20%20%20%20var%20html_9eb47c6b6709445dbb0de633de422ee5%20%3D%20%24%28%60%3Cdiv%20id%3D%22html_9eb47c6b6709445dbb0de633de422ee5%22%20style%3D%22width%3A%20100.0%25%3B%20height%3A%20100.0%25%3B%22%3E%D0%9D%D1%83%D1%80-%D0%A1%D1%83%D0%BB%D1%82%D0%B0%D0%BD%20%28%D0%90%D1%81%D1%82%D0%B0%D0%BD%D0%B0%29%2C%20%D0%A1%D0%B0%D1%80%D1%8B%D0%B0%D1%80%D0%BA%D0%B0%20%D1%80-%D0%BD%2C%20%D0%BF%D1%80%D0%BE%D1%81%D0%BF%D0%B5%D0%BA%D1%82%20%D0%A1%D0%B0%D1%80%D1%8B%D0%B0%D1%80%D0%BA%D0%B0%2039%3C/div%3E%60%29%5B0%5D%3B%0A%20%20%20%20%20%20%20%20%20%20%20%20popup_b016e127065d4f958bf163b82d0622b9.setContent%28html_9eb47c6b6709445dbb0de633de422ee5%29%3B%0A%20%20%20%20%20%20%20%20%0A%0A%20%20%20%20%20%20%20%20marker_80dcd738e6a048189ba2b6a1149d9786.bindPopup%28popup_b016e127065d4f958bf163b82d0622b9%29%0A%20%20%20%20%20%20%20%20%3B%0A%0A%20%20%20%20%20%20%20%20%0A%20%20%20%20%0A%20%20%20%20%0A%20%20%20%20%20%20%20%20%20%20%20%20var%20marker_fc37e6de09d24228997aac3d3c73af93%20%3D%20L.marker%28%0A%20%20%20%20%20%20%20%20%20%20%20%20%20%20%20%20%5B71.386834%2C%2051.140918%5D%2C%0A%20%20%20%20%20%20%20%20%20%20%20%20%20%20%20%20%7B%7D%0A%20%20%20%20%20%20%20%20%20%20%20%20%29.addTo%28map_0372e994ccf64c4ea30594c13123a576%29%3B%0A%20%20%20%20%20%20%20%20%0A%20%20%20%20%0A%20%20%20%20%20%20%20%20var%20popup_14dcf097af474fb0911595ab6b1c64e0%20%3D%20L.popup%28%7B%22maxWidth%22%3A%20%22100%25%22%7D%29%3B%0A%0A%20%20%20%20%20%20%20%20%0A%20%20%20%20%20%20%20%20%20%20%20%20var%20html_3aa41d1296f34b8b9e5619dd723526e9%20%3D%20%24%28%60%3Cdiv%20id%3D%22html_3aa41d1296f34b8b9e5619dd723526e9%22%20style%3D%22width%3A%20100.0%25%3B%20height%3A%20100.0%25%3B%22%3E%D0%9D%D1%83%D1%80-%D0%A1%D1%83%D0%BB%D1%82%D0%B0%D0%BD%20%28%D0%90%D1%81%D1%82%D0%B0%D0%BD%D0%B0%29%2C%20%D0%95%D1%81%D0%B8%D0%BB%D1%8C%20%D1%80-%D0%BD%2C%20%D0%9A%D0%B0%D0%B9%D1%8B%D0%BC%D0%B0%20%D0%9C%D1%83%D1%85%D0%B0%D0%BC%D0%B5%D0%B4%D1%85%D0%B0%D0%BD%D0%BE%D0%B2%D0%B0%2017%3C/div%3E%60%29%5B0%5D%3B%0A%20%20%20%20%20%20%20%20%20%20%20%20popup_14dcf097af474fb0911595ab6b1c64e0.setContent%28html_3aa41d1296f34b8b9e5619dd723526e9%29%3B%0A%20%20%20%20%20%20%20%20%0A%0A%20%20%20%20%20%20%20%20marker_fc37e6de09d24228997aac3d3c73af93.bindPopup%28popup_14dcf097af474fb0911595ab6b1c64e0%29%0A%20%20%20%20%20%20%20%20%3B%0A%0A%20%20%20%20%20%20%20%20%0A%20%20%20%20%0A%20%20%20%20%0A%20%20%20%20%20%20%20%20%20%20%20%20var%20marker_b7566e52f5eb4eb5946bc734d3e80f0d%20%3D%20L.marker%28%0A%20%20%20%20%20%20%20%20%20%20%20%20%20%20%20%20%5B71.404976908379%2C%2051.116077871409%5D%2C%0A%20%20%20%20%20%20%20%20%20%20%20%20%20%20%20%20%7B%7D%0A%20%20%20%20%20%20%20%20%20%20%20%20%29.addTo%28map_0372e994ccf64c4ea30594c13123a576%29%3B%0A%20%20%20%20%20%20%20%20%0A%20%20%20%20%0A%20%20%20%20%20%20%20%20var%20popup_a4ae5c288c4e4bc493b501d051290be6%20%3D%20L.popup%28%7B%22maxWidth%22%3A%20%22100%25%22%7D%29%3B%0A%0A%20%20%20%20%20%20%20%20%0A%20%20%20%20%20%20%20%20%20%20%20%20var%20html_a118f41e707647249e4556e9856a8865%20%3D%20%24%28%60%3Cdiv%20id%3D%22html_a118f41e707647249e4556e9856a8865%22%20style%3D%22width%3A%20100.0%25%3B%20height%3A%20100.0%25%3B%22%3E%D0%9D%D1%83%D1%80-%D0%A1%D1%83%D0%BB%D1%82%D0%B0%D0%BD%20%28%D0%90%D1%81%D1%82%D0%B0%D0%BD%D0%B0%29%2C%20%D0%95%D1%81%D0%B8%D0%BB%D1%8C%20%D1%80-%D0%BD%2C%20%D0%9A%D0%B5%D1%80%D0%B5%D0%B9%20%D0%B8%20%20%D0%96%D0%B0%D0%BD%D0%B8%D0%B1%D0%B5%D0%BA%20%D1%85%D0%B0%D0%BD%D0%B4%D0%B0%D1%80%3C/div%3E%60%29%5B0%5D%3B%0A%20%20%20%20%20%20%20%20%20%20%20%20popup_a4ae5c288c4e4bc493b501d051290be6.setContent%28html_a118f41e707647249e4556e9856a8865%29%3B%0A%20%20%20%20%20%20%20%20%0A%0A%20%20%20%20%20%20%20%20marker_b7566e52f5eb4eb5946bc734d3e80f0d.bindPopup%28popup_a4ae5c288c4e4bc493b501d051290be6%29%0A%20%20%20%20%20%20%20%20%3B%0A%0A%20%20%20%20%20%20%20%20%0A%20%20%20%20%0A%20%20%20%20%0A%20%20%20%20%20%20%20%20%20%20%20%20var%20marker_fbad4bfca9a44ba0899c1cb96f49e002%20%3D%20L.marker%28%0A%20%20%20%20%20%20%20%20%20%20%20%20%20%20%20%20%5B71.481973%2C%2051.15231%5D%2C%0A%20%20%20%20%20%20%20%20%20%20%20%20%20%20%20%20%7B%7D%0A%20%20%20%20%20%20%20%20%20%20%20%20%29.addTo%28map_0372e994ccf64c4ea30594c13123a576%29%3B%0A%20%20%20%20%20%20%20%20%0A%20%20%20%20%0A%20%20%20%20%20%20%20%20var%20popup_6fef4883d2b94768a6d6f83e7df09d94%20%3D%20L.popup%28%7B%22maxWidth%22%3A%20%22100%25%22%7D%29%3B%0A%0A%20%20%20%20%20%20%20%20%0A%20%20%20%20%20%20%20%20%20%20%20%20var%20html_0461d4b8b0444e739a2bffc4ef5045f6%20%3D%20%24%28%60%3Cdiv%20id%3D%22html_0461d4b8b0444e739a2bffc4ef5045f6%22%20style%3D%22width%3A%20100.0%25%3B%20height%3A%20100.0%25%3B%22%3E%D0%9D%D1%83%D1%80-%D0%A1%D1%83%D0%BB%D1%82%D0%B0%D0%BD%20%28%D0%90%D1%81%D1%82%D0%B0%D0%BD%D0%B0%29%2C%20%D0%96%D1%83%D0%BC%D0%B0%D0%B1%D0%B0%D0%B5%D0%B2%D0%B0%20%E2%80%94%20%D0%9F%D0%B5%D1%82%D1%80%D0%BE%D0%B2%D0%B0%3C/div%3E%60%29%5B0%5D%3B%0A%20%20%20%20%20%20%20%20%20%20%20%20popup_6fef4883d2b94768a6d6f83e7df09d94.setContent%28html_0461d4b8b0444e739a2bffc4ef5045f6%29%3B%0A%20%20%20%20%20%20%20%20%0A%0A%20%20%20%20%20%20%20%20marker_fbad4bfca9a44ba0899c1cb96f49e002.bindPopup%28popup_6fef4883d2b94768a6d6f83e7df09d94%29%0A%20%20%20%20%20%20%20%20%3B%0A%0A%20%20%20%20%20%20%20%20%0A%20%20%20%20%0A%20%20%20%20%0A%20%20%20%20%20%20%20%20%20%20%20%20var%20marker_e06fc15403c6488ca71c556b1cff308e%20%3D%20L.marker%28%0A%20%20%20%20%20%20%20%20%20%20%20%20%20%20%20%20%5B71.436403%2C%2051.154998%5D%2C%0A%20%20%20%20%20%20%20%20%20%20%20%20%20%20%20%20%7B%7D%0A%20%20%20%20%20%20%20%20%20%20%20%20%29.addTo%28map_0372e994ccf64c4ea30594c13123a576%29%3B%0A%20%20%20%20%20%20%20%20%0A%20%20%20%20%0A%20%20%20%20%20%20%20%20var%20popup_3d44fb848e0847999bfc7e8a9aa753ff%20%3D%20L.popup%28%7B%22maxWidth%22%3A%20%22100%25%22%7D%29%3B%0A%0A%20%20%20%20%20%20%20%20%0A%20%20%20%20%20%20%20%20%20%20%20%20var%20html_f2a3da3980264aa5b85988b1288e198a%20%3D%20%24%28%60%3Cdiv%20id%3D%22html_f2a3da3980264aa5b85988b1288e198a%22%20style%3D%22width%3A%20100.0%25%3B%20height%3A%20100.0%25%3B%22%3E%D0%9D%D1%83%D1%80-%D0%A1%D1%83%D0%BB%D1%82%D0%B0%D0%BD%20%28%D0%90%D1%81%D1%82%D0%B0%D0%BD%D0%B0%29%2C%20%D1%80-%D0%BD%20%D0%91%D0%B0%D0%B9%D0%BA%D0%BE%D0%BD%D1%83%D1%80%2C%20%D0%9F%D0%B5%D1%80%D0%B5%D1%83%D0%BB%D0%BE%D0%BA%20%D0%96%D1%83%D0%BC%D0%B0%D0%B1%D0%B5%D0%BA%D0%B0%20%D0%A2%D0%B0%D1%88%D0%B5%D0%BD%D0%BE%D0%B2%D0%B0%208/1%3C/div%3E%60%29%5B0%5D%3B%0A%20%20%20%20%20%20%20%20%20%20%20%20popup_3d44fb848e0847999bfc7e8a9aa753ff.setContent%28html_f2a3da3980264aa5b85988b1288e198a%29%3B%0A%20%20%20%20%20%20%20%20%0A%0A%20%20%20%20%20%20%20%20marker_e06fc15403c6488ca71c556b1cff308e.bindPopup%28popup_3d44fb848e0847999bfc7e8a9aa753ff%29%0A%20%20%20%20%20%20%20%20%3B%0A%0A%20%20%20%20%20%20%20%20%0A%20%20%20%20%0A%20%20%20%20%0A%20%20%20%20%20%20%20%20%20%20%20%20var%20marker_8679f0f5013643ad8c2e55097e2f065b%20%3D%20L.marker%28%0A%20%20%20%20%20%20%20%20%20%20%20%20%20%20%20%20%5B71.405189148645%2C%2051.168435678255%5D%2C%0A%20%20%20%20%20%20%20%20%20%20%20%20%20%20%20%20%7B%7D%0A%20%20%20%20%20%20%20%20%20%20%20%20%29.addTo%28map_0372e994ccf64c4ea30594c13123a576%29%3B%0A%20%20%20%20%20%20%20%20%0A%20%20%20%20%0A%20%20%20%20%20%20%20%20var%20popup_fc4d531e517c4c2ab5f36211b5e60ba9%20%3D%20L.popup%28%7B%22maxWidth%22%3A%20%22100%25%22%7D%29%3B%0A%0A%20%20%20%20%20%20%20%20%0A%20%20%20%20%20%20%20%20%20%20%20%20var%20html_1ebfe1e9e3bb4edaacc357166c972246%20%3D%20%24%28%60%3Cdiv%20id%3D%22html_1ebfe1e9e3bb4edaacc357166c972246%22%20style%3D%22width%3A%20100.0%25%3B%20height%3A%20100.0%25%3B%22%3E%D0%9D%D1%83%D1%80-%D0%A1%D1%83%D0%BB%D1%82%D0%B0%D0%BD%20%28%D0%90%D1%81%D1%82%D0%B0%D0%BD%D0%B0%29%2C%20%D0%A1%D0%B0%D1%80%D1%8B%D0%B0%D1%80%D0%BA%D0%B0%20%D1%80-%D0%BD%2C%20%D0%A1%D0%B5%D0%B9%D1%84%D1%83%D0%BB%D0%BB%D0%B8%D0%BD%D0%B0%3C/div%3E%60%29%5B0%5D%3B%0A%20%20%20%20%20%20%20%20%20%20%20%20popup_fc4d531e517c4c2ab5f36211b5e60ba9.setContent%28html_1ebfe1e9e3bb4edaacc357166c972246%29%3B%0A%20%20%20%20%20%20%20%20%0A%0A%20%20%20%20%20%20%20%20marker_8679f0f5013643ad8c2e55097e2f065b.bindPopup%28popup_fc4d531e517c4c2ab5f36211b5e60ba9%29%0A%20%20%20%20%20%20%20%20%3B%0A%0A%20%20%20%20%20%20%20%20%0A%20%20%20%20%0A%20%20%20%20%0A%20%20%20%20%20%20%20%20%20%20%20%20var%20marker_cef01ddef3b94fa1ba8a11e94709c160%20%3D%20L.marker%28%0A%20%20%20%20%20%20%20%20%20%20%20%20%20%20%20%20%5B71.524294%2C%2051.118704%5D%2C%0A%20%20%20%20%20%20%20%20%20%20%20%20%20%20%20%20%7B%7D%0A%20%20%20%20%20%20%20%20%20%20%20%20%29.addTo%28map_0372e994ccf64c4ea30594c13123a576%29%3B%0A%20%20%20%20%20%20%20%20%0A%20%20%20%20%0A%20%20%20%20%20%20%20%20var%20popup_9eda1397e2394c4a9bdaf8a9358f433e%20%3D%20L.popup%28%7B%22maxWidth%22%3A%20%22100%25%22%7D%29%3B%0A%0A%20%20%20%20%20%20%20%20%0A%20%20%20%20%20%20%20%20%20%20%20%20var%20html_df4b17e0d6fc4d5091beab7b26d13317%20%3D%20%24%28%60%3Cdiv%20id%3D%22html_df4b17e0d6fc4d5091beab7b26d13317%22%20style%3D%22width%3A%20100.0%25%3B%20height%3A%20100.0%25%3B%22%3E%D0%9D%D1%83%D1%80-%D0%A1%D1%83%D0%BB%D1%82%D0%B0%D0%BD%20%28%D0%90%D1%81%D1%82%D0%B0%D0%BD%D0%B0%29%2C%20%D0%90%D0%BB%D0%BC%D0%B0%D1%82%D1%8B%20%D1%80-%D0%BD%2C%20%D0%90%2091%2014%3C/div%3E%60%29%5B0%5D%3B%0A%20%20%20%20%20%20%20%20%20%20%20%20popup_9eda1397e2394c4a9bdaf8a9358f433e.setContent%28html_df4b17e0d6fc4d5091beab7b26d13317%29%3B%0A%20%20%20%20%20%20%20%20%0A%0A%20%20%20%20%20%20%20%20marker_cef01ddef3b94fa1ba8a11e94709c160.bindPopup%28popup_9eda1397e2394c4a9bdaf8a9358f433e%29%0A%20%20%20%20%20%20%20%20%3B%0A%0A%20%20%20%20%20%20%20%20%0A%20%20%20%20%0A%20%20%20%20%0A%20%20%20%20%20%20%20%20%20%20%20%20var%20marker_4f13792ae8e14fe7b684bab7b04bba32%20%3D%20L.marker%28%0A%20%20%20%20%20%20%20%20%20%20%20%20%20%20%20%20%5B71.465993%2C%2051.13916%5D%2C%0A%20%20%20%20%20%20%20%20%20%20%20%20%20%20%20%20%7B%7D%0A%20%20%20%20%20%20%20%20%20%20%20%20%29.addTo%28map_0372e994ccf64c4ea30594c13123a576%29%3B%0A%20%20%20%20%20%20%20%20%0A%20%20%20%20%0A%20%20%20%20%20%20%20%20var%20popup_22ef64daf9d84088a8035c979de4dd42%20%3D%20L.popup%28%7B%22maxWidth%22%3A%20%22100%25%22%7D%29%3B%0A%0A%20%20%20%20%20%20%20%20%0A%20%20%20%20%20%20%20%20%20%20%20%20var%20html_eabf0af02bfe48b19ad2a6033c1d5e7a%20%3D%20%24%28%60%3Cdiv%20id%3D%22html_eabf0af02bfe48b19ad2a6033c1d5e7a%22%20style%3D%22width%3A%20100.0%25%3B%20height%3A%20100.0%25%3B%22%3E%D0%9D%D1%83%D1%80-%D0%A1%D1%83%D0%BB%D1%82%D0%B0%D0%BD%20%28%D0%90%D1%81%D1%82%D0%B0%D0%BD%D0%B0%29%2C%20%D0%90%D0%BB%D0%BC%D0%B0%D1%82%D1%8B%20%D1%80-%D0%BD%2C%20%D0%BF%D1%80%D0%BE%D1%81%D0%BF%D0%B5%D0%BA%D1%82%20%D0%A2%D0%B0%D1%83%D0%B5%D0%BB%D1%81%D0%B8%D0%B7%D0%B4%D0%B8%D0%BA%3C/div%3E%60%29%5B0%5D%3B%0A%20%20%20%20%20%20%20%20%20%20%20%20popup_22ef64daf9d84088a8035c979de4dd42.setContent%28html_eabf0af02bfe48b19ad2a6033c1d5e7a%29%3B%0A%20%20%20%20%20%20%20%20%0A%0A%20%20%20%20%20%20%20%20marker_4f13792ae8e14fe7b684bab7b04bba32.bindPopup%28popup_22ef64daf9d84088a8035c979de4dd42%29%0A%20%20%20%20%20%20%20%20%3B%0A%0A%20%20%20%20%20%20%20%20%0A%20%20%20%20%0A%20%20%20%20%0A%20%20%20%20%20%20%20%20%20%20%20%20var%20marker_ee8689e827f04e5a870840085a65e71a%20%3D%20L.marker%28%0A%20%20%20%20%20%20%20%20%20%20%20%20%20%20%20%20%5B71.397245%2C%2051.118427%5D%2C%0A%20%20%20%20%20%20%20%20%20%20%20%20%20%20%20%20%7B%7D%0A%20%20%20%20%20%20%20%20%20%20%20%20%29.addTo%28map_0372e994ccf64c4ea30594c13123a576%29%3B%0A%20%20%20%20%20%20%20%20%0A%20%20%20%20%0A%20%20%20%20%20%20%20%20var%20popup_4ae91e73a2af4a2591609945c7927919%20%3D%20L.popup%28%7B%22maxWidth%22%3A%20%22100%25%22%7D%29%3B%0A%0A%20%20%20%20%20%20%20%20%0A%20%20%20%20%20%20%20%20%20%20%20%20var%20html_993e890e98cc47d682a90338e32fccd3%20%3D%20%24%28%60%3Cdiv%20id%3D%22html_993e890e98cc47d682a90338e32fccd3%22%20style%3D%22width%3A%20100.0%25%3B%20height%3A%20100.0%25%3B%22%3E%D0%9D%D1%83%D1%80-%D0%A1%D1%83%D0%BB%D1%82%D0%B0%D0%BD%20%28%D0%90%D1%81%D1%82%D0%B0%D0%BD%D0%B0%29%2C%20%D0%95%D1%81%D0%B8%D0%BB%D1%8C%20%D1%80-%D0%BD%2C%20%D0%91%D0%B5%D0%BA%D1%82%D1%83%D1%80%D0%BE%D0%B2%D0%B0%3C/div%3E%60%29%5B0%5D%3B%0A%20%20%20%20%20%20%20%20%20%20%20%20popup_4ae91e73a2af4a2591609945c7927919.setContent%28html_993e890e98cc47d682a90338e32fccd3%29%3B%0A%20%20%20%20%20%20%20%20%0A%0A%20%20%20%20%20%20%20%20marker_ee8689e827f04e5a870840085a65e71a.bindPopup%28popup_4ae91e73a2af4a2591609945c7927919%29%0A%20%20%20%20%20%20%20%20%3B%0A%0A%20%20%20%20%20%20%20%20%0A%20%20%20%20%0A%20%20%20%20%0A%20%20%20%20%20%20%20%20%20%20%20%20var%20marker_5b9848a7f53c498a94e8535503346df8%20%3D%20L.marker%28%0A%20%20%20%20%20%20%20%20%20%20%20%20%20%20%20%20%5B71.375982%2C%2051.144207%5D%2C%0A%20%20%20%20%20%20%20%20%20%20%20%20%20%20%20%20%7B%7D%0A%20%20%20%20%20%20%20%20%20%20%20%20%29.addTo%28map_0372e994ccf64c4ea30594c13123a576%29%3B%0A%20%20%20%20%20%20%20%20%0A%20%20%20%20%0A%20%20%20%20%20%20%20%20var%20popup_6e1ba93c5b1b4af293679c6c6e7d720b%20%3D%20L.popup%28%7B%22maxWidth%22%3A%20%22100%25%22%7D%29%3B%0A%0A%20%20%20%20%20%20%20%20%0A%20%20%20%20%20%20%20%20%20%20%20%20var%20html_3b35f937577c4277a3caee5ddcf6a20d%20%3D%20%24%28%60%3Cdiv%20id%3D%22html_3b35f937577c4277a3caee5ddcf6a20d%22%20style%3D%22width%3A%20100.0%25%3B%20height%3A%20100.0%25%3B%22%3E%D0%9D%D1%83%D1%80-%D0%A1%D1%83%D0%BB%D1%82%D0%B0%D0%BD%20%28%D0%90%D1%81%D1%82%D0%B0%D0%BD%D0%B0%29%2C%20%D0%95%D1%81%D0%B8%D0%BB%D1%8C%20%D1%80-%D0%BD%2C%20%D1%83%D0%BB.%20%D0%95251%204/1%3C/div%3E%60%29%5B0%5D%3B%0A%20%20%20%20%20%20%20%20%20%20%20%20popup_6e1ba93c5b1b4af293679c6c6e7d720b.setContent%28html_3b35f937577c4277a3caee5ddcf6a20d%29%3B%0A%20%20%20%20%20%20%20%20%0A%0A%20%20%20%20%20%20%20%20marker_5b9848a7f53c498a94e8535503346df8.bindPopup%28popup_6e1ba93c5b1b4af293679c6c6e7d720b%29%0A%20%20%20%20%20%20%20%20%3B%0A%0A%20%20%20%20%20%20%20%20%0A%20%20%20%20%0A%20%20%20%20%0A%20%20%20%20%20%20%20%20%20%20%20%20var%20marker_e864f5717f6e4173bfb1e8f6a5cc317a%20%3D%20L.marker%28%0A%20%20%20%20%20%20%20%20%20%20%20%20%20%20%20%20%5B71.38846%2C%2051.16903%5D%2C%0A%20%20%20%20%20%20%20%20%20%20%20%20%20%20%20%20%7B%7D%0A%20%20%20%20%20%20%20%20%20%20%20%20%29.addTo%28map_0372e994ccf64c4ea30594c13123a576%29%3B%0A%20%20%20%20%20%20%20%20%0A%20%20%20%20%0A%20%20%20%20%20%20%20%20var%20popup_a65ebe2d9ae74d20a195cc302a917ee8%20%3D%20L.popup%28%7B%22maxWidth%22%3A%20%22100%25%22%7D%29%3B%0A%0A%20%20%20%20%20%20%20%20%0A%20%20%20%20%20%20%20%20%20%20%20%20var%20html_3f11c37ec9d14c38a0445a25a0e3a8f9%20%3D%20%24%28%60%3Cdiv%20id%3D%22html_3f11c37ec9d14c38a0445a25a0e3a8f9%22%20style%3D%22width%3A%20100.0%25%3B%20height%3A%20100.0%25%3B%22%3E%D0%9D%D1%83%D1%80-%D0%A1%D1%83%D0%BB%D1%82%D0%B0%D0%BD%20%28%D0%90%D1%81%D1%82%D0%B0%D0%BD%D0%B0%29%2C%20%D0%A1%D0%B0%D1%80%D1%8B%D0%B0%D1%80%D0%BA%D0%B0%20%D1%80-%D0%BD%2C%20%D0%9A%D0%BE%D1%81%D1%88%D1%8B%D0%B3%D1%83%D0%BB%D1%83%D0%BB%D1%8B%2011%3C/div%3E%60%29%5B0%5D%3B%0A%20%20%20%20%20%20%20%20%20%20%20%20popup_a65ebe2d9ae74d20a195cc302a917ee8.setContent%28html_3f11c37ec9d14c38a0445a25a0e3a8f9%29%3B%0A%20%20%20%20%20%20%20%20%0A%0A%20%20%20%20%20%20%20%20marker_e864f5717f6e4173bfb1e8f6a5cc317a.bindPopup%28popup_a65ebe2d9ae74d20a195cc302a917ee8%29%0A%20%20%20%20%20%20%20%20%3B%0A%0A%20%20%20%20%20%20%20%20%0A%20%20%20%20%0A%20%20%20%20%0A%20%20%20%20%20%20%20%20%20%20%20%20var%20marker_ee9b66ab6f9b413f83963ac3f3706928%20%3D%20L.marker%28%0A%20%20%20%20%20%20%20%20%20%20%20%20%20%20%20%20%5B71.439287%2C%2051.154207%5D%2C%0A%20%20%20%20%20%20%20%20%20%20%20%20%20%20%20%20%7B%7D%0A%20%20%20%20%20%20%20%20%20%20%20%20%29.addTo%28map_0372e994ccf64c4ea30594c13123a576%29%3B%0A%20%20%20%20%20%20%20%20%0A%20%20%20%20%0A%20%20%20%20%20%20%20%20var%20popup_6a70f7fd8b41422285860e3d8ba13f3a%20%3D%20L.popup%28%7B%22maxWidth%22%3A%20%22100%25%22%7D%29%3B%0A%0A%20%20%20%20%20%20%20%20%0A%20%20%20%20%20%20%20%20%20%20%20%20var%20html_4e6e2b25528d4116922c665409f889f6%20%3D%20%24%28%60%3Cdiv%20id%3D%22html_4e6e2b25528d4116922c665409f889f6%22%20style%3D%22width%3A%20100.0%25%3B%20height%3A%20100.0%25%3B%22%3E%D0%9D%D1%83%D1%80-%D0%A1%D1%83%D0%BB%D1%82%D0%B0%D0%BD%20%28%D0%90%D1%81%D1%82%D0%B0%D0%BD%D0%B0%29%2C%20%D1%80-%D0%BD%20%D0%91%D0%B0%D0%B9%D0%BA%D0%BE%D0%BD%D1%83%D1%80%2C%20%D0%9F%D0%B5%D1%80%D0%B5%D1%83%D0%BB%D0%BE%D0%BA%20%D0%96%D1%83%D0%BC%D0%B0%D0%B1%D0%B5%D0%BA%D0%B0%20%D0%A2%D0%B0%D1%88%D0%B5%D0%BD%D0%BE%D0%B2%D0%B0%204/3%3C/div%3E%60%29%5B0%5D%3B%0A%20%20%20%20%20%20%20%20%20%20%20%20popup_6a70f7fd8b41422285860e3d8ba13f3a.setContent%28html_4e6e2b25528d4116922c665409f889f6%29%3B%0A%20%20%20%20%20%20%20%20%0A%0A%20%20%20%20%20%20%20%20marker_ee9b66ab6f9b413f83963ac3f3706928.bindPopup%28popup_6a70f7fd8b41422285860e3d8ba13f3a%29%0A%20%20%20%20%20%20%20%20%3B%0A%0A%20%20%20%20%20%20%20%20%0A%20%20%20%20%0A%20%20%20%20%0A%20%20%20%20%20%20%20%20%20%20%20%20var%20marker_dabdd38cbdb64a7fa14b6172edbdcba7%20%3D%20L.marker%28%0A%20%20%20%20%20%20%20%20%20%20%20%20%20%20%20%20%5B71.505279019475%2C%2051.134109938361%5D%2C%0A%20%20%20%20%20%20%20%20%20%20%20%20%20%20%20%20%7B%7D%0A%20%20%20%20%20%20%20%20%20%20%20%20%29.addTo%28map_0372e994ccf64c4ea30594c13123a576%29%3B%0A%20%20%20%20%20%20%20%20%0A%20%20%20%20%0A%20%20%20%20%20%20%20%20var%20popup_58a70f36e66849a284ac117f94fb3c6a%20%3D%20L.popup%28%7B%22maxWidth%22%3A%20%22100%25%22%7D%29%3B%0A%0A%20%20%20%20%20%20%20%20%0A%20%20%20%20%20%20%20%20%20%20%20%20var%20html_def9efb87f1e4c5ebaba9dff77e8aac4%20%3D%20%24%28%60%3Cdiv%20id%3D%22html_def9efb87f1e4c5ebaba9dff77e8aac4%22%20style%3D%22width%3A%20100.0%25%3B%20height%3A%20100.0%25%3B%22%3E%D0%9D%D1%83%D1%80-%D0%A1%D1%83%D0%BB%D1%82%D0%B0%D0%BD%20%28%D0%90%D1%81%D1%82%D0%B0%D0%BD%D0%B0%29%2C%20%D0%90%D0%BB%D0%BC%D0%B0%D1%82%D1%8B%20%D1%80-%D0%BD%2C%20%D0%90%D0%B9%D0%BD%D0%B0%D0%BA%D0%BE%D0%BB%2056/1%20%E2%80%94%20%D0%96%D1%83%D0%BC%D0%B0%D0%B1%D0%B0%D0%B5%D0%B2%D0%B0%3C/div%3E%60%29%5B0%5D%3B%0A%20%20%20%20%20%20%20%20%20%20%20%20popup_58a70f36e66849a284ac117f94fb3c6a.setContent%28html_def9efb87f1e4c5ebaba9dff77e8aac4%29%3B%0A%20%20%20%20%20%20%20%20%0A%0A%20%20%20%20%20%20%20%20marker_dabdd38cbdb64a7fa14b6172edbdcba7.bindPopup%28popup_58a70f36e66849a284ac117f94fb3c6a%29%0A%20%20%20%20%20%20%20%20%3B%0A%0A%20%20%20%20%20%20%20%20%0A%20%20%20%20%0A%20%20%20%20%0A%20%20%20%20%20%20%20%20%20%20%20%20var%20marker_4e1362dabb8f4105ab4f9e31f402a2b2%20%3D%20L.marker%28%0A%20%20%20%20%20%20%20%20%20%20%20%20%20%20%20%20%5B71.445501130074%2C%2051.168056835709%5D%2C%0A%20%20%20%20%20%20%20%20%20%20%20%20%20%20%20%20%7B%7D%0A%20%20%20%20%20%20%20%20%20%20%20%20%29.addTo%28map_0372e994ccf64c4ea30594c13123a576%29%3B%0A%20%20%20%20%20%20%20%20%0A%20%20%20%20%0A%20%20%20%20%20%20%20%20var%20popup_5a496841c7384cc4ae201d19780698c8%20%3D%20L.popup%28%7B%22maxWidth%22%3A%20%22100%25%22%7D%29%3B%0A%0A%20%20%20%20%20%20%20%20%0A%20%20%20%20%20%20%20%20%20%20%20%20var%20html_f1a4266978614c48a638ec9f7ed96d96%20%3D%20%24%28%60%3Cdiv%20id%3D%22html_f1a4266978614c48a638ec9f7ed96d96%22%20style%3D%22width%3A%20100.0%25%3B%20height%3A%20100.0%25%3B%22%3E%D0%9D%D1%83%D1%80-%D0%A1%D1%83%D0%BB%D1%82%D0%B0%D0%BD%20%28%D0%90%D1%81%D1%82%D0%B0%D0%BD%D0%B0%29%2C%20%D1%80-%D0%BD%20%D0%91%D0%B0%D0%B9%D0%BA%D0%BE%D0%BD%D1%83%D1%80%2C%20%D0%9A%D0%B5%D0%BD%D0%B5%D1%81%D0%B0%D1%80%D1%8B%3C/div%3E%60%29%5B0%5D%3B%0A%20%20%20%20%20%20%20%20%20%20%20%20popup_5a496841c7384cc4ae201d19780698c8.setContent%28html_f1a4266978614c48a638ec9f7ed96d96%29%3B%0A%20%20%20%20%20%20%20%20%0A%0A%20%20%20%20%20%20%20%20marker_4e1362dabb8f4105ab4f9e31f402a2b2.bindPopup%28popup_5a496841c7384cc4ae201d19780698c8%29%0A%20%20%20%20%20%20%20%20%3B%0A%0A%20%20%20%20%20%20%20%20%0A%20%20%20%20%0A%20%20%20%20%0A%20%20%20%20%20%20%20%20%20%20%20%20var%20marker_cefca8db26554a02a93fa7af03852e35%20%3D%20L.marker%28%0A%20%20%20%20%20%20%20%20%20%20%20%20%20%20%20%20%5B71.500731%2C%2051.122215%5D%2C%0A%20%20%20%20%20%20%20%20%20%20%20%20%20%20%20%20%7B%7D%0A%20%20%20%20%20%20%20%20%20%20%20%20%29.addTo%28map_0372e994ccf64c4ea30594c13123a576%29%3B%0A%20%20%20%20%20%20%20%20%0A%20%20%20%20%0A%20%20%20%20%20%20%20%20var%20popup_57fbcd627657469eb318493f058a13f1%20%3D%20L.popup%28%7B%22maxWidth%22%3A%20%22100%25%22%7D%29%3B%0A%0A%20%20%20%20%20%20%20%20%0A%20%20%20%20%20%20%20%20%20%20%20%20var%20html_b336a6c42f9f4f6c8e0ec21c3593b3f4%20%3D%20%24%28%60%3Cdiv%20id%3D%22html_b336a6c42f9f4f6c8e0ec21c3593b3f4%22%20style%3D%22width%3A%20100.0%25%3B%20height%3A%20100.0%25%3B%22%3E%D0%9D%D1%83%D1%80-%D0%A1%D1%83%D0%BB%D1%82%D0%B0%D0%BD%20%28%D0%90%D1%81%D1%82%D0%B0%D0%BD%D0%B0%29%2C%20%D0%90%D0%BB%D0%BC%D0%B0%D1%82%D1%8B%20%D1%80-%D0%BD%2C%20%D0%90-98%2014%20%E2%80%94%20%D0%96%D1%83%D0%BC%D0%B0%D0%B1%D0%B0%D0%B5%D0%B2%D0%B0%3C/div%3E%60%29%5B0%5D%3B%0A%20%20%20%20%20%20%20%20%20%20%20%20popup_57fbcd627657469eb318493f058a13f1.setContent%28html_b336a6c42f9f4f6c8e0ec21c3593b3f4%29%3B%0A%20%20%20%20%20%20%20%20%0A%0A%20%20%20%20%20%20%20%20marker_cefca8db26554a02a93fa7af03852e35.bindPopup%28popup_57fbcd627657469eb318493f058a13f1%29%0A%20%20%20%20%20%20%20%20%3B%0A%0A%20%20%20%20%20%20%20%20%0A%20%20%20%20%0A%20%20%20%20%0A%20%20%20%20%20%20%20%20%20%20%20%20var%20marker_6f639384cb8a4afc8d0fdb02867b2237%20%3D%20L.marker%28%0A%20%20%20%20%20%20%20%20%20%20%20%20%20%20%20%20%5B71.47919%2C%2051.152512%5D%2C%0A%20%20%20%20%20%20%20%20%20%20%20%20%20%20%20%20%7B%7D%0A%20%20%20%20%20%20%20%20%20%20%20%20%29.addTo%28map_0372e994ccf64c4ea30594c13123a576%29%3B%0A%20%20%20%20%20%20%20%20%0A%20%20%20%20%0A%20%20%20%20%20%20%20%20var%20popup_48666918c836420e8e28988816043a4f%20%3D%20L.popup%28%7B%22maxWidth%22%3A%20%22100%25%22%7D%29%3B%0A%0A%20%20%20%20%20%20%20%20%0A%20%20%20%20%20%20%20%20%20%20%20%20var%20html_b435ceee66764beeaaad6f97e6a2b7b2%20%3D%20%24%28%60%3Cdiv%20id%3D%22html_b435ceee66764beeaaad6f97e6a2b7b2%22%20style%3D%22width%3A%20100.0%25%3B%20height%3A%20100.0%25%3B%22%3E%D0%9D%D1%83%D1%80-%D0%A1%D1%83%D0%BB%D1%82%D0%B0%D0%BD%20%28%D0%90%D1%81%D1%82%D0%B0%D0%BD%D0%B0%29%2C%20%D0%90%D0%BB%D0%BC%D0%B0%D1%82%D1%8B%20%D1%80-%D0%BD%2C%20%D0%BF%D1%80%D0%BE%D1%81%D0%BF%D0%B5%D0%BA%D1%82%20%D0%9C%D0%B0%D0%B3%D0%B6%D0%B0%D0%BD%D0%B0%20%D0%96%D1%83%D0%BC%D0%B0%D0%B1%D0%B0%D0%B5%D0%B2%D0%B0%209%3C/div%3E%60%29%5B0%5D%3B%0A%20%20%20%20%20%20%20%20%20%20%20%20popup_48666918c836420e8e28988816043a4f.setContent%28html_b435ceee66764beeaaad6f97e6a2b7b2%29%3B%0A%20%20%20%20%20%20%20%20%0A%0A%20%20%20%20%20%20%20%20marker_6f639384cb8a4afc8d0fdb02867b2237.bindPopup%28popup_48666918c836420e8e28988816043a4f%29%0A%20%20%20%20%20%20%20%20%3B%0A%0A%20%20%20%20%20%20%20%20%0A%20%20%20%20%0A%20%20%20%20%0A%20%20%20%20%20%20%20%20%20%20%20%20var%20marker_d586eaee22944709856f9216cb00392e%20%3D%20L.marker%28%0A%20%20%20%20%20%20%20%20%20%20%20%20%20%20%20%20%5B71.522138%2C%2051.123244%5D%2C%0A%20%20%20%20%20%20%20%20%20%20%20%20%20%20%20%20%7B%7D%0A%20%20%20%20%20%20%20%20%20%20%20%20%29.addTo%28map_0372e994ccf64c4ea30594c13123a576%29%3B%0A%20%20%20%20%20%20%20%20%0A%20%20%20%20%0A%20%20%20%20%20%20%20%20var%20popup_0130e7b7e2754fe8857252c3ae1bde9c%20%3D%20L.popup%28%7B%22maxWidth%22%3A%20%22100%25%22%7D%29%3B%0A%0A%20%20%20%20%20%20%20%20%0A%20%20%20%20%20%20%20%20%20%20%20%20var%20html_6447a13220744d50bd4dfbc763cfd928%20%3D%20%24%28%60%3Cdiv%20id%3D%22html_6447a13220744d50bd4dfbc763cfd928%22%20style%3D%22width%3A%20100.0%25%3B%20height%3A%20100.0%25%3B%22%3E%D0%9D%D1%83%D1%80-%D0%A1%D1%83%D0%BB%D1%82%D0%B0%D0%BD%20%28%D0%90%D1%81%D1%82%D0%B0%D0%BD%D0%B0%29%2C%20%D0%90%D0%BB%D0%BC%D0%B0%D1%82%D1%8B%20%D1%80-%D0%BD%2C%20%D0%A8%D0%B0%D0%BB%D0%BA%D0%BE%D0%B4%D0%B5%3C/div%3E%60%29%5B0%5D%3B%0A%20%20%20%20%20%20%20%20%20%20%20%20popup_0130e7b7e2754fe8857252c3ae1bde9c.setContent%28html_6447a13220744d50bd4dfbc763cfd928%29%3B%0A%20%20%20%20%20%20%20%20%0A%0A%20%20%20%20%20%20%20%20marker_d586eaee22944709856f9216cb00392e.bindPopup%28popup_0130e7b7e2754fe8857252c3ae1bde9c%29%0A%20%20%20%20%20%20%20%20%3B%0A%0A%20%20%20%20%20%20%20%20%0A%20%20%20%20%0A%20%20%20%20%0A%20%20%20%20%20%20%20%20%20%20%20%20var%20marker_699be0c91b554fc0986e4a5e3fcd02b6%20%3D%20L.marker%28%0A%20%20%20%20%20%20%20%20%20%20%20%20%20%20%20%20%5B71.472853548475%2C%2051.165512928089%5D%2C%0A%20%20%20%20%20%20%20%20%20%20%20%20%20%20%20%20%7B%7D%0A%20%20%20%20%20%20%20%20%20%20%20%20%29.addTo%28map_0372e994ccf64c4ea30594c13123a576%29%3B%0A%20%20%20%20%20%20%20%20%0A%20%20%20%20%0A%20%20%20%20%20%20%20%20var%20popup_41b62b2718824e649adaa66ad56a1e9a%20%3D%20L.popup%28%7B%22maxWidth%22%3A%20%22100%25%22%7D%29%3B%0A%0A%20%20%20%20%20%20%20%20%0A%20%20%20%20%20%20%20%20%20%20%20%20var%20html_f2b6ed80038c4efea33b55a0b85fbcd7%20%3D%20%24%28%60%3Cdiv%20id%3D%22html_f2b6ed80038c4efea33b55a0b85fbcd7%22%20style%3D%22width%3A%20100.0%25%3B%20height%3A%20100.0%25%3B%22%3E%D0%9D%D1%83%D1%80-%D0%A1%D1%83%D0%BB%D1%82%D0%B0%D0%BD%20%28%D0%90%D1%81%D1%82%D0%B0%D0%BD%D0%B0%29%2C%20%D1%80-%D0%BD%20%D0%91%D0%B0%D0%B9%D0%BA%D0%BE%D0%BD%D1%83%D1%80%2C%20%D0%9F%D1%83%D1%88%D0%BA%D0%B8%D0%BD%D0%B0%2025/1%3C/div%3E%60%29%5B0%5D%3B%0A%20%20%20%20%20%20%20%20%20%20%20%20popup_41b62b2718824e649adaa66ad56a1e9a.setContent%28html_f2b6ed80038c4efea33b55a0b85fbcd7%29%3B%0A%20%20%20%20%20%20%20%20%0A%0A%20%20%20%20%20%20%20%20marker_699be0c91b554fc0986e4a5e3fcd02b6.bindPopup%28popup_41b62b2718824e649adaa66ad56a1e9a%29%0A%20%20%20%20%20%20%20%20%3B%0A%0A%20%20%20%20%20%20%20%20%0A%20%20%20%20%0A%20%20%20%20%0A%20%20%20%20%20%20%20%20%20%20%20%20var%20marker_e0740c0a7f2b4fafb14ff12e5500c1c1%20%3D%20L.marker%28%0A%20%20%20%20%20%20%20%20%20%20%20%20%20%20%20%20%5B71.480932%2C%2051.141274%5D%2C%0A%20%20%20%20%20%20%20%20%20%20%20%20%20%20%20%20%7B%7D%0A%20%20%20%20%20%20%20%20%20%20%20%20%29.addTo%28map_0372e994ccf64c4ea30594c13123a576%29%3B%0A%20%20%20%20%20%20%20%20%0A%20%20%20%20%0A%20%20%20%20%20%20%20%20var%20popup_c78a964893b347a3953da1467061941b%20%3D%20L.popup%28%7B%22maxWidth%22%3A%20%22100%25%22%7D%29%3B%0A%0A%20%20%20%20%20%20%20%20%0A%20%20%20%20%20%20%20%20%20%20%20%20var%20html_175e24332f8748f2801d61213a370465%20%3D%20%24%28%60%3Cdiv%20id%3D%22html_175e24332f8748f2801d61213a370465%22%20style%3D%22width%3A%20100.0%25%3B%20height%3A%20100.0%25%3B%22%3E%D0%9D%D1%83%D1%80-%D0%A1%D1%83%D0%BB%D1%82%D0%B0%D0%BD%20%28%D0%90%D1%81%D1%82%D0%B0%D0%BD%D0%B0%29%2C%20%D0%90%D0%BB%D0%BC%D0%B0%D1%82%D1%8B%20%D1%80-%D0%BD%2C%20%D0%91.%20%D0%9C%D0%BE%D0%BC%D1%8B%D1%88%D1%83%D0%BB%D1%8B%2025%20%E2%80%94%20%D0%90%D0%BC%D0%B0%D0%BD%D0%B0%D1%82%3C/div%3E%60%29%5B0%5D%3B%0A%20%20%20%20%20%20%20%20%20%20%20%20popup_c78a964893b347a3953da1467061941b.setContent%28html_175e24332f8748f2801d61213a370465%29%3B%0A%20%20%20%20%20%20%20%20%0A%0A%20%20%20%20%20%20%20%20marker_e0740c0a7f2b4fafb14ff12e5500c1c1.bindPopup%28popup_c78a964893b347a3953da1467061941b%29%0A%20%20%20%20%20%20%20%20%3B%0A%0A%20%20%20%20%20%20%20%20%0A%20%20%20%20%0A%20%20%20%20%0A%20%20%20%20%20%20%20%20%20%20%20%20var%20marker_72eb7d88d112434b95dca6570ee4d2cc%20%3D%20L.marker%28%0A%20%20%20%20%20%20%20%20%20%20%20%20%20%20%20%20%5B71.459741%2C%2051.130733%5D%2C%0A%20%20%20%20%20%20%20%20%20%20%20%20%20%20%20%20%7B%7D%0A%20%20%20%20%20%20%20%20%20%20%20%20%29.addTo%28map_0372e994ccf64c4ea30594c13123a576%29%3B%0A%20%20%20%20%20%20%20%20%0A%20%20%20%20%0A%20%20%20%20%20%20%20%20var%20popup_ee28566ba1324901ae2689e9d34d2c6f%20%3D%20L.popup%28%7B%22maxWidth%22%3A%20%22100%25%22%7D%29%3B%0A%0A%20%20%20%20%20%20%20%20%0A%20%20%20%20%20%20%20%20%20%20%20%20var%20html_24f600fcc3de41a6a3a4b585aa7ed236%20%3D%20%24%28%60%3Cdiv%20id%3D%22html_24f600fcc3de41a6a3a4b585aa7ed236%22%20style%3D%22width%3A%20100.0%25%3B%20height%3A%20100.0%25%3B%22%3E%D0%9D%D1%83%D1%80-%D0%A1%D1%83%D0%BB%D1%82%D0%B0%D0%BD%20%28%D0%90%D1%81%D1%82%D0%B0%D0%BD%D0%B0%29%2C%20%D0%90%D0%BB%D0%BC%D0%B0%D1%82%D1%8B%20%D1%80-%D0%BD%2C%20%D0%9C%D0%BE%D0%BC%D1%8B%D1%88%D1%83%D0%BB%D1%8B%202%3C/div%3E%60%29%5B0%5D%3B%0A%20%20%20%20%20%20%20%20%20%20%20%20popup_ee28566ba1324901ae2689e9d34d2c6f.setContent%28html_24f600fcc3de41a6a3a4b585aa7ed236%29%3B%0A%20%20%20%20%20%20%20%20%0A%0A%20%20%20%20%20%20%20%20marker_72eb7d88d112434b95dca6570ee4d2cc.bindPopup%28popup_ee28566ba1324901ae2689e9d34d2c6f%29%0A%20%20%20%20%20%20%20%20%3B%0A%0A%20%20%20%20%20%20%20%20%0A%20%20%20%20%0A%20%20%20%20%0A%20%20%20%20%20%20%20%20%20%20%20%20var%20marker_a5c0675013964156adf1e84608d586f7%20%3D%20L.marker%28%0A%20%20%20%20%20%20%20%20%20%20%20%20%20%20%20%20%5B71.42494%2C%2051.160607%5D%2C%0A%20%20%20%20%20%20%20%20%20%20%20%20%20%20%20%20%7B%7D%0A%20%20%20%20%20%20%20%20%20%20%20%20%29.addTo%28map_0372e994ccf64c4ea30594c13123a576%29%3B%0A%20%20%20%20%20%20%20%20%0A%20%20%20%20%0A%20%20%20%20%20%20%20%20var%20popup_0e9ade079b754900a585875a593d2efd%20%3D%20L.popup%28%7B%22maxWidth%22%3A%20%22100%25%22%7D%29%3B%0A%0A%20%20%20%20%20%20%20%20%0A%20%20%20%20%20%20%20%20%20%20%20%20var%20html_52e7224dd5894976840312af54828287%20%3D%20%24%28%60%3Cdiv%20id%3D%22html_52e7224dd5894976840312af54828287%22%20style%3D%22width%3A%20100.0%25%3B%20height%3A%20100.0%25%3B%22%3E%D0%9D%D1%83%D1%80-%D0%A1%D1%83%D0%BB%D1%82%D0%B0%D0%BD%20%28%D0%90%D1%81%D1%82%D0%B0%D0%BD%D0%B0%29%2C%20%D0%A1%D0%B0%D1%80%D1%8B%D0%B0%D1%80%D0%BA%D0%B0%20%D1%80-%D0%BD%2C%20%D0%9C%D0%B0%D0%BC%D0%B1%D0%B5%D1%82%D0%BE%D0%B2%D0%B0%2010%20%E2%80%94%20%D0%93%D1%83%D0%BC%D0%B0%D1%80%20%D0%9A%D0%B0%D1%80%D0%B0%D1%88%3C/div%3E%60%29%5B0%5D%3B%0A%20%20%20%20%20%20%20%20%20%20%20%20popup_0e9ade079b754900a585875a593d2efd.setContent%28html_52e7224dd5894976840312af54828287%29%3B%0A%20%20%20%20%20%20%20%20%0A%0A%20%20%20%20%20%20%20%20marker_a5c0675013964156adf1e84608d586f7.bindPopup%28popup_0e9ade079b754900a585875a593d2efd%29%0A%20%20%20%20%20%20%20%20%3B%0A%0A%20%20%20%20%20%20%20%20%0A%20%20%20%20%0A%20%20%20%20%0A%20%20%20%20%20%20%20%20%20%20%20%20var%20marker_15b566f095a24bcea00db857957a6247%20%3D%20L.marker%28%0A%20%20%20%20%20%20%20%20%20%20%20%20%20%20%20%20%5B71.367861117244%2C%2051.130460782171%5D%2C%0A%20%20%20%20%20%20%20%20%20%20%20%20%20%20%20%20%7B%7D%0A%20%20%20%20%20%20%20%20%20%20%20%20%29.addTo%28map_0372e994ccf64c4ea30594c13123a576%29%3B%0A%20%20%20%20%20%20%20%20%0A%20%20%20%20%0A%20%20%20%20%20%20%20%20var%20popup_7d589075f27e4d7a884441ec2eb03beb%20%3D%20L.popup%28%7B%22maxWidth%22%3A%20%22100%25%22%7D%29%3B%0A%0A%20%20%20%20%20%20%20%20%0A%20%20%20%20%20%20%20%20%20%20%20%20var%20html_83374fec40d94226b808d3bf82fd1892%20%3D%20%24%28%60%3Cdiv%20id%3D%22html_83374fec40d94226b808d3bf82fd1892%22%20style%3D%22width%3A%20100.0%25%3B%20height%3A%20100.0%25%3B%22%3E%D0%9D%D1%83%D1%80-%D0%A1%D1%83%D0%BB%D1%82%D0%B0%D0%BD%20%28%D0%90%D1%81%D1%82%D0%B0%D0%BD%D0%B0%29%2C%20%D0%95%D1%81%D0%B8%D0%BB%D1%8C%20%D1%80-%D0%BD%2C%20%D0%9511%3C/div%3E%60%29%5B0%5D%3B%0A%20%20%20%20%20%20%20%20%20%20%20%20popup_7d589075f27e4d7a884441ec2eb03beb.setContent%28html_83374fec40d94226b808d3bf82fd1892%29%3B%0A%20%20%20%20%20%20%20%20%0A%0A%20%20%20%20%20%20%20%20marker_15b566f095a24bcea00db857957a6247.bindPopup%28popup_7d589075f27e4d7a884441ec2eb03beb%29%0A%20%20%20%20%20%20%20%20%3B%0A%0A%20%20%20%20%20%20%20%20%0A%20%20%20%20%0A%20%20%20%20%0A%20%20%20%20%20%20%20%20%20%20%20%20var%20marker_ac219e6d550b45e2ad58cfd790199a00%20%3D%20L.marker%28%0A%20%20%20%20%20%20%20%20%20%20%20%20%20%20%20%20%5B71.429396%2C%2051.195503%5D%2C%0A%20%20%20%20%20%20%20%20%20%20%20%20%20%20%20%20%7B%7D%0A%20%20%20%20%20%20%20%20%20%20%20%20%29.addTo%28map_0372e994ccf64c4ea30594c13123a576%29%3B%0A%20%20%20%20%20%20%20%20%0A%20%20%20%20%0A%20%20%20%20%20%20%20%20var%20popup_91e8421245d74ee1a3de98447570262a%20%3D%20L.popup%28%7B%22maxWidth%22%3A%20%22100%25%22%7D%29%3B%0A%0A%20%20%20%20%20%20%20%20%0A%20%20%20%20%20%20%20%20%20%20%20%20var%20html_8cff483b488c47409fdd8c0d0b2d90bf%20%3D%20%24%28%60%3Cdiv%20id%3D%22html_8cff483b488c47409fdd8c0d0b2d90bf%22%20style%3D%22width%3A%20100.0%25%3B%20height%3A%20100.0%25%3B%22%3E%D0%9D%D1%83%D1%80-%D0%A1%D1%83%D0%BB%D1%82%D0%B0%D0%BD%20%28%D0%90%D1%81%D1%82%D0%B0%D0%BD%D0%B0%29%2C%20%D1%80-%D0%BD%20%D0%91%D0%B0%D0%B9%D0%BA%D0%BE%D0%BD%D1%83%D1%80%2C%20%D0%A2%D0%B5%D0%BB%D0%B6%D0%B0%D0%BD%20%D1%88%D0%BE%D0%BD%D0%B0%D0%BD%D1%83%D0%BB%D1%8B%2041%3C/div%3E%60%29%5B0%5D%3B%0A%20%20%20%20%20%20%20%20%20%20%20%20popup_91e8421245d74ee1a3de98447570262a.setContent%28html_8cff483b488c47409fdd8c0d0b2d90bf%29%3B%0A%20%20%20%20%20%20%20%20%0A%0A%20%20%20%20%20%20%20%20marker_ac219e6d550b45e2ad58cfd790199a00.bindPopup%28popup_91e8421245d74ee1a3de98447570262a%29%0A%20%20%20%20%20%20%20%20%3B%0A%0A%20%20%20%20%20%20%20%20%0A%20%20%20%20%0A%20%20%20%20%0A%20%20%20%20%20%20%20%20%20%20%20%20var%20marker_c72520fbb99e4e9ebf2e19fd289775b5%20%3D%20L.marker%28%0A%20%20%20%20%20%20%20%20%20%20%20%20%20%20%20%20%5B71.408172251884%2C%2051.177764209258%5D%2C%0A%20%20%20%20%20%20%20%20%20%20%20%20%20%20%20%20%7B%7D%0A%20%20%20%20%20%20%20%20%20%20%20%20%29.addTo%28map_0372e994ccf64c4ea30594c13123a576%29%3B%0A%20%20%20%20%20%20%20%20%0A%20%20%20%20%0A%20%20%20%20%20%20%20%20var%20popup_774de071b9da4faab2e407cd31d4e9b4%20%3D%20L.popup%28%7B%22maxWidth%22%3A%20%22100%25%22%7D%29%3B%0A%0A%20%20%20%20%20%20%20%20%0A%20%20%20%20%20%20%20%20%20%20%20%20var%20html_a4be87fc0b28448ab777105103f53185%20%3D%20%24%28%60%3Cdiv%20id%3D%22html_a4be87fc0b28448ab777105103f53185%22%20style%3D%22width%3A%20100.0%25%3B%20height%3A%20100.0%25%3B%22%3E%D0%9D%D1%83%D1%80-%D0%A1%D1%83%D0%BB%D1%82%D0%B0%D0%BD%20%28%D0%90%D1%81%D1%82%D0%B0%D0%BD%D0%B0%29%2C%20%D0%A1%D0%B0%D1%80%D1%8B%D0%B0%D1%80%D0%BA%D0%B0%20%D1%80-%D0%BD%2C%20%D0%A1%D0%B0%D1%80%D1%8B%D0%B0%D1%80%D0%BA%D0%B0%2048/2%20%E2%80%94%20%D0%9F%D0%BE%D0%B1%D0%B5%D0%B4%D1%8B%3C/div%3E%60%29%5B0%5D%3B%0A%20%20%20%20%20%20%20%20%20%20%20%20popup_774de071b9da4faab2e407cd31d4e9b4.setContent%28html_a4be87fc0b28448ab777105103f53185%29%3B%0A%20%20%20%20%20%20%20%20%0A%0A%20%20%20%20%20%20%20%20marker_c72520fbb99e4e9ebf2e19fd289775b5.bindPopup%28popup_774de071b9da4faab2e407cd31d4e9b4%29%0A%20%20%20%20%20%20%20%20%3B%0A%0A%20%20%20%20%20%20%20%20%0A%20%20%20%20%0A%20%20%20%20%0A%20%20%20%20%20%20%20%20%20%20%20%20var%20marker_75b3da0011c440a88667f8ace95f9f18%20%3D%20L.marker%28%0A%20%20%20%20%20%20%20%20%20%20%20%20%20%20%20%20%5B71.507043913007%2C%2051.15786547587%5D%2C%0A%20%20%20%20%20%20%20%20%20%20%20%20%20%20%20%20%7B%7D%0A%20%20%20%20%20%20%20%20%20%20%20%20%29.addTo%28map_0372e994ccf64c4ea30594c13123a576%29%3B%0A%20%20%20%20%20%20%20%20%0A%20%20%20%20%0A%20%20%20%20%20%20%20%20var%20popup_f60aa48d8523470e9b600147f64b2a54%20%3D%20L.popup%28%7B%22maxWidth%22%3A%20%22100%25%22%7D%29%3B%0A%0A%20%20%20%20%20%20%20%20%0A%20%20%20%20%20%20%20%20%20%20%20%20var%20html_84cb695ead844e1ea3ab98232ff23355%20%3D%20%24%28%60%3Cdiv%20id%3D%22html_84cb695ead844e1ea3ab98232ff23355%22%20style%3D%22width%3A%20100.0%25%3B%20height%3A%20100.0%25%3B%22%3E%D0%9D%D1%83%D1%80-%D0%A1%D1%83%D0%BB%D1%82%D0%B0%D0%BD%20%28%D0%90%D1%81%D1%82%D0%B0%D0%BD%D0%B0%29%2C%20%D0%90%D0%BB%D0%BC%D0%B0%D1%82%D1%8B%20%D1%80-%D0%BD%2C%20%D0%9C%D1%83%D1%81%D1%82%D0%B0%D1%84%D0%B8%D0%BD%D0%B0%2021/5-7%3C/div%3E%60%29%5B0%5D%3B%0A%20%20%20%20%20%20%20%20%20%20%20%20popup_f60aa48d8523470e9b600147f64b2a54.setContent%28html_84cb695ead844e1ea3ab98232ff23355%29%3B%0A%20%20%20%20%20%20%20%20%0A%0A%20%20%20%20%20%20%20%20marker_75b3da0011c440a88667f8ace95f9f18.bindPopup%28popup_f60aa48d8523470e9b600147f64b2a54%29%0A%20%20%20%20%20%20%20%20%3B%0A%0A%20%20%20%20%20%20%20%20%0A%20%20%20%20%0A%20%20%20%20%0A%20%20%20%20%20%20%20%20%20%20%20%20var%20marker_514713250c694197a0ec3b4e8b5b23f1%20%3D%20L.marker%28%0A%20%20%20%20%20%20%20%20%20%20%20%20%20%20%20%20%5B71.462881844491%2C%2051.118218642203%5D%2C%0A%20%20%20%20%20%20%20%20%20%20%20%20%20%20%20%20%7B%7D%0A%20%20%20%20%20%20%20%20%20%20%20%20%29.addTo%28map_0372e994ccf64c4ea30594c13123a576%29%3B%0A%20%20%20%20%20%20%20%20%0A%20%20%20%20%0A%20%20%20%20%20%20%20%20var%20popup_b59fdb202bed49bea9bc18ee875ef223%20%3D%20L.popup%28%7B%22maxWidth%22%3A%20%22100%25%22%7D%29%3B%0A%0A%20%20%20%20%20%20%20%20%0A%20%20%20%20%20%20%20%20%20%20%20%20var%20html_52cc434944454b33a24b3992353fa094%20%3D%20%24%28%60%3Cdiv%20id%3D%22html_52cc434944454b33a24b3992353fa094%22%20style%3D%22width%3A%20100.0%25%3B%20height%3A%20100.0%25%3B%22%3E%D0%9D%D1%83%D1%80-%D0%A1%D1%83%D0%BB%D1%82%D0%B0%D0%BD%20%28%D0%90%D1%81%D1%82%D0%B0%D0%BD%D0%B0%29%2C%20%D0%90%D0%BB%D0%BC%D0%B0%D1%82%D1%8B%20%D1%80-%D0%BD%2C%20%D0%9D%D0%B0%D0%B6%D0%B8%D0%BC%D0%B5%D0%B4%D0%B5%D0%BD%D0%BE%D0%B2%D0%B0%3C/div%3E%60%29%5B0%5D%3B%0A%20%20%20%20%20%20%20%20%20%20%20%20popup_b59fdb202bed49bea9bc18ee875ef223.setContent%28html_52cc434944454b33a24b3992353fa094%29%3B%0A%20%20%20%20%20%20%20%20%0A%0A%20%20%20%20%20%20%20%20marker_514713250c694197a0ec3b4e8b5b23f1.bindPopup%28popup_b59fdb202bed49bea9bc18ee875ef223%29%0A%20%20%20%20%20%20%20%20%3B%0A%0A%20%20%20%20%20%20%20%20%0A%20%20%20%20%0A%20%20%20%20%0A%20%20%20%20%20%20%20%20%20%20%20%20var%20marker_c1e2f042ecc74bf782de4ee832d524f8%20%3D%20L.marker%28%0A%20%20%20%20%20%20%20%20%20%20%20%20%20%20%20%20%5B71.362849%2C%2051.13114%5D%2C%0A%20%20%20%20%20%20%20%20%20%20%20%20%20%20%20%20%7B%7D%0A%20%20%20%20%20%20%20%20%20%20%20%20%29.addTo%28map_0372e994ccf64c4ea30594c13123a576%29%3B%0A%20%20%20%20%20%20%20%20%0A%20%20%20%20%0A%20%20%20%20%20%20%20%20var%20popup_015238f456f242d88e279797b9df0d97%20%3D%20L.popup%28%7B%22maxWidth%22%3A%20%22100%25%22%7D%29%3B%0A%0A%20%20%20%20%20%20%20%20%0A%20%20%20%20%20%20%20%20%20%20%20%20var%20html_18615847a3244a53b77c4077a312e3f5%20%3D%20%24%28%60%3Cdiv%20id%3D%22html_18615847a3244a53b77c4077a312e3f5%22%20style%3D%22width%3A%20100.0%25%3B%20height%3A%20100.0%25%3B%22%3E%D0%9D%D1%83%D1%80-%D0%A1%D1%83%D0%BB%D1%82%D0%B0%D0%BD%20%28%D0%90%D1%81%D1%82%D0%B0%D0%BD%D0%B0%29%2C%20%D0%95%D1%81%D0%B8%D0%BB%D1%8C%20%D1%80-%D0%BD%2C%20%D0%95-10%205%3C/div%3E%60%29%5B0%5D%3B%0A%20%20%20%20%20%20%20%20%20%20%20%20popup_015238f456f242d88e279797b9df0d97.setContent%28html_18615847a3244a53b77c4077a312e3f5%29%3B%0A%20%20%20%20%20%20%20%20%0A%0A%20%20%20%20%20%20%20%20marker_c1e2f042ecc74bf782de4ee832d524f8.bindPopup%28popup_015238f456f242d88e279797b9df0d97%29%0A%20%20%20%20%20%20%20%20%3B%0A%0A%20%20%20%20%20%20%20%20%0A%20%20%20%20%0A%20%20%20%20%0A%20%20%20%20%20%20%20%20%20%20%20%20var%20marker_ee80972e4ac34bd6a6798f14be45083f%20%3D%20L.marker%28%0A%20%20%20%20%20%20%20%20%20%20%20%20%20%20%20%20%5B71.377573013306%2C%2051.131622018946%5D%2C%0A%20%20%20%20%20%20%20%20%20%20%20%20%20%20%20%20%7B%7D%0A%20%20%20%20%20%20%20%20%20%20%20%20%29.addTo%28map_0372e994ccf64c4ea30594c13123a576%29%3B%0A%20%20%20%20%20%20%20%20%0A%20%20%20%20%0A%20%20%20%20%20%20%20%20var%20popup_c6458aa04e634dd7ac0ac14d2b56053a%20%3D%20L.popup%28%7B%22maxWidth%22%3A%20%22100%25%22%7D%29%3B%0A%0A%20%20%20%20%20%20%20%20%0A%20%20%20%20%20%20%20%20%20%20%20%20var%20html_8467be6d02174f5f8e1ad7adeeff98c7%20%3D%20%24%28%60%3Cdiv%20id%3D%22html_8467be6d02174f5f8e1ad7adeeff98c7%22%20style%3D%22width%3A%20100.0%25%3B%20height%3A%20100.0%25%3B%22%3E%D0%9D%D1%83%D1%80-%D0%A1%D1%83%D0%BB%D1%82%D0%B0%D0%BD%20%28%D0%90%D1%81%D1%82%D0%B0%D0%BD%D0%B0%29%2C%20%D0%95%D1%81%D0%B8%D0%BB%D1%8C%20%D1%80-%D0%BD%2C%20%D0%95-10%2011%3C/div%3E%60%29%5B0%5D%3B%0A%20%20%20%20%20%20%20%20%20%20%20%20popup_c6458aa04e634dd7ac0ac14d2b56053a.setContent%28html_8467be6d02174f5f8e1ad7adeeff98c7%29%3B%0A%20%20%20%20%20%20%20%20%0A%0A%20%20%20%20%20%20%20%20marker_ee80972e4ac34bd6a6798f14be45083f.bindPopup%28popup_c6458aa04e634dd7ac0ac14d2b56053a%29%0A%20%20%20%20%20%20%20%20%3B%0A%0A%20%20%20%20%20%20%20%20%0A%20%20%20%20%0A%20%20%20%20%0A%20%20%20%20%20%20%20%20%20%20%20%20var%20marker_8afef296fca0467b89e000f9d90602b5%20%3D%20L.marker%28%0A%20%20%20%20%20%20%20%20%20%20%20%20%20%20%20%20%5B71.368472%2C%2051.136544%5D%2C%0A%20%20%20%20%20%20%20%20%20%20%20%20%20%20%20%20%7B%7D%0A%20%20%20%20%20%20%20%20%20%20%20%20%29.addTo%28map_0372e994ccf64c4ea30594c13123a576%29%3B%0A%20%20%20%20%20%20%20%20%0A%20%20%20%20%0A%20%20%20%20%20%20%20%20var%20popup_6a34b44950e5414d886068f2b1cdf713%20%3D%20L.popup%28%7B%22maxWidth%22%3A%20%22100%25%22%7D%29%3B%0A%0A%20%20%20%20%20%20%20%20%0A%20%20%20%20%20%20%20%20%20%20%20%20var%20html_b5fc3d94a92d4b4a9f84ea43554a2d7c%20%3D%20%24%28%60%3Cdiv%20id%3D%22html_b5fc3d94a92d4b4a9f84ea43554a2d7c%22%20style%3D%22width%3A%20100.0%25%3B%20height%3A%20100.0%25%3B%22%3E%D0%9D%D1%83%D1%80-%D0%A1%D1%83%D0%BB%D1%82%D0%B0%D0%BD%20%28%D0%90%D1%81%D1%82%D0%B0%D0%BD%D0%B0%29%2C%20%D0%95%D1%81%D0%B8%D0%BB%D1%8C%20%D1%80-%D0%BD%2C%20%D0%98%D0%BB%D1%8C%D1%8F%D1%81%D0%B0%20%D0%9E%D0%BC%D0%B0%D1%80%D0%BE%D0%B2%D0%B0%3C/div%3E%60%29%5B0%5D%3B%0A%20%20%20%20%20%20%20%20%20%20%20%20popup_6a34b44950e5414d886068f2b1cdf713.setContent%28html_b5fc3d94a92d4b4a9f84ea43554a2d7c%29%3B%0A%20%20%20%20%20%20%20%20%0A%0A%20%20%20%20%20%20%20%20marker_8afef296fca0467b89e000f9d90602b5.bindPopup%28popup_6a34b44950e5414d886068f2b1cdf713%29%0A%20%20%20%20%20%20%20%20%3B%0A%0A%20%20%20%20%20%20%20%20%0A%20%20%20%20%0A%20%20%20%20%0A%20%20%20%20%20%20%20%20%20%20%20%20var%20marker_492e4803d04945d9a770b607dd4187ae%20%3D%20L.marker%28%0A%20%20%20%20%20%20%20%20%20%20%20%20%20%20%20%20%5B71.415688%2C%2051.187493%5D%2C%0A%20%20%20%20%20%20%20%20%20%20%20%20%20%20%20%20%7B%7D%0A%20%20%20%20%20%20%20%20%20%20%20%20%29.addTo%28map_0372e994ccf64c4ea30594c13123a576%29%3B%0A%20%20%20%20%20%20%20%20%0A%20%20%20%20%0A%20%20%20%20%20%20%20%20var%20popup_5d8a66b157d94259a87d2ba12389fd80%20%3D%20L.popup%28%7B%22maxWidth%22%3A%20%22100%25%22%7D%29%3B%0A%0A%20%20%20%20%20%20%20%20%0A%20%20%20%20%20%20%20%20%20%20%20%20var%20html_ff1ae0edd55e4e79a87b884f8046fa34%20%3D%20%24%28%60%3Cdiv%20id%3D%22html_ff1ae0edd55e4e79a87b884f8046fa34%22%20style%3D%22width%3A%20100.0%25%3B%20height%3A%20100.0%25%3B%22%3E%D0%9D%D1%83%D1%80-%D0%A1%D1%83%D0%BB%D1%82%D0%B0%D0%BD%20%28%D0%90%D1%81%D1%82%D0%B0%D0%BD%D0%B0%29%2C%20%D0%A1%D0%B0%D1%80%D1%8B%D0%B0%D1%80%D0%BA%D0%B0%20%D1%80-%D0%BD%2C%20%D0%91%D0%B5%D0%B9%D0%B1%D0%B8%D1%82%D1%88%D0%B8%D0%BB%D0%B8%D0%BA%3C/div%3E%60%29%5B0%5D%3B%0A%20%20%20%20%20%20%20%20%20%20%20%20popup_5d8a66b157d94259a87d2ba12389fd80.setContent%28html_ff1ae0edd55e4e79a87b884f8046fa34%29%3B%0A%20%20%20%20%20%20%20%20%0A%0A%20%20%20%20%20%20%20%20marker_492e4803d04945d9a770b607dd4187ae.bindPopup%28popup_5d8a66b157d94259a87d2ba12389fd80%29%0A%20%20%20%20%20%20%20%20%3B%0A%0A%20%20%20%20%20%20%20%20%0A%20%20%20%20%0A%20%20%20%20%0A%20%20%20%20%20%20%20%20%20%20%20%20var%20marker_7b2aef256b2042258ed22794cd1acfbd%20%3D%20L.marker%28%0A%20%20%20%20%20%20%20%20%20%20%20%20%20%20%20%20%5B71.491766%2C%2051.124691%5D%2C%0A%20%20%20%20%20%20%20%20%20%20%20%20%20%20%20%20%7B%7D%0A%20%20%20%20%20%20%20%20%20%20%20%20%29.addTo%28map_0372e994ccf64c4ea30594c13123a576%29%3B%0A%20%20%20%20%20%20%20%20%0A%20%20%20%20%0A%20%20%20%20%20%20%20%20var%20popup_86fdc0b2e8454441bd34acf322f68adf%20%3D%20L.popup%28%7B%22maxWidth%22%3A%20%22100%25%22%7D%29%3B%0A%0A%20%20%20%20%20%20%20%20%0A%20%20%20%20%20%20%20%20%20%20%20%20var%20html_dbace9a67d14484db4c3e9714b385879%20%3D%20%24%28%60%3Cdiv%20id%3D%22html_dbace9a67d14484db4c3e9714b385879%22%20style%3D%22width%3A%20100.0%25%3B%20height%3A%20100.0%25%3B%22%3E%D0%9D%D1%83%D1%80-%D0%A1%D1%83%D0%BB%D1%82%D0%B0%D0%BD%20%28%D0%90%D1%81%D1%82%D0%B0%D0%BD%D0%B0%29%2C%20%D0%90%D0%BB%D0%BC%D0%B0%D1%82%D1%8B%20%D1%80-%D0%BD%2C%20%D0%90%2098%201%3C/div%3E%60%29%5B0%5D%3B%0A%20%20%20%20%20%20%20%20%20%20%20%20popup_86fdc0b2e8454441bd34acf322f68adf.setContent%28html_dbace9a67d14484db4c3e9714b385879%29%3B%0A%20%20%20%20%20%20%20%20%0A%0A%20%20%20%20%20%20%20%20marker_7b2aef256b2042258ed22794cd1acfbd.bindPopup%28popup_86fdc0b2e8454441bd34acf322f68adf%29%0A%20%20%20%20%20%20%20%20%3B%0A%0A%20%20%20%20%20%20%20%20%0A%20%20%20%20%0A%20%20%20%20%0A%20%20%20%20%20%20%20%20%20%20%20%20var%20marker_ff3d97b56a10405188637767f5af0132%20%3D%20L.marker%28%0A%20%20%20%20%20%20%20%20%20%20%20%20%20%20%20%20%5B71.38917%2C%2051.171581%5D%2C%0A%20%20%20%20%20%20%20%20%20%20%20%20%20%20%20%20%7B%7D%0A%20%20%20%20%20%20%20%20%20%20%20%20%29.addTo%28map_0372e994ccf64c4ea30594c13123a576%29%3B%0A%20%20%20%20%20%20%20%20%0A%20%20%20%20%0A%20%20%20%20%20%20%20%20var%20popup_0a3a6195f03f412f925ec359ba11b46a%20%3D%20L.popup%28%7B%22maxWidth%22%3A%20%22100%25%22%7D%29%3B%0A%0A%20%20%20%20%20%20%20%20%0A%20%20%20%20%20%20%20%20%20%20%20%20var%20html_637cdf63f5cc417c87de7557ae2fe102%20%3D%20%24%28%60%3Cdiv%20id%3D%22html_637cdf63f5cc417c87de7557ae2fe102%22%20style%3D%22width%3A%20100.0%25%3B%20height%3A%20100.0%25%3B%22%3E%D0%9D%D1%83%D1%80-%D0%A1%D1%83%D0%BB%D1%82%D0%B0%D0%BD%20%28%D0%90%D1%81%D1%82%D0%B0%D0%BD%D0%B0%29%2C%20%D0%A1%D0%B0%D1%80%D1%8B%D0%B0%D1%80%D0%BA%D0%B0%20%D1%80-%D0%BD%2C%20%D0%9A%D0%BE%D1%81%D1%88%D1%8B%D0%B3%D1%83%D0%B3%D1%83%D0%BB%D1%8B%20%E2%80%94%20%D0%A1%D0%B0%D0%BA%D0%B5%D0%BD%D0%B0%20%D0%A1%D0%B5%D0%B9%D1%84%D1%83%D0%BB%D0%BB%D0%B8%D0%BD%D0%B0%3C/div%3E%60%29%5B0%5D%3B%0A%20%20%20%20%20%20%20%20%20%20%20%20popup_0a3a6195f03f412f925ec359ba11b46a.setContent%28html_637cdf63f5cc417c87de7557ae2fe102%29%3B%0A%20%20%20%20%20%20%20%20%0A%0A%20%20%20%20%20%20%20%20marker_ff3d97b56a10405188637767f5af0132.bindPopup%28popup_0a3a6195f03f412f925ec359ba11b46a%29%0A%20%20%20%20%20%20%20%20%3B%0A%0A%20%20%20%20%20%20%20%20%0A%20%20%20%20%0A%20%20%20%20%0A%20%20%20%20%20%20%20%20%20%20%20%20var%20marker_e355ee02d9ee476db07bce160e503632%20%3D%20L.marker%28%0A%20%20%20%20%20%20%20%20%20%20%20%20%20%20%20%20%5B71.393830932541%2C%2051.179546334274%5D%2C%0A%20%20%20%20%20%20%20%20%20%20%20%20%20%20%20%20%7B%7D%0A%20%20%20%20%20%20%20%20%20%20%20%20%29.addTo%28map_0372e994ccf64c4ea30594c13123a576%29%3B%0A%20%20%20%20%20%20%20%20%0A%20%20%20%20%0A%20%20%20%20%20%20%20%20var%20popup_08c5a7c00de943b99400ad883daed890%20%3D%20L.popup%28%7B%22maxWidth%22%3A%20%22100%25%22%7D%29%3B%0A%0A%20%20%20%20%20%20%20%20%0A%20%20%20%20%20%20%20%20%20%20%20%20var%20html_409f0308e05a40b3a37afc5c69e18316%20%3D%20%24%28%60%3Cdiv%20id%3D%22html_409f0308e05a40b3a37afc5c69e18316%22%20style%3D%22width%3A%20100.0%25%3B%20height%3A%20100.0%25%3B%22%3E%D0%9D%D1%83%D1%80-%D0%A1%D1%83%D0%BB%D1%82%D0%B0%D0%BD%20%28%D0%90%D1%81%D1%82%D0%B0%D0%BD%D0%B0%29%2C%20%D0%A1%D0%B0%D1%80%D1%8B%D0%B0%D1%80%D0%BA%D0%B0%20%D1%80-%D0%BD%2C%20%D0%9C%D0%B0%D1%81%D0%BA%D0%B5%D1%83%3C/div%3E%60%29%5B0%5D%3B%0A%20%20%20%20%20%20%20%20%20%20%20%20popup_08c5a7c00de943b99400ad883daed890.setContent%28html_409f0308e05a40b3a37afc5c69e18316%29%3B%0A%20%20%20%20%20%20%20%20%0A%0A%20%20%20%20%20%20%20%20marker_e355ee02d9ee476db07bce160e503632.bindPopup%28popup_08c5a7c00de943b99400ad883daed890%29%0A%20%20%20%20%20%20%20%20%3B%0A%0A%20%20%20%20%20%20%20%20%0A%20%20%20%20%0A%20%20%20%20%0A%20%20%20%20%20%20%20%20%20%20%20%20var%20marker_b9e5bb4837104d629104d1d6be60aff9%20%3D%20L.marker%28%0A%20%20%20%20%20%20%20%20%20%20%20%20%20%20%20%20%5B71.419682581136%2C%2051.059703527386%5D%2C%0A%20%20%20%20%20%20%20%20%20%20%20%20%20%20%20%20%7B%7D%0A%20%20%20%20%20%20%20%20%20%20%20%20%29.addTo%28map_0372e994ccf64c4ea30594c13123a576%29%3B%0A%20%20%20%20%20%20%20%20%0A%20%20%20%20%0A%20%20%20%20%20%20%20%20var%20popup_8db743eaa41946c695ce772762cba7de%20%3D%20L.popup%28%7B%22maxWidth%22%3A%20%22100%25%22%7D%29%3B%0A%0A%20%20%20%20%20%20%20%20%0A%20%20%20%20%20%20%20%20%20%20%20%20var%20html_95874a31d45c4776adedff1dd7dd65c2%20%3D%20%24%28%60%3Cdiv%20id%3D%22html_95874a31d45c4776adedff1dd7dd65c2%22%20style%3D%22width%3A%20100.0%25%3B%20height%3A%20100.0%25%3B%22%3E%D0%9D%D1%83%D1%80-%D0%A1%D1%83%D0%BB%D1%82%D0%B0%D0%BD%20%28%D0%90%D1%81%D1%82%D0%B0%D0%BD%D0%B0%29%2C%20%D0%95%D1%81%D0%B8%D0%BB%D1%8C%20%D1%80-%D0%BD%2C%20%D0%95652%3C/div%3E%60%29%5B0%5D%3B%0A%20%20%20%20%20%20%20%20%20%20%20%20popup_8db743eaa41946c695ce772762cba7de.setContent%28html_95874a31d45c4776adedff1dd7dd65c2%29%3B%0A%20%20%20%20%20%20%20%20%0A%0A%20%20%20%20%20%20%20%20marker_b9e5bb4837104d629104d1d6be60aff9.bindPopup%28popup_8db743eaa41946c695ce772762cba7de%29%0A%20%20%20%20%20%20%20%20%3B%0A%0A%20%20%20%20%20%20%20%20%0A%20%20%20%20%0A%20%20%20%20%0A%20%20%20%20%20%20%20%20%20%20%20%20var%20marker_04b6a0200a2f4e5282629946918d623d%20%3D%20L.marker%28%0A%20%20%20%20%20%20%20%20%20%20%20%20%20%20%20%20%5B71.445667108783%2C%2051.093480638808%5D%2C%0A%20%20%20%20%20%20%20%20%20%20%20%20%20%20%20%20%7B%7D%0A%20%20%20%20%20%20%20%20%20%20%20%20%29.addTo%28map_0372e994ccf64c4ea30594c13123a576%29%3B%0A%20%20%20%20%20%20%20%20%0A%20%20%20%20%0A%20%20%20%20%20%20%20%20var%20popup_425398d89ae74517b4a6ff2fee145d81%20%3D%20L.popup%28%7B%22maxWidth%22%3A%20%22100%25%22%7D%29%3B%0A%0A%20%20%20%20%20%20%20%20%0A%20%20%20%20%20%20%20%20%20%20%20%20var%20html_52b6c5572bb042e4ab5bb8cdd000034d%20%3D%20%24%28%60%3Cdiv%20id%3D%22html_52b6c5572bb042e4ab5bb8cdd000034d%22%20style%3D%22width%3A%20100.0%25%3B%20height%3A%20100.0%25%3B%22%3E%D0%9D%D1%83%D1%80-%D0%A1%D1%83%D0%BB%D1%82%D0%B0%D0%BD%20%28%D0%90%D1%81%D1%82%D0%B0%D0%BD%D0%B0%29%2C%20%D0%95%D1%81%D0%B8%D0%BB%D1%8C%20%D1%80-%D0%BD%2C%20%D0%95-356%206%3C/div%3E%60%29%5B0%5D%3B%0A%20%20%20%20%20%20%20%20%20%20%20%20popup_425398d89ae74517b4a6ff2fee145d81.setContent%28html_52b6c5572bb042e4ab5bb8cdd000034d%29%3B%0A%20%20%20%20%20%20%20%20%0A%0A%20%20%20%20%20%20%20%20marker_04b6a0200a2f4e5282629946918d623d.bindPopup%28popup_425398d89ae74517b4a6ff2fee145d81%29%0A%20%20%20%20%20%20%20%20%3B%0A%0A%20%20%20%20%20%20%20%20%0A%20%20%20%20%0A%20%20%20%20%0A%20%20%20%20%20%20%20%20%20%20%20%20var%20marker_7a5ea6f7a1b94d309aa80b73031f62b5%20%3D%20L.marker%28%0A%20%20%20%20%20%20%20%20%20%20%20%20%20%20%20%20%5B71.433627%2C%2051.157241%5D%2C%0A%20%20%20%20%20%20%20%20%20%20%20%20%20%20%20%20%7B%7D%0A%20%20%20%20%20%20%20%20%20%20%20%20%29.addTo%28map_0372e994ccf64c4ea30594c13123a576%29%3B%0A%20%20%20%20%20%20%20%20%0A%20%20%20%20%0A%20%20%20%20%20%20%20%20var%20popup_b4e8ab2920664e31ab1f52e6c2f1779c%20%3D%20L.popup%28%7B%22maxWidth%22%3A%20%22100%25%22%7D%29%3B%0A%0A%20%20%20%20%20%20%20%20%0A%20%20%20%20%20%20%20%20%20%20%20%20var%20html_0001cf51add34d56b6942f25bdbefc5a%20%3D%20%24%28%60%3Cdiv%20id%3D%22html_0001cf51add34d56b6942f25bdbefc5a%22%20style%3D%22width%3A%20100.0%25%3B%20height%3A%20100.0%25%3B%22%3E%D0%9D%D1%83%D1%80-%D0%A1%D1%83%D0%BB%D1%82%D0%B0%D0%BD%20%28%D0%90%D1%81%D1%82%D0%B0%D0%BD%D0%B0%29%2C%20%D1%80-%D0%BD%20%D0%91%D0%B0%D0%B9%D0%BA%D0%BE%D0%BD%D1%83%D1%80%2C%20%D0%91%D0%B0%D1%80%D0%B0%D0%B5%D0%B2%D0%B0%205%20%E2%80%94%20%D0%BF%D1%80%D0%BE%D1%81%D0%BF%D0%B5%D0%BA%D1%82%20%D0%A0%D0%B5%D1%81%D0%BF%D1%83%D0%B1%D0%BB%D0%B8%D0%BA%D0%B8%3C/div%3E%60%29%5B0%5D%3B%0A%20%20%20%20%20%20%20%20%20%20%20%20popup_b4e8ab2920664e31ab1f52e6c2f1779c.setContent%28html_0001cf51add34d56b6942f25bdbefc5a%29%3B%0A%20%20%20%20%20%20%20%20%0A%0A%20%20%20%20%20%20%20%20marker_7a5ea6f7a1b94d309aa80b73031f62b5.bindPopup%28popup_b4e8ab2920664e31ab1f52e6c2f1779c%29%0A%20%20%20%20%20%20%20%20%3B%0A%0A%20%20%20%20%20%20%20%20%0A%20%20%20%20%0A%20%20%20%20%0A%20%20%20%20%20%20%20%20%20%20%20%20var%20marker_3f105d3c53244fff892c4b4dca840ce2%20%3D%20L.marker%28%0A%20%20%20%20%20%20%20%20%20%20%20%20%20%20%20%20%5B71.432801%2C%2051.114367%5D%2C%0A%20%20%20%20%20%20%20%20%20%20%20%20%20%20%20%20%7B%7D%0A%20%20%20%20%20%20%20%20%20%20%20%20%29.addTo%28map_0372e994ccf64c4ea30594c13123a576%29%3B%0A%20%20%20%20%20%20%20%20%0A%20%20%20%20%0A%20%20%20%20%20%20%20%20var%20popup_8c7f1706327b4c389036e25922b264d4%20%3D%20L.popup%28%7B%22maxWidth%22%3A%20%22100%25%22%7D%29%3B%0A%0A%20%20%20%20%20%20%20%20%0A%20%20%20%20%20%20%20%20%20%20%20%20var%20html_881f3f18c96e41a3ad2a1ca4d614925b%20%3D%20%24%28%60%3Cdiv%20id%3D%22html_881f3f18c96e41a3ad2a1ca4d614925b%22%20style%3D%22width%3A%20100.0%25%3B%20height%3A%20100.0%25%3B%22%3E%D0%9D%D1%83%D1%80-%D0%A1%D1%83%D0%BB%D1%82%D0%B0%D0%BD%20%28%D0%90%D1%81%D1%82%D0%B0%D0%BD%D0%B0%29%2C%20%D0%95%D1%81%D0%B8%D0%BB%D1%8C%20%D1%80-%D0%BD%2C%20%D0%9C%D0%B0%D0%BD%D0%B3%D0%B8%D0%BB%D0%B8%D0%BA%20%D0%B5%D0%BB%2019%20%E2%80%94%20%D0%90%D0%BB%D0%BC%D0%B0%D1%82%D1%8B%3C/div%3E%60%29%5B0%5D%3B%0A%20%20%20%20%20%20%20%20%20%20%20%20popup_8c7f1706327b4c389036e25922b264d4.setContent%28html_881f3f18c96e41a3ad2a1ca4d614925b%29%3B%0A%20%20%20%20%20%20%20%20%0A%0A%20%20%20%20%20%20%20%20marker_3f105d3c53244fff892c4b4dca840ce2.bindPopup%28popup_8c7f1706327b4c389036e25922b264d4%29%0A%20%20%20%20%20%20%20%20%3B%0A%0A%20%20%20%20%20%20%20%20%0A%20%20%20%20%0A%20%20%20%20%0A%20%20%20%20%20%20%20%20%20%20%20%20var%20marker_7e5901a5973f4e3f8d2c75112388f749%20%3D%20L.marker%28%0A%20%20%20%20%20%20%20%20%20%20%20%20%20%20%20%20%5B71.435667721182%2C%2051.099520493571%5D%2C%0A%20%20%20%20%20%20%20%20%20%20%20%20%20%20%20%20%7B%7D%0A%20%20%20%20%20%20%20%20%20%20%20%20%29.addTo%28map_0372e994ccf64c4ea30594c13123a576%29%3B%0A%20%20%20%20%20%20%20%20%0A%20%20%20%20%0A%20%20%20%20%20%20%20%20var%20popup_3368947295ef4ce88955653a0629ced0%20%3D%20L.popup%28%7B%22maxWidth%22%3A%20%22100%25%22%7D%29%3B%0A%0A%20%20%20%20%20%20%20%20%0A%20%20%20%20%20%20%20%20%20%20%20%20var%20html_eb3902f4f6d244bf8d3041d8e3a9c313%20%3D%20%24%28%60%3Cdiv%20id%3D%22html_eb3902f4f6d244bf8d3041d8e3a9c313%22%20style%3D%22width%3A%20100.0%25%3B%20height%3A%20100.0%25%3B%22%3E%D0%9D%D1%83%D1%80-%D0%A1%D1%83%D0%BB%D1%82%D0%B0%D0%BD%20%28%D0%90%D1%81%D1%82%D0%B0%D0%BD%D0%B0%29%2C%20%D0%95%D1%81%D0%B8%D0%BB%D1%8C%20%D1%80-%D0%BD%2C%20%D0%90%D0%BB%D0%B8%D1%85%D0%B0%D0%BD%D0%B0%20%D0%91%D0%BE%D0%BA%D0%B5%D0%B9%D1%85%D0%B0%D0%BD%D0%BE%D0%B2%D0%B0%2030/1%20%E2%80%94%20%D0%91%D1%83%D1%85%D0%B0%D1%80%20%D0%96%D1%8B%D1%80%D0%B0%D1%83%3C/div%3E%60%29%5B0%5D%3B%0A%20%20%20%20%20%20%20%20%20%20%20%20popup_3368947295ef4ce88955653a0629ced0.setContent%28html_eb3902f4f6d244bf8d3041d8e3a9c313%29%3B%0A%20%20%20%20%20%20%20%20%0A%0A%20%20%20%20%20%20%20%20marker_7e5901a5973f4e3f8d2c75112388f749.bindPopup%28popup_3368947295ef4ce88955653a0629ced0%29%0A%20%20%20%20%20%20%20%20%3B%0A%0A%20%20%20%20%20%20%20%20%0A%20%20%20%20%0A%20%20%20%20%0A%20%20%20%20%20%20%20%20%20%20%20%20var%20marker_f09a9459fbc54d48a7e90713565bfc9f%20%3D%20L.marker%28%0A%20%20%20%20%20%20%20%20%20%20%20%20%20%20%20%20%5B71.509936855795%2C%2051.157052265223%5D%2C%0A%20%20%20%20%20%20%20%20%20%20%20%20%20%20%20%20%7B%7D%0A%20%20%20%20%20%20%20%20%20%20%20%20%29.addTo%28map_0372e994ccf64c4ea30594c13123a576%29%3B%0A%20%20%20%20%20%20%20%20%0A%20%20%20%20%0A%20%20%20%20%20%20%20%20var%20popup_e86310597f1d4589aa9755a2476b9362%20%3D%20L.popup%28%7B%22maxWidth%22%3A%20%22100%25%22%7D%29%3B%0A%0A%20%20%20%20%20%20%20%20%0A%20%20%20%20%20%20%20%20%20%20%20%20var%20html_9f98332209d845ceaa69fd3c53dd5f1c%20%3D%20%24%28%60%3Cdiv%20id%3D%22html_9f98332209d845ceaa69fd3c53dd5f1c%22%20style%3D%22width%3A%20100.0%25%3B%20height%3A%20100.0%25%3B%22%3E%D0%9D%D1%83%D1%80-%D0%A1%D1%83%D0%BB%D1%82%D0%B0%D0%BD%20%28%D0%90%D1%81%D1%82%D0%B0%D0%BD%D0%B0%29%2C%20%D0%90%D0%BB%D0%BC%D0%B0%D1%82%D1%8B%20%D1%80-%D0%BD%2C%20%D0%9C%D1%83%D1%81%D1%82%D0%B0%D1%84%D0%B8%D0%BD%D0%B0%2021/1-4%3C/div%3E%60%29%5B0%5D%3B%0A%20%20%20%20%20%20%20%20%20%20%20%20popup_e86310597f1d4589aa9755a2476b9362.setContent%28html_9f98332209d845ceaa69fd3c53dd5f1c%29%3B%0A%20%20%20%20%20%20%20%20%0A%0A%20%20%20%20%20%20%20%20marker_f09a9459fbc54d48a7e90713565bfc9f.bindPopup%28popup_e86310597f1d4589aa9755a2476b9362%29%0A%20%20%20%20%20%20%20%20%3B%0A%0A%20%20%20%20%20%20%20%20%0A%20%20%20%20%0A%20%20%20%20%0A%20%20%20%20%20%20%20%20%20%20%20%20var%20marker_f9e695cbbfca4f089c337c58f9785fcf%20%3D%20L.marker%28%0A%20%20%20%20%20%20%20%20%20%20%20%20%20%20%20%20%5B71.476773%2C%2051.154546%5D%2C%0A%20%20%20%20%20%20%20%20%20%20%20%20%20%20%20%20%7B%7D%0A%20%20%20%20%20%20%20%20%20%20%20%20%29.addTo%28map_0372e994ccf64c4ea30594c13123a576%29%3B%0A%20%20%20%20%20%20%20%20%0A%20%20%20%20%0A%20%20%20%20%20%20%20%20var%20popup_608f3e88fa5d498380a3a77eed335130%20%3D%20L.popup%28%7B%22maxWidth%22%3A%20%22100%25%22%7D%29%3B%0A%0A%20%20%20%20%20%20%20%20%0A%20%20%20%20%20%20%20%20%20%20%20%20var%20html_7fc2a0680e704d33a1e50f717abe40ae%20%3D%20%24%28%60%3Cdiv%20id%3D%22html_7fc2a0680e704d33a1e50f717abe40ae%22%20style%3D%22width%3A%20100.0%25%3B%20height%3A%20100.0%25%3B%22%3E%D0%9D%D1%83%D1%80-%D0%A1%D1%83%D0%BB%D1%82%D0%B0%D0%BD%20%28%D0%90%D1%81%D1%82%D0%B0%D0%BD%D0%B0%29%2C%20%D0%90%D0%BB%D0%BC%D0%B0%D1%82%D1%8B%20%D1%80-%D0%BD%2C%20%D0%96%D1%83%D0%BC%D0%B0%D0%B1%D0%B0%D0%B5%D0%B2%D0%B0%203/1%20%E2%80%94%20%D0%9A%D0%B0%D0%B6%D1%8B%D0%BC%D1%83%D0%BA%D0%B0%D0%BD%D0%B0%2C%20%D0%BF%D0%B5%D1%82%D1%80%D0%BE%D0%B2%D0%B0%3C/div%3E%60%29%5B0%5D%3B%0A%20%20%20%20%20%20%20%20%20%20%20%20popup_608f3e88fa5d498380a3a77eed335130.setContent%28html_7fc2a0680e704d33a1e50f717abe40ae%29%3B%0A%20%20%20%20%20%20%20%20%0A%0A%20%20%20%20%20%20%20%20marker_f9e695cbbfca4f089c337c58f9785fcf.bindPopup%28popup_608f3e88fa5d498380a3a77eed335130%29%0A%20%20%20%20%20%20%20%20%3B%0A%0A%20%20%20%20%20%20%20%20%0A%20%20%20%20%0A%20%20%20%20%0A%20%20%20%20%20%20%20%20%20%20%20%20var%20marker_d3c91ff351b84ecb83076b71bb3d63c5%20%3D%20L.marker%28%0A%20%20%20%20%20%20%20%20%20%20%20%20%20%20%20%20%5B71.491434%2C%2051.128054%5D%2C%0A%20%20%20%20%20%20%20%20%20%20%20%20%20%20%20%20%7B%7D%0A%20%20%20%20%20%20%20%20%20%20%20%20%29.addTo%28map_0372e994ccf64c4ea30594c13123a576%29%3B%0A%20%20%20%20%20%20%20%20%0A%20%20%20%20%0A%20%20%20%20%20%20%20%20var%20popup_94669435b9f8413fbfa05524fcf021eb%20%3D%20L.popup%28%7B%22maxWidth%22%3A%20%22100%25%22%7D%29%3B%0A%0A%20%20%20%20%20%20%20%20%0A%20%20%20%20%20%20%20%20%20%20%20%20var%20html_12fe8276090c424794584914b226d008%20%3D%20%24%28%60%3Cdiv%20id%3D%22html_12fe8276090c424794584914b226d008%22%20style%3D%22width%3A%20100.0%25%3B%20height%3A%20100.0%25%3B%22%3E%D0%9D%D1%83%D1%80-%D0%A1%D1%83%D0%BB%D1%82%D0%B0%D0%BD%20%28%D0%90%D1%81%D1%82%D0%B0%D0%BD%D0%B0%29%2C%20%D0%90%D0%BB%D0%BC%D0%B0%D1%82%D1%8B%20%D1%80-%D0%BD%2C%20%D0%BF%D1%80%D0%BE%D1%81%D0%BF%D0%B5%D0%BA%D1%82%20%D0%A0%D0%B0%D1%85%D0%B8%D0%BC%D0%B6%D0%B0%D0%BD%D0%B0%20%D0%9A%D0%BE%D1%88%D0%BA%D0%B0%D1%80%D0%B1%D0%B0%D0%B5%D0%B2%D0%B0%2029%3C/div%3E%60%29%5B0%5D%3B%0A%20%20%20%20%20%20%20%20%20%20%20%20popup_94669435b9f8413fbfa05524fcf021eb.setContent%28html_12fe8276090c424794584914b226d008%29%3B%0A%20%20%20%20%20%20%20%20%0A%0A%20%20%20%20%20%20%20%20marker_d3c91ff351b84ecb83076b71bb3d63c5.bindPopup%28popup_94669435b9f8413fbfa05524fcf021eb%29%0A%20%20%20%20%20%20%20%20%3B%0A%0A%20%20%20%20%20%20%20%20%0A%20%20%20%20%0A%20%20%20%20%0A%20%20%20%20%20%20%20%20%20%20%20%20var%20marker_87d20726a85440bfb771b85a168fd88c%20%3D%20L.marker%28%0A%20%20%20%20%20%20%20%20%20%20%20%20%20%20%20%20%5B71.352084914783%2C%2051.155101530578%5D%2C%0A%20%20%20%20%20%20%20%20%20%20%20%20%20%20%20%20%7B%7D%0A%20%20%20%20%20%20%20%20%20%20%20%20%29.addTo%28map_0372e994ccf64c4ea30594c13123a576%29%3B%0A%20%20%20%20%20%20%20%20%0A%20%20%20%20%0A%20%20%20%20%20%20%20%20var%20popup_49cc2d45e1e2492283b81c2178a33d2c%20%3D%20L.popup%28%7B%22maxWidth%22%3A%20%22100%25%22%7D%29%3B%0A%0A%20%20%20%20%20%20%20%20%0A%20%20%20%20%20%20%20%20%20%20%20%20var%20html_b26104389f3e4048b8a2de037662fc93%20%3D%20%24%28%60%3Cdiv%20id%3D%22html_b26104389f3e4048b8a2de037662fc93%22%20style%3D%22width%3A%20100.0%25%3B%20height%3A%20100.0%25%3B%22%3E%D0%9D%D1%83%D1%80-%D0%A1%D1%83%D0%BB%D1%82%D0%B0%D0%BD%20%28%D0%90%D1%81%D1%82%D0%B0%D0%BD%D0%B0%29%2C%20%D0%95%D1%81%D0%B8%D0%BB%D1%8C%20%D1%80-%D0%BD%2C%20%D0%9A%D0%BE%D1%80%D0%B3%D0%B0%D0%BB%D0%B6%D1%8B%D0%BD%D1%81%D0%BA%D0%BE%D0%B5%20%D1%88%D0%BE%D1%81%D1%81%D0%B5%2016%D0%B1%3C/div%3E%60%29%5B0%5D%3B%0A%20%20%20%20%20%20%20%20%20%20%20%20popup_49cc2d45e1e2492283b81c2178a33d2c.setContent%28html_b26104389f3e4048b8a2de037662fc93%29%3B%0A%20%20%20%20%20%20%20%20%0A%0A%20%20%20%20%20%20%20%20marker_87d20726a85440bfb771b85a168fd88c.bindPopup%28popup_49cc2d45e1e2492283b81c2178a33d2c%29%0A%20%20%20%20%20%20%20%20%3B%0A%0A%20%20%20%20%20%20%20%20%0A%20%20%20%20%0A%20%20%20%20%0A%20%20%20%20%20%20%20%20%20%20%20%20var%20marker_03cacc2f9baf4cd0b0f819fb5e596fc3%20%3D%20L.marker%28%0A%20%20%20%20%20%20%20%20%20%20%20%20%20%20%20%20%5B71.485559%2C%2051.155608%5D%2C%0A%20%20%20%20%20%20%20%20%20%20%20%20%20%20%20%20%7B%7D%0A%20%20%20%20%20%20%20%20%20%20%20%20%29.addTo%28map_0372e994ccf64c4ea30594c13123a576%29%3B%0A%20%20%20%20%20%20%20%20%0A%20%20%20%20%0A%20%20%20%20%20%20%20%20var%20popup_3c9b6db7c8504c22b510533fe82c706a%20%3D%20L.popup%28%7B%22maxWidth%22%3A%20%22100%25%22%7D%29%3B%0A%0A%20%20%20%20%20%20%20%20%0A%20%20%20%20%20%20%20%20%20%20%20%20var%20html_9c6278adf499465884b9ba17e092150e%20%3D%20%24%28%60%3Cdiv%20id%3D%22html_9c6278adf499465884b9ba17e092150e%22%20style%3D%22width%3A%20100.0%25%3B%20height%3A%20100.0%25%3B%22%3E%D0%9D%D1%83%D1%80-%D0%A1%D1%83%D0%BB%D1%82%D0%B0%D0%BD%20%28%D0%90%D1%81%D1%82%D0%B0%D0%BD%D0%B0%29%2C%20%D0%90%D0%BB%D0%BC%D0%B0%D1%82%D1%8B%20%D1%80-%D0%BD%2C%20%D0%90%D0%B1%D1%8B%D0%BB%D0%B0%D0%B9-%D1%85%D0%B0%D0%BD%D0%B0%2029/1%20%E2%80%94%20%D0%9C%D0%B0%D0%BD%D0%B0%D1%81%D0%B0%3C/div%3E%60%29%5B0%5D%3B%0A%20%20%20%20%20%20%20%20%20%20%20%20popup_3c9b6db7c8504c22b510533fe82c706a.setContent%28html_9c6278adf499465884b9ba17e092150e%29%3B%0A%20%20%20%20%20%20%20%20%0A%0A%20%20%20%20%20%20%20%20marker_03cacc2f9baf4cd0b0f819fb5e596fc3.bindPopup%28popup_3c9b6db7c8504c22b510533fe82c706a%29%0A%20%20%20%20%20%20%20%20%3B%0A%0A%20%20%20%20%20%20%20%20%0A%20%20%20%20%0A%20%20%20%20%0A%20%20%20%20%20%20%20%20%20%20%20%20var%20marker_9c8b4bd64b524ce59c50c2c1cbb59723%20%3D%20L.marker%28%0A%20%20%20%20%20%20%20%20%20%20%20%20%20%20%20%20%5B71.477168%2C%2051.138691%5D%2C%0A%20%20%20%20%20%20%20%20%20%20%20%20%20%20%20%20%7B%7D%0A%20%20%20%20%20%20%20%20%20%20%20%20%29.addTo%28map_0372e994ccf64c4ea30594c13123a576%29%3B%0A%20%20%20%20%20%20%20%20%0A%20%20%20%20%0A%20%20%20%20%20%20%20%20var%20popup_dea943029dde46a4b91adf9364ab471b%20%3D%20L.popup%28%7B%22maxWidth%22%3A%20%22100%25%22%7D%29%3B%0A%0A%20%20%20%20%20%20%20%20%0A%20%20%20%20%20%20%20%20%20%20%20%20var%20html_41643be8b7f24e59b5c63840964bcb33%20%3D%20%24%28%60%3Cdiv%20id%3D%22html_41643be8b7f24e59b5c63840964bcb33%22%20style%3D%22width%3A%20100.0%25%3B%20height%3A%20100.0%25%3B%22%3E%D0%9D%D1%83%D1%80-%D0%A1%D1%83%D0%BB%D1%82%D0%B0%D0%BD%20%28%D0%90%D1%81%D1%82%D0%B0%D0%BD%D0%B0%29%2C%20%D0%90%D0%BB%D0%BC%D0%B0%D1%82%D1%8B%20%D1%80-%D0%BD%2C%20%D0%91%D0%B0%D1%83%D1%8B%D1%80%D0%B6%D0%B0%D0%BD%20%D0%9C%D0%BE%D0%BC%D1%8B%D1%88%D1%83%D0%BB%D1%8B%2010/2%3C/div%3E%60%29%5B0%5D%3B%0A%20%20%20%20%20%20%20%20%20%20%20%20popup_dea943029dde46a4b91adf9364ab471b.setContent%28html_41643be8b7f24e59b5c63840964bcb33%29%3B%0A%20%20%20%20%20%20%20%20%0A%0A%20%20%20%20%20%20%20%20marker_9c8b4bd64b524ce59c50c2c1cbb59723.bindPopup%28popup_dea943029dde46a4b91adf9364ab471b%29%0A%20%20%20%20%20%20%20%20%3B%0A%0A%20%20%20%20%20%20%20%20%0A%20%20%20%20%0A%20%20%20%20%0A%20%20%20%20%20%20%20%20%20%20%20%20var%20marker_af8e1ddf62dc42198645a9ac237c4989%20%3D%20L.marker%28%0A%20%20%20%20%20%20%20%20%20%20%20%20%20%20%20%20%5B71.516438564913%2C%2051.11947113596%5D%2C%0A%20%20%20%20%20%20%20%20%20%20%20%20%20%20%20%20%7B%7D%0A%20%20%20%20%20%20%20%20%20%20%20%20%29.addTo%28map_0372e994ccf64c4ea30594c13123a576%29%3B%0A%20%20%20%20%20%20%20%20%0A%20%20%20%20%0A%20%20%20%20%20%20%20%20var%20popup_72eb70f3438f4d409eace85bfb19f01d%20%3D%20L.popup%28%7B%22maxWidth%22%3A%20%22100%25%22%7D%29%3B%0A%0A%20%20%20%20%20%20%20%20%0A%20%20%20%20%20%20%20%20%20%20%20%20var%20html_400f863b42c24d2ba0057aa944919db6%20%3D%20%24%28%60%3Cdiv%20id%3D%22html_400f863b42c24d2ba0057aa944919db6%22%20style%3D%22width%3A%20100.0%25%3B%20height%3A%20100.0%25%3B%22%3E%D0%9D%D1%83%D1%80-%D0%A1%D1%83%D0%BB%D1%82%D0%B0%D0%BD%20%28%D0%90%D1%81%D1%82%D0%B0%D0%BD%D0%B0%29%2C%20%D0%90%D0%BB%D0%BC%D0%B0%D1%82%D1%8B%20%D1%80-%D0%BD%2C%20%D0%91%D0%B0%D0%B9%D1%82%D1%83%D1%80%D1%81%D1%8B%D0%BD%D0%BE%D0%B2%D0%B0%3C/div%3E%60%29%5B0%5D%3B%0A%20%20%20%20%20%20%20%20%20%20%20%20popup_72eb70f3438f4d409eace85bfb19f01d.setContent%28html_400f863b42c24d2ba0057aa944919db6%29%3B%0A%20%20%20%20%20%20%20%20%0A%0A%20%20%20%20%20%20%20%20marker_af8e1ddf62dc42198645a9ac237c4989.bindPopup%28popup_72eb70f3438f4d409eace85bfb19f01d%29%0A%20%20%20%20%20%20%20%20%3B%0A%0A%20%20%20%20%20%20%20%20%0A%20%20%20%20%0A%20%20%20%20%0A%20%20%20%20%20%20%20%20%20%20%20%20var%20marker_f66f009de32a49728e1e31a53d773655%20%3D%20L.marker%28%0A%20%20%20%20%20%20%20%20%20%20%20%20%20%20%20%20%5B71.393347%2C%2051.179673%5D%2C%0A%20%20%20%20%20%20%20%20%20%20%20%20%20%20%20%20%7B%7D%0A%20%20%20%20%20%20%20%20%20%20%20%20%29.addTo%28map_0372e994ccf64c4ea30594c13123a576%29%3B%0A%20%20%20%20%20%20%20%20%0A%20%20%20%20%0A%20%20%20%20%20%20%20%20var%20popup_dfe4db4135444a22a97b170821a9c5ec%20%3D%20L.popup%28%7B%22maxWidth%22%3A%20%22100%25%22%7D%29%3B%0A%0A%20%20%20%20%20%20%20%20%0A%20%20%20%20%20%20%20%20%20%20%20%20var%20html_fc898c23dfce4362a3a4f7882bbf02e9%20%3D%20%24%28%60%3Cdiv%20id%3D%22html_fc898c23dfce4362a3a4f7882bbf02e9%22%20style%3D%22width%3A%20100.0%25%3B%20height%3A%20100.0%25%3B%22%3E%D0%9D%D1%83%D1%80-%D0%A1%D1%83%D0%BB%D1%82%D0%B0%D0%BD%20%28%D0%90%D1%81%D1%82%D0%B0%D0%BD%D0%B0%29%2C%20%D0%A1%D0%B0%D1%80%D1%8B%D0%B0%D1%80%D0%BA%D0%B0%20%D1%80-%D0%BD%2C%20%D0%9C%D0%BE%D1%81%D0%BA%D0%BE%D0%B2%D1%81%D0%BA%D0%B0%D1%8F%208/1%20%E2%80%94%20%D0%A1%D0%B0%D1%80%D1%8B%D0%B1%D1%83%D0%BB%D0%B0%D0%BA%D1%81%D0%BA%D0%B0%D1%8F%3C/div%3E%60%29%5B0%5D%3B%0A%20%20%20%20%20%20%20%20%20%20%20%20popup_dfe4db4135444a22a97b170821a9c5ec.setContent%28html_fc898c23dfce4362a3a4f7882bbf02e9%29%3B%0A%20%20%20%20%20%20%20%20%0A%0A%20%20%20%20%20%20%20%20marker_f66f009de32a49728e1e31a53d773655.bindPopup%28popup_dfe4db4135444a22a97b170821a9c5ec%29%0A%20%20%20%20%20%20%20%20%3B%0A%0A%20%20%20%20%20%20%20%20%0A%20%20%20%20%0A%20%20%20%20%0A%20%20%20%20%20%20%20%20%20%20%20%20var%20marker_231b24a9861f47f2ad5985623916be98%20%3D%20L.marker%28%0A%20%20%20%20%20%20%20%20%20%20%20%20%20%20%20%20%5B71.396805%2C%2051.102554%5D%2C%0A%20%20%20%20%20%20%20%20%20%20%20%20%20%20%20%20%7B%7D%0A%20%20%20%20%20%20%20%20%20%20%20%20%29.addTo%28map_0372e994ccf64c4ea30594c13123a576%29%3B%0A%20%20%20%20%20%20%20%20%0A%20%20%20%20%0A%20%20%20%20%20%20%20%20var%20popup_bce97e36e78c43bb9306f5da99e02782%20%3D%20L.popup%28%7B%22maxWidth%22%3A%20%22100%25%22%7D%29%3B%0A%0A%20%20%20%20%20%20%20%20%0A%20%20%20%20%20%20%20%20%20%20%20%20var%20html_ff0ac32978b84b42b9cb2c5f7c746c64%20%3D%20%24%28%60%3Cdiv%20id%3D%22html_ff0ac32978b84b42b9cb2c5f7c746c64%22%20style%3D%22width%3A%20100.0%25%3B%20height%3A%20100.0%25%3B%22%3E%D0%9D%D1%83%D1%80-%D0%A1%D1%83%D0%BB%D1%82%D0%B0%D0%BD%20%28%D0%90%D1%81%D1%82%D0%B0%D0%BD%D0%B0%29%2C%20%D0%95%D1%81%D0%B8%D0%BB%D1%8C%20%D1%80-%D0%BD%2C%20%D0%A2%D1%83%D1%80%D0%B0%D0%BD%2056%3C/div%3E%60%29%5B0%5D%3B%0A%20%20%20%20%20%20%20%20%20%20%20%20popup_bce97e36e78c43bb9306f5da99e02782.setContent%28html_ff0ac32978b84b42b9cb2c5f7c746c64%29%3B%0A%20%20%20%20%20%20%20%20%0A%0A%20%20%20%20%20%20%20%20marker_231b24a9861f47f2ad5985623916be98.bindPopup%28popup_bce97e36e78c43bb9306f5da99e02782%29%0A%20%20%20%20%20%20%20%20%3B%0A%0A%20%20%20%20%20%20%20%20%0A%20%20%20%20%0A%20%20%20%20%0A%20%20%20%20%20%20%20%20%20%20%20%20var%20marker_661d382e1020401f874daf2487cb8aca%20%3D%20L.marker%28%0A%20%20%20%20%20%20%20%20%20%20%20%20%20%20%20%20%5B71.367380011274%2C%2051.135116397268%5D%2C%0A%20%20%20%20%20%20%20%20%20%20%20%20%20%20%20%20%7B%7D%0A%20%20%20%20%20%20%20%20%20%20%20%20%29.addTo%28map_0372e994ccf64c4ea30594c13123a576%29%3B%0A%20%20%20%20%20%20%20%20%0A%20%20%20%20%0A%20%20%20%20%20%20%20%20var%20popup_492ee8524ecf413e930070811fc92210%20%3D%20L.popup%28%7B%22maxWidth%22%3A%20%22100%25%22%7D%29%3B%0A%0A%20%20%20%20%20%20%20%20%0A%20%20%20%20%20%20%20%20%20%20%20%20var%20html_1d72c348f4b44f268e45caf9f45a2230%20%3D%20%24%28%60%3Cdiv%20id%3D%22html_1d72c348f4b44f268e45caf9f45a2230%22%20style%3D%22width%3A%20100.0%25%3B%20height%3A%20100.0%25%3B%22%3E%D0%9D%D1%83%D1%80-%D0%A1%D1%83%D0%BB%D1%82%D0%B0%D0%BD%20%28%D0%90%D1%81%D1%82%D0%B0%D0%BD%D0%B0%29%2C%20%D0%95%D1%81%D0%B8%D0%BB%D1%8C%20%D1%80-%D0%BD%2C%20%D0%9E%D0%BC%D0%B0%D1%80%D0%BE%D0%B2%D0%B0%209%20%E2%80%94%20%D0%90%D0%B9%D1%82%D0%BC%D0%B0%D1%82%D0%BE%D0%B2%D0%B0%3C/div%3E%60%29%5B0%5D%3B%0A%20%20%20%20%20%20%20%20%20%20%20%20popup_492ee8524ecf413e930070811fc92210.setContent%28html_1d72c348f4b44f268e45caf9f45a2230%29%3B%0A%20%20%20%20%20%20%20%20%0A%0A%20%20%20%20%20%20%20%20marker_661d382e1020401f874daf2487cb8aca.bindPopup%28popup_492ee8524ecf413e930070811fc92210%29%0A%20%20%20%20%20%20%20%20%3B%0A%0A%20%20%20%20%20%20%20%20%0A%20%20%20%20%0A%20%20%20%20%0A%20%20%20%20%20%20%20%20%20%20%20%20var%20marker_58af94568d8044398ad173320d40e2df%20%3D%20L.marker%28%0A%20%20%20%20%20%20%20%20%20%20%20%20%20%20%20%20%5B71.411843%2C%2051.168645%5D%2C%0A%20%20%20%20%20%20%20%20%20%20%20%20%20%20%20%20%7B%7D%0A%20%20%20%20%20%20%20%20%20%20%20%20%29.addTo%28map_0372e994ccf64c4ea30594c13123a576%29%3B%0A%20%20%20%20%20%20%20%20%0A%20%20%20%20%0A%20%20%20%20%20%20%20%20var%20popup_c2714f3641524c53bde562afacf82e99%20%3D%20L.popup%28%7B%22maxWidth%22%3A%20%22100%25%22%7D%29%3B%0A%0A%20%20%20%20%20%20%20%20%0A%20%20%20%20%20%20%20%20%20%20%20%20var%20html_bce6685109824dc5a07050992f0ab9f7%20%3D%20%24%28%60%3Cdiv%20id%3D%22html_bce6685109824dc5a07050992f0ab9f7%22%20style%3D%22width%3A%20100.0%25%3B%20height%3A%20100.0%25%3B%22%3E%D0%9D%D1%83%D1%80-%D0%A1%D1%83%D0%BB%D1%82%D0%B0%D0%BD%20%28%D0%90%D1%81%D1%82%D0%B0%D0%BD%D0%B0%29%2C%20%D0%BF%D1%80%D0%BE%D1%81%D0%BF%D0%B5%D0%BA%D1%82%20%D0%96%D0%B5%D0%BD%D0%B8%D1%81%2017%D0%91%3C/div%3E%60%29%5B0%5D%3B%0A%20%20%20%20%20%20%20%20%20%20%20%20popup_c2714f3641524c53bde562afacf82e99.setContent%28html_bce6685109824dc5a07050992f0ab9f7%29%3B%0A%20%20%20%20%20%20%20%20%0A%0A%20%20%20%20%20%20%20%20marker_58af94568d8044398ad173320d40e2df.bindPopup%28popup_c2714f3641524c53bde562afacf82e99%29%0A%20%20%20%20%20%20%20%20%3B%0A%0A%20%20%20%20%20%20%20%20%0A%20%20%20%20%0A%20%20%20%20%0A%20%20%20%20%20%20%20%20%20%20%20%20var%20marker_a5954df6b7f24ad3b320c9e6b2af6b2b%20%3D%20L.marker%28%0A%20%20%20%20%20%20%20%20%20%20%20%20%20%20%20%20%5B71.40931%2C%2051.180074%5D%2C%0A%20%20%20%20%20%20%20%20%20%20%20%20%20%20%20%20%7B%7D%0A%20%20%20%20%20%20%20%20%20%20%20%20%29.addTo%28map_0372e994ccf64c4ea30594c13123a576%29%3B%0A%20%20%20%20%20%20%20%20%0A%20%20%20%20%0A%20%20%20%20%20%20%20%20var%20popup_d88cc4b2ae2a4c9da98eb84f8a5d3339%20%3D%20L.popup%28%7B%22maxWidth%22%3A%20%22100%25%22%7D%29%3B%0A%0A%20%20%20%20%20%20%20%20%0A%20%20%20%20%20%20%20%20%20%20%20%20var%20html_a3646a0534184cff88e299b20a73d1f1%20%3D%20%24%28%60%3Cdiv%20id%3D%22html_a3646a0534184cff88e299b20a73d1f1%22%20style%3D%22width%3A%20100.0%25%3B%20height%3A%20100.0%25%3B%22%3E%D0%9D%D1%83%D1%80-%D0%A1%D1%83%D0%BB%D1%82%D0%B0%D0%BD%20%28%D0%90%D1%81%D1%82%D0%B0%D0%BD%D0%B0%29%2C%20%D0%A1%D0%B0%D1%80%D1%8B%D0%B0%D1%80%D0%BA%D0%B0%20%D1%80-%D0%BD%2C%20%D0%96%D0%B5%D0%BD%D0%B8%D1%81%2049%20%E2%80%94%20%D0%9C%D3%99%D1%81%D0%BA%D0%B5%D1%83%3C/div%3E%60%29%5B0%5D%3B%0A%20%20%20%20%20%20%20%20%20%20%20%20popup_d88cc4b2ae2a4c9da98eb84f8a5d3339.setContent%28html_a3646a0534184cff88e299b20a73d1f1%29%3B%0A%20%20%20%20%20%20%20%20%0A%0A%20%20%20%20%20%20%20%20marker_a5954df6b7f24ad3b320c9e6b2af6b2b.bindPopup%28popup_d88cc4b2ae2a4c9da98eb84f8a5d3339%29%0A%20%20%20%20%20%20%20%20%3B%0A%0A%20%20%20%20%20%20%20%20%0A%20%20%20%20%0A%20%20%20%20%0A%20%20%20%20%20%20%20%20%20%20%20%20var%20marker_83fd92b97227430cbb48e70b5b4bc13d%20%3D%20L.marker%28%0A%20%20%20%20%20%20%20%20%20%20%20%20%20%20%20%20%5B71.401126436615%2C%2051.162701069291%5D%2C%0A%20%20%20%20%20%20%20%20%20%20%20%20%20%20%20%20%7B%7D%0A%20%20%20%20%20%20%20%20%20%20%20%20%29.addTo%28map_0372e994ccf64c4ea30594c13123a576%29%3B%0A%20%20%20%20%20%20%20%20%0A%20%20%20%20%0A%20%20%20%20%20%20%20%20var%20popup_021dbc2c80d946619c2dd156227e255d%20%3D%20L.popup%28%7B%22maxWidth%22%3A%20%22100%25%22%7D%29%3B%0A%0A%20%20%20%20%20%20%20%20%0A%20%20%20%20%20%20%20%20%20%20%20%20var%20html_4c383d2c70f84267b8a8e7bc424d923b%20%3D%20%24%28%60%3Cdiv%20id%3D%22html_4c383d2c70f84267b8a8e7bc424d923b%22%20style%3D%22width%3A%20100.0%25%3B%20height%3A%20100.0%25%3B%22%3E%D0%9D%D1%83%D1%80-%D0%A1%D1%83%D0%BB%D1%82%D0%B0%D0%BD%20%28%D0%90%D1%81%D1%82%D0%B0%D0%BD%D0%B0%29%2C%20%D0%A1%D0%B0%D1%80%D1%8B%D0%B0%D1%80%D0%BA%D0%B0%20%D1%80-%D0%BD%2C%20%D0%9A%D0%B5%D0%BD%D0%B5%D1%81%D0%B0%D1%80%D1%8B%20%E2%80%94%20%D0%9A%D0%B5%D0%BD%D0%B6%D0%B5%D0%B1%D0%B5%D0%BA%D0%B0%20%D0%9A%D1%83%D0%BC%D0%B8%D1%81%D0%B1%D0%B5%D0%BA%D0%BE%D0%B2%D0%B0%3C/div%3E%60%29%5B0%5D%3B%0A%20%20%20%20%20%20%20%20%20%20%20%20popup_021dbc2c80d946619c2dd156227e255d.setContent%28html_4c383d2c70f84267b8a8e7bc424d923b%29%3B%0A%20%20%20%20%20%20%20%20%0A%0A%20%20%20%20%20%20%20%20marker_83fd92b97227430cbb48e70b5b4bc13d.bindPopup%28popup_021dbc2c80d946619c2dd156227e255d%29%0A%20%20%20%20%20%20%20%20%3B%0A%0A%20%20%20%20%20%20%20%20%0A%20%20%20%20%0A%20%20%20%20%0A%20%20%20%20%20%20%20%20%20%20%20%20var%20marker_12a19d20e48346e29f9bcc86d622ee14%20%3D%20L.marker%28%0A%20%20%20%20%20%20%20%20%20%20%20%20%20%20%20%20%5B71.429225%2C%2051.154202%5D%2C%0A%20%20%20%20%20%20%20%20%20%20%20%20%20%20%20%20%7B%7D%0A%20%20%20%20%20%20%20%20%20%20%20%20%29.addTo%28map_0372e994ccf64c4ea30594c13123a576%29%3B%0A%20%20%20%20%20%20%20%20%0A%20%20%20%20%0A%20%20%20%20%20%20%20%20var%20popup_d5f24b072c804d9e8cce0b21a00ea0ac%20%3D%20L.popup%28%7B%22maxWidth%22%3A%20%22100%25%22%7D%29%3B%0A%0A%20%20%20%20%20%20%20%20%0A%20%20%20%20%20%20%20%20%20%20%20%20var%20html_dc61c358d66242eeb8c54f7d8dd2b3e8%20%3D%20%24%28%60%3Cdiv%20id%3D%22html_dc61c358d66242eeb8c54f7d8dd2b3e8%22%20style%3D%22width%3A%20100.0%25%3B%20height%3A%20100.0%25%3B%22%3E%D0%9D%D1%83%D1%80-%D0%A1%D1%83%D0%BB%D1%82%D0%B0%D0%BD%20%28%D0%90%D1%81%D1%82%D0%B0%D0%BD%D0%B0%29%2C%20%D0%A1%D0%B0%D1%80%D1%8B%D0%B0%D1%80%D0%BA%D0%B0%20%D1%80-%D0%BD%2C%20%D0%9C%D0%BA%D1%80%20%D0%A1%D0%B0%D0%BC%D0%B0%D0%BB%201%3C/div%3E%60%29%5B0%5D%3B%0A%20%20%20%20%20%20%20%20%20%20%20%20popup_d5f24b072c804d9e8cce0b21a00ea0ac.setContent%28html_dc61c358d66242eeb8c54f7d8dd2b3e8%29%3B%0A%20%20%20%20%20%20%20%20%0A%0A%20%20%20%20%20%20%20%20marker_12a19d20e48346e29f9bcc86d622ee14.bindPopup%28popup_d5f24b072c804d9e8cce0b21a00ea0ac%29%0A%20%20%20%20%20%20%20%20%3B%0A%0A%20%20%20%20%20%20%20%20%0A%20%20%20%20%0A%20%20%20%20%0A%20%20%20%20%20%20%20%20%20%20%20%20var%20marker_ec9368b8db2646fdb10d88c485fd1619%20%3D%20L.marker%28%0A%20%20%20%20%20%20%20%20%20%20%20%20%20%20%20%20%5B71.399580192519%2C%2051.16266055786%5D%2C%0A%20%20%20%20%20%20%20%20%20%20%20%20%20%20%20%20%7B%7D%0A%20%20%20%20%20%20%20%20%20%20%20%20%29.addTo%28map_0372e994ccf64c4ea30594c13123a576%29%3B%0A%20%20%20%20%20%20%20%20%0A%20%20%20%20%0A%20%20%20%20%20%20%20%20var%20popup_12922bc3e8e9480e92a5f794fb660135%20%3D%20L.popup%28%7B%22maxWidth%22%3A%20%22100%25%22%7D%29%3B%0A%0A%20%20%20%20%20%20%20%20%0A%20%20%20%20%20%20%20%20%20%20%20%20var%20html_a1222c89ce85458cb52fd8e19433adcf%20%3D%20%24%28%60%3Cdiv%20id%3D%22html_a1222c89ce85458cb52fd8e19433adcf%22%20style%3D%22width%3A%20100.0%25%3B%20height%3A%20100.0%25%3B%22%3E%D0%9D%D1%83%D1%80-%D0%A1%D1%83%D0%BB%D1%82%D0%B0%D0%BD%20%28%D0%90%D1%81%D1%82%D0%B0%D0%BD%D0%B0%29%2C%20%D0%A1%D0%B0%D1%80%D1%8B%D0%B0%D1%80%D0%BA%D0%B0%20%D1%80-%D0%BD%2C%20%D0%9A%D0%B5%D0%BD%D0%B5%D1%81%D0%B0%D1%80%D1%8B%3C/div%3E%60%29%5B0%5D%3B%0A%20%20%20%20%20%20%20%20%20%20%20%20popup_12922bc3e8e9480e92a5f794fb660135.setContent%28html_a1222c89ce85458cb52fd8e19433adcf%29%3B%0A%20%20%20%20%20%20%20%20%0A%0A%20%20%20%20%20%20%20%20marker_ec9368b8db2646fdb10d88c485fd1619.bindPopup%28popup_12922bc3e8e9480e92a5f794fb660135%29%0A%20%20%20%20%20%20%20%20%3B%0A%0A%20%20%20%20%20%20%20%20%0A%20%20%20%20%0A%20%20%20%20%0A%20%20%20%20%20%20%20%20%20%20%20%20var%20marker_d823c960b65c4974ab1b362569d79613%20%3D%20L.marker%28%0A%20%20%20%20%20%20%20%20%20%20%20%20%20%20%20%20%5B51.185874%2C%2071.419376%5D%2C%0A%20%20%20%20%20%20%20%20%20%20%20%20%20%20%20%20%7B%7D%0A%20%20%20%20%20%20%20%20%20%20%20%20%29.addTo%28map_0372e994ccf64c4ea30594c13123a576%29%3B%0A%20%20%20%20%20%20%20%20%0A%20%20%20%20%0A%20%20%20%20%20%20%20%20var%20popup_1ef293f088a346ac84c024a21bd987da%20%3D%20L.popup%28%7B%22maxWidth%22%3A%20%22100%25%22%7D%29%3B%0A%0A%20%20%20%20%20%20%20%20%0A%20%20%20%20%20%20%20%20%20%20%20%20var%20html_a442b900c8854f05b057dfc6926faab8%20%3D%20%24%28%60%3Cdiv%20id%3D%22html_a442b900c8854f05b057dfc6926faab8%22%20style%3D%22width%3A%20100.0%25%3B%20height%3A%20100.0%25%3B%22%3E%D0%9D%D1%83%D1%80-%D0%A1%D1%83%D0%BB%D1%82%D0%B0%D0%BD%20%28%D0%90%D1%81%D1%82%D0%B0%D0%BD%D0%B0%29%2C%20%D0%9C%D1%83%D1%85%D1%82%D0%B0%D1%80%20%D0%90%D1%83%D0%B5%D0%B7%D0%BE%D0%B2%2056%20%E2%80%94%20%D0%9C%D0%BE%D0%BB%D0%B4%D0%BE%D0%B3%D1%83%D0%BB%D0%BE%D0%B2%D0%B0%3C/div%3E%60%29%5B0%5D%3B%0A%20%20%20%20%20%20%20%20%20%20%20%20popup_1ef293f088a346ac84c024a21bd987da.setContent%28html_a442b900c8854f05b057dfc6926faab8%29%3B%0A%20%20%20%20%20%20%20%20%0A%0A%20%20%20%20%20%20%20%20marker_d823c960b65c4974ab1b362569d79613.bindPopup%28popup_1ef293f088a346ac84c024a21bd987da%29%0A%20%20%20%20%20%20%20%20%3B%0A%0A%20%20%20%20%20%20%20%20%0A%20%20%20%20%0A%20%20%20%20%0A%20%20%20%20%20%20%20%20%20%20%20%20var%20marker_618996031c2e4d839c00db8d6c44bf7d%20%3D%20L.marker%28%0A%20%20%20%20%20%20%20%20%20%20%20%20%20%20%20%20%5B51.141895%2C%2071.472812%5D%2C%0A%20%20%20%20%20%20%20%20%20%20%20%20%20%20%20%20%7B%7D%0A%20%20%20%20%20%20%20%20%20%20%20%20%29.addTo%28map_0372e994ccf64c4ea30594c13123a576%29%3B%0A%20%20%20%20%20%20%20%20%0A%20%20%20%20%0A%20%20%20%20%20%20%20%20var%20popup_c7f856ad191d48dc9203b3dcd94ad0be%20%3D%20L.popup%28%7B%22maxWidth%22%3A%20%22100%25%22%7D%29%3B%0A%0A%20%20%20%20%20%20%20%20%0A%20%20%20%20%20%20%20%20%20%20%20%20var%20html_5937b33eb6e0461ea1540dff3a716d14%20%3D%20%24%28%60%3Cdiv%20id%3D%22html_5937b33eb6e0461ea1540dff3a716d14%22%20style%3D%22width%3A%20100.0%25%3B%20height%3A%20100.0%25%3B%22%3E%D0%9D%D1%83%D1%80-%D0%A1%D1%83%D0%BB%D1%82%D0%B0%D0%BD%20%28%D0%90%D1%81%D1%82%D0%B0%D0%BD%D0%B0%29%2C%20%D0%A1%D0%B0%D1%82%D0%BF%D0%B0%D0%B5%D0%B2%D0%B0%2023%20%E2%80%94%20%D0%9C%D0%BE%D0%BC%D1%8B%D1%88%D1%83%D0%BB%D1%8B%3C/div%3E%60%29%5B0%5D%3B%0A%20%20%20%20%20%20%20%20%20%20%20%20popup_c7f856ad191d48dc9203b3dcd94ad0be.setContent%28html_5937b33eb6e0461ea1540dff3a716d14%29%3B%0A%20%20%20%20%20%20%20%20%0A%0A%20%20%20%20%20%20%20%20marker_618996031c2e4d839c00db8d6c44bf7d.bindPopup%28popup_c7f856ad191d48dc9203b3dcd94ad0be%29%0A%20%20%20%20%20%20%20%20%3B%0A%0A%20%20%20%20%20%20%20%20%0A%20%20%20%20%0A%20%20%20%20%0A%20%20%20%20%20%20%20%20%20%20%20%20var%20marker_14609cafede3464e925bf27752547326%20%3D%20L.marker%28%0A%20%20%20%20%20%20%20%20%20%20%20%20%20%20%20%20%5B50.30431908227%2C%2072.090836237866%5D%2C%0A%20%20%20%20%20%20%20%20%20%20%20%20%20%20%20%20%7B%7D%0A%20%20%20%20%20%20%20%20%20%20%20%20%29.addTo%28map_0372e994ccf64c4ea30594c13123a576%29%3B%0A%20%20%20%20%20%20%20%20%0A%20%20%20%20%0A%20%20%20%20%20%20%20%20var%20popup_0a7053187f52424fb2d847957aa78011%20%3D%20L.popup%28%7B%22maxWidth%22%3A%20%22100%25%22%7D%29%3B%0A%0A%20%20%20%20%20%20%20%20%0A%20%20%20%20%20%20%20%20%20%20%20%20var%20html_11d635b83efd4c358d177ad35fa0c1a0%20%3D%20%24%28%60%3Cdiv%20id%3D%22html_11d635b83efd4c358d177ad35fa0c1a0%22%20style%3D%22width%3A%20100.0%25%3B%20height%3A%20100.0%25%3B%22%3E%D0%9D%D1%83%D1%80-%D0%A1%D1%83%D0%BB%D1%82%D0%B0%D0%BD%20%28%D0%90%D1%81%D1%82%D0%B0%D0%BD%D0%B0%29%2C%20%D0%90%D0%BB%D0%BC%D0%B0%D1%82%D1%8B%20%D1%80-%D0%BD%2C%20%D0%91%D0%B0%D0%B9%D1%82%D1%83%D1%80%D1%81%D1%8B%D0%BD%D0%BE%D0%B2%D0%B0%2053/1%3C/div%3E%60%29%5B0%5D%3B%0A%20%20%20%20%20%20%20%20%20%20%20%20popup_0a7053187f52424fb2d847957aa78011.setContent%28html_11d635b83efd4c358d177ad35fa0c1a0%29%3B%0A%20%20%20%20%20%20%20%20%0A%0A%20%20%20%20%20%20%20%20marker_14609cafede3464e925bf27752547326.bindPopup%28popup_0a7053187f52424fb2d847957aa78011%29%0A%20%20%20%20%20%20%20%20%3B%0A%0A%20%20%20%20%20%20%20%20%0A%20%20%20%20%0A%20%20%20%20%0A%20%20%20%20%20%20%20%20%20%20%20%20var%20marker_78a5f21a835e459db13cc37eaf9b2d5b%20%3D%20L.marker%28%0A%20%20%20%20%20%20%20%20%20%20%20%20%20%20%20%20%5B51.128399%2C%2071.421715%5D%2C%0A%20%20%20%20%20%20%20%20%20%20%20%20%20%20%20%20%7B%7D%0A%20%20%20%20%20%20%20%20%20%20%20%20%29.addTo%28map_0372e994ccf64c4ea30594c13123a576%29%3B%0A%20%20%20%20%20%20%20%20%0A%20%20%20%20%0A%20%20%20%20%20%20%20%20var%20popup_6009eac3e2374a68950b8f63f64015a2%20%3D%20L.popup%28%7B%22maxWidth%22%3A%20%22100%25%22%7D%29%3B%0A%0A%20%20%20%20%20%20%20%20%0A%20%20%20%20%20%20%20%20%20%20%20%20var%20html_28fd101be798479e8bae96d54132c7dd%20%3D%20%24%28%60%3Cdiv%20id%3D%22html_28fd101be798479e8bae96d54132c7dd%22%20style%3D%22width%3A%20100.0%25%3B%20height%3A%20100.0%25%3B%22%3E%D0%9D%D1%83%D1%80-%D0%A1%D1%83%D0%BB%D1%82%D0%B0%D0%BD%20%28%D0%90%D1%81%D1%82%D0%B0%D0%BD%D0%B0%29%2C%20%D0%95%D1%81%D0%B8%D0%BB%D1%8C%20%D1%80-%D0%BD%2C%20%D0%94%D0%BE%D1%81%D1%82%D1%8B%D0%BA%205/1%3C/div%3E%60%29%5B0%5D%3B%0A%20%20%20%20%20%20%20%20%20%20%20%20popup_6009eac3e2374a68950b8f63f64015a2.setContent%28html_28fd101be798479e8bae96d54132c7dd%29%3B%0A%20%20%20%20%20%20%20%20%0A%0A%20%20%20%20%20%20%20%20marker_78a5f21a835e459db13cc37eaf9b2d5b.bindPopup%28popup_6009eac3e2374a68950b8f63f64015a2%29%0A%20%20%20%20%20%20%20%20%3B%0A%0A%20%20%20%20%20%20%20%20%0A%20%20%20%20%0A%20%20%20%20%0A%20%20%20%20%20%20%20%20%20%20%20%20var%20marker_da6e02af72504e97ab3e28b3b5dadbd7%20%3D%20L.marker%28%0A%20%20%20%20%20%20%20%20%20%20%20%20%20%20%20%20%5B51.150419572067%2C%2071.527895476332%5D%2C%0A%20%20%20%20%20%20%20%20%20%20%20%20%20%20%20%20%7B%7D%0A%20%20%20%20%20%20%20%20%20%20%20%20%29.addTo%28map_0372e994ccf64c4ea30594c13123a576%29%3B%0A%20%20%20%20%20%20%20%20%0A%20%20%20%20%0A%20%20%20%20%20%20%20%20var%20popup_f669ee55c9ee4879a88564be2e4a4ef9%20%3D%20L.popup%28%7B%22maxWidth%22%3A%20%22100%25%22%7D%29%3B%0A%0A%20%20%20%20%20%20%20%20%0A%20%20%20%20%20%20%20%20%20%20%20%20var%20html_2f6b4211448047aa97cb903198fe5994%20%3D%20%24%28%60%3Cdiv%20id%3D%22html_2f6b4211448047aa97cb903198fe5994%22%20style%3D%22width%3A%20100.0%25%3B%20height%3A%20100.0%25%3B%22%3E%D0%9D%D1%83%D1%80-%D0%A1%D1%83%D0%BB%D1%82%D0%B0%D0%BD%20%28%D0%90%D1%81%D1%82%D0%B0%D0%BD%D0%B0%29%2C%20%D0%90%D0%BB%D0%BC%D0%B0%D1%82%D1%8B%20%D1%80-%D0%BD%2C%20%D0%9A%D0%BE%D1%88%D0%BA%D0%B0%D1%80%D0%B1%D0%B0%D0%B5%D0%B2%D0%B0%2080%3C/div%3E%60%29%5B0%5D%3B%0A%20%20%20%20%20%20%20%20%20%20%20%20popup_f669ee55c9ee4879a88564be2e4a4ef9.setContent%28html_2f6b4211448047aa97cb903198fe5994%29%3B%0A%20%20%20%20%20%20%20%20%0A%0A%20%20%20%20%20%20%20%20marker_da6e02af72504e97ab3e28b3b5dadbd7.bindPopup%28popup_f669ee55c9ee4879a88564be2e4a4ef9%29%0A%20%20%20%20%20%20%20%20%3B%0A%0A%20%20%20%20%20%20%20%20%0A%20%20%20%20%0A%20%20%20%20%0A%20%20%20%20%20%20%20%20%20%20%20%20var%20marker_29ef59b25a434bf98eb3051272564626%20%3D%20L.marker%28%0A%20%20%20%20%20%20%20%20%20%20%20%20%20%20%20%20%5B51.179944%2C%2071.433636%5D%2C%0A%20%20%20%20%20%20%20%20%20%20%20%20%20%20%20%20%7B%7D%0A%20%20%20%20%20%20%20%20%20%20%20%20%29.addTo%28map_0372e994ccf64c4ea30594c13123a576%29%3B%0A%20%20%20%20%20%20%20%20%0A%20%20%20%20%0A%20%20%20%20%20%20%20%20var%20popup_ab35a725bfda456099b5db69f053256c%20%3D%20L.popup%28%7B%22maxWidth%22%3A%20%22100%25%22%7D%29%3B%0A%0A%20%20%20%20%20%20%20%20%0A%20%20%20%20%20%20%20%20%20%20%20%20var%20html_4fe81475cde54905a86b615302b73988%20%3D%20%24%28%60%3Cdiv%20id%3D%22html_4fe81475cde54905a86b615302b73988%22%20style%3D%22width%3A%20100.0%25%3B%20height%3A%20100.0%25%3B%22%3E%D0%9D%D1%83%D1%80-%D0%A1%D1%83%D0%BB%D1%82%D0%B0%D0%BD%20%28%D0%90%D1%81%D1%82%D0%B0%D0%BD%D0%B0%29%2C%20%D0%A1%D0%B0%D1%80%D1%8B%D0%B0%D1%80%D0%BA%D0%B0%20%D1%80-%D0%BD%2C%20%D0%AB%D0%BA%D1%8B%D0%BB%D0%B0%D1%81%20%D0%94%D1%83%D0%BA%D0%B5%D0%BD%D1%83%D0%BB%D1%8B%2034%3C/div%3E%60%29%5B0%5D%3B%0A%20%20%20%20%20%20%20%20%20%20%20%20popup_ab35a725bfda456099b5db69f053256c.setContent%28html_4fe81475cde54905a86b615302b73988%29%3B%0A%20%20%20%20%20%20%20%20%0A%0A%20%20%20%20%20%20%20%20marker_29ef59b25a434bf98eb3051272564626.bindPopup%28popup_ab35a725bfda456099b5db69f053256c%29%0A%20%20%20%20%20%20%20%20%3B%0A%0A%20%20%20%20%20%20%20%20%0A%20%20%20%20%0A%20%20%20%20%0A%20%20%20%20%20%20%20%20%20%20%20%20var%20marker_99f975dad73345a08107290c5100a662%20%3D%20L.marker%28%0A%20%20%20%20%20%20%20%20%20%20%20%20%20%20%20%20%5B51.170208721926%2C%2071.404502557489%5D%2C%0A%20%20%20%20%20%20%20%20%20%20%20%20%20%20%20%20%7B%7D%0A%20%20%20%20%20%20%20%20%20%20%20%20%29.addTo%28map_0372e994ccf64c4ea30594c13123a576%29%3B%0A%20%20%20%20%20%20%20%20%0A%20%20%20%20%0A%20%20%20%20%20%20%20%20var%20popup_08d009e52123472d8cdea7f3b62881fd%20%3D%20L.popup%28%7B%22maxWidth%22%3A%20%22100%25%22%7D%29%3B%0A%0A%20%20%20%20%20%20%20%20%0A%20%20%20%20%20%20%20%20%20%20%20%20var%20html_8d9e57bcf31c4b138e27e7856ac975d1%20%3D%20%24%28%60%3Cdiv%20id%3D%22html_8d9e57bcf31c4b138e27e7856ac975d1%22%20style%3D%22width%3A%20100.0%25%3B%20height%3A%20100.0%25%3B%22%3E%D0%9D%D1%83%D1%80-%D0%A1%D1%83%D0%BB%D1%82%D0%B0%D0%BD%20%28%D0%90%D1%81%D1%82%D0%B0%D0%BD%D0%B0%29%2C%20%D0%A1.%20%D0%9A%D1%83%D0%B1%D1%80%D0%B8%D0%BD%D0%B0%2022/1%3C/div%3E%60%29%5B0%5D%3B%0A%20%20%20%20%20%20%20%20%20%20%20%20popup_08d009e52123472d8cdea7f3b62881fd.setContent%28html_8d9e57bcf31c4b138e27e7856ac975d1%29%3B%0A%20%20%20%20%20%20%20%20%0A%0A%20%20%20%20%20%20%20%20marker_99f975dad73345a08107290c5100a662.bindPopup%28popup_08d009e52123472d8cdea7f3b62881fd%29%0A%20%20%20%20%20%20%20%20%3B%0A%0A%20%20%20%20%20%20%20%20%0A%20%20%20%20%0A%20%20%20%20%0A%20%20%20%20%20%20%20%20%20%20%20%20var%20marker_d1b744e55e2440a3b08cc9d82c4c1d5f%20%3D%20L.marker%28%0A%20%20%20%20%20%20%20%20%20%20%20%20%20%20%20%20%5B51.131887%2C%2071.382702%5D%2C%0A%20%20%20%20%20%20%20%20%20%20%20%20%20%20%20%20%7B%7D%0A%20%20%20%20%20%20%20%20%20%20%20%20%29.addTo%28map_0372e994ccf64c4ea30594c13123a576%29%3B%0A%20%20%20%20%20%20%20%20%0A%20%20%20%20%0A%20%20%20%20%20%20%20%20var%20popup_b5ce8984e5a549178c4d4b5ff6222573%20%3D%20L.popup%28%7B%22maxWidth%22%3A%20%22100%25%22%7D%29%3B%0A%0A%20%20%20%20%20%20%20%20%0A%20%20%20%20%20%20%20%20%20%20%20%20var%20html_b3bd80e0e3824803848c9ced59c09879%20%3D%20%24%28%60%3Cdiv%20id%3D%22html_b3bd80e0e3824803848c9ced59c09879%22%20style%3D%22width%3A%20100.0%25%3B%20height%3A%20100.0%25%3B%22%3E%D0%9D%D1%83%D1%80-%D0%A1%D1%83%D0%BB%D1%82%D0%B0%D0%BD%20%28%D0%90%D1%81%D1%82%D0%B0%D0%BD%D0%B0%29%2C%20%D0%95%D1%81%D0%B8%D0%BB%D1%8C%20%D1%80-%D0%BD%2C%20%D0%95-755%3C/div%3E%60%29%5B0%5D%3B%0A%20%20%20%20%20%20%20%20%20%20%20%20popup_b5ce8984e5a549178c4d4b5ff6222573.setContent%28html_b3bd80e0e3824803848c9ced59c09879%29%3B%0A%20%20%20%20%20%20%20%20%0A%0A%20%20%20%20%20%20%20%20marker_d1b744e55e2440a3b08cc9d82c4c1d5f.bindPopup%28popup_b5ce8984e5a549178c4d4b5ff6222573%29%0A%20%20%20%20%20%20%20%20%3B%0A%0A%20%20%20%20%20%20%20%20%0A%20%20%20%20%0A%20%20%20%20%0A%20%20%20%20%20%20%20%20%20%20%20%20var%20marker_ee659bfd27044cc89a9fcb267b7debd8%20%3D%20L.marker%28%0A%20%20%20%20%20%20%20%20%20%20%20%20%20%20%20%20%5B51.169486%2C%2071.465338%5D%2C%0A%20%20%20%20%20%20%20%20%20%20%20%20%20%20%20%20%7B%7D%0A%20%20%20%20%20%20%20%20%20%20%20%20%29.addTo%28map_0372e994ccf64c4ea30594c13123a576%29%3B%0A%20%20%20%20%20%20%20%20%0A%20%20%20%20%0A%20%20%20%20%20%20%20%20var%20popup_f776302c791543afbf2e52b53dffad54%20%3D%20L.popup%28%7B%22maxWidth%22%3A%20%22100%25%22%7D%29%3B%0A%0A%20%20%20%20%20%20%20%20%0A%20%20%20%20%20%20%20%20%20%20%20%20var%20html_792822c461d443dfa052ee0413b39a2c%20%3D%20%24%28%60%3Cdiv%20id%3D%22html_792822c461d443dfa052ee0413b39a2c%22%20style%3D%22width%3A%20100.0%25%3B%20height%3A%20100.0%25%3B%22%3E%D0%9D%D1%83%D1%80-%D0%A1%D1%83%D0%BB%D1%82%D0%B0%D0%BD%20%28%D0%90%D1%81%D1%82%D0%B0%D0%BD%D0%B0%29%2C%20%D1%80-%D0%BD%20%D0%91%D0%B0%D0%B9%D0%BA%D0%BE%D0%BD%D1%83%D1%80%2C%20%D0%90%D1%85%D0%BC%D0%B5%D1%82%D0%B0%20%D0%96%D1%83%D0%B1%D0%B0%D0%BD%D0%BE%D0%B2%D0%B0%2027%3C/div%3E%60%29%5B0%5D%3B%0A%20%20%20%20%20%20%20%20%20%20%20%20popup_f776302c791543afbf2e52b53dffad54.setContent%28html_792822c461d443dfa052ee0413b39a2c%29%3B%0A%20%20%20%20%20%20%20%20%0A%0A%20%20%20%20%20%20%20%20marker_ee659bfd27044cc89a9fcb267b7debd8.bindPopup%28popup_f776302c791543afbf2e52b53dffad54%29%0A%20%20%20%20%20%20%20%20%3B%0A%0A%20%20%20%20%20%20%20%20%0A%20%20%20%20%0A%20%20%20%20%0A%20%20%20%20%20%20%20%20%20%20%20%20var%20marker_b9790a5d65c74663b3207985211f252f%20%3D%20L.marker%28%0A%20%20%20%20%20%20%20%20%20%20%20%20%20%20%20%20%5B51.140437%2C%2071.481211%5D%2C%0A%20%20%20%20%20%20%20%20%20%20%20%20%20%20%20%20%7B%7D%0A%20%20%20%20%20%20%20%20%20%20%20%20%29.addTo%28map_0372e994ccf64c4ea30594c13123a576%29%3B%0A%20%20%20%20%20%20%20%20%0A%20%20%20%20%0A%20%20%20%20%20%20%20%20var%20popup_1558d67591f24084b9b4f49b7df073c6%20%3D%20L.popup%28%7B%22maxWidth%22%3A%20%22100%25%22%7D%29%3B%0A%0A%20%20%20%20%20%20%20%20%0A%20%20%20%20%20%20%20%20%20%20%20%20var%20html_2661cbc281f6495aaaaa9443d12c67a8%20%3D%20%24%28%60%3Cdiv%20id%3D%22html_2661cbc281f6495aaaaa9443d12c67a8%22%20style%3D%22width%3A%20100.0%25%3B%20height%3A%20100.0%25%3B%22%3E%D0%9D%D1%83%D1%80-%D0%A1%D1%83%D0%BB%D1%82%D0%B0%D0%BD%20%28%D0%90%D1%81%D1%82%D0%B0%D0%BD%D0%B0%29%2C%20%D0%90%D0%BB%D0%BC%D0%B0%D1%82%D1%8B%20%D1%80-%D0%BD%2C%20%D0%9C%D0%BE%D0%BC%D1%8B%D1%88%D1%83%D0%BB%D1%8B%2014%20%E2%80%94%20%D0%A3%D0%B3%D0%BE%D0%BB%20%D0%90%D0%BC%D0%B0%D0%BD%D0%B0%D1%82%3C/div%3E%60%29%5B0%5D%3B%0A%20%20%20%20%20%20%20%20%20%20%20%20popup_1558d67591f24084b9b4f49b7df073c6.setContent%28html_2661cbc281f6495aaaaa9443d12c67a8%29%3B%0A%20%20%20%20%20%20%20%20%0A%0A%20%20%20%20%20%20%20%20marker_b9790a5d65c74663b3207985211f252f.bindPopup%28popup_1558d67591f24084b9b4f49b7df073c6%29%0A%20%20%20%20%20%20%20%20%3B%0A%0A%20%20%20%20%20%20%20%20%0A%20%20%20%20%0A%20%20%20%20%0A%20%20%20%20%20%20%20%20%20%20%20%20var%20marker_9c39fd39b9c941c3b63f09bb4d407805%20%3D%20L.marker%28%0A%20%20%20%20%20%20%20%20%20%20%20%20%20%20%20%20%5B51.159901%2C%2071.438137%5D%2C%0A%20%20%20%20%20%20%20%20%20%20%20%20%20%20%20%20%7B%7D%0A%20%20%20%20%20%20%20%20%20%20%20%20%29.addTo%28map_0372e994ccf64c4ea30594c13123a576%29%3B%0A%20%20%20%20%20%20%20%20%0A%20%20%20%20%0A%20%20%20%20%20%20%20%20var%20popup_35f5af2734b64e2085d33dd0b939af34%20%3D%20L.popup%28%7B%22maxWidth%22%3A%20%22100%25%22%7D%29%3B%0A%0A%20%20%20%20%20%20%20%20%0A%20%20%20%20%20%20%20%20%20%20%20%20var%20html_55fe117778624d6da5f15c4d370ac055%20%3D%20%24%28%60%3Cdiv%20id%3D%22html_55fe117778624d6da5f15c4d370ac055%22%20style%3D%22width%3A%20100.0%25%3B%20height%3A%20100.0%25%3B%22%3E%D0%9D%D1%83%D1%80-%D0%A1%D1%83%D0%BB%D1%82%D0%B0%D0%BD%20%28%D0%90%D1%81%D1%82%D0%B0%D0%BD%D0%B0%29%2C%20%D1%80-%D0%BD%20%D0%91%D0%B0%D0%B9%D0%BA%D0%BE%D0%BD%D1%83%D1%80%2C%20%D0%91%D0%B0%D1%80%D0%B0%D0%B5%D0%B2%D0%B0%2021%3C/div%3E%60%29%5B0%5D%3B%0A%20%20%20%20%20%20%20%20%20%20%20%20popup_35f5af2734b64e2085d33dd0b939af34.setContent%28html_55fe117778624d6da5f15c4d370ac055%29%3B%0A%20%20%20%20%20%20%20%20%0A%0A%20%20%20%20%20%20%20%20marker_9c39fd39b9c941c3b63f09bb4d407805.bindPopup%28popup_35f5af2734b64e2085d33dd0b939af34%29%0A%20%20%20%20%20%20%20%20%3B%0A%0A%20%20%20%20%20%20%20%20%0A%20%20%20%20%0A%20%20%20%20%0A%20%20%20%20%20%20%20%20%20%20%20%20var%20marker_76b3985ce49142a3a8d5c61254d38992%20%3D%20L.marker%28%0A%20%20%20%20%20%20%20%20%20%20%20%20%20%20%20%20%5B51.162492118118%2C%2071.435627751052%5D%2C%0A%20%20%20%20%20%20%20%20%20%20%20%20%20%20%20%20%7B%7D%0A%20%20%20%20%20%20%20%20%20%20%20%20%29.addTo%28map_0372e994ccf64c4ea30594c13123a576%29%3B%0A%20%20%20%20%20%20%20%20%0A%20%20%20%20%0A%20%20%20%20%20%20%20%20var%20popup_78f03724859548cba276a1f78295e644%20%3D%20L.popup%28%7B%22maxWidth%22%3A%20%22100%25%22%7D%29%3B%0A%0A%20%20%20%20%20%20%20%20%0A%20%20%20%20%20%20%20%20%20%20%20%20var%20html_653704029397414a968375c39eb6f589%20%3D%20%24%28%60%3Cdiv%20id%3D%22html_653704029397414a968375c39eb6f589%22%20style%3D%22width%3A%20100.0%25%3B%20height%3A%20100.0%25%3B%22%3E%D0%9D%D1%83%D1%80-%D0%A1%D1%83%D0%BB%D1%82%D0%B0%D0%BD%20%28%D0%90%D1%81%D1%82%D0%B0%D0%BD%D0%B0%29%2C%20%D0%90%D0%BB%D0%BC%D0%B0%D1%82%D1%8B%20%D1%80-%D0%BD%2C%20%D0%98%D0%BC%D0%B0%D0%BD%D0%B1%D0%B0%D0%B5%D0%B2%D0%BE%D0%B9%208%3C/div%3E%60%29%5B0%5D%3B%0A%20%20%20%20%20%20%20%20%20%20%20%20popup_78f03724859548cba276a1f78295e644.setContent%28html_653704029397414a968375c39eb6f589%29%3B%0A%20%20%20%20%20%20%20%20%0A%0A%20%20%20%20%20%20%20%20marker_76b3985ce49142a3a8d5c61254d38992.bindPopup%28popup_78f03724859548cba276a1f78295e644%29%0A%20%20%20%20%20%20%20%20%3B%0A%0A%20%20%20%20%20%20%20%20%0A%20%20%20%20%0A%20%20%20%20%0A%20%20%20%20%20%20%20%20%20%20%20%20var%20marker_5bbb6ce84ec345f9a72e832557714399%20%3D%20L.marker%28%0A%20%20%20%20%20%20%20%20%20%20%20%20%20%20%20%20%5B51.198297%2C%2071.420682%5D%2C%0A%20%20%20%20%20%20%20%20%20%20%20%20%20%20%20%20%7B%7D%0A%20%20%20%20%20%20%20%20%20%20%20%20%29.addTo%28map_0372e994ccf64c4ea30594c13123a576%29%3B%0A%20%20%20%20%20%20%20%20%0A%20%20%20%20%0A%20%20%20%20%20%20%20%20var%20popup_ece7448395094a71b8bd56996745e8ac%20%3D%20L.popup%28%7B%22maxWidth%22%3A%20%22100%25%22%7D%29%3B%0A%0A%20%20%20%20%20%20%20%20%0A%20%20%20%20%20%20%20%20%20%20%20%20var%20html_84261f298f7d42c6a9ee4e4127fc2110%20%3D%20%24%28%60%3Cdiv%20id%3D%22html_84261f298f7d42c6a9ee4e4127fc2110%22%20style%3D%22width%3A%20100.0%25%3B%20height%3A%20100.0%25%3B%22%3E%D0%9D%D1%83%D1%80-%D0%A1%D1%83%D0%BB%D1%82%D0%B0%D0%BD%20%28%D0%90%D1%81%D1%82%D0%B0%D0%BD%D0%B0%29%2C%20%D1%80-%D0%BD%20%D0%91%D0%B0%D0%B9%D0%BA%D0%BE%D0%BD%D1%83%D1%80%2C%20%D1%83%D0%BB%D0%B8%D1%86%D0%B0%20%D0%A2%D0%B0%D0%B9%D0%B1%D1%83%D1%80%D1%8B%D0%BB%207%D0%B0%3C/div%3E%60%29%5B0%5D%3B%0A%20%20%20%20%20%20%20%20%20%20%20%20popup_ece7448395094a71b8bd56996745e8ac.setContent%28html_84261f298f7d42c6a9ee4e4127fc2110%29%3B%0A%20%20%20%20%20%20%20%20%0A%0A%20%20%20%20%20%20%20%20marker_5bbb6ce84ec345f9a72e832557714399.bindPopup%28popup_ece7448395094a71b8bd56996745e8ac%29%0A%20%20%20%20%20%20%20%20%3B%0A%0A%20%20%20%20%20%20%20%20%0A%20%20%20%20%0A%20%20%20%20%0A%20%20%20%20%20%20%20%20%20%20%20%20var%20marker_dc3419aa07d74a6081ffa6d9ff2fa8e6%20%3D%20L.marker%28%0A%20%20%20%20%20%20%20%20%20%20%20%20%20%20%20%20%5B51.094154%2C%2071.43254%5D%2C%0A%20%20%20%20%20%20%20%20%20%20%20%20%20%20%20%20%7B%7D%0A%20%20%20%20%20%20%20%20%20%20%20%20%29.addTo%28map_0372e994ccf64c4ea30594c13123a576%29%3B%0A%20%20%20%20%20%20%20%20%0A%20%20%20%20%0A%20%20%20%20%20%20%20%20var%20popup_d4d159d008eb4335a92a0bad231ab668%20%3D%20L.popup%28%7B%22maxWidth%22%3A%20%22100%25%22%7D%29%3B%0A%0A%20%20%20%20%20%20%20%20%0A%20%20%20%20%20%20%20%20%20%20%20%20var%20html_47abfad8d5ef4713b7399b80b7079eba%20%3D%20%24%28%60%3Cdiv%20id%3D%22html_47abfad8d5ef4713b7399b80b7079eba%22%20style%3D%22width%3A%20100.0%25%3B%20height%3A%20100.0%25%3B%22%3E%D0%9D%D1%83%D1%80-%D0%A1%D1%83%D0%BB%D1%82%D0%B0%D0%BD%20%28%D0%90%D1%81%D1%82%D0%B0%D0%BD%D0%B0%29%2C%20%D0%95%D1%81%D0%B8%D0%BB%D1%8C%20%D1%80-%D0%BD%2C%20%D0%A3%D0%BB%D1%8B%20%D0%94%D0%B0%D0%BB%D0%B0%2018%20%E2%80%94%20%D0%9C%D0%B0%D0%BD%D0%B3%D0%B8%D0%BB%D0%B8%D0%BA%20%D0%95%D0%BB%3C/div%3E%60%29%5B0%5D%3B%0A%20%20%20%20%20%20%20%20%20%20%20%20popup_d4d159d008eb4335a92a0bad231ab668.setContent%28html_47abfad8d5ef4713b7399b80b7079eba%29%3B%0A%20%20%20%20%20%20%20%20%0A%0A%20%20%20%20%20%20%20%20marker_dc3419aa07d74a6081ffa6d9ff2fa8e6.bindPopup%28popup_d4d159d008eb4335a92a0bad231ab668%29%0A%20%20%20%20%20%20%20%20%3B%0A%0A%20%20%20%20%20%20%20%20%0A%20%20%20%20%0A%20%20%20%20%0A%20%20%20%20%20%20%20%20%20%20%20%20var%20marker_bb09d5a34fe94126ab551dc1c5db25e2%20%3D%20L.marker%28%0A%20%20%20%20%20%20%20%20%20%20%20%20%20%20%20%20%5B51.170808%2C%2071.40489%5D%2C%0A%20%20%20%20%20%20%20%20%20%20%20%20%20%20%20%20%7B%7D%0A%20%20%20%20%20%20%20%20%20%20%20%20%29.addTo%28map_0372e994ccf64c4ea30594c13123a576%29%3B%0A%20%20%20%20%20%20%20%20%0A%20%20%20%20%0A%20%20%20%20%20%20%20%20var%20popup_ae357da50e844540be8df49ea9f74cb1%20%3D%20L.popup%28%7B%22maxWidth%22%3A%20%22100%25%22%7D%29%3B%0A%0A%20%20%20%20%20%20%20%20%0A%20%20%20%20%20%20%20%20%20%20%20%20var%20html_9f7942ed9a4147fd87009829830d41bb%20%3D%20%24%28%60%3Cdiv%20id%3D%22html_9f7942ed9a4147fd87009829830d41bb%22%20style%3D%22width%3A%20100.0%25%3B%20height%3A%20100.0%25%3B%22%3E%D0%9D%D1%83%D1%80-%D0%A1%D1%83%D0%BB%D1%82%D0%B0%D0%BD%20%28%D0%90%D1%81%D1%82%D0%B0%D0%BD%D0%B0%29%2C%20%D0%A1%D0%B0%D1%80%D1%8B%D0%B0%D1%80%D0%BA%D0%B0%20%D1%80-%D0%BD%2C%20%D0%A1%D1%82%D0%B5%D0%BF%D0%B0%D0%BD%D0%B0%20%D0%9A%D1%83%D0%B1%D1%80%D0%B8%D0%BD%D0%B0%2023/1%3C/div%3E%60%29%5B0%5D%3B%0A%20%20%20%20%20%20%20%20%20%20%20%20popup_ae357da50e844540be8df49ea9f74cb1.setContent%28html_9f7942ed9a4147fd87009829830d41bb%29%3B%0A%20%20%20%20%20%20%20%20%0A%0A%20%20%20%20%20%20%20%20marker_bb09d5a34fe94126ab551dc1c5db25e2.bindPopup%28popup_ae357da50e844540be8df49ea9f74cb1%29%0A%20%20%20%20%20%20%20%20%3B%0A%0A%20%20%20%20%20%20%20%20%0A%20%20%20%20%0A%20%20%20%20%0A%20%20%20%20%20%20%20%20%20%20%20%20var%20marker_fde8b879e8c6472fba96126093065f65%20%3D%20L.marker%28%0A%20%20%20%20%20%20%20%20%20%20%20%20%20%20%20%20%5B51.094154%2C%2071.43254%5D%2C%0A%20%20%20%20%20%20%20%20%20%20%20%20%20%20%20%20%7B%7D%0A%20%20%20%20%20%20%20%20%20%20%20%20%29.addTo%28map_0372e994ccf64c4ea30594c13123a576%29%3B%0A%20%20%20%20%20%20%20%20%0A%20%20%20%20%0A%20%20%20%20%20%20%20%20var%20popup_9836d0d2d2274500a7d7a2688c0b5ae6%20%3D%20L.popup%28%7B%22maxWidth%22%3A%20%22100%25%22%7D%29%3B%0A%0A%20%20%20%20%20%20%20%20%0A%20%20%20%20%20%20%20%20%20%20%20%20var%20html_82b2b3366fca4c399f04d65914f0ff4d%20%3D%20%24%28%60%3Cdiv%20id%3D%22html_82b2b3366fca4c399f04d65914f0ff4d%22%20style%3D%22width%3A%20100.0%25%3B%20height%3A%20100.0%25%3B%22%3E%D0%9D%D1%83%D1%80-%D0%A1%D1%83%D0%BB%D1%82%D0%B0%D0%BD%20%28%D0%90%D1%81%D1%82%D0%B0%D0%BD%D0%B0%29%2C%20%D0%95%D1%81%D0%B8%D0%BB%D1%8C%20%D1%80-%D0%BD%2C%20%D0%A3%D0%BB%D1%8B%20%D0%94%D0%B0%D0%BB%D0%B0%2018%20%E2%80%94%20%D0%9C%D0%B0%D0%BD%D0%B3%D0%B8%D0%BB%D0%B8%D0%BA%20%D0%95%D0%BB%3C/div%3E%60%29%5B0%5D%3B%0A%20%20%20%20%20%20%20%20%20%20%20%20popup_9836d0d2d2274500a7d7a2688c0b5ae6.setContent%28html_82b2b3366fca4c399f04d65914f0ff4d%29%3B%0A%20%20%20%20%20%20%20%20%0A%0A%20%20%20%20%20%20%20%20marker_fde8b879e8c6472fba96126093065f65.bindPopup%28popup_9836d0d2d2274500a7d7a2688c0b5ae6%29%0A%20%20%20%20%20%20%20%20%3B%0A%0A%20%20%20%20%20%20%20%20%0A%20%20%20%20%0A%20%20%20%20%0A%20%20%20%20%20%20%20%20%20%20%20%20var%20marker_b9f70c9b4b154560b96f242f6bd1b108%20%3D%20L.marker%28%0A%20%20%20%20%20%20%20%20%20%20%20%20%20%20%20%20%5B51.167131%2C%2071.387166%5D%2C%0A%20%20%20%20%20%20%20%20%20%20%20%20%20%20%20%20%7B%7D%0A%20%20%20%20%20%20%20%20%20%20%20%20%29.addTo%28map_0372e994ccf64c4ea30594c13123a576%29%3B%0A%20%20%20%20%20%20%20%20%0A%20%20%20%20%0A%20%20%20%20%20%20%20%20var%20popup_f592d418e320412097355eacae841e01%20%3D%20L.popup%28%7B%22maxWidth%22%3A%20%22100%25%22%7D%29%3B%0A%0A%20%20%20%20%20%20%20%20%0A%20%20%20%20%20%20%20%20%20%20%20%20var%20html_f1f04be6fde243f5a9aa0693533a93e2%20%3D%20%24%28%60%3Cdiv%20id%3D%22html_f1f04be6fde243f5a9aa0693533a93e2%22%20style%3D%22width%3A%20100.0%25%3B%20height%3A%20100.0%25%3B%22%3E%D0%9D%D1%83%D1%80-%D0%A1%D1%83%D0%BB%D1%82%D0%B0%D0%BD%20%28%D0%90%D1%81%D1%82%D0%B0%D0%BD%D0%B0%29%2C%20%D0%A1%D0%B0%D1%80%D1%8B%D0%B0%D1%80%D0%BA%D0%B0%20%D1%80-%D0%BD%2C%20%D0%A8%D0%B0%D0%B9%D0%BC%D0%B5%D1%80%D0%B4%D0%B5%D0%BD%D0%B0%20%D0%9A%D0%BE%D1%81%D1%88%D1%8B%D0%B3%D1%83%D0%BB%D1%83%D0%BB%D1%8B%3C/div%3E%60%29%5B0%5D%3B%0A%20%20%20%20%20%20%20%20%20%20%20%20popup_f592d418e320412097355eacae841e01.setContent%28html_f1f04be6fde243f5a9aa0693533a93e2%29%3B%0A%20%20%20%20%20%20%20%20%0A%0A%20%20%20%20%20%20%20%20marker_b9f70c9b4b154560b96f242f6bd1b108.bindPopup%28popup_f592d418e320412097355eacae841e01%29%0A%20%20%20%20%20%20%20%20%3B%0A%0A%20%20%20%20%20%20%20%20%0A%20%20%20%20%0A%20%20%20%20%0A%20%20%20%20%20%20%20%20%20%20%20%20var%20marker_c4ba63ed180f4d2ab5fe38cba52bf918%20%3D%20L.marker%28%0A%20%20%20%20%20%20%20%20%20%20%20%20%20%20%20%20%5B51.089123%2C%2071.450387%5D%2C%0A%20%20%20%20%20%20%20%20%20%20%20%20%20%20%20%20%7B%7D%0A%20%20%20%20%20%20%20%20%20%20%20%20%29.addTo%28map_0372e994ccf64c4ea30594c13123a576%29%3B%0A%20%20%20%20%20%20%20%20%0A%20%20%20%20%0A%20%20%20%20%20%20%20%20var%20popup_3fa8fd73351543aca789715128216b1e%20%3D%20L.popup%28%7B%22maxWidth%22%3A%20%22100%25%22%7D%29%3B%0A%0A%20%20%20%20%20%20%20%20%0A%20%20%20%20%20%20%20%20%20%20%20%20var%20html_216466c3227349faa48f46c854e32777%20%3D%20%24%28%60%3Cdiv%20id%3D%22html_216466c3227349faa48f46c854e32777%22%20style%3D%22width%3A%20100.0%25%3B%20height%3A%20100.0%25%3B%22%3E%D0%9D%D1%83%D1%80-%D0%A1%D1%83%D0%BB%D1%82%D0%B0%D0%BD%20%28%D0%90%D1%81%D1%82%D0%B0%D0%BD%D0%B0%29%2C%20%D0%95%D1%81%D0%B8%D0%BB%D1%8C%20%D1%80-%D0%BD%2C%2038%2034/1%3C/div%3E%60%29%5B0%5D%3B%0A%20%20%20%20%20%20%20%20%20%20%20%20popup_3fa8fd73351543aca789715128216b1e.setContent%28html_216466c3227349faa48f46c854e32777%29%3B%0A%20%20%20%20%20%20%20%20%0A%0A%20%20%20%20%20%20%20%20marker_c4ba63ed180f4d2ab5fe38cba52bf918.bindPopup%28popup_3fa8fd73351543aca789715128216b1e%29%0A%20%20%20%20%20%20%20%20%3B%0A%0A%20%20%20%20%20%20%20%20%0A%20%20%20%20%0A%20%20%20%20%0A%20%20%20%20%20%20%20%20%20%20%20%20var%20marker_7433df7803c54e4fa76e32b9f6edb4ec%20%3D%20L.marker%28%0A%20%20%20%20%20%20%20%20%20%20%20%20%20%20%20%20%5B51.123586400428%2C%2071.480645308343%5D%2C%0A%20%20%20%20%20%20%20%20%20%20%20%20%20%20%20%20%7B%7D%0A%20%20%20%20%20%20%20%20%20%20%20%20%29.addTo%28map_0372e994ccf64c4ea30594c13123a576%29%3B%0A%20%20%20%20%20%20%20%20%0A%20%20%20%20%0A%20%20%20%20%20%20%20%20var%20popup_4f3b8362607c4236974ed0de1865c96e%20%3D%20L.popup%28%7B%22maxWidth%22%3A%20%22100%25%22%7D%29%3B%0A%0A%20%20%20%20%20%20%20%20%0A%20%20%20%20%20%20%20%20%20%20%20%20var%20html_f231707316f64392a0ebbc7ec2a212e1%20%3D%20%24%28%60%3Cdiv%20id%3D%22html_f231707316f64392a0ebbc7ec2a212e1%22%20style%3D%22width%3A%20100.0%25%3B%20height%3A%20100.0%25%3B%22%3E%D0%9D%D1%83%D1%80-%D0%A1%D1%83%D0%BB%D1%82%D0%B0%D0%BD%20%28%D0%90%D1%81%D1%82%D0%B0%D0%BD%D0%B0%29%2C%20%D0%90%D0%BB%D0%BC%D0%B0%D1%82%D1%8B%20%D1%80-%D0%BD%2C%20%D0%9A%D0%BE%D1%88%D0%BA%D0%B0%D1%80%D0%B1%D0%B0%D0%B5%D0%B2%D0%B0%2032/1%3C/div%3E%60%29%5B0%5D%3B%0A%20%20%20%20%20%20%20%20%20%20%20%20popup_4f3b8362607c4236974ed0de1865c96e.setContent%28html_f231707316f64392a0ebbc7ec2a212e1%29%3B%0A%20%20%20%20%20%20%20%20%0A%0A%20%20%20%20%20%20%20%20marker_7433df7803c54e4fa76e32b9f6edb4ec.bindPopup%28popup_4f3b8362607c4236974ed0de1865c96e%29%0A%20%20%20%20%20%20%20%20%3B%0A%0A%20%20%20%20%20%20%20%20%0A%20%20%20%20%0A%20%20%20%20%0A%20%20%20%20%20%20%20%20%20%20%20%20var%20marker_20d71b0492cc45f8b5388b5fbce68dad%20%3D%20L.marker%28%0A%20%20%20%20%20%20%20%20%20%20%20%20%20%20%20%20%5B51.162143%2C%2071.452829%5D%2C%0A%20%20%20%20%20%20%20%20%20%20%20%20%20%20%20%20%7B%7D%0A%20%20%20%20%20%20%20%20%20%20%20%20%29.addTo%28map_0372e994ccf64c4ea30594c13123a576%29%3B%0A%20%20%20%20%20%20%20%20%0A%20%20%20%20%0A%20%20%20%20%20%20%20%20var%20popup_b61c85a3350e4b2996ea002d31f59986%20%3D%20L.popup%28%7B%22maxWidth%22%3A%20%22100%25%22%7D%29%3B%0A%0A%20%20%20%20%20%20%20%20%0A%20%20%20%20%20%20%20%20%20%20%20%20var%20html_b69485aaf2724b8db48a31ecae94e150%20%3D%20%24%28%60%3Cdiv%20id%3D%22html_b69485aaf2724b8db48a31ecae94e150%22%20style%3D%22width%3A%20100.0%25%3B%20height%3A%20100.0%25%3B%22%3E%D0%9D%D1%83%D1%80-%D0%A1%D1%83%D0%BB%D1%82%D0%B0%D0%BD%20%28%D0%90%D1%81%D1%82%D0%B0%D0%BD%D0%B0%29%2C%20%D1%80-%D0%BD%20%D0%91%D0%B0%D0%B9%D0%BA%D0%BE%D0%BD%D1%83%D1%80%2C%20%D0%91%D0%B5%D0%B9%D1%81%D0%B5%D0%BA%D0%B1%D0%B0%D0%B5%D0%B2%D0%B0%202%20%E2%80%94%20%D0%98%D0%BC%D0%B0%D0%BD%D0%BE%D0%B2%D0%B0%3C/div%3E%60%29%5B0%5D%3B%0A%20%20%20%20%20%20%20%20%20%20%20%20popup_b61c85a3350e4b2996ea002d31f59986.setContent%28html_b69485aaf2724b8db48a31ecae94e150%29%3B%0A%20%20%20%20%20%20%20%20%0A%0A%20%20%20%20%20%20%20%20marker_20d71b0492cc45f8b5388b5fbce68dad.bindPopup%28popup_b61c85a3350e4b2996ea002d31f59986%29%0A%20%20%20%20%20%20%20%20%3B%0A%0A%20%20%20%20%20%20%20%20%0A%20%20%20%20%0A%20%20%20%20%0A%20%20%20%20%20%20%20%20%20%20%20%20var%20marker_87384ec21d00416bb001b4e5731ddd14%20%3D%20L.marker%28%0A%20%20%20%20%20%20%20%20%20%20%20%20%20%20%20%20%5B51.196626%2C%2071.359947%5D%2C%0A%20%20%20%20%20%20%20%20%20%20%20%20%20%20%20%20%7B%7D%0A%20%20%20%20%20%20%20%20%20%20%20%20%29.addTo%28map_0372e994ccf64c4ea30594c13123a576%29%3B%0A%20%20%20%20%20%20%20%20%0A%20%20%20%20%0A%20%20%20%20%20%20%20%20var%20popup_db7dd20b418d49a8b0d24e5344b5d0ba%20%3D%20L.popup%28%7B%22maxWidth%22%3A%20%22100%25%22%7D%29%3B%0A%0A%20%20%20%20%20%20%20%20%0A%20%20%20%20%20%20%20%20%20%20%20%20var%20html_ba7c6d81f5104956a96f907238507762%20%3D%20%24%28%60%3Cdiv%20id%3D%22html_ba7c6d81f5104956a96f907238507762%22%20style%3D%22width%3A%20100.0%25%3B%20height%3A%20100.0%25%3B%22%3E%D0%9D%D1%83%D1%80-%D0%A1%D1%83%D0%BB%D1%82%D0%B0%D0%BD%20%28%D0%90%D1%81%D1%82%D0%B0%D0%BD%D0%B0%29%2C%20%D0%A1%D0%B0%D1%80%D1%8B%D0%B0%D1%80%D0%BA%D0%B0%20%D1%80-%D0%BD%2C%20%D0%9A.%20%D0%91%D0%B0%D0%B9%D1%81%D0%B5%D0%B8%D1%82%D0%BE%D0%B2%D0%BE%D0%B9%3C/div%3E%60%29%5B0%5D%3B%0A%20%20%20%20%20%20%20%20%20%20%20%20popup_db7dd20b418d49a8b0d24e5344b5d0ba.setContent%28html_ba7c6d81f5104956a96f907238507762%29%3B%0A%20%20%20%20%20%20%20%20%0A%0A%20%20%20%20%20%20%20%20marker_87384ec21d00416bb001b4e5731ddd14.bindPopup%28popup_db7dd20b418d49a8b0d24e5344b5d0ba%29%0A%20%20%20%20%20%20%20%20%3B%0A%0A%20%20%20%20%20%20%20%20%0A%20%20%20%20%0A%20%20%20%20%0A%20%20%20%20%20%20%20%20%20%20%20%20var%20marker_c5ff97980e634fb78774216c7205c4b7%20%3D%20L.marker%28%0A%20%20%20%20%20%20%20%20%20%20%20%20%20%20%20%20%5B51.099969290062106%2C%2071.4559042453765%5D%2C%0A%20%20%20%20%20%20%20%20%20%20%20%20%20%20%20%20%7B%7D%0A%20%20%20%20%20%20%20%20%20%20%20%20%29.addTo%28map_0372e994ccf64c4ea30594c13123a576%29%3B%0A%20%20%20%20%20%20%20%20%0A%20%20%20%20%0A%20%20%20%20%20%20%20%20var%20popup_775fbba8f93a473983079d36151860f6%20%3D%20L.popup%28%7B%22maxWidth%22%3A%20%22100%25%22%7D%29%3B%0A%0A%20%20%20%20%20%20%20%20%0A%20%20%20%20%20%20%20%20%20%20%20%20var%20html_e95aeacf15cb45f487ec81f5ac01b298%20%3D%20%24%28%60%3Cdiv%20id%3D%22html_e95aeacf15cb45f487ec81f5ac01b298%22%20style%3D%22width%3A%20100.0%25%3B%20height%3A%20100.0%25%3B%22%3E%D0%9D%D1%83%D1%80-%D0%A1%D1%83%D0%BB%D1%82%D0%B0%D0%BD%20%28%D0%90%D1%81%D1%82%D0%B0%D0%BD%D0%B0%29%2C%20%D0%95%D1%81%D0%B8%D0%BB%D1%8C%20%D1%80-%D0%BD%2C%20%D0%9A%D0%B5%D1%80%D0%B5%D0%B9%2C%20%D0%96%D0%B0%D0%BD%D0%B8%D0%B1%D0%B5%D0%BA%20%D1%85%D0%B0%D0%BD%D0%B4%D0%B0%D1%80%208%D0%B0%3C/div%3E%60%29%5B0%5D%3B%0A%20%20%20%20%20%20%20%20%20%20%20%20popup_775fbba8f93a473983079d36151860f6.setContent%28html_e95aeacf15cb45f487ec81f5ac01b298%29%3B%0A%20%20%20%20%20%20%20%20%0A%0A%20%20%20%20%20%20%20%20marker_c5ff97980e634fb78774216c7205c4b7.bindPopup%28popup_775fbba8f93a473983079d36151860f6%29%0A%20%20%20%20%20%20%20%20%3B%0A%0A%20%20%20%20%20%20%20%20%0A%20%20%20%20%0A%20%20%20%20%0A%20%20%20%20%20%20%20%20%20%20%20%20var%20marker_4f776d2de5b6450f8ce53d5272880ba0%20%3D%20L.marker%28%0A%20%20%20%20%20%20%20%20%20%20%20%20%20%20%20%20%5B51.167318862792%2C%2071.4284833501%5D%2C%0A%20%20%20%20%20%20%20%20%20%20%20%20%20%20%20%20%7B%7D%0A%20%20%20%20%20%20%20%20%20%20%20%20%29.addTo%28map_0372e994ccf64c4ea30594c13123a576%29%3B%0A%20%20%20%20%20%20%20%20%0A%20%20%20%20%0A%20%20%20%20%20%20%20%20var%20popup_4ad29782fed74197a11f9495e1359b44%20%3D%20L.popup%28%7B%22maxWidth%22%3A%20%22100%25%22%7D%29%3B%0A%0A%20%20%20%20%20%20%20%20%0A%20%20%20%20%20%20%20%20%20%20%20%20var%20html_7ef5c13911394c61803f1ba3702fe5c2%20%3D%20%24%28%60%3Cdiv%20id%3D%22html_7ef5c13911394c61803f1ba3702fe5c2%22%20style%3D%22width%3A%20100.0%25%3B%20height%3A%20100.0%25%3B%22%3E%D0%9D%D1%83%D1%80-%D0%A1%D1%83%D0%BB%D1%82%D0%B0%D0%BD%20%28%D0%90%D1%81%D1%82%D0%B0%D0%BD%D0%B0%29%2C%20%D1%80-%D0%BD%20%D0%91%D0%B0%D0%B9%D0%BA%D0%BE%D0%BD%D1%83%D1%80%2C%20%D0%9E%D1%82%D1%8B%D1%80%D0%B0%D1%80%202%3C/div%3E%60%29%5B0%5D%3B%0A%20%20%20%20%20%20%20%20%20%20%20%20popup_4ad29782fed74197a11f9495e1359b44.setContent%28html_7ef5c13911394c61803f1ba3702fe5c2%29%3B%0A%20%20%20%20%20%20%20%20%0A%0A%20%20%20%20%20%20%20%20marker_4f776d2de5b6450f8ce53d5272880ba0.bindPopup%28popup_4ad29782fed74197a11f9495e1359b44%29%0A%20%20%20%20%20%20%20%20%3B%0A%0A%20%20%20%20%20%20%20%20%0A%20%20%20%20%0A%20%20%20%20%0A%20%20%20%20%20%20%20%20%20%20%20%20var%20marker_26726691b8174f8486bfbd359abc4321%20%3D%20L.marker%28%0A%20%20%20%20%20%20%20%20%20%20%20%20%20%20%20%20%5B51.112077%2C%2071.457819%5D%2C%0A%20%20%20%20%20%20%20%20%20%20%20%20%20%20%20%20%7B%7D%0A%20%20%20%20%20%20%20%20%20%20%20%20%29.addTo%28map_0372e994ccf64c4ea30594c13123a576%29%3B%0A%20%20%20%20%20%20%20%20%0A%20%20%20%20%0A%20%20%20%20%20%20%20%20var%20popup_caa00f50d0924fd291b44a036bc22c78%20%3D%20L.popup%28%7B%22maxWidth%22%3A%20%22100%25%22%7D%29%3B%0A%0A%20%20%20%20%20%20%20%20%0A%20%20%20%20%20%20%20%20%20%20%20%20var%20html_e40a78db86854dd6bf436dd808463c02%20%3D%20%24%28%60%3Cdiv%20id%3D%22html_e40a78db86854dd6bf436dd808463c02%22%20style%3D%22width%3A%20100.0%25%3B%20height%3A%20100.0%25%3B%22%3E%D0%9D%D1%83%D1%80-%D0%A1%D1%83%D0%BB%D1%82%D0%B0%D0%BD%20%28%D0%90%D1%81%D1%82%D0%B0%D0%BD%D0%B0%29%2C%20%D0%90%D0%BB%D0%BC%D0%B0%D1%82%D1%8B%20%D1%80-%D0%BD%2C%20%D0%98%D0%B2%D0%B0%D0%BD%D0%B0%20%D0%9F%D0%B0%D0%BD%D1%84%D0%B8%D0%BB%D0%BE%D0%B2%D0%B0%2014%3C/div%3E%60%29%5B0%5D%3B%0A%20%20%20%20%20%20%20%20%20%20%20%20popup_caa00f50d0924fd291b44a036bc22c78.setContent%28html_e40a78db86854dd6bf436dd808463c02%29%3B%0A%20%20%20%20%20%20%20%20%0A%0A%20%20%20%20%20%20%20%20marker_26726691b8174f8486bfbd359abc4321.bindPopup%28popup_caa00f50d0924fd291b44a036bc22c78%29%0A%20%20%20%20%20%20%20%20%3B%0A%0A%20%20%20%20%20%20%20%20%0A%20%20%20%20%0A%20%20%20%20%0A%20%20%20%20%20%20%20%20%20%20%20%20var%20marker_d78d01dd579b4abd9c1e6baef217e584%20%3D%20L.marker%28%0A%20%20%20%20%20%20%20%20%20%20%20%20%20%20%20%20%5B51.15206%2C%2071.496608%5D%2C%0A%20%20%20%20%20%20%20%20%20%20%20%20%20%20%20%20%7B%7D%0A%20%20%20%20%20%20%20%20%20%20%20%20%29.addTo%28map_0372e994ccf64c4ea30594c13123a576%29%3B%0A%20%20%20%20%20%20%20%20%0A%20%20%20%20%0A%20%20%20%20%20%20%20%20var%20popup_25d245b1ae6b4bbfa7559907946e60a1%20%3D%20L.popup%28%7B%22maxWidth%22%3A%20%22100%25%22%7D%29%3B%0A%0A%20%20%20%20%20%20%20%20%0A%20%20%20%20%20%20%20%20%20%20%20%20var%20html_53ca473addd94acea517134d6716ed35%20%3D%20%24%28%60%3Cdiv%20id%3D%22html_53ca473addd94acea517134d6716ed35%22%20style%3D%22width%3A%20100.0%25%3B%20height%3A%20100.0%25%3B%22%3E%D0%9D%D1%83%D1%80-%D0%A1%D1%83%D0%BB%D1%82%D0%B0%D0%BD%20%28%D0%90%D1%81%D1%82%D0%B0%D0%BD%D0%B0%29%2C%20%D0%90%D0%BB%D0%BC%D0%B0%D1%82%D1%8B%20%D1%80-%D0%BD%2C%20%D0%A0%D1%8B%D1%81%D0%BA%D1%83%D0%BB%D0%B1%D0%B5%D0%BA%D0%BE%D0%B2%D0%B0%202/1%3C/div%3E%60%29%5B0%5D%3B%0A%20%20%20%20%20%20%20%20%20%20%20%20popup_25d245b1ae6b4bbfa7559907946e60a1.setContent%28html_53ca473addd94acea517134d6716ed35%29%3B%0A%20%20%20%20%20%20%20%20%0A%0A%20%20%20%20%20%20%20%20marker_d78d01dd579b4abd9c1e6baef217e584.bindPopup%28popup_25d245b1ae6b4bbfa7559907946e60a1%29%0A%20%20%20%20%20%20%20%20%3B%0A%0A%20%20%20%20%20%20%20%20%0A%20%20%20%20%0A%20%20%20%20%0A%20%20%20%20%20%20%20%20%20%20%20%20var%20marker_bf69756d2fbc420693b1ad981de292bd%20%3D%20L.marker%28%0A%20%20%20%20%20%20%20%20%20%20%20%20%20%20%20%20%5B51.123139817431%2C%2071.485522146831%5D%2C%0A%20%20%20%20%20%20%20%20%20%20%20%20%20%20%20%20%7B%7D%0A%20%20%20%20%20%20%20%20%20%20%20%20%29.addTo%28map_0372e994ccf64c4ea30594c13123a576%29%3B%0A%20%20%20%20%20%20%20%20%0A%20%20%20%20%0A%20%20%20%20%20%20%20%20var%20popup_33dc1084a0864a759f1a6195e1fdd123%20%3D%20L.popup%28%7B%22maxWidth%22%3A%20%22100%25%22%7D%29%3B%0A%0A%20%20%20%20%20%20%20%20%0A%20%20%20%20%20%20%20%20%20%20%20%20var%20html_90b471b143cc443cadbe824128a7c046%20%3D%20%24%28%60%3Cdiv%20id%3D%22html_90b471b143cc443cadbe824128a7c046%22%20style%3D%22width%3A%20100.0%25%3B%20height%3A%20100.0%25%3B%22%3E%D0%9D%D1%83%D1%80-%D0%A1%D1%83%D0%BB%D1%82%D0%B0%D0%BD%20%28%D0%90%D1%81%D1%82%D0%B0%D0%BD%D0%B0%29%2C%20%D0%90%D0%BB%D0%BC%D0%B0%D1%82%D1%8B%20%D1%80-%D0%BD%2C%20%D0%91%D0%B0%D0%B9%D1%82%D1%83%D1%80%D1%81%D1%8B%D0%BD%D0%BE%D0%B2%D0%B0%3C/div%3E%60%29%5B0%5D%3B%0A%20%20%20%20%20%20%20%20%20%20%20%20popup_33dc1084a0864a759f1a6195e1fdd123.setContent%28html_90b471b143cc443cadbe824128a7c046%29%3B%0A%20%20%20%20%20%20%20%20%0A%0A%20%20%20%20%20%20%20%20marker_bf69756d2fbc420693b1ad981de292bd.bindPopup%28popup_33dc1084a0864a759f1a6195e1fdd123%29%0A%20%20%20%20%20%20%20%20%3B%0A%0A%20%20%20%20%20%20%20%20%0A%20%20%20%20%0A%20%20%20%20%0A%20%20%20%20%20%20%20%20%20%20%20%20var%20marker_639e7c524fc54bdd97f43425d4ff406f%20%3D%20L.marker%28%0A%20%20%20%20%20%20%20%20%20%20%20%20%20%20%20%20%5B51.144223611993%2C%2071.379535748512%5D%2C%0A%20%20%20%20%20%20%20%20%20%20%20%20%20%20%20%20%7B%7D%0A%20%20%20%20%20%20%20%20%20%20%20%20%29.addTo%28map_0372e994ccf64c4ea30594c13123a576%29%3B%0A%20%20%20%20%20%20%20%20%0A%20%20%20%20%0A%20%20%20%20%20%20%20%20var%20popup_b90b949dbfd548dfa2e127e7d912a881%20%3D%20L.popup%28%7B%22maxWidth%22%3A%20%22100%25%22%7D%29%3B%0A%0A%20%20%20%20%20%20%20%20%0A%20%20%20%20%20%20%20%20%20%20%20%20var%20html_18321d0504fd4d0fb0e4b906a30c2176%20%3D%20%24%28%60%3Cdiv%20id%3D%22html_18321d0504fd4d0fb0e4b906a30c2176%22%20style%3D%22width%3A%20100.0%25%3B%20height%3A%20100.0%25%3B%22%3E%D0%9D%D1%83%D1%80-%D0%A1%D1%83%D0%BB%D1%82%D0%B0%D0%BD%20%28%D0%90%D1%81%D1%82%D0%B0%D0%BD%D0%B0%29%2C%20%D0%95%D1%81%D0%B8%D0%BB%D1%8C%20%D1%80-%D0%BD%2C%2022-4%3C/div%3E%60%29%5B0%5D%3B%0A%20%20%20%20%20%20%20%20%20%20%20%20popup_b90b949dbfd548dfa2e127e7d912a881.setContent%28html_18321d0504fd4d0fb0e4b906a30c2176%29%3B%0A%20%20%20%20%20%20%20%20%0A%0A%20%20%20%20%20%20%20%20marker_639e7c524fc54bdd97f43425d4ff406f.bindPopup%28popup_b90b949dbfd548dfa2e127e7d912a881%29%0A%20%20%20%20%20%20%20%20%3B%0A%0A%20%20%20%20%20%20%20%20%0A%20%20%20%20%0A%20%20%20%20%0A%20%20%20%20%20%20%20%20%20%20%20%20var%20marker_9362ba9ef1f14e2aa17e7f4d80325366%20%3D%20L.marker%28%0A%20%20%20%20%20%20%20%20%20%20%20%20%20%20%20%20%5B51.12226%2C%2071.431004%5D%2C%0A%20%20%20%20%20%20%20%20%20%20%20%20%20%20%20%20%7B%7D%0A%20%20%20%20%20%20%20%20%20%20%20%20%29.addTo%28map_0372e994ccf64c4ea30594c13123a576%29%3B%0A%20%20%20%20%20%20%20%20%0A%20%20%20%20%0A%20%20%20%20%20%20%20%20var%20popup_7327b4d4c1ae45b5bdcb92a5ae7e54e1%20%3D%20L.popup%28%7B%22maxWidth%22%3A%20%22100%25%22%7D%29%3B%0A%0A%20%20%20%20%20%20%20%20%0A%20%20%20%20%20%20%20%20%20%20%20%20var%20html_67cc495fd5f24a95bc44296875781924%20%3D%20%24%28%60%3Cdiv%20id%3D%22html_67cc495fd5f24a95bc44296875781924%22%20style%3D%22width%3A%20100.0%25%3B%20height%3A%20100.0%25%3B%22%3E%D0%9D%D1%83%D1%80-%D0%A1%D1%83%D0%BB%D1%82%D0%B0%D0%BD%20%28%D0%90%D1%81%D1%82%D0%B0%D0%BD%D0%B0%29%2C%20%D0%95%D1%81%D0%B8%D0%BB%D1%8C%20%D1%80-%D0%BD%2C%20%D0%A1%D1%8B%D0%B3%D0%B0%D0%BD%D0%B0%D0%BA%2018/2%20%E2%80%94%20%D0%A2%D1%83%D1%80%D0%BA%D0%B5%D1%81%D1%82%D0%B0%D0%BD%3C/div%3E%60%29%5B0%5D%3B%0A%20%20%20%20%20%20%20%20%20%20%20%20popup_7327b4d4c1ae45b5bdcb92a5ae7e54e1.setContent%28html_67cc495fd5f24a95bc44296875781924%29%3B%0A%20%20%20%20%20%20%20%20%0A%0A%20%20%20%20%20%20%20%20marker_9362ba9ef1f14e2aa17e7f4d80325366.bindPopup%28popup_7327b4d4c1ae45b5bdcb92a5ae7e54e1%29%0A%20%20%20%20%20%20%20%20%3B%0A%0A%20%20%20%20%20%20%20%20%0A%20%20%20%20%0A%20%20%20%20%0A%20%20%20%20%20%20%20%20%20%20%20%20var%20marker_d284e9ed397e49a29985c62b6d96a6b0%20%3D%20L.marker%28%0A%20%20%20%20%20%20%20%20%20%20%20%20%20%20%20%20%5B51.087586011104%2C%2071.42876353873%5D%2C%0A%20%20%20%20%20%20%20%20%20%20%20%20%20%20%20%20%7B%7D%0A%20%20%20%20%20%20%20%20%20%20%20%20%29.addTo%28map_0372e994ccf64c4ea30594c13123a576%29%3B%0A%20%20%20%20%20%20%20%20%0A%20%20%20%20%0A%20%20%20%20%20%20%20%20var%20popup_fcf51aa62fb24946a6da78ba5abafc0b%20%3D%20L.popup%28%7B%22maxWidth%22%3A%20%22100%25%22%7D%29%3B%0A%0A%20%20%20%20%20%20%20%20%0A%20%20%20%20%20%20%20%20%20%20%20%20var%20html_4ddfa2b234f740b58aa8287d162a39c9%20%3D%20%24%28%60%3Cdiv%20id%3D%22html_4ddfa2b234f740b58aa8287d162a39c9%22%20style%3D%22width%3A%20100.0%25%3B%20height%3A%20100.0%25%3B%22%3E%D0%9D%D1%83%D1%80-%D0%A1%D1%83%D0%BB%D1%82%D0%B0%D0%BD%20%28%D0%90%D1%81%D1%82%D0%B0%D0%BD%D0%B0%29%2C%20%D0%95%D1%81%D0%B8%D0%BB%D1%8C%20%D1%80-%D0%BD%2C%20%D0%91%D0%BE%D0%BA%D0%B5%D0%B9%D1%85%D0%B0%D0%BD%D0%B0%2025%3C/div%3E%60%29%5B0%5D%3B%0A%20%20%20%20%20%20%20%20%20%20%20%20popup_fcf51aa62fb24946a6da78ba5abafc0b.setContent%28html_4ddfa2b234f740b58aa8287d162a39c9%29%3B%0A%20%20%20%20%20%20%20%20%0A%0A%20%20%20%20%20%20%20%20marker_d284e9ed397e49a29985c62b6d96a6b0.bindPopup%28popup_fcf51aa62fb24946a6da78ba5abafc0b%29%0A%20%20%20%20%20%20%20%20%3B%0A%0A%20%20%20%20%20%20%20%20%0A%20%20%20%20%0A%20%20%20%20%0A%20%20%20%20%20%20%20%20%20%20%20%20var%20marker_a5951a9f140b48238f3e7d23d4848f0a%20%3D%20L.marker%28%0A%20%20%20%20%20%20%20%20%20%20%20%20%20%20%20%20%5B51.137958386145%2C%2071.46865236049%5D%2C%0A%20%20%20%20%20%20%20%20%20%20%20%20%20%20%20%20%7B%7D%0A%20%20%20%20%20%20%20%20%20%20%20%20%29.addTo%28map_0372e994ccf64c4ea30594c13123a576%29%3B%0A%20%20%20%20%20%20%20%20%0A%20%20%20%20%0A%20%20%20%20%20%20%20%20var%20popup_38060e370fe2470183446b5ed7b82e62%20%3D%20L.popup%28%7B%22maxWidth%22%3A%20%22100%25%22%7D%29%3B%0A%0A%20%20%20%20%20%20%20%20%0A%20%20%20%20%20%20%20%20%20%20%20%20var%20html_a0b5c9b548a541df9ba775e530ca0c04%20%3D%20%24%28%60%3Cdiv%20id%3D%22html_a0b5c9b548a541df9ba775e530ca0c04%22%20style%3D%22width%3A%20100.0%25%3B%20height%3A%20100.0%25%3B%22%3E%D0%9D%D1%83%D1%80-%D0%A1%D1%83%D0%BB%D1%82%D0%B0%D0%BD%20%28%D0%90%D1%81%D1%82%D0%B0%D0%BD%D0%B0%29%2C%20%D0%90%D0%BB%D0%BC%D0%B0%D1%82%D1%8B%20%D1%80-%D0%BD%2C%20%D0%9C%D0%BE%D0%BC%D1%8B%D1%88%D1%83%D0%BB%D1%8B%3C/div%3E%60%29%5B0%5D%3B%0A%20%20%20%20%20%20%20%20%20%20%20%20popup_38060e370fe2470183446b5ed7b82e62.setContent%28html_a0b5c9b548a541df9ba775e530ca0c04%29%3B%0A%20%20%20%20%20%20%20%20%0A%0A%20%20%20%20%20%20%20%20marker_a5951a9f140b48238f3e7d23d4848f0a.bindPopup%28popup_38060e370fe2470183446b5ed7b82e62%29%0A%20%20%20%20%20%20%20%20%3B%0A%0A%20%20%20%20%20%20%20%20%0A%20%20%20%20%0A%20%20%20%20%0A%20%20%20%20%20%20%20%20%20%20%20%20var%20marker_a6e1971e364b4672bd200ddcb0d8e009%20%3D%20L.marker%28%0A%20%20%20%20%20%20%20%20%20%20%20%20%20%20%20%20%5B51.16763778308%2C%2071.449512635582%5D%2C%0A%20%20%20%20%20%20%20%20%20%20%20%20%20%20%20%20%7B%7D%0A%20%20%20%20%20%20%20%20%20%20%20%20%29.addTo%28map_0372e994ccf64c4ea30594c13123a576%29%3B%0A%20%20%20%20%20%20%20%20%0A%20%20%20%20%0A%20%20%20%20%20%20%20%20var%20popup_a04bb75c81e644099e9d53cf096e233d%20%3D%20L.popup%28%7B%22maxWidth%22%3A%20%22100%25%22%7D%29%3B%0A%0A%20%20%20%20%20%20%20%20%0A%20%20%20%20%20%20%20%20%20%20%20%20var%20html_f9f7c5d9d2544c178bc5389e4d65fd50%20%3D%20%24%28%60%3Cdiv%20id%3D%22html_f9f7c5d9d2544c178bc5389e4d65fd50%22%20style%3D%22width%3A%20100.0%25%3B%20height%3A%20100.0%25%3B%22%3E%D0%9D%D1%83%D1%80-%D0%A1%D1%83%D0%BB%D1%82%D0%B0%D0%BD%20%28%D0%90%D1%81%D1%82%D0%B0%D0%BD%D0%B0%29%2C%20%D1%80-%D0%BD%20%D0%91%D0%B0%D0%B9%D0%BA%D0%BE%D0%BD%D1%83%D1%80%2C%20%D0%A1%D0%B0%D1%80%D1%8B%D0%BA%D0%BE%D0%BB%D1%8C%2032%20%E2%80%94%20%D0%90%D1%85%D0%BC%D0%B5%D1%82%D0%B0%20%D0%91%D0%B0%D0%B9%D1%82%D1%83%D1%80%D1%81%D1%8B%D0%BD%D0%BE%D0%B2%D0%B0%3C/div%3E%60%29%5B0%5D%3B%0A%20%20%20%20%20%20%20%20%20%20%20%20popup_a04bb75c81e644099e9d53cf096e233d.setContent%28html_f9f7c5d9d2544c178bc5389e4d65fd50%29%3B%0A%20%20%20%20%20%20%20%20%0A%0A%20%20%20%20%20%20%20%20marker_a6e1971e364b4672bd200ddcb0d8e009.bindPopup%28popup_a04bb75c81e644099e9d53cf096e233d%29%0A%20%20%20%20%20%20%20%20%3B%0A%0A%20%20%20%20%20%20%20%20%0A%20%20%20%20%0A%20%20%20%20%0A%20%20%20%20%20%20%20%20%20%20%20%20var%20marker_9ec08c6f5edf4366ae74c2052442a20d%20%3D%20L.marker%28%0A%20%20%20%20%20%20%20%20%20%20%20%20%20%20%20%20%5B51.171982%2C%2071.412804%5D%2C%0A%20%20%20%20%20%20%20%20%20%20%20%20%20%20%20%20%7B%7D%0A%20%20%20%20%20%20%20%20%20%20%20%20%29.addTo%28map_0372e994ccf64c4ea30594c13123a576%29%3B%0A%20%20%20%20%20%20%20%20%0A%20%20%20%20%0A%20%20%20%20%20%20%20%20var%20popup_7d78da341d784a8a82f7c6507d3e523e%20%3D%20L.popup%28%7B%22maxWidth%22%3A%20%22100%25%22%7D%29%3B%0A%0A%20%20%20%20%20%20%20%20%0A%20%20%20%20%20%20%20%20%20%20%20%20var%20html_600451879048459391c2c6ea90db0c9e%20%3D%20%24%28%60%3Cdiv%20id%3D%22html_600451879048459391c2c6ea90db0c9e%22%20style%3D%22width%3A%20100.0%25%3B%20height%3A%20100.0%25%3B%22%3E%D0%9D%D1%83%D1%80-%D0%A1%D1%83%D0%BB%D1%82%D0%B0%D0%BD%20%28%D0%90%D1%81%D1%82%D0%B0%D0%BD%D0%B0%29%2C%20%D0%A1%D0%B0%D1%80%D1%8B%D0%B0%D1%80%D0%BA%D0%B0%20%D1%80-%D0%BD%2C%20%D0%BF%D1%80%D0%BE%D1%81%D0%BF%D0%B5%D0%BA%D1%82%20%D0%96%D0%B5%D0%BD%D0%B8%D1%81%3C/div%3E%60%29%5B0%5D%3B%0A%20%20%20%20%20%20%20%20%20%20%20%20popup_7d78da341d784a8a82f7c6507d3e523e.setContent%28html_600451879048459391c2c6ea90db0c9e%29%3B%0A%20%20%20%20%20%20%20%20%0A%0A%20%20%20%20%20%20%20%20marker_9ec08c6f5edf4366ae74c2052442a20d.bindPopup%28popup_7d78da341d784a8a82f7c6507d3e523e%29%0A%20%20%20%20%20%20%20%20%3B%0A%0A%20%20%20%20%20%20%20%20%0A%20%20%20%20%0A%20%20%20%20%0A%20%20%20%20%20%20%20%20%20%20%20%20var%20marker_eb3933ac40484065a34a6346a58b61be%20%3D%20L.marker%28%0A%20%20%20%20%20%20%20%20%20%20%20%20%20%20%20%20%5B51.119833%2C%2071.466196%5D%2C%0A%20%20%20%20%20%20%20%20%20%20%20%20%20%20%20%20%7B%7D%0A%20%20%20%20%20%20%20%20%20%20%20%20%29.addTo%28map_0372e994ccf64c4ea30594c13123a576%29%3B%0A%20%20%20%20%20%20%20%20%0A%20%20%20%20%0A%20%20%20%20%20%20%20%20var%20popup_afbc160e251b4f34b2f51140068e16d1%20%3D%20L.popup%28%7B%22maxWidth%22%3A%20%22100%25%22%7D%29%3B%0A%0A%20%20%20%20%20%20%20%20%0A%20%20%20%20%20%20%20%20%20%20%20%20var%20html_3ebdba880ec4462cad75e47b74eaa4a1%20%3D%20%24%28%60%3Cdiv%20id%3D%22html_3ebdba880ec4462cad75e47b74eaa4a1%22%20style%3D%22width%3A%20100.0%25%3B%20height%3A%20100.0%25%3B%22%3E%D0%9D%D1%83%D1%80-%D0%A1%D1%83%D0%BB%D1%82%D0%B0%D0%BD%20%28%D0%90%D1%81%D1%82%D0%B0%D0%BD%D0%B0%29%2C%20%D0%90%D0%BB%D0%BC%D0%B0%D1%82%D1%8B%20%D1%80-%D0%BD%2C%20%D0%9D%D0%B0%D0%B6%D0%B8%D0%BC%D0%B5%D0%B4%D0%B5%D0%BD%D0%BE%D0%B2%D0%B0%20%E2%80%94%20%D0%A2%D0%B0%D1%83%D0%B5%D0%BB%D1%8C%D1%81%D1%8B%D0%B7%D0%B4%D1%8B%D0%BA%3C/div%3E%60%29%5B0%5D%3B%0A%20%20%20%20%20%20%20%20%20%20%20%20popup_afbc160e251b4f34b2f51140068e16d1.setContent%28html_3ebdba880ec4462cad75e47b74eaa4a1%29%3B%0A%20%20%20%20%20%20%20%20%0A%0A%20%20%20%20%20%20%20%20marker_eb3933ac40484065a34a6346a58b61be.bindPopup%28popup_afbc160e251b4f34b2f51140068e16d1%29%0A%20%20%20%20%20%20%20%20%3B%0A%0A%20%20%20%20%20%20%20%20%0A%20%20%20%20%0A%20%20%20%20%0A%20%20%20%20%20%20%20%20%20%20%20%20var%20marker_178d820092eb47cf85734527c0d6e8fa%20%3D%20L.marker%28%0A%20%20%20%20%20%20%20%20%20%20%20%20%20%20%20%20%5B51.105506%2C%2071.434948%5D%2C%0A%20%20%20%20%20%20%20%20%20%20%20%20%20%20%20%20%7B%7D%0A%20%20%20%20%20%20%20%20%20%20%20%20%29.addTo%28map_0372e994ccf64c4ea30594c13123a576%29%3B%0A%20%20%20%20%20%20%20%20%0A%20%20%20%20%0A%20%20%20%20%20%20%20%20var%20popup_f2cb2e7f376e4cf7b5495db2693190a7%20%3D%20L.popup%28%7B%22maxWidth%22%3A%20%22100%25%22%7D%29%3B%0A%0A%20%20%20%20%20%20%20%20%0A%20%20%20%20%20%20%20%20%20%20%20%20var%20html_1f0fb0f4940f4149b6f0bfd0c4c19cdb%20%3D%20%24%28%60%3Cdiv%20id%3D%22html_1f0fb0f4940f4149b6f0bfd0c4c19cdb%22%20style%3D%22width%3A%20100.0%25%3B%20height%3A%20100.0%25%3B%22%3E%D0%9D%D1%83%D1%80-%D0%A1%D1%83%D0%BB%D1%82%D0%B0%D0%BD%20%28%D0%90%D1%81%D1%82%D0%B0%D0%BD%D0%B0%29%2C%20%D0%95%D1%81%D0%B8%D0%BB%D1%8C%20%D1%80-%D0%BD%2C%20%D0%90%D0%BB%D0%B8%D1%85%D0%B0%D0%BD%D0%B0%20%D0%91%D0%BE%D0%BA%D0%B5%D0%B9%D1%85%D0%B0%D0%BD%D0%BE%D0%B2%D0%B0%3C/div%3E%60%29%5B0%5D%3B%0A%20%20%20%20%20%20%20%20%20%20%20%20popup_f2cb2e7f376e4cf7b5495db2693190a7.setContent%28html_1f0fb0f4940f4149b6f0bfd0c4c19cdb%29%3B%0A%20%20%20%20%20%20%20%20%0A%0A%20%20%20%20%20%20%20%20marker_178d820092eb47cf85734527c0d6e8fa.bindPopup%28popup_f2cb2e7f376e4cf7b5495db2693190a7%29%0A%20%20%20%20%20%20%20%20%3B%0A%0A%20%20%20%20%20%20%20%20%0A%20%20%20%20%0A%20%20%20%20%0A%20%20%20%20%20%20%20%20%20%20%20%20var%20marker_a33c957a386b4f4eb1cc7d187b58c148%20%3D%20L.marker%28%0A%20%20%20%20%20%20%20%20%20%20%20%20%20%20%20%20%5B51.144223611993%2C%2071.379535748512%5D%2C%0A%20%20%20%20%20%20%20%20%20%20%20%20%20%20%20%20%7B%7D%0A%20%20%20%20%20%20%20%20%20%20%20%20%29.addTo%28map_0372e994ccf64c4ea30594c13123a576%29%3B%0A%20%20%20%20%20%20%20%20%0A%20%20%20%20%0A%20%20%20%20%20%20%20%20var%20popup_c3438dafea654d298f21795d581f2205%20%3D%20L.popup%28%7B%22maxWidth%22%3A%20%22100%25%22%7D%29%3B%0A%0A%20%20%20%20%20%20%20%20%0A%20%20%20%20%20%20%20%20%20%20%20%20var%20html_903b5cb62d834763978612c48f79cd94%20%3D%20%24%28%60%3Cdiv%20id%3D%22html_903b5cb62d834763978612c48f79cd94%22%20style%3D%22width%3A%20100.0%25%3B%20height%3A%20100.0%25%3B%22%3E%D0%9D%D1%83%D1%80-%D0%A1%D1%83%D0%BB%D1%82%D0%B0%D0%BD%20%28%D0%90%D1%81%D1%82%D0%B0%D0%BD%D0%B0%29%2C%20%D0%95%D1%81%D0%B8%D0%BB%D1%8C%20%D1%80-%D0%BD%2C%2022-4%203%3C/div%3E%60%29%5B0%5D%3B%0A%20%20%20%20%20%20%20%20%20%20%20%20popup_c3438dafea654d298f21795d581f2205.setContent%28html_903b5cb62d834763978612c48f79cd94%29%3B%0A%20%20%20%20%20%20%20%20%0A%0A%20%20%20%20%20%20%20%20marker_a33c957a386b4f4eb1cc7d187b58c148.bindPopup%28popup_c3438dafea654d298f21795d581f2205%29%0A%20%20%20%20%20%20%20%20%3B%0A%0A%20%20%20%20%20%20%20%20%0A%20%20%20%20%0A%20%20%20%20%0A%20%20%20%20%20%20%20%20%20%20%20%20var%20marker_f6370ede2cc549ff921893fc74ec2860%20%3D%20L.marker%28%0A%20%20%20%20%20%20%20%20%20%20%20%20%20%20%20%20%5B51.168221%2C%2071.446231%5D%2C%0A%20%20%20%20%20%20%20%20%20%20%20%20%20%20%20%20%7B%7D%0A%20%20%20%20%20%20%20%20%20%20%20%20%29.addTo%28map_0372e994ccf64c4ea30594c13123a576%29%3B%0A%20%20%20%20%20%20%20%20%0A%20%20%20%20%0A%20%20%20%20%20%20%20%20var%20popup_32fdc6dc9a8f43518879405ee5386551%20%3D%20L.popup%28%7B%22maxWidth%22%3A%20%22100%25%22%7D%29%3B%0A%0A%20%20%20%20%20%20%20%20%0A%20%20%20%20%20%20%20%20%20%20%20%20var%20html_62b108d54d6b4b0db784f5670865805d%20%3D%20%24%28%60%3Cdiv%20id%3D%22html_62b108d54d6b4b0db784f5670865805d%22%20style%3D%22width%3A%20100.0%25%3B%20height%3A%20100.0%25%3B%22%3E%D0%9D%D1%83%D1%80-%D0%A1%D1%83%D0%BB%D1%82%D0%B0%D0%BD%20%28%D0%90%D1%81%D1%82%D0%B0%D0%BD%D0%B0%29%2C%20%D1%80-%D0%BD%20%D0%91%D0%B0%D0%B9%D0%BA%D0%BE%D0%BD%D1%83%D1%80%2C%20%D0%9A%D0%B5%D0%BD%D0%B5%D1%81%D0%B0%D1%80%D1%8B%3C/div%3E%60%29%5B0%5D%3B%0A%20%20%20%20%20%20%20%20%20%20%20%20popup_32fdc6dc9a8f43518879405ee5386551.setContent%28html_62b108d54d6b4b0db784f5670865805d%29%3B%0A%20%20%20%20%20%20%20%20%0A%0A%20%20%20%20%20%20%20%20marker_f6370ede2cc549ff921893fc74ec2860.bindPopup%28popup_32fdc6dc9a8f43518879405ee5386551%29%0A%20%20%20%20%20%20%20%20%3B%0A%0A%20%20%20%20%20%20%20%20%0A%20%20%20%20%0A%20%20%20%20%0A%20%20%20%20%20%20%20%20%20%20%20%20var%20marker_34edfddc6e29491bbb5786c118318b4f%20%3D%20L.marker%28%0A%20%20%20%20%20%20%20%20%20%20%20%20%20%20%20%20%5B51.114061146007%2C%2071.498154817963%5D%2C%0A%20%20%20%20%20%20%20%20%20%20%20%20%20%20%20%20%7B%7D%0A%20%20%20%20%20%20%20%20%20%20%20%20%29.addTo%28map_0372e994ccf64c4ea30594c13123a576%29%3B%0A%20%20%20%20%20%20%20%20%0A%20%20%20%20%0A%20%20%20%20%20%20%20%20var%20popup_70370cb83810463696f657e32a7b6590%20%3D%20L.popup%28%7B%22maxWidth%22%3A%20%22100%25%22%7D%29%3B%0A%0A%20%20%20%20%20%20%20%20%0A%20%20%20%20%20%20%20%20%20%20%20%20var%20html_222555b21d5e4249a9b3f771d71557ee%20%3D%20%24%28%60%3Cdiv%20id%3D%22html_222555b21d5e4249a9b3f771d71557ee%22%20style%3D%22width%3A%20100.0%25%3B%20height%3A%20100.0%25%3B%22%3E%D0%9D%D1%83%D1%80-%D0%A1%D1%83%D0%BB%D1%82%D0%B0%D0%BD%20%28%D0%90%D1%81%D1%82%D0%B0%D0%BD%D0%B0%29%2C%20%D0%90%D0%BB%D0%BC%D0%B0%D1%82%D1%8B%20%D1%80-%D0%BD%2C%20%D0%9D%D0%B0%D0%B6%D0%B8%D0%BC%D0%B5%D0%B4%D0%B5%D0%BD%D0%BE%D0%B2%D0%B0%2034%3C/div%3E%60%29%5B0%5D%3B%0A%20%20%20%20%20%20%20%20%20%20%20%20popup_70370cb83810463696f657e32a7b6590.setContent%28html_222555b21d5e4249a9b3f771d71557ee%29%3B%0A%20%20%20%20%20%20%20%20%0A%0A%20%20%20%20%20%20%20%20marker_34edfddc6e29491bbb5786c118318b4f.bindPopup%28popup_70370cb83810463696f657e32a7b6590%29%0A%20%20%20%20%20%20%20%20%3B%0A%0A%20%20%20%20%20%20%20%20%0A%20%20%20%20%0A%20%20%20%20%0A%20%20%20%20%20%20%20%20%20%20%20%20var%20marker_860f78f4599446dda80e354fa1c921fe%20%3D%20L.marker%28%0A%20%20%20%20%20%20%20%20%20%20%20%20%20%20%20%20%5B51.146778361007%2C%2071.470767931213%5D%2C%0A%20%20%20%20%20%20%20%20%20%20%20%20%20%20%20%20%7B%7D%0A%20%20%20%20%20%20%20%20%20%20%20%20%29.addTo%28map_0372e994ccf64c4ea30594c13123a576%29%3B%0A%20%20%20%20%20%20%20%20%0A%20%20%20%20%0A%20%20%20%20%20%20%20%20var%20popup_8cf0dda0c36c4efeb9264adf1a7f7a7e%20%3D%20L.popup%28%7B%22maxWidth%22%3A%20%22100%25%22%7D%29%3B%0A%0A%20%20%20%20%20%20%20%20%0A%20%20%20%20%20%20%20%20%20%20%20%20var%20html_cf65c30da42645d1937682bc39027776%20%3D%20%24%28%60%3Cdiv%20id%3D%22html_cf65c30da42645d1937682bc39027776%22%20style%3D%22width%3A%20100.0%25%3B%20height%3A%20100.0%25%3B%22%3E%D0%9D%D1%83%D1%80-%D0%A1%D1%83%D0%BB%D1%82%D0%B0%D0%BD%20%28%D0%90%D1%81%D1%82%D0%B0%D0%BD%D0%B0%29%2C%20%D0%90%D0%BB%D0%BC%D0%B0%D1%82%D1%8B%20%D1%80-%D0%BD%2C%20%D0%9A%D0%B0%D0%BD%D1%8B%D1%88%D0%B0%20%D0%A1%D0%B0%D1%82%D0%BF%D0%B0%D0%B5%D0%B2%D0%B0%3C/div%3E%60%29%5B0%5D%3B%0A%20%20%20%20%20%20%20%20%20%20%20%20popup_8cf0dda0c36c4efeb9264adf1a7f7a7e.setContent%28html_cf65c30da42645d1937682bc39027776%29%3B%0A%20%20%20%20%20%20%20%20%0A%0A%20%20%20%20%20%20%20%20marker_860f78f4599446dda80e354fa1c921fe.bindPopup%28popup_8cf0dda0c36c4efeb9264adf1a7f7a7e%29%0A%20%20%20%20%20%20%20%20%3B%0A%0A%20%20%20%20%20%20%20%20%0A%20%20%20%20%0A%20%20%20%20%0A%20%20%20%20%20%20%20%20%20%20%20%20var%20marker_a671b33933084511bab82a833a61f109%20%3D%20L.marker%28%0A%20%20%20%20%20%20%20%20%20%20%20%20%20%20%20%20%5B51.138612%2C%2071.469569%5D%2C%0A%20%20%20%20%20%20%20%20%20%20%20%20%20%20%20%20%7B%7D%0A%20%20%20%20%20%20%20%20%20%20%20%20%29.addTo%28map_0372e994ccf64c4ea30594c13123a576%29%3B%0A%20%20%20%20%20%20%20%20%0A%20%20%20%20%0A%20%20%20%20%20%20%20%20var%20popup_213ee34cad804e0eb6f9cd706f57ba6e%20%3D%20L.popup%28%7B%22maxWidth%22%3A%20%22100%25%22%7D%29%3B%0A%0A%20%20%20%20%20%20%20%20%0A%20%20%20%20%20%20%20%20%20%20%20%20var%20html_19d25f7bde2945bfa615dfb7e0e4e6af%20%3D%20%24%28%60%3Cdiv%20id%3D%22html_19d25f7bde2945bfa615dfb7e0e4e6af%22%20style%3D%22width%3A%20100.0%25%3B%20height%3A%20100.0%25%3B%22%3E%D0%9D%D1%83%D1%80-%D0%A1%D1%83%D0%BB%D1%82%D0%B0%D0%BD%20%28%D0%90%D1%81%D1%82%D0%B0%D0%BD%D0%B0%29%2C%20%D0%90%D0%BB%D0%BC%D0%B0%D1%82%D1%8B%20%D1%80-%D0%BD%2C%20%D0%BF%D1%80%D0%BE%D1%81%D0%BF%D0%B5%D0%BA%D1%82%20%D0%91%D0%B0%D1%83%D1%8B%D1%80%D0%B6%D0%B0%D0%BD%D0%B0%20%D0%9C%D0%BE%D0%BC%D1%8B%D1%88%D1%83%D0%BB%D1%8B%3C/div%3E%60%29%5B0%5D%3B%0A%20%20%20%20%20%20%20%20%20%20%20%20popup_213ee34cad804e0eb6f9cd706f57ba6e.setContent%28html_19d25f7bde2945bfa615dfb7e0e4e6af%29%3B%0A%20%20%20%20%20%20%20%20%0A%0A%20%20%20%20%20%20%20%20marker_a671b33933084511bab82a833a61f109.bindPopup%28popup_213ee34cad804e0eb6f9cd706f57ba6e%29%0A%20%20%20%20%20%20%20%20%3B%0A%0A%20%20%20%20%20%20%20%20%0A%20%20%20%20%0A%20%20%20%20%0A%20%20%20%20%20%20%20%20%20%20%20%20var%20marker_a4ab6688be6e4e0f81dabf374edaf3bb%20%3D%20L.marker%28%0A%20%20%20%20%20%20%20%20%20%20%20%20%20%20%20%20%5B51.087586011104%2C%2071.42876353873%5D%2C%0A%20%20%20%20%20%20%20%20%20%20%20%20%20%20%20%20%7B%7D%0A%20%20%20%20%20%20%20%20%20%20%20%20%29.addTo%28map_0372e994ccf64c4ea30594c13123a576%29%3B%0A%20%20%20%20%20%20%20%20%0A%20%20%20%20%0A%20%20%20%20%20%20%20%20var%20popup_668290add49d46339dd760c0906089a4%20%3D%20L.popup%28%7B%22maxWidth%22%3A%20%22100%25%22%7D%29%3B%0A%0A%20%20%20%20%20%20%20%20%0A%20%20%20%20%20%20%20%20%20%20%20%20var%20html_dde4e52d6d784fcf8d84e49643ab6649%20%3D%20%24%28%60%3Cdiv%20id%3D%22html_dde4e52d6d784fcf8d84e49643ab6649%22%20style%3D%22width%3A%20100.0%25%3B%20height%3A%20100.0%25%3B%22%3E%D0%9D%D1%83%D1%80-%D0%A1%D1%83%D0%BB%D1%82%D0%B0%D0%BD%20%28%D0%90%D1%81%D1%82%D0%B0%D0%BD%D0%B0%29%2C%20%D0%91%D0%BE%D0%BA%D0%B5%D0%B9%D1%85%D0%B0%D0%BD%D0%B0%2025%3C/div%3E%60%29%5B0%5D%3B%0A%20%20%20%20%20%20%20%20%20%20%20%20popup_668290add49d46339dd760c0906089a4.setContent%28html_dde4e52d6d784fcf8d84e49643ab6649%29%3B%0A%20%20%20%20%20%20%20%20%0A%0A%20%20%20%20%20%20%20%20marker_a4ab6688be6e4e0f81dabf374edaf3bb.bindPopup%28popup_668290add49d46339dd760c0906089a4%29%0A%20%20%20%20%20%20%20%20%3B%0A%0A%20%20%20%20%20%20%20%20%0A%20%20%20%20%0A%20%20%20%20%0A%20%20%20%20%20%20%20%20%20%20%20%20var%20marker_723f6627c48940b2bd555fa203296adc%20%3D%20L.marker%28%0A%20%20%20%20%20%20%20%20%20%20%20%20%20%20%20%20%5B51.188797%2C%2071.406525%5D%2C%0A%20%20%20%20%20%20%20%20%20%20%20%20%20%20%20%20%7B%7D%0A%20%20%20%20%20%20%20%20%20%20%20%20%29.addTo%28map_0372e994ccf64c4ea30594c13123a576%29%3B%0A%20%20%20%20%20%20%20%20%0A%20%20%20%20%0A%20%20%20%20%20%20%20%20var%20popup_06826daff14341bf938dc1984e9266e6%20%3D%20L.popup%28%7B%22maxWidth%22%3A%20%22100%25%22%7D%29%3B%0A%0A%20%20%20%20%20%20%20%20%0A%20%20%20%20%20%20%20%20%20%20%20%20var%20html_9be3e27a8dfa49589eed1da097a2049a%20%3D%20%24%28%60%3Cdiv%20id%3D%22html_9be3e27a8dfa49589eed1da097a2049a%22%20style%3D%22width%3A%20100.0%25%3B%20height%3A%20100.0%25%3B%22%3E%D0%9D%D1%83%D1%80-%D0%A1%D1%83%D0%BB%D1%82%D0%B0%D0%BD%20%28%D0%90%D1%81%D1%82%D0%B0%D0%BD%D0%B0%29%2C%20%D0%A1%D0%B0%D1%80%D1%8B%D0%B0%D1%80%D0%BA%D0%B0%20%D1%80-%D0%BD%2C%20%D0%BF%D1%80%D0%BE%D1%81%D0%BF%D0%B5%D0%BA%D1%82%20%D0%96%D0%B5%D0%BD%D0%B8%D1%81%2077%3C/div%3E%60%29%5B0%5D%3B%0A%20%20%20%20%20%20%20%20%20%20%20%20popup_06826daff14341bf938dc1984e9266e6.setContent%28html_9be3e27a8dfa49589eed1da097a2049a%29%3B%0A%20%20%20%20%20%20%20%20%0A%0A%20%20%20%20%20%20%20%20marker_723f6627c48940b2bd555fa203296adc.bindPopup%28popup_06826daff14341bf938dc1984e9266e6%29%0A%20%20%20%20%20%20%20%20%3B%0A%0A%20%20%20%20%20%20%20%20%0A%20%20%20%20%0A%20%20%20%20%0A%20%20%20%20%20%20%20%20%20%20%20%20var%20marker_b51774cbcdfc41e0b4cec01f0c72cec7%20%3D%20L.marker%28%0A%20%20%20%20%20%20%20%20%20%20%20%20%20%20%20%20%5B51.09529879806%2C%2071.406972527099%5D%2C%0A%20%20%20%20%20%20%20%20%20%20%20%20%20%20%20%20%7B%7D%0A%20%20%20%20%20%20%20%20%20%20%20%20%29.addTo%28map_0372e994ccf64c4ea30594c13123a576%29%3B%0A%20%20%20%20%20%20%20%20%0A%20%20%20%20%0A%20%20%20%20%20%20%20%20var%20popup_cd3151afc31c40b594e22b21b5d34872%20%3D%20L.popup%28%7B%22maxWidth%22%3A%20%22100%25%22%7D%29%3B%0A%0A%20%20%20%20%20%20%20%20%0A%20%20%20%20%20%20%20%20%20%20%20%20var%20html_18fa1818377f4e10a597eab6e7c6e1e6%20%3D%20%24%28%60%3Cdiv%20id%3D%22html_18fa1818377f4e10a597eab6e7c6e1e6%22%20style%3D%22width%3A%20100.0%25%3B%20height%3A%20100.0%25%3B%22%3E%D0%9D%D1%83%D1%80-%D0%A1%D1%83%D0%BB%D1%82%D0%B0%D0%BD%20%28%D0%90%D1%81%D1%82%D0%B0%D0%BD%D0%B0%29%2C%20%D0%95%D1%81%D0%B8%D0%BB%D1%8C%20%D1%80-%D0%BD%2C%20%D0%9A%D0%B0%D0%B1%D0%B0%D0%BD%D0%B1%D0%B0%D0%B9%20%D0%91%D0%B0%D1%82%D1%8B%D1%80%D0%B0%2058%D0%91%3C/div%3E%60%29%5B0%5D%3B%0A%20%20%20%20%20%20%20%20%20%20%20%20popup_cd3151afc31c40b594e22b21b5d34872.setContent%28html_18fa1818377f4e10a597eab6e7c6e1e6%29%3B%0A%20%20%20%20%20%20%20%20%0A%0A%20%20%20%20%20%20%20%20marker_b51774cbcdfc41e0b4cec01f0c72cec7.bindPopup%28popup_cd3151afc31c40b594e22b21b5d34872%29%0A%20%20%20%20%20%20%20%20%3B%0A%0A%20%20%20%20%20%20%20%20%0A%20%20%20%20%0A%20%20%20%20%0A%20%20%20%20%20%20%20%20%20%20%20%20var%20marker_f33f4c4c7bee4c76bfc37ff6521e261e%20%3D%20L.marker%28%0A%20%20%20%20%20%20%20%20%20%20%20%20%20%20%20%20%5B51.087798386214%2C%2071.425507417616%5D%2C%0A%20%20%20%20%20%20%20%20%20%20%20%20%20%20%20%20%7B%7D%0A%20%20%20%20%20%20%20%20%20%20%20%20%29.addTo%28map_0372e994ccf64c4ea30594c13123a576%29%3B%0A%20%20%20%20%20%20%20%20%0A%20%20%20%20%0A%20%20%20%20%20%20%20%20var%20popup_d7616757b3604edca6db46288631f8d2%20%3D%20L.popup%28%7B%22maxWidth%22%3A%20%22100%25%22%7D%29%3B%0A%0A%20%20%20%20%20%20%20%20%0A%20%20%20%20%20%20%20%20%20%20%20%20var%20html_eeea7b7f621e428a985b99b9abe947af%20%3D%20%24%28%60%3Cdiv%20id%3D%22html_eeea7b7f621e428a985b99b9abe947af%22%20style%3D%22width%3A%20100.0%25%3B%20height%3A%20100.0%25%3B%22%3E%D0%9D%D1%83%D1%80-%D0%A1%D1%83%D0%BB%D1%82%D0%B0%D0%BD%20%28%D0%90%D1%81%D1%82%D0%B0%D0%BD%D0%B0%29%2C%20%D0%95%D1%81%D0%B8%D0%BB%D1%8C%20%D1%80-%D0%BD%2C%20%D0%9C%D0%B0%D0%BD%D0%B3%D0%BB%D0%B8%D0%BA%20%D0%95%D0%BB%2056%3C/div%3E%60%29%5B0%5D%3B%0A%20%20%20%20%20%20%20%20%20%20%20%20popup_d7616757b3604edca6db46288631f8d2.setContent%28html_eeea7b7f621e428a985b99b9abe947af%29%3B%0A%20%20%20%20%20%20%20%20%0A%0A%20%20%20%20%20%20%20%20marker_f33f4c4c7bee4c76bfc37ff6521e261e.bindPopup%28popup_d7616757b3604edca6db46288631f8d2%29%0A%20%20%20%20%20%20%20%20%3B%0A%0A%20%20%20%20%20%20%20%20%0A%20%20%20%20%0A%20%20%20%20%0A%20%20%20%20%20%20%20%20%20%20%20%20var%20marker_ae85705c20844608b774549261254795%20%3D%20L.marker%28%0A%20%20%20%20%20%20%20%20%20%20%20%20%20%20%20%20%5B51.126488%2C%2071.501755%5D%2C%0A%20%20%20%20%20%20%20%20%20%20%20%20%20%20%20%20%7B%7D%0A%20%20%20%20%20%20%20%20%20%20%20%20%29.addTo%28map_0372e994ccf64c4ea30594c13123a576%29%3B%0A%20%20%20%20%20%20%20%20%0A%20%20%20%20%0A%20%20%20%20%20%20%20%20var%20popup_2e4579f3b2a34c3882d39c60008bff71%20%3D%20L.popup%28%7B%22maxWidth%22%3A%20%22100%25%22%7D%29%3B%0A%0A%20%20%20%20%20%20%20%20%0A%20%20%20%20%20%20%20%20%20%20%20%20var%20html_c56095d175ef4bc08191fced01af20db%20%3D%20%24%28%60%3Cdiv%20id%3D%22html_c56095d175ef4bc08191fced01af20db%22%20style%3D%22width%3A%20100.0%25%3B%20height%3A%20100.0%25%3B%22%3E%D0%9D%D1%83%D1%80-%D0%A1%D1%83%D0%BB%D1%82%D0%B0%D0%BD%20%28%D0%90%D1%81%D1%82%D0%B0%D0%BD%D0%B0%29%2C%20%D0%90%D0%BB%D0%BC%D0%B0%D1%82%D1%8B%20%D1%80-%D0%BD%2C%20%D0%9A%D0%B5%D0%BD%D0%B5%D0%BD%D0%B0%20%D0%90%D0%B7%D0%B5%D1%80%D0%B1%D0%B0%D0%B5%D0%B2%D0%B0%3C/div%3E%60%29%5B0%5D%3B%0A%20%20%20%20%20%20%20%20%20%20%20%20popup_2e4579f3b2a34c3882d39c60008bff71.setContent%28html_c56095d175ef4bc08191fced01af20db%29%3B%0A%20%20%20%20%20%20%20%20%0A%0A%20%20%20%20%20%20%20%20marker_ae85705c20844608b774549261254795.bindPopup%28popup_2e4579f3b2a34c3882d39c60008bff71%29%0A%20%20%20%20%20%20%20%20%3B%0A%0A%20%20%20%20%20%20%20%20%0A%20%20%20%20%0A%20%20%20%20%0A%20%20%20%20%20%20%20%20%20%20%20%20var%20marker_42e9cf7dc4f746d5993a086f4369f705%20%3D%20L.marker%28%0A%20%20%20%20%20%20%20%20%20%20%20%20%20%20%20%20%5B51.116945%2C%2071.428435%5D%2C%0A%20%20%20%20%20%20%20%20%20%20%20%20%20%20%20%20%7B%7D%0A%20%20%20%20%20%20%20%20%20%20%20%20%29.addTo%28map_0372e994ccf64c4ea30594c13123a576%29%3B%0A%20%20%20%20%20%20%20%20%0A%20%20%20%20%0A%20%20%20%20%20%20%20%20var%20popup_b66e5b77cac3484694c74a610006dac2%20%3D%20L.popup%28%7B%22maxWidth%22%3A%20%22100%25%22%7D%29%3B%0A%0A%20%20%20%20%20%20%20%20%0A%20%20%20%20%20%20%20%20%20%20%20%20var%20html_223db6b63b324dcca984cc5c1a2bf99c%20%3D%20%24%28%60%3Cdiv%20id%3D%22html_223db6b63b324dcca984cc5c1a2bf99c%22%20style%3D%22width%3A%20100.0%25%3B%20height%3A%20100.0%25%3B%22%3E%D0%9D%D1%83%D1%80-%D0%A1%D1%83%D0%BB%D1%82%D0%B0%D0%BD%20%28%D0%90%D1%81%D1%82%D0%B0%D0%BD%D0%B0%29%2C%20%D0%A2%D1%83%D1%80%D0%BA%D0%B5%D1%81%D1%82%D0%B0%D0%BD%204%20%E2%80%94%20%D0%90%D0%BB%D0%BC%D0%B0%D1%82%D1%8B%3C/div%3E%60%29%5B0%5D%3B%0A%20%20%20%20%20%20%20%20%20%20%20%20popup_b66e5b77cac3484694c74a610006dac2.setContent%28html_223db6b63b324dcca984cc5c1a2bf99c%29%3B%0A%20%20%20%20%20%20%20%20%0A%0A%20%20%20%20%20%20%20%20marker_42e9cf7dc4f746d5993a086f4369f705.bindPopup%28popup_b66e5b77cac3484694c74a610006dac2%29%0A%20%20%20%20%20%20%20%20%3B%0A%0A%20%20%20%20%20%20%20%20%0A%20%20%20%20%0A%20%20%20%20%0A%20%20%20%20%20%20%20%20%20%20%20%20var%20marker_8bfd9abe377b4603b345063134d1e62f%20%3D%20L.marker%28%0A%20%20%20%20%20%20%20%20%20%20%20%20%20%20%20%20%5B51.172406%2C%2071.40445%5D%2C%0A%20%20%20%20%20%20%20%20%20%20%20%20%20%20%20%20%7B%7D%0A%20%20%20%20%20%20%20%20%20%20%20%20%29.addTo%28map_0372e994ccf64c4ea30594c13123a576%29%3B%0A%20%20%20%20%20%20%20%20%0A%20%20%20%20%0A%20%20%20%20%20%20%20%20var%20popup_deaa464bf7f74715aaa920e90d4b9e86%20%3D%20L.popup%28%7B%22maxWidth%22%3A%20%22100%25%22%7D%29%3B%0A%0A%20%20%20%20%20%20%20%20%0A%20%20%20%20%20%20%20%20%20%20%20%20var%20html_ee955052cbd44114b6f2a4bee803577c%20%3D%20%24%28%60%3Cdiv%20id%3D%22html_ee955052cbd44114b6f2a4bee803577c%22%20style%3D%22width%3A%20100.0%25%3B%20height%3A%20100.0%25%3B%22%3E%D0%9D%D1%83%D1%80-%D0%A1%D1%83%D0%BB%D1%82%D0%B0%D0%BD%20%28%D0%90%D1%81%D1%82%D0%B0%D0%BD%D0%B0%29%2C%20%D0%A1%D0%B0%D1%80%D1%8B%D0%B0%D1%80%D0%BA%D0%B0%20%D1%80-%D0%BD%2C%20%D0%BF%D1%80%D0%BE%D1%81%D0%BF%D0%B5%D0%BA%D1%82%20%D0%A1%D0%B0%D1%80%D1%8B%D0%B0%D1%80%D0%BA%D0%B0%2031/2%3C/div%3E%60%29%5B0%5D%3B%0A%20%20%20%20%20%20%20%20%20%20%20%20popup_deaa464bf7f74715aaa920e90d4b9e86.setContent%28html_ee955052cbd44114b6f2a4bee803577c%29%3B%0A%20%20%20%20%20%20%20%20%0A%0A%20%20%20%20%20%20%20%20marker_8bfd9abe377b4603b345063134d1e62f.bindPopup%28popup_deaa464bf7f74715aaa920e90d4b9e86%29%0A%20%20%20%20%20%20%20%20%3B%0A%0A%20%20%20%20%20%20%20%20%0A%20%20%20%20%0A%20%20%20%20%0A%20%20%20%20%20%20%20%20%20%20%20%20var%20marker_f2417c0ef6ce48f8959b8153b9e9be14%20%3D%20L.marker%28%0A%20%20%20%20%20%20%20%20%20%20%20%20%20%20%20%20%5B51.116041%2C%2071.433403%5D%2C%0A%20%20%20%20%20%20%20%20%20%20%20%20%20%20%20%20%7B%7D%0A%20%20%20%20%20%20%20%20%20%20%20%20%29.addTo%28map_0372e994ccf64c4ea30594c13123a576%29%3B%0A%20%20%20%20%20%20%20%20%0A%20%20%20%20%0A%20%20%20%20%20%20%20%20var%20popup_31cc540212a4413ab1eafd2723924fb9%20%3D%20L.popup%28%7B%22maxWidth%22%3A%20%22100%25%22%7D%29%3B%0A%0A%20%20%20%20%20%20%20%20%0A%20%20%20%20%20%20%20%20%20%20%20%20var%20html_821fff58968b42dc82a6a7a556db12b8%20%3D%20%24%28%60%3Cdiv%20id%3D%22html_821fff58968b42dc82a6a7a556db12b8%22%20style%3D%22width%3A%20100.0%25%3B%20height%3A%20100.0%25%3B%22%3E%D0%9D%D1%83%D1%80-%D0%A1%D1%83%D0%BB%D1%82%D0%B0%D0%BD%20%28%D0%90%D1%81%D1%82%D0%B0%D0%BD%D0%B0%29%2C%20%D0%95%D1%81%D0%B8%D0%BB%D1%8C%20%D1%80-%D0%BD%2C%20%D0%9C%D0%B0%D0%BD%D0%B3%D0%B8%D0%BB%D0%B8%D0%BA%20%D0%B5%D0%BB%2017%3C/div%3E%60%29%5B0%5D%3B%0A%20%20%20%20%20%20%20%20%20%20%20%20popup_31cc540212a4413ab1eafd2723924fb9.setContent%28html_821fff58968b42dc82a6a7a556db12b8%29%3B%0A%20%20%20%20%20%20%20%20%0A%0A%20%20%20%20%20%20%20%20marker_f2417c0ef6ce48f8959b8153b9e9be14.bindPopup%28popup_31cc540212a4413ab1eafd2723924fb9%29%0A%20%20%20%20%20%20%20%20%3B%0A%0A%20%20%20%20%20%20%20%20%0A%20%20%20%20%0A%20%20%20%20%0A%20%20%20%20%20%20%20%20%20%20%20%20var%20marker_9f0d0131fcba4d858a1f623164dcb7df%20%3D%20L.marker%28%0A%20%20%20%20%20%20%20%20%20%20%20%20%20%20%20%20%5B51.177906%2C%2071.40507%5D%2C%0A%20%20%20%20%20%20%20%20%20%20%20%20%20%20%20%20%7B%7D%0A%20%20%20%20%20%20%20%20%20%20%20%20%29.addTo%28map_0372e994ccf64c4ea30594c13123a576%29%3B%0A%20%20%20%20%20%20%20%20%0A%20%20%20%20%0A%20%20%20%20%20%20%20%20var%20popup_f387432c107d4eb8b60500086018fadf%20%3D%20L.popup%28%7B%22maxWidth%22%3A%20%22100%25%22%7D%29%3B%0A%0A%20%20%20%20%20%20%20%20%0A%20%20%20%20%20%20%20%20%20%20%20%20var%20html_447419e8081443c7ab269a047d5346d9%20%3D%20%24%28%60%3Cdiv%20id%3D%22html_447419e8081443c7ab269a047d5346d9%22%20style%3D%22width%3A%20100.0%25%3B%20height%3A%20100.0%25%3B%22%3E%D0%9D%D1%83%D1%80-%D0%A1%D1%83%D0%BB%D1%82%D0%B0%D0%BD%20%28%D0%90%D1%81%D1%82%D0%B0%D0%BD%D0%B0%29%2C%20%D0%A1%D0%B0%D1%80%D1%8B%D0%B0%D1%80%D0%BA%D0%B0%20%D1%80-%D0%BD%2C%20%D0%BF%D1%80%D0%BE%D1%81%D0%BF%D0%B5%D0%BA%D1%82%20%D0%A1%D0%B0%D1%80%D1%8B%D0%B0%D1%80%D0%BA%D0%B0%2039%3C/div%3E%60%29%5B0%5D%3B%0A%20%20%20%20%20%20%20%20%20%20%20%20popup_f387432c107d4eb8b60500086018fadf.setContent%28html_447419e8081443c7ab269a047d5346d9%29%3B%0A%20%20%20%20%20%20%20%20%0A%0A%20%20%20%20%20%20%20%20marker_9f0d0131fcba4d858a1f623164dcb7df.bindPopup%28popup_f387432c107d4eb8b60500086018fadf%29%0A%20%20%20%20%20%20%20%20%3B%0A%0A%20%20%20%20%20%20%20%20%0A%20%20%20%20%0A%20%20%20%20%0A%20%20%20%20%20%20%20%20%20%20%20%20var%20marker_d99340f07ac7410c82ad2e85f82f045b%20%3D%20L.marker%28%0A%20%20%20%20%20%20%20%20%20%20%20%20%20%20%20%20%5B51.140918%2C%2071.386834%5D%2C%0A%20%20%20%20%20%20%20%20%20%20%20%20%20%20%20%20%7B%7D%0A%20%20%20%20%20%20%20%20%20%20%20%20%29.addTo%28map_0372e994ccf64c4ea30594c13123a576%29%3B%0A%20%20%20%20%20%20%20%20%0A%20%20%20%20%0A%20%20%20%20%20%20%20%20var%20popup_f60b0b77f18a4bd8b8dd9c3e7f3e9d42%20%3D%20L.popup%28%7B%22maxWidth%22%3A%20%22100%25%22%7D%29%3B%0A%0A%20%20%20%20%20%20%20%20%0A%20%20%20%20%20%20%20%20%20%20%20%20var%20html_37ee9e5a3faa43438658f6bd96aa089b%20%3D%20%24%28%60%3Cdiv%20id%3D%22html_37ee9e5a3faa43438658f6bd96aa089b%22%20style%3D%22width%3A%20100.0%25%3B%20height%3A%20100.0%25%3B%22%3E%D0%9D%D1%83%D1%80-%D0%A1%D1%83%D0%BB%D1%82%D0%B0%D0%BD%20%28%D0%90%D1%81%D1%82%D0%B0%D0%BD%D0%B0%29%2C%20%D0%95%D1%81%D0%B8%D0%BB%D1%8C%20%D1%80-%D0%BD%2C%20%D0%9A%D0%B0%D0%B9%D1%8B%D0%BC%D0%B0%20%D0%9C%D1%83%D1%85%D0%B0%D0%BC%D0%B5%D0%B4%D1%85%D0%B0%D0%BD%D0%BE%D0%B2%D0%B0%2017%3C/div%3E%60%29%5B0%5D%3B%0A%20%20%20%20%20%20%20%20%20%20%20%20popup_f60b0b77f18a4bd8b8dd9c3e7f3e9d42.setContent%28html_37ee9e5a3faa43438658f6bd96aa089b%29%3B%0A%20%20%20%20%20%20%20%20%0A%0A%20%20%20%20%20%20%20%20marker_d99340f07ac7410c82ad2e85f82f045b.bindPopup%28popup_f60b0b77f18a4bd8b8dd9c3e7f3e9d42%29%0A%20%20%20%20%20%20%20%20%3B%0A%0A%20%20%20%20%20%20%20%20%0A%20%20%20%20%0A%20%20%20%20%0A%20%20%20%20%20%20%20%20%20%20%20%20var%20marker_65dfe855806645c89e366055c2b791ca%20%3D%20L.marker%28%0A%20%20%20%20%20%20%20%20%20%20%20%20%20%20%20%20%5B51.116077871409%2C%2071.404976908379%5D%2C%0A%20%20%20%20%20%20%20%20%20%20%20%20%20%20%20%20%7B%7D%0A%20%20%20%20%20%20%20%20%20%20%20%20%29.addTo%28map_0372e994ccf64c4ea30594c13123a576%29%3B%0A%20%20%20%20%20%20%20%20%0A%20%20%20%20%0A%20%20%20%20%20%20%20%20var%20popup_9e8a27ef11b246018fdb09c049851a22%20%3D%20L.popup%28%7B%22maxWidth%22%3A%20%22100%25%22%7D%29%3B%0A%0A%20%20%20%20%20%20%20%20%0A%20%20%20%20%20%20%20%20%20%20%20%20var%20html_afd86791e60443219bbd79e18d2dd452%20%3D%20%24%28%60%3Cdiv%20id%3D%22html_afd86791e60443219bbd79e18d2dd452%22%20style%3D%22width%3A%20100.0%25%3B%20height%3A%20100.0%25%3B%22%3E%D0%9D%D1%83%D1%80-%D0%A1%D1%83%D0%BB%D1%82%D0%B0%D0%BD%20%28%D0%90%D1%81%D1%82%D0%B0%D0%BD%D0%B0%29%2C%20%D0%95%D1%81%D0%B8%D0%BB%D1%8C%20%D1%80-%D0%BD%2C%20%D0%9A%D0%B5%D1%80%D0%B5%D0%B9%20%D0%B8%20%20%D0%96%D0%B0%D0%BD%D0%B8%D0%B1%D0%B5%D0%BA%20%D1%85%D0%B0%D0%BD%D0%B4%D0%B0%D1%80%3C/div%3E%60%29%5B0%5D%3B%0A%20%20%20%20%20%20%20%20%20%20%20%20popup_9e8a27ef11b246018fdb09c049851a22.setContent%28html_afd86791e60443219bbd79e18d2dd452%29%3B%0A%20%20%20%20%20%20%20%20%0A%0A%20%20%20%20%20%20%20%20marker_65dfe855806645c89e366055c2b791ca.bindPopup%28popup_9e8a27ef11b246018fdb09c049851a22%29%0A%20%20%20%20%20%20%20%20%3B%0A%0A%20%20%20%20%20%20%20%20%0A%20%20%20%20%0A%20%20%20%20%0A%20%20%20%20%20%20%20%20%20%20%20%20var%20marker_cdeff632a88f439084b6659f9b7c0a14%20%3D%20L.marker%28%0A%20%20%20%20%20%20%20%20%20%20%20%20%20%20%20%20%5B51.15231%2C%2071.481973%5D%2C%0A%20%20%20%20%20%20%20%20%20%20%20%20%20%20%20%20%7B%7D%0A%20%20%20%20%20%20%20%20%20%20%20%20%29.addTo%28map_0372e994ccf64c4ea30594c13123a576%29%3B%0A%20%20%20%20%20%20%20%20%0A%20%20%20%20%0A%20%20%20%20%20%20%20%20var%20popup_6b09138f422c4c428c8acb91f18a212a%20%3D%20L.popup%28%7B%22maxWidth%22%3A%20%22100%25%22%7D%29%3B%0A%0A%20%20%20%20%20%20%20%20%0A%20%20%20%20%20%20%20%20%20%20%20%20var%20html_b71a4a15a0614a71a9316fe341a59c34%20%3D%20%24%28%60%3Cdiv%20id%3D%22html_b71a4a15a0614a71a9316fe341a59c34%22%20style%3D%22width%3A%20100.0%25%3B%20height%3A%20100.0%25%3B%22%3E%D0%9D%D1%83%D1%80-%D0%A1%D1%83%D0%BB%D1%82%D0%B0%D0%BD%20%28%D0%90%D1%81%D1%82%D0%B0%D0%BD%D0%B0%29%2C%20%D0%96%D1%83%D0%BC%D0%B0%D0%B1%D0%B0%D0%B5%D0%B2%D0%B0%20%E2%80%94%20%D0%9F%D0%B5%D1%82%D1%80%D0%BE%D0%B2%D0%B0%3C/div%3E%60%29%5B0%5D%3B%0A%20%20%20%20%20%20%20%20%20%20%20%20popup_6b09138f422c4c428c8acb91f18a212a.setContent%28html_b71a4a15a0614a71a9316fe341a59c34%29%3B%0A%20%20%20%20%20%20%20%20%0A%0A%20%20%20%20%20%20%20%20marker_cdeff632a88f439084b6659f9b7c0a14.bindPopup%28popup_6b09138f422c4c428c8acb91f18a212a%29%0A%20%20%20%20%20%20%20%20%3B%0A%0A%20%20%20%20%20%20%20%20%0A%20%20%20%20%0A%20%20%20%20%0A%20%20%20%20%20%20%20%20%20%20%20%20var%20marker_5051f1b2880443bcbf43cd1656fe0698%20%3D%20L.marker%28%0A%20%20%20%20%20%20%20%20%20%20%20%20%20%20%20%20%5B51.154998%2C%2071.436403%5D%2C%0A%20%20%20%20%20%20%20%20%20%20%20%20%20%20%20%20%7B%7D%0A%20%20%20%20%20%20%20%20%20%20%20%20%29.addTo%28map_0372e994ccf64c4ea30594c13123a576%29%3B%0A%20%20%20%20%20%20%20%20%0A%20%20%20%20%0A%20%20%20%20%20%20%20%20var%20popup_67e38a53306d45e185dba8e0b08d5f64%20%3D%20L.popup%28%7B%22maxWidth%22%3A%20%22100%25%22%7D%29%3B%0A%0A%20%20%20%20%20%20%20%20%0A%20%20%20%20%20%20%20%20%20%20%20%20var%20html_fcc444c32362433ca4887808f36d1c47%20%3D%20%24%28%60%3Cdiv%20id%3D%22html_fcc444c32362433ca4887808f36d1c47%22%20style%3D%22width%3A%20100.0%25%3B%20height%3A%20100.0%25%3B%22%3E%D0%9D%D1%83%D1%80-%D0%A1%D1%83%D0%BB%D1%82%D0%B0%D0%BD%20%28%D0%90%D1%81%D1%82%D0%B0%D0%BD%D0%B0%29%2C%20%D1%80-%D0%BD%20%D0%91%D0%B0%D0%B9%D0%BA%D0%BE%D0%BD%D1%83%D1%80%2C%20%D0%9F%D0%B5%D1%80%D0%B5%D1%83%D0%BB%D0%BE%D0%BA%20%D0%96%D1%83%D0%BC%D0%B0%D0%B1%D0%B5%D0%BA%D0%B0%20%D0%A2%D0%B0%D1%88%D0%B5%D0%BD%D0%BE%D0%B2%D0%B0%208/1%3C/div%3E%60%29%5B0%5D%3B%0A%20%20%20%20%20%20%20%20%20%20%20%20popup_67e38a53306d45e185dba8e0b08d5f64.setContent%28html_fcc444c32362433ca4887808f36d1c47%29%3B%0A%20%20%20%20%20%20%20%20%0A%0A%20%20%20%20%20%20%20%20marker_5051f1b2880443bcbf43cd1656fe0698.bindPopup%28popup_67e38a53306d45e185dba8e0b08d5f64%29%0A%20%20%20%20%20%20%20%20%3B%0A%0A%20%20%20%20%20%20%20%20%0A%20%20%20%20%0A%20%20%20%20%0A%20%20%20%20%20%20%20%20%20%20%20%20var%20marker_49286df13407488998ac9d719be7f8c4%20%3D%20L.marker%28%0A%20%20%20%20%20%20%20%20%20%20%20%20%20%20%20%20%5B51.168435678255%2C%2071.405189148645%5D%2C%0A%20%20%20%20%20%20%20%20%20%20%20%20%20%20%20%20%7B%7D%0A%20%20%20%20%20%20%20%20%20%20%20%20%29.addTo%28map_0372e994ccf64c4ea30594c13123a576%29%3B%0A%20%20%20%20%20%20%20%20%0A%20%20%20%20%0A%20%20%20%20%20%20%20%20var%20popup_c25309620b5a4f2b9cdfe01c29e1c009%20%3D%20L.popup%28%7B%22maxWidth%22%3A%20%22100%25%22%7D%29%3B%0A%0A%20%20%20%20%20%20%20%20%0A%20%20%20%20%20%20%20%20%20%20%20%20var%20html_7236af2ffdbb4f978659c0188b68d623%20%3D%20%24%28%60%3Cdiv%20id%3D%22html_7236af2ffdbb4f978659c0188b68d623%22%20style%3D%22width%3A%20100.0%25%3B%20height%3A%20100.0%25%3B%22%3E%D0%9D%D1%83%D1%80-%D0%A1%D1%83%D0%BB%D1%82%D0%B0%D0%BD%20%28%D0%90%D1%81%D1%82%D0%B0%D0%BD%D0%B0%29%2C%20%D0%A1%D0%B0%D1%80%D1%8B%D0%B0%D1%80%D0%BA%D0%B0%20%D1%80-%D0%BD%2C%20%D0%A1%D0%B5%D0%B9%D1%84%D1%83%D0%BB%D0%BB%D0%B8%D0%BD%D0%B0%3C/div%3E%60%29%5B0%5D%3B%0A%20%20%20%20%20%20%20%20%20%20%20%20popup_c25309620b5a4f2b9cdfe01c29e1c009.setContent%28html_7236af2ffdbb4f978659c0188b68d623%29%3B%0A%20%20%20%20%20%20%20%20%0A%0A%20%20%20%20%20%20%20%20marker_49286df13407488998ac9d719be7f8c4.bindPopup%28popup_c25309620b5a4f2b9cdfe01c29e1c009%29%0A%20%20%20%20%20%20%20%20%3B%0A%0A%20%20%20%20%20%20%20%20%0A%20%20%20%20%0A%20%20%20%20%0A%20%20%20%20%20%20%20%20%20%20%20%20var%20marker_465e78b4d0ac4036b9b4152a760fd138%20%3D%20L.marker%28%0A%20%20%20%20%20%20%20%20%20%20%20%20%20%20%20%20%5B51.118704%2C%2071.524294%5D%2C%0A%20%20%20%20%20%20%20%20%20%20%20%20%20%20%20%20%7B%7D%0A%20%20%20%20%20%20%20%20%20%20%20%20%29.addTo%28map_0372e994ccf64c4ea30594c13123a576%29%3B%0A%20%20%20%20%20%20%20%20%0A%20%20%20%20%0A%20%20%20%20%20%20%20%20var%20popup_378ca35dc6ba42a7a639f982738b8d6f%20%3D%20L.popup%28%7B%22maxWidth%22%3A%20%22100%25%22%7D%29%3B%0A%0A%20%20%20%20%20%20%20%20%0A%20%20%20%20%20%20%20%20%20%20%20%20var%20html_97910821f42a42049cc94a78096e9799%20%3D%20%24%28%60%3Cdiv%20id%3D%22html_97910821f42a42049cc94a78096e9799%22%20style%3D%22width%3A%20100.0%25%3B%20height%3A%20100.0%25%3B%22%3E%D0%9D%D1%83%D1%80-%D0%A1%D1%83%D0%BB%D1%82%D0%B0%D0%BD%20%28%D0%90%D1%81%D1%82%D0%B0%D0%BD%D0%B0%29%2C%20%D0%90%D0%BB%D0%BC%D0%B0%D1%82%D1%8B%20%D1%80-%D0%BD%2C%20%D0%90%2091%2014%3C/div%3E%60%29%5B0%5D%3B%0A%20%20%20%20%20%20%20%20%20%20%20%20popup_378ca35dc6ba42a7a639f982738b8d6f.setContent%28html_97910821f42a42049cc94a78096e9799%29%3B%0A%20%20%20%20%20%20%20%20%0A%0A%20%20%20%20%20%20%20%20marker_465e78b4d0ac4036b9b4152a760fd138.bindPopup%28popup_378ca35dc6ba42a7a639f982738b8d6f%29%0A%20%20%20%20%20%20%20%20%3B%0A%0A%20%20%20%20%20%20%20%20%0A%20%20%20%20%0A%20%20%20%20%0A%20%20%20%20%20%20%20%20%20%20%20%20var%20marker_e78d56684a5041fb9e5fff83ca7e5e48%20%3D%20L.marker%28%0A%20%20%20%20%20%20%20%20%20%20%20%20%20%20%20%20%5B51.13916%2C%2071.465993%5D%2C%0A%20%20%20%20%20%20%20%20%20%20%20%20%20%20%20%20%7B%7D%0A%20%20%20%20%20%20%20%20%20%20%20%20%29.addTo%28map_0372e994ccf64c4ea30594c13123a576%29%3B%0A%20%20%20%20%20%20%20%20%0A%20%20%20%20%0A%20%20%20%20%20%20%20%20var%20popup_5807647938f34f97874dd4fed973fb00%20%3D%20L.popup%28%7B%22maxWidth%22%3A%20%22100%25%22%7D%29%3B%0A%0A%20%20%20%20%20%20%20%20%0A%20%20%20%20%20%20%20%20%20%20%20%20var%20html_df853df4736c4a26bebd445ed75bc918%20%3D%20%24%28%60%3Cdiv%20id%3D%22html_df853df4736c4a26bebd445ed75bc918%22%20style%3D%22width%3A%20100.0%25%3B%20height%3A%20100.0%25%3B%22%3E%D0%9D%D1%83%D1%80-%D0%A1%D1%83%D0%BB%D1%82%D0%B0%D0%BD%20%28%D0%90%D1%81%D1%82%D0%B0%D0%BD%D0%B0%29%2C%20%D0%90%D0%BB%D0%BC%D0%B0%D1%82%D1%8B%20%D1%80-%D0%BD%2C%20%D0%BF%D1%80%D0%BE%D1%81%D0%BF%D0%B5%D0%BA%D1%82%20%D0%A2%D0%B0%D1%83%D0%B5%D0%BB%D1%81%D0%B8%D0%B7%D0%B4%D0%B8%D0%BA%3C/div%3E%60%29%5B0%5D%3B%0A%20%20%20%20%20%20%20%20%20%20%20%20popup_5807647938f34f97874dd4fed973fb00.setContent%28html_df853df4736c4a26bebd445ed75bc918%29%3B%0A%20%20%20%20%20%20%20%20%0A%0A%20%20%20%20%20%20%20%20marker_e78d56684a5041fb9e5fff83ca7e5e48.bindPopup%28popup_5807647938f34f97874dd4fed973fb00%29%0A%20%20%20%20%20%20%20%20%3B%0A%0A%20%20%20%20%20%20%20%20%0A%20%20%20%20%0A%20%20%20%20%0A%20%20%20%20%20%20%20%20%20%20%20%20var%20marker_b648393e1d7541bf82c49eb3d2698e84%20%3D%20L.marker%28%0A%20%20%20%20%20%20%20%20%20%20%20%20%20%20%20%20%5B51.118427%2C%2071.397245%5D%2C%0A%20%20%20%20%20%20%20%20%20%20%20%20%20%20%20%20%7B%7D%0A%20%20%20%20%20%20%20%20%20%20%20%20%29.addTo%28map_0372e994ccf64c4ea30594c13123a576%29%3B%0A%20%20%20%20%20%20%20%20%0A%20%20%20%20%0A%20%20%20%20%20%20%20%20var%20popup_4ae9d9c95a204f029f6e5ba79844282c%20%3D%20L.popup%28%7B%22maxWidth%22%3A%20%22100%25%22%7D%29%3B%0A%0A%20%20%20%20%20%20%20%20%0A%20%20%20%20%20%20%20%20%20%20%20%20var%20html_e390e100f8c249ada13eccce514754e3%20%3D%20%24%28%60%3Cdiv%20id%3D%22html_e390e100f8c249ada13eccce514754e3%22%20style%3D%22width%3A%20100.0%25%3B%20height%3A%20100.0%25%3B%22%3E%D0%9D%D1%83%D1%80-%D0%A1%D1%83%D0%BB%D1%82%D0%B0%D0%BD%20%28%D0%90%D1%81%D1%82%D0%B0%D0%BD%D0%B0%29%2C%20%D0%95%D1%81%D0%B8%D0%BB%D1%8C%20%D1%80-%D0%BD%2C%20%D0%91%D0%B5%D0%BA%D1%82%D1%83%D1%80%D0%BE%D0%B2%D0%B0%3C/div%3E%60%29%5B0%5D%3B%0A%20%20%20%20%20%20%20%20%20%20%20%20popup_4ae9d9c95a204f029f6e5ba79844282c.setContent%28html_e390e100f8c249ada13eccce514754e3%29%3B%0A%20%20%20%20%20%20%20%20%0A%0A%20%20%20%20%20%20%20%20marker_b648393e1d7541bf82c49eb3d2698e84.bindPopup%28popup_4ae9d9c95a204f029f6e5ba79844282c%29%0A%20%20%20%20%20%20%20%20%3B%0A%0A%20%20%20%20%20%20%20%20%0A%20%20%20%20%0A%20%20%20%20%0A%20%20%20%20%20%20%20%20%20%20%20%20var%20marker_fc774f0e98f54e5f81d8b35e7b08375c%20%3D%20L.marker%28%0A%20%20%20%20%20%20%20%20%20%20%20%20%20%20%20%20%5B51.144207%2C%2071.375982%5D%2C%0A%20%20%20%20%20%20%20%20%20%20%20%20%20%20%20%20%7B%7D%0A%20%20%20%20%20%20%20%20%20%20%20%20%29.addTo%28map_0372e994ccf64c4ea30594c13123a576%29%3B%0A%20%20%20%20%20%20%20%20%0A%20%20%20%20%0A%20%20%20%20%20%20%20%20var%20popup_7a9b2b0ea20d4deaac2366a78ec1466b%20%3D%20L.popup%28%7B%22maxWidth%22%3A%20%22100%25%22%7D%29%3B%0A%0A%20%20%20%20%20%20%20%20%0A%20%20%20%20%20%20%20%20%20%20%20%20var%20html_2a8cb17a5ff24896af35b8bbe1b984e2%20%3D%20%24%28%60%3Cdiv%20id%3D%22html_2a8cb17a5ff24896af35b8bbe1b984e2%22%20style%3D%22width%3A%20100.0%25%3B%20height%3A%20100.0%25%3B%22%3E%D0%9D%D1%83%D1%80-%D0%A1%D1%83%D0%BB%D1%82%D0%B0%D0%BD%20%28%D0%90%D1%81%D1%82%D0%B0%D0%BD%D0%B0%29%2C%20%D0%95%D1%81%D0%B8%D0%BB%D1%8C%20%D1%80-%D0%BD%2C%20%D1%83%D0%BB.%20%D0%95251%204/1%3C/div%3E%60%29%5B0%5D%3B%0A%20%20%20%20%20%20%20%20%20%20%20%20popup_7a9b2b0ea20d4deaac2366a78ec1466b.setContent%28html_2a8cb17a5ff24896af35b8bbe1b984e2%29%3B%0A%20%20%20%20%20%20%20%20%0A%0A%20%20%20%20%20%20%20%20marker_fc774f0e98f54e5f81d8b35e7b08375c.bindPopup%28popup_7a9b2b0ea20d4deaac2366a78ec1466b%29%0A%20%20%20%20%20%20%20%20%3B%0A%0A%20%20%20%20%20%20%20%20%0A%20%20%20%20%0A%20%20%20%20%0A%20%20%20%20%20%20%20%20%20%20%20%20var%20marker_d34a5d3f7c2f44f5b8bf0b12d40f0f0f%20%3D%20L.marker%28%0A%20%20%20%20%20%20%20%20%20%20%20%20%20%20%20%20%5B51.16903%2C%2071.38846%5D%2C%0A%20%20%20%20%20%20%20%20%20%20%20%20%20%20%20%20%7B%7D%0A%20%20%20%20%20%20%20%20%20%20%20%20%29.addTo%28map_0372e994ccf64c4ea30594c13123a576%29%3B%0A%20%20%20%20%20%20%20%20%0A%20%20%20%20%0A%20%20%20%20%20%20%20%20var%20popup_1340eb42377a4a9c9aae0149abc3eb14%20%3D%20L.popup%28%7B%22maxWidth%22%3A%20%22100%25%22%7D%29%3B%0A%0A%20%20%20%20%20%20%20%20%0A%20%20%20%20%20%20%20%20%20%20%20%20var%20html_e1794549144e4123bb345ca3be0696c0%20%3D%20%24%28%60%3Cdiv%20id%3D%22html_e1794549144e4123bb345ca3be0696c0%22%20style%3D%22width%3A%20100.0%25%3B%20height%3A%20100.0%25%3B%22%3E%D0%9D%D1%83%D1%80-%D0%A1%D1%83%D0%BB%D1%82%D0%B0%D0%BD%20%28%D0%90%D1%81%D1%82%D0%B0%D0%BD%D0%B0%29%2C%20%D0%A1%D0%B0%D1%80%D1%8B%D0%B0%D1%80%D0%BA%D0%B0%20%D1%80-%D0%BD%2C%20%D0%9A%D0%BE%D1%81%D1%88%D1%8B%D0%B3%D1%83%D0%BB%D1%83%D0%BB%D1%8B%2011%3C/div%3E%60%29%5B0%5D%3B%0A%20%20%20%20%20%20%20%20%20%20%20%20popup_1340eb42377a4a9c9aae0149abc3eb14.setContent%28html_e1794549144e4123bb345ca3be0696c0%29%3B%0A%20%20%20%20%20%20%20%20%0A%0A%20%20%20%20%20%20%20%20marker_d34a5d3f7c2f44f5b8bf0b12d40f0f0f.bindPopup%28popup_1340eb42377a4a9c9aae0149abc3eb14%29%0A%20%20%20%20%20%20%20%20%3B%0A%0A%20%20%20%20%20%20%20%20%0A%20%20%20%20%0A%20%20%20%20%0A%20%20%20%20%20%20%20%20%20%20%20%20var%20marker_18adefc0f3484c54a4e800358d10d53f%20%3D%20L.marker%28%0A%20%20%20%20%20%20%20%20%20%20%20%20%20%20%20%20%5B51.154207%2C%2071.439287%5D%2C%0A%20%20%20%20%20%20%20%20%20%20%20%20%20%20%20%20%7B%7D%0A%20%20%20%20%20%20%20%20%20%20%20%20%29.addTo%28map_0372e994ccf64c4ea30594c13123a576%29%3B%0A%20%20%20%20%20%20%20%20%0A%20%20%20%20%0A%20%20%20%20%20%20%20%20var%20popup_83365fb9d24b42b5b47cd7cf15cd515a%20%3D%20L.popup%28%7B%22maxWidth%22%3A%20%22100%25%22%7D%29%3B%0A%0A%20%20%20%20%20%20%20%20%0A%20%20%20%20%20%20%20%20%20%20%20%20var%20html_c3283126851b47ee8784166c40214f13%20%3D%20%24%28%60%3Cdiv%20id%3D%22html_c3283126851b47ee8784166c40214f13%22%20style%3D%22width%3A%20100.0%25%3B%20height%3A%20100.0%25%3B%22%3E%D0%9D%D1%83%D1%80-%D0%A1%D1%83%D0%BB%D1%82%D0%B0%D0%BD%20%28%D0%90%D1%81%D1%82%D0%B0%D0%BD%D0%B0%29%2C%20%D1%80-%D0%BD%20%D0%91%D0%B0%D0%B9%D0%BA%D0%BE%D0%BD%D1%83%D1%80%2C%20%D0%9F%D0%B5%D1%80%D0%B5%D1%83%D0%BB%D0%BE%D0%BA%20%D0%96%D1%83%D0%BC%D0%B0%D0%B1%D0%B5%D0%BA%D0%B0%20%D0%A2%D0%B0%D1%88%D0%B5%D0%BD%D0%BE%D0%B2%D0%B0%204/3%3C/div%3E%60%29%5B0%5D%3B%0A%20%20%20%20%20%20%20%20%20%20%20%20popup_83365fb9d24b42b5b47cd7cf15cd515a.setContent%28html_c3283126851b47ee8784166c40214f13%29%3B%0A%20%20%20%20%20%20%20%20%0A%0A%20%20%20%20%20%20%20%20marker_18adefc0f3484c54a4e800358d10d53f.bindPopup%28popup_83365fb9d24b42b5b47cd7cf15cd515a%29%0A%20%20%20%20%20%20%20%20%3B%0A%0A%20%20%20%20%20%20%20%20%0A%20%20%20%20%0A%20%20%20%20%0A%20%20%20%20%20%20%20%20%20%20%20%20var%20marker_dd278e47011043aebe641ab181e79040%20%3D%20L.marker%28%0A%20%20%20%20%20%20%20%20%20%20%20%20%20%20%20%20%5B51.134109938361%2C%2071.505279019475%5D%2C%0A%20%20%20%20%20%20%20%20%20%20%20%20%20%20%20%20%7B%7D%0A%20%20%20%20%20%20%20%20%20%20%20%20%29.addTo%28map_0372e994ccf64c4ea30594c13123a576%29%3B%0A%20%20%20%20%20%20%20%20%0A%20%20%20%20%0A%20%20%20%20%20%20%20%20var%20popup_e0e0c0a9031a49e4ad7e8fccb66cb4f9%20%3D%20L.popup%28%7B%22maxWidth%22%3A%20%22100%25%22%7D%29%3B%0A%0A%20%20%20%20%20%20%20%20%0A%20%20%20%20%20%20%20%20%20%20%20%20var%20html_80624067a5b8433d933cfd3cca64143b%20%3D%20%24%28%60%3Cdiv%20id%3D%22html_80624067a5b8433d933cfd3cca64143b%22%20style%3D%22width%3A%20100.0%25%3B%20height%3A%20100.0%25%3B%22%3E%D0%9D%D1%83%D1%80-%D0%A1%D1%83%D0%BB%D1%82%D0%B0%D0%BD%20%28%D0%90%D1%81%D1%82%D0%B0%D0%BD%D0%B0%29%2C%20%D0%90%D0%BB%D0%BC%D0%B0%D1%82%D1%8B%20%D1%80-%D0%BD%2C%20%D0%90%D0%B9%D0%BD%D0%B0%D0%BA%D0%BE%D0%BB%2056/1%20%E2%80%94%20%D0%96%D1%83%D0%BC%D0%B0%D0%B1%D0%B0%D0%B5%D0%B2%D0%B0%3C/div%3E%60%29%5B0%5D%3B%0A%20%20%20%20%20%20%20%20%20%20%20%20popup_e0e0c0a9031a49e4ad7e8fccb66cb4f9.setContent%28html_80624067a5b8433d933cfd3cca64143b%29%3B%0A%20%20%20%20%20%20%20%20%0A%0A%20%20%20%20%20%20%20%20marker_dd278e47011043aebe641ab181e79040.bindPopup%28popup_e0e0c0a9031a49e4ad7e8fccb66cb4f9%29%0A%20%20%20%20%20%20%20%20%3B%0A%0A%20%20%20%20%20%20%20%20%0A%20%20%20%20%0A%20%20%20%20%0A%20%20%20%20%20%20%20%20%20%20%20%20var%20marker_745a12da940842d18f7ad599d92e9aaa%20%3D%20L.marker%28%0A%20%20%20%20%20%20%20%20%20%20%20%20%20%20%20%20%5B51.168056835709%2C%2071.445501130074%5D%2C%0A%20%20%20%20%20%20%20%20%20%20%20%20%20%20%20%20%7B%7D%0A%20%20%20%20%20%20%20%20%20%20%20%20%29.addTo%28map_0372e994ccf64c4ea30594c13123a576%29%3B%0A%20%20%20%20%20%20%20%20%0A%20%20%20%20%0A%20%20%20%20%20%20%20%20var%20popup_e9c61b993fc84eacb17675eb54013370%20%3D%20L.popup%28%7B%22maxWidth%22%3A%20%22100%25%22%7D%29%3B%0A%0A%20%20%20%20%20%20%20%20%0A%20%20%20%20%20%20%20%20%20%20%20%20var%20html_44b11832f4084572b82d35aff9262918%20%3D%20%24%28%60%3Cdiv%20id%3D%22html_44b11832f4084572b82d35aff9262918%22%20style%3D%22width%3A%20100.0%25%3B%20height%3A%20100.0%25%3B%22%3E%D0%9D%D1%83%D1%80-%D0%A1%D1%83%D0%BB%D1%82%D0%B0%D0%BD%20%28%D0%90%D1%81%D1%82%D0%B0%D0%BD%D0%B0%29%2C%20%D1%80-%D0%BD%20%D0%91%D0%B0%D0%B9%D0%BA%D0%BE%D0%BD%D1%83%D1%80%2C%20%D0%9A%D0%B5%D0%BD%D0%B5%D1%81%D0%B0%D1%80%D1%8B%3C/div%3E%60%29%5B0%5D%3B%0A%20%20%20%20%20%20%20%20%20%20%20%20popup_e9c61b993fc84eacb17675eb54013370.setContent%28html_44b11832f4084572b82d35aff9262918%29%3B%0A%20%20%20%20%20%20%20%20%0A%0A%20%20%20%20%20%20%20%20marker_745a12da940842d18f7ad599d92e9aaa.bindPopup%28popup_e9c61b993fc84eacb17675eb54013370%29%0A%20%20%20%20%20%20%20%20%3B%0A%0A%20%20%20%20%20%20%20%20%0A%20%20%20%20%0A%20%20%20%20%0A%20%20%20%20%20%20%20%20%20%20%20%20var%20marker_76426a71848c4df5980b3842ce83a130%20%3D%20L.marker%28%0A%20%20%20%20%20%20%20%20%20%20%20%20%20%20%20%20%5B51.122215%2C%2071.500731%5D%2C%0A%20%20%20%20%20%20%20%20%20%20%20%20%20%20%20%20%7B%7D%0A%20%20%20%20%20%20%20%20%20%20%20%20%29.addTo%28map_0372e994ccf64c4ea30594c13123a576%29%3B%0A%20%20%20%20%20%20%20%20%0A%20%20%20%20%0A%20%20%20%20%20%20%20%20var%20popup_9f528d233255435cb823ddb9777197c4%20%3D%20L.popup%28%7B%22maxWidth%22%3A%20%22100%25%22%7D%29%3B%0A%0A%20%20%20%20%20%20%20%20%0A%20%20%20%20%20%20%20%20%20%20%20%20var%20html_509b6f2b0b3c4b4ea081756860fc5191%20%3D%20%24%28%60%3Cdiv%20id%3D%22html_509b6f2b0b3c4b4ea081756860fc5191%22%20style%3D%22width%3A%20100.0%25%3B%20height%3A%20100.0%25%3B%22%3E%D0%9D%D1%83%D1%80-%D0%A1%D1%83%D0%BB%D1%82%D0%B0%D0%BD%20%28%D0%90%D1%81%D1%82%D0%B0%D0%BD%D0%B0%29%2C%20%D0%90%D0%BB%D0%BC%D0%B0%D1%82%D1%8B%20%D1%80-%D0%BD%2C%20%D0%90-98%2014%20%E2%80%94%20%D0%96%D1%83%D0%BC%D0%B0%D0%B1%D0%B0%D0%B5%D0%B2%D0%B0%3C/div%3E%60%29%5B0%5D%3B%0A%20%20%20%20%20%20%20%20%20%20%20%20popup_9f528d233255435cb823ddb9777197c4.setContent%28html_509b6f2b0b3c4b4ea081756860fc5191%29%3B%0A%20%20%20%20%20%20%20%20%0A%0A%20%20%20%20%20%20%20%20marker_76426a71848c4df5980b3842ce83a130.bindPopup%28popup_9f528d233255435cb823ddb9777197c4%29%0A%20%20%20%20%20%20%20%20%3B%0A%0A%20%20%20%20%20%20%20%20%0A%20%20%20%20%0A%20%20%20%20%0A%20%20%20%20%20%20%20%20%20%20%20%20var%20marker_79abe45ee90a4467ac0cdae22cdd8fd5%20%3D%20L.marker%28%0A%20%20%20%20%20%20%20%20%20%20%20%20%20%20%20%20%5B51.152512%2C%2071.47919%5D%2C%0A%20%20%20%20%20%20%20%20%20%20%20%20%20%20%20%20%7B%7D%0A%20%20%20%20%20%20%20%20%20%20%20%20%29.addTo%28map_0372e994ccf64c4ea30594c13123a576%29%3B%0A%20%20%20%20%20%20%20%20%0A%20%20%20%20%0A%20%20%20%20%20%20%20%20var%20popup_2ce1a5fe1cb245babe34459e91864b84%20%3D%20L.popup%28%7B%22maxWidth%22%3A%20%22100%25%22%7D%29%3B%0A%0A%20%20%20%20%20%20%20%20%0A%20%20%20%20%20%20%20%20%20%20%20%20var%20html_269d4b7287b04e7aa70b04d101c3fc2e%20%3D%20%24%28%60%3Cdiv%20id%3D%22html_269d4b7287b04e7aa70b04d101c3fc2e%22%20style%3D%22width%3A%20100.0%25%3B%20height%3A%20100.0%25%3B%22%3E%D0%9D%D1%83%D1%80-%D0%A1%D1%83%D0%BB%D1%82%D0%B0%D0%BD%20%28%D0%90%D1%81%D1%82%D0%B0%D0%BD%D0%B0%29%2C%20%D0%90%D0%BB%D0%BC%D0%B0%D1%82%D1%8B%20%D1%80-%D0%BD%2C%20%D0%BF%D1%80%D0%BE%D1%81%D0%BF%D0%B5%D0%BA%D1%82%20%D0%9C%D0%B0%D0%B3%D0%B6%D0%B0%D0%BD%D0%B0%20%D0%96%D1%83%D0%BC%D0%B0%D0%B1%D0%B0%D0%B5%D0%B2%D0%B0%209%3C/div%3E%60%29%5B0%5D%3B%0A%20%20%20%20%20%20%20%20%20%20%20%20popup_2ce1a5fe1cb245babe34459e91864b84.setContent%28html_269d4b7287b04e7aa70b04d101c3fc2e%29%3B%0A%20%20%20%20%20%20%20%20%0A%0A%20%20%20%20%20%20%20%20marker_79abe45ee90a4467ac0cdae22cdd8fd5.bindPopup%28popup_2ce1a5fe1cb245babe34459e91864b84%29%0A%20%20%20%20%20%20%20%20%3B%0A%0A%20%20%20%20%20%20%20%20%0A%20%20%20%20%0A%20%20%20%20%0A%20%20%20%20%20%20%20%20%20%20%20%20var%20marker_6a70d0536b8646a9bae9d52e06d7fc22%20%3D%20L.marker%28%0A%20%20%20%20%20%20%20%20%20%20%20%20%20%20%20%20%5B51.123244%2C%2071.522138%5D%2C%0A%20%20%20%20%20%20%20%20%20%20%20%20%20%20%20%20%7B%7D%0A%20%20%20%20%20%20%20%20%20%20%20%20%29.addTo%28map_0372e994ccf64c4ea30594c13123a576%29%3B%0A%20%20%20%20%20%20%20%20%0A%20%20%20%20%0A%20%20%20%20%20%20%20%20var%20popup_001178686b944279b82c39154e2d43ab%20%3D%20L.popup%28%7B%22maxWidth%22%3A%20%22100%25%22%7D%29%3B%0A%0A%20%20%20%20%20%20%20%20%0A%20%20%20%20%20%20%20%20%20%20%20%20var%20html_1269320d148c4e36b4ddf76d11dc1caf%20%3D%20%24%28%60%3Cdiv%20id%3D%22html_1269320d148c4e36b4ddf76d11dc1caf%22%20style%3D%22width%3A%20100.0%25%3B%20height%3A%20100.0%25%3B%22%3E%D0%9D%D1%83%D1%80-%D0%A1%D1%83%D0%BB%D1%82%D0%B0%D0%BD%20%28%D0%90%D1%81%D1%82%D0%B0%D0%BD%D0%B0%29%2C%20%D0%90%D0%BB%D0%BC%D0%B0%D1%82%D1%8B%20%D1%80-%D0%BD%2C%20%D0%A8%D0%B0%D0%BB%D0%BA%D0%BE%D0%B4%D0%B5%3C/div%3E%60%29%5B0%5D%3B%0A%20%20%20%20%20%20%20%20%20%20%20%20popup_001178686b944279b82c39154e2d43ab.setContent%28html_1269320d148c4e36b4ddf76d11dc1caf%29%3B%0A%20%20%20%20%20%20%20%20%0A%0A%20%20%20%20%20%20%20%20marker_6a70d0536b8646a9bae9d52e06d7fc22.bindPopup%28popup_001178686b944279b82c39154e2d43ab%29%0A%20%20%20%20%20%20%20%20%3B%0A%0A%20%20%20%20%20%20%20%20%0A%20%20%20%20%0A%20%20%20%20%0A%20%20%20%20%20%20%20%20%20%20%20%20var%20marker_a7c27ef655ce448784c67005e33ec348%20%3D%20L.marker%28%0A%20%20%20%20%20%20%20%20%20%20%20%20%20%20%20%20%5B51.165512928089%2C%2071.472853548475%5D%2C%0A%20%20%20%20%20%20%20%20%20%20%20%20%20%20%20%20%7B%7D%0A%20%20%20%20%20%20%20%20%20%20%20%20%29.addTo%28map_0372e994ccf64c4ea30594c13123a576%29%3B%0A%20%20%20%20%20%20%20%20%0A%20%20%20%20%0A%20%20%20%20%20%20%20%20var%20popup_4927ee26748640939c090a9bf43ee369%20%3D%20L.popup%28%7B%22maxWidth%22%3A%20%22100%25%22%7D%29%3B%0A%0A%20%20%20%20%20%20%20%20%0A%20%20%20%20%20%20%20%20%20%20%20%20var%20html_d22fc74c0b0d4827967bf015ae7e8fcf%20%3D%20%24%28%60%3Cdiv%20id%3D%22html_d22fc74c0b0d4827967bf015ae7e8fcf%22%20style%3D%22width%3A%20100.0%25%3B%20height%3A%20100.0%25%3B%22%3E%D0%9D%D1%83%D1%80-%D0%A1%D1%83%D0%BB%D1%82%D0%B0%D0%BD%20%28%D0%90%D1%81%D1%82%D0%B0%D0%BD%D0%B0%29%2C%20%D1%80-%D0%BD%20%D0%91%D0%B0%D0%B9%D0%BA%D0%BE%D0%BD%D1%83%D1%80%2C%20%D0%9F%D1%83%D1%88%D0%BA%D0%B8%D0%BD%D0%B0%2025/1%3C/div%3E%60%29%5B0%5D%3B%0A%20%20%20%20%20%20%20%20%20%20%20%20popup_4927ee26748640939c090a9bf43ee369.setContent%28html_d22fc74c0b0d4827967bf015ae7e8fcf%29%3B%0A%20%20%20%20%20%20%20%20%0A%0A%20%20%20%20%20%20%20%20marker_a7c27ef655ce448784c67005e33ec348.bindPopup%28popup_4927ee26748640939c090a9bf43ee369%29%0A%20%20%20%20%20%20%20%20%3B%0A%0A%20%20%20%20%20%20%20%20%0A%20%20%20%20%0A%20%20%20%20%0A%20%20%20%20%20%20%20%20%20%20%20%20var%20marker_e4b37c72a7364d988b17a06873cd21a8%20%3D%20L.marker%28%0A%20%20%20%20%20%20%20%20%20%20%20%20%20%20%20%20%5B51.141274%2C%2071.480932%5D%2C%0A%20%20%20%20%20%20%20%20%20%20%20%20%20%20%20%20%7B%7D%0A%20%20%20%20%20%20%20%20%20%20%20%20%29.addTo%28map_0372e994ccf64c4ea30594c13123a576%29%3B%0A%20%20%20%20%20%20%20%20%0A%20%20%20%20%0A%20%20%20%20%20%20%20%20var%20popup_1ddefbedb6a74f2497a67c9469f1c2e4%20%3D%20L.popup%28%7B%22maxWidth%22%3A%20%22100%25%22%7D%29%3B%0A%0A%20%20%20%20%20%20%20%20%0A%20%20%20%20%20%20%20%20%20%20%20%20var%20html_01a6f8d5eadd487c895224e23eb90c0c%20%3D%20%24%28%60%3Cdiv%20id%3D%22html_01a6f8d5eadd487c895224e23eb90c0c%22%20style%3D%22width%3A%20100.0%25%3B%20height%3A%20100.0%25%3B%22%3E%D0%9D%D1%83%D1%80-%D0%A1%D1%83%D0%BB%D1%82%D0%B0%D0%BD%20%28%D0%90%D1%81%D1%82%D0%B0%D0%BD%D0%B0%29%2C%20%D0%90%D0%BB%D0%BC%D0%B0%D1%82%D1%8B%20%D1%80-%D0%BD%2C%20%D0%91.%20%D0%9C%D0%BE%D0%BC%D1%8B%D1%88%D1%83%D0%BB%D1%8B%2025%20%E2%80%94%20%D0%90%D0%BC%D0%B0%D0%BD%D0%B0%D1%82%3C/div%3E%60%29%5B0%5D%3B%0A%20%20%20%20%20%20%20%20%20%20%20%20popup_1ddefbedb6a74f2497a67c9469f1c2e4.setContent%28html_01a6f8d5eadd487c895224e23eb90c0c%29%3B%0A%20%20%20%20%20%20%20%20%0A%0A%20%20%20%20%20%20%20%20marker_e4b37c72a7364d988b17a06873cd21a8.bindPopup%28popup_1ddefbedb6a74f2497a67c9469f1c2e4%29%0A%20%20%20%20%20%20%20%20%3B%0A%0A%20%20%20%20%20%20%20%20%0A%20%20%20%20%0A%20%20%20%20%0A%20%20%20%20%20%20%20%20%20%20%20%20var%20marker_b1c1899f3d9742cf82ef5e358d883919%20%3D%20L.marker%28%0A%20%20%20%20%20%20%20%20%20%20%20%20%20%20%20%20%5B51.130733%2C%2071.459741%5D%2C%0A%20%20%20%20%20%20%20%20%20%20%20%20%20%20%20%20%7B%7D%0A%20%20%20%20%20%20%20%20%20%20%20%20%29.addTo%28map_0372e994ccf64c4ea30594c13123a576%29%3B%0A%20%20%20%20%20%20%20%20%0A%20%20%20%20%0A%20%20%20%20%20%20%20%20var%20popup_827d9737b17c46938cf63db8c7a5e790%20%3D%20L.popup%28%7B%22maxWidth%22%3A%20%22100%25%22%7D%29%3B%0A%0A%20%20%20%20%20%20%20%20%0A%20%20%20%20%20%20%20%20%20%20%20%20var%20html_bc45666b319647ecaff162f7c9aa3bb5%20%3D%20%24%28%60%3Cdiv%20id%3D%22html_bc45666b319647ecaff162f7c9aa3bb5%22%20style%3D%22width%3A%20100.0%25%3B%20height%3A%20100.0%25%3B%22%3E%D0%9D%D1%83%D1%80-%D0%A1%D1%83%D0%BB%D1%82%D0%B0%D0%BD%20%28%D0%90%D1%81%D1%82%D0%B0%D0%BD%D0%B0%29%2C%20%D0%90%D0%BB%D0%BC%D0%B0%D1%82%D1%8B%20%D1%80-%D0%BD%2C%20%D0%9C%D0%BE%D0%BC%D1%8B%D1%88%D1%83%D0%BB%D1%8B%202%3C/div%3E%60%29%5B0%5D%3B%0A%20%20%20%20%20%20%20%20%20%20%20%20popup_827d9737b17c46938cf63db8c7a5e790.setContent%28html_bc45666b319647ecaff162f7c9aa3bb5%29%3B%0A%20%20%20%20%20%20%20%20%0A%0A%20%20%20%20%20%20%20%20marker_b1c1899f3d9742cf82ef5e358d883919.bindPopup%28popup_827d9737b17c46938cf63db8c7a5e790%29%0A%20%20%20%20%20%20%20%20%3B%0A%0A%20%20%20%20%20%20%20%20%0A%20%20%20%20%0A%20%20%20%20%0A%20%20%20%20%20%20%20%20%20%20%20%20var%20marker_1bc02d59e6424ee6afaea7f12cb6ff47%20%3D%20L.marker%28%0A%20%20%20%20%20%20%20%20%20%20%20%20%20%20%20%20%5B51.160607%2C%2071.42494%5D%2C%0A%20%20%20%20%20%20%20%20%20%20%20%20%20%20%20%20%7B%7D%0A%20%20%20%20%20%20%20%20%20%20%20%20%29.addTo%28map_0372e994ccf64c4ea30594c13123a576%29%3B%0A%20%20%20%20%20%20%20%20%0A%20%20%20%20%0A%20%20%20%20%20%20%20%20var%20popup_15cfde72f3b945cca01e29776bde9fa9%20%3D%20L.popup%28%7B%22maxWidth%22%3A%20%22100%25%22%7D%29%3B%0A%0A%20%20%20%20%20%20%20%20%0A%20%20%20%20%20%20%20%20%20%20%20%20var%20html_f6b658460d51405fa1939bc6d7ea2477%20%3D%20%24%28%60%3Cdiv%20id%3D%22html_f6b658460d51405fa1939bc6d7ea2477%22%20style%3D%22width%3A%20100.0%25%3B%20height%3A%20100.0%25%3B%22%3E%D0%9D%D1%83%D1%80-%D0%A1%D1%83%D0%BB%D1%82%D0%B0%D0%BD%20%28%D0%90%D1%81%D1%82%D0%B0%D0%BD%D0%B0%29%2C%20%D0%A1%D0%B0%D1%80%D1%8B%D0%B0%D1%80%D0%BA%D0%B0%20%D1%80-%D0%BD%2C%20%D0%9C%D0%B0%D0%BC%D0%B1%D0%B5%D1%82%D0%BE%D0%B2%D0%B0%2010%20%E2%80%94%20%D0%93%D1%83%D0%BC%D0%B0%D1%80%20%D0%9A%D0%B0%D1%80%D0%B0%D1%88%3C/div%3E%60%29%5B0%5D%3B%0A%20%20%20%20%20%20%20%20%20%20%20%20popup_15cfde72f3b945cca01e29776bde9fa9.setContent%28html_f6b658460d51405fa1939bc6d7ea2477%29%3B%0A%20%20%20%20%20%20%20%20%0A%0A%20%20%20%20%20%20%20%20marker_1bc02d59e6424ee6afaea7f12cb6ff47.bindPopup%28popup_15cfde72f3b945cca01e29776bde9fa9%29%0A%20%20%20%20%20%20%20%20%3B%0A%0A%20%20%20%20%20%20%20%20%0A%20%20%20%20%0A%20%20%20%20%0A%20%20%20%20%20%20%20%20%20%20%20%20var%20marker_bc772e4887a949fc99561bdd1517dd2b%20%3D%20L.marker%28%0A%20%20%20%20%20%20%20%20%20%20%20%20%20%20%20%20%5B51.130460782171%2C%2071.367861117244%5D%2C%0A%20%20%20%20%20%20%20%20%20%20%20%20%20%20%20%20%7B%7D%0A%20%20%20%20%20%20%20%20%20%20%20%20%29.addTo%28map_0372e994ccf64c4ea30594c13123a576%29%3B%0A%20%20%20%20%20%20%20%20%0A%20%20%20%20%0A%20%20%20%20%20%20%20%20var%20popup_b4acefb412e841b098b4fcf2ac82ea88%20%3D%20L.popup%28%7B%22maxWidth%22%3A%20%22100%25%22%7D%29%3B%0A%0A%20%20%20%20%20%20%20%20%0A%20%20%20%20%20%20%20%20%20%20%20%20var%20html_1472e4d2e8804ec28b7396a9319adcfd%20%3D%20%24%28%60%3Cdiv%20id%3D%22html_1472e4d2e8804ec28b7396a9319adcfd%22%20style%3D%22width%3A%20100.0%25%3B%20height%3A%20100.0%25%3B%22%3E%D0%9D%D1%83%D1%80-%D0%A1%D1%83%D0%BB%D1%82%D0%B0%D0%BD%20%28%D0%90%D1%81%D1%82%D0%B0%D0%BD%D0%B0%29%2C%20%D0%95%D1%81%D0%B8%D0%BB%D1%8C%20%D1%80-%D0%BD%2C%20%D0%9511%3C/div%3E%60%29%5B0%5D%3B%0A%20%20%20%20%20%20%20%20%20%20%20%20popup_b4acefb412e841b098b4fcf2ac82ea88.setContent%28html_1472e4d2e8804ec28b7396a9319adcfd%29%3B%0A%20%20%20%20%20%20%20%20%0A%0A%20%20%20%20%20%20%20%20marker_bc772e4887a949fc99561bdd1517dd2b.bindPopup%28popup_b4acefb412e841b098b4fcf2ac82ea88%29%0A%20%20%20%20%20%20%20%20%3B%0A%0A%20%20%20%20%20%20%20%20%0A%20%20%20%20%0A%20%20%20%20%0A%20%20%20%20%20%20%20%20%20%20%20%20var%20marker_349337c7106641ca9ef9ba6cfcf0d0a5%20%3D%20L.marker%28%0A%20%20%20%20%20%20%20%20%20%20%20%20%20%20%20%20%5B51.195503%2C%2071.429396%5D%2C%0A%20%20%20%20%20%20%20%20%20%20%20%20%20%20%20%20%7B%7D%0A%20%20%20%20%20%20%20%20%20%20%20%20%29.addTo%28map_0372e994ccf64c4ea30594c13123a576%29%3B%0A%20%20%20%20%20%20%20%20%0A%20%20%20%20%0A%20%20%20%20%20%20%20%20var%20popup_2da6f0b972c548db9deff21ccecf3896%20%3D%20L.popup%28%7B%22maxWidth%22%3A%20%22100%25%22%7D%29%3B%0A%0A%20%20%20%20%20%20%20%20%0A%20%20%20%20%20%20%20%20%20%20%20%20var%20html_c17b83fddca5448a87a79d2975c3fce6%20%3D%20%24%28%60%3Cdiv%20id%3D%22html_c17b83fddca5448a87a79d2975c3fce6%22%20style%3D%22width%3A%20100.0%25%3B%20height%3A%20100.0%25%3B%22%3E%D0%9D%D1%83%D1%80-%D0%A1%D1%83%D0%BB%D1%82%D0%B0%D0%BD%20%28%D0%90%D1%81%D1%82%D0%B0%D0%BD%D0%B0%29%2C%20%D1%80-%D0%BD%20%D0%91%D0%B0%D0%B9%D0%BA%D0%BE%D0%BD%D1%83%D1%80%2C%20%D0%A2%D0%B5%D0%BB%D0%B6%D0%B0%D0%BD%20%D1%88%D0%BE%D0%BD%D0%B0%D0%BD%D1%83%D0%BB%D1%8B%2041%3C/div%3E%60%29%5B0%5D%3B%0A%20%20%20%20%20%20%20%20%20%20%20%20popup_2da6f0b972c548db9deff21ccecf3896.setContent%28html_c17b83fddca5448a87a79d2975c3fce6%29%3B%0A%20%20%20%20%20%20%20%20%0A%0A%20%20%20%20%20%20%20%20marker_349337c7106641ca9ef9ba6cfcf0d0a5.bindPopup%28popup_2da6f0b972c548db9deff21ccecf3896%29%0A%20%20%20%20%20%20%20%20%3B%0A%0A%20%20%20%20%20%20%20%20%0A%20%20%20%20%0A%20%20%20%20%0A%20%20%20%20%20%20%20%20%20%20%20%20var%20marker_c4c162e5ca7046208d7777f83dac630f%20%3D%20L.marker%28%0A%20%20%20%20%20%20%20%20%20%20%20%20%20%20%20%20%5B51.177764209258%2C%2071.408172251884%5D%2C%0A%20%20%20%20%20%20%20%20%20%20%20%20%20%20%20%20%7B%7D%0A%20%20%20%20%20%20%20%20%20%20%20%20%29.addTo%28map_0372e994ccf64c4ea30594c13123a576%29%3B%0A%20%20%20%20%20%20%20%20%0A%20%20%20%20%0A%20%20%20%20%20%20%20%20var%20popup_3159a49006754793826c7306404554f3%20%3D%20L.popup%28%7B%22maxWidth%22%3A%20%22100%25%22%7D%29%3B%0A%0A%20%20%20%20%20%20%20%20%0A%20%20%20%20%20%20%20%20%20%20%20%20var%20html_d82b5404dcb3474d9ab8995a0c9d9ea7%20%3D%20%24%28%60%3Cdiv%20id%3D%22html_d82b5404dcb3474d9ab8995a0c9d9ea7%22%20style%3D%22width%3A%20100.0%25%3B%20height%3A%20100.0%25%3B%22%3E%D0%9D%D1%83%D1%80-%D0%A1%D1%83%D0%BB%D1%82%D0%B0%D0%BD%20%28%D0%90%D1%81%D1%82%D0%B0%D0%BD%D0%B0%29%2C%20%D0%A1%D0%B0%D1%80%D1%8B%D0%B0%D1%80%D0%BA%D0%B0%20%D1%80-%D0%BD%2C%20%D0%A1%D0%B0%D1%80%D1%8B%D0%B0%D1%80%D0%BA%D0%B0%2048/2%20%E2%80%94%20%D0%9F%D0%BE%D0%B1%D0%B5%D0%B4%D1%8B%3C/div%3E%60%29%5B0%5D%3B%0A%20%20%20%20%20%20%20%20%20%20%20%20popup_3159a49006754793826c7306404554f3.setContent%28html_d82b5404dcb3474d9ab8995a0c9d9ea7%29%3B%0A%20%20%20%20%20%20%20%20%0A%0A%20%20%20%20%20%20%20%20marker_c4c162e5ca7046208d7777f83dac630f.bindPopup%28popup_3159a49006754793826c7306404554f3%29%0A%20%20%20%20%20%20%20%20%3B%0A%0A%20%20%20%20%20%20%20%20%0A%20%20%20%20%0A%20%20%20%20%0A%20%20%20%20%20%20%20%20%20%20%20%20var%20marker_41e58a43a5164aee9d9244a8526842a0%20%3D%20L.marker%28%0A%20%20%20%20%20%20%20%20%20%20%20%20%20%20%20%20%5B51.15786547587%2C%2071.507043913007%5D%2C%0A%20%20%20%20%20%20%20%20%20%20%20%20%20%20%20%20%7B%7D%0A%20%20%20%20%20%20%20%20%20%20%20%20%29.addTo%28map_0372e994ccf64c4ea30594c13123a576%29%3B%0A%20%20%20%20%20%20%20%20%0A%20%20%20%20%0A%20%20%20%20%20%20%20%20var%20popup_8bdb1b3d4a424a50ad82ca3ca9615136%20%3D%20L.popup%28%7B%22maxWidth%22%3A%20%22100%25%22%7D%29%3B%0A%0A%20%20%20%20%20%20%20%20%0A%20%20%20%20%20%20%20%20%20%20%20%20var%20html_318b0c81730f49fa8dacd00a8fa3afb8%20%3D%20%24%28%60%3Cdiv%20id%3D%22html_318b0c81730f49fa8dacd00a8fa3afb8%22%20style%3D%22width%3A%20100.0%25%3B%20height%3A%20100.0%25%3B%22%3E%D0%9D%D1%83%D1%80-%D0%A1%D1%83%D0%BB%D1%82%D0%B0%D0%BD%20%28%D0%90%D1%81%D1%82%D0%B0%D0%BD%D0%B0%29%2C%20%D0%90%D0%BB%D0%BC%D0%B0%D1%82%D1%8B%20%D1%80-%D0%BD%2C%20%D0%9C%D1%83%D1%81%D1%82%D0%B0%D1%84%D0%B8%D0%BD%D0%B0%2021/5-7%3C/div%3E%60%29%5B0%5D%3B%0A%20%20%20%20%20%20%20%20%20%20%20%20popup_8bdb1b3d4a424a50ad82ca3ca9615136.setContent%28html_318b0c81730f49fa8dacd00a8fa3afb8%29%3B%0A%20%20%20%20%20%20%20%20%0A%0A%20%20%20%20%20%20%20%20marker_41e58a43a5164aee9d9244a8526842a0.bindPopup%28popup_8bdb1b3d4a424a50ad82ca3ca9615136%29%0A%20%20%20%20%20%20%20%20%3B%0A%0A%20%20%20%20%20%20%20%20%0A%20%20%20%20%0A%20%20%20%20%0A%20%20%20%20%20%20%20%20%20%20%20%20var%20marker_caf16aeb2e914675b0cb13ba6ad884f5%20%3D%20L.marker%28%0A%20%20%20%20%20%20%20%20%20%20%20%20%20%20%20%20%5B51.118218642203%2C%2071.462881844491%5D%2C%0A%20%20%20%20%20%20%20%20%20%20%20%20%20%20%20%20%7B%7D%0A%20%20%20%20%20%20%20%20%20%20%20%20%29.addTo%28map_0372e994ccf64c4ea30594c13123a576%29%3B%0A%20%20%20%20%20%20%20%20%0A%20%20%20%20%0A%20%20%20%20%20%20%20%20var%20popup_561a7b0dd3bc4b4b9162539fe557d56c%20%3D%20L.popup%28%7B%22maxWidth%22%3A%20%22100%25%22%7D%29%3B%0A%0A%20%20%20%20%20%20%20%20%0A%20%20%20%20%20%20%20%20%20%20%20%20var%20html_d5a0b0f5a93846dca8e559f9f3bcc22c%20%3D%20%24%28%60%3Cdiv%20id%3D%22html_d5a0b0f5a93846dca8e559f9f3bcc22c%22%20style%3D%22width%3A%20100.0%25%3B%20height%3A%20100.0%25%3B%22%3E%D0%9D%D1%83%D1%80-%D0%A1%D1%83%D0%BB%D1%82%D0%B0%D0%BD%20%28%D0%90%D1%81%D1%82%D0%B0%D0%BD%D0%B0%29%2C%20%D0%90%D0%BB%D0%BC%D0%B0%D1%82%D1%8B%20%D1%80-%D0%BD%2C%20%D0%9D%D0%B0%D0%B6%D0%B8%D0%BC%D0%B5%D0%B4%D0%B5%D0%BD%D0%BE%D0%B2%D0%B0%3C/div%3E%60%29%5B0%5D%3B%0A%20%20%20%20%20%20%20%20%20%20%20%20popup_561a7b0dd3bc4b4b9162539fe557d56c.setContent%28html_d5a0b0f5a93846dca8e559f9f3bcc22c%29%3B%0A%20%20%20%20%20%20%20%20%0A%0A%20%20%20%20%20%20%20%20marker_caf16aeb2e914675b0cb13ba6ad884f5.bindPopup%28popup_561a7b0dd3bc4b4b9162539fe557d56c%29%0A%20%20%20%20%20%20%20%20%3B%0A%0A%20%20%20%20%20%20%20%20%0A%20%20%20%20%0A%20%20%20%20%0A%20%20%20%20%20%20%20%20%20%20%20%20var%20marker_87b479d80f5e478abdd88ef4d5fc0db9%20%3D%20L.marker%28%0A%20%20%20%20%20%20%20%20%20%20%20%20%20%20%20%20%5B51.13114%2C%2071.362849%5D%2C%0A%20%20%20%20%20%20%20%20%20%20%20%20%20%20%20%20%7B%7D%0A%20%20%20%20%20%20%20%20%20%20%20%20%29.addTo%28map_0372e994ccf64c4ea30594c13123a576%29%3B%0A%20%20%20%20%20%20%20%20%0A%20%20%20%20%0A%20%20%20%20%20%20%20%20var%20popup_35f0bba1090848c4aaab8d4be7ea911b%20%3D%20L.popup%28%7B%22maxWidth%22%3A%20%22100%25%22%7D%29%3B%0A%0A%20%20%20%20%20%20%20%20%0A%20%20%20%20%20%20%20%20%20%20%20%20var%20html_684fe01e47774f3fbe0758f9caef5b63%20%3D%20%24%28%60%3Cdiv%20id%3D%22html_684fe01e47774f3fbe0758f9caef5b63%22%20style%3D%22width%3A%20100.0%25%3B%20height%3A%20100.0%25%3B%22%3E%D0%9D%D1%83%D1%80-%D0%A1%D1%83%D0%BB%D1%82%D0%B0%D0%BD%20%28%D0%90%D1%81%D1%82%D0%B0%D0%BD%D0%B0%29%2C%20%D0%95%D1%81%D0%B8%D0%BB%D1%8C%20%D1%80-%D0%BD%2C%20%D0%95-10%205%3C/div%3E%60%29%5B0%5D%3B%0A%20%20%20%20%20%20%20%20%20%20%20%20popup_35f0bba1090848c4aaab8d4be7ea911b.setContent%28html_684fe01e47774f3fbe0758f9caef5b63%29%3B%0A%20%20%20%20%20%20%20%20%0A%0A%20%20%20%20%20%20%20%20marker_87b479d80f5e478abdd88ef4d5fc0db9.bindPopup%28popup_35f0bba1090848c4aaab8d4be7ea911b%29%0A%20%20%20%20%20%20%20%20%3B%0A%0A%20%20%20%20%20%20%20%20%0A%20%20%20%20%0A%20%20%20%20%0A%20%20%20%20%20%20%20%20%20%20%20%20var%20marker_309cf6969b1c4d6d9df412866a737377%20%3D%20L.marker%28%0A%20%20%20%20%20%20%20%20%20%20%20%20%20%20%20%20%5B51.131622018946%2C%2071.377573013306%5D%2C%0A%20%20%20%20%20%20%20%20%20%20%20%20%20%20%20%20%7B%7D%0A%20%20%20%20%20%20%20%20%20%20%20%20%29.addTo%28map_0372e994ccf64c4ea30594c13123a576%29%3B%0A%20%20%20%20%20%20%20%20%0A%20%20%20%20%0A%20%20%20%20%20%20%20%20var%20popup_670f963d2c8e478f9a0109237f1f6d77%20%3D%20L.popup%28%7B%22maxWidth%22%3A%20%22100%25%22%7D%29%3B%0A%0A%20%20%20%20%20%20%20%20%0A%20%20%20%20%20%20%20%20%20%20%20%20var%20html_7f9a3704227e4cedb920558dae767f8d%20%3D%20%24%28%60%3Cdiv%20id%3D%22html_7f9a3704227e4cedb920558dae767f8d%22%20style%3D%22width%3A%20100.0%25%3B%20height%3A%20100.0%25%3B%22%3E%D0%9D%D1%83%D1%80-%D0%A1%D1%83%D0%BB%D1%82%D0%B0%D0%BD%20%28%D0%90%D1%81%D1%82%D0%B0%D0%BD%D0%B0%29%2C%20%D0%95%D1%81%D0%B8%D0%BB%D1%8C%20%D1%80-%D0%BD%2C%20%D0%95-10%2011%3C/div%3E%60%29%5B0%5D%3B%0A%20%20%20%20%20%20%20%20%20%20%20%20popup_670f963d2c8e478f9a0109237f1f6d77.setContent%28html_7f9a3704227e4cedb920558dae767f8d%29%3B%0A%20%20%20%20%20%20%20%20%0A%0A%20%20%20%20%20%20%20%20marker_309cf6969b1c4d6d9df412866a737377.bindPopup%28popup_670f963d2c8e478f9a0109237f1f6d77%29%0A%20%20%20%20%20%20%20%20%3B%0A%0A%20%20%20%20%20%20%20%20%0A%20%20%20%20%0A%20%20%20%20%0A%20%20%20%20%20%20%20%20%20%20%20%20var%20marker_a1deb4bc02fe4f59892971965d13726b%20%3D%20L.marker%28%0A%20%20%20%20%20%20%20%20%20%20%20%20%20%20%20%20%5B51.136544%2C%2071.368472%5D%2C%0A%20%20%20%20%20%20%20%20%20%20%20%20%20%20%20%20%7B%7D%0A%20%20%20%20%20%20%20%20%20%20%20%20%29.addTo%28map_0372e994ccf64c4ea30594c13123a576%29%3B%0A%20%20%20%20%20%20%20%20%0A%20%20%20%20%0A%20%20%20%20%20%20%20%20var%20popup_bc013c8fbcdc4844b8a9c7ee4b5a2c56%20%3D%20L.popup%28%7B%22maxWidth%22%3A%20%22100%25%22%7D%29%3B%0A%0A%20%20%20%20%20%20%20%20%0A%20%20%20%20%20%20%20%20%20%20%20%20var%20html_d6277512fd834568a4444a2ea450325e%20%3D%20%24%28%60%3Cdiv%20id%3D%22html_d6277512fd834568a4444a2ea450325e%22%20style%3D%22width%3A%20100.0%25%3B%20height%3A%20100.0%25%3B%22%3E%D0%9D%D1%83%D1%80-%D0%A1%D1%83%D0%BB%D1%82%D0%B0%D0%BD%20%28%D0%90%D1%81%D1%82%D0%B0%D0%BD%D0%B0%29%2C%20%D0%95%D1%81%D0%B8%D0%BB%D1%8C%20%D1%80-%D0%BD%2C%20%D0%98%D0%BB%D1%8C%D1%8F%D1%81%D0%B0%20%D0%9E%D0%BC%D0%B0%D1%80%D0%BE%D0%B2%D0%B0%3C/div%3E%60%29%5B0%5D%3B%0A%20%20%20%20%20%20%20%20%20%20%20%20popup_bc013c8fbcdc4844b8a9c7ee4b5a2c56.setContent%28html_d6277512fd834568a4444a2ea450325e%29%3B%0A%20%20%20%20%20%20%20%20%0A%0A%20%20%20%20%20%20%20%20marker_a1deb4bc02fe4f59892971965d13726b.bindPopup%28popup_bc013c8fbcdc4844b8a9c7ee4b5a2c56%29%0A%20%20%20%20%20%20%20%20%3B%0A%0A%20%20%20%20%20%20%20%20%0A%20%20%20%20%0A%20%20%20%20%0A%20%20%20%20%20%20%20%20%20%20%20%20var%20marker_5b09f987cbde4fb9be8ce41fe4709723%20%3D%20L.marker%28%0A%20%20%20%20%20%20%20%20%20%20%20%20%20%20%20%20%5B51.187493%2C%2071.415688%5D%2C%0A%20%20%20%20%20%20%20%20%20%20%20%20%20%20%20%20%7B%7D%0A%20%20%20%20%20%20%20%20%20%20%20%20%29.addTo%28map_0372e994ccf64c4ea30594c13123a576%29%3B%0A%20%20%20%20%20%20%20%20%0A%20%20%20%20%0A%20%20%20%20%20%20%20%20var%20popup_62b892edb79a491888ed358085b36642%20%3D%20L.popup%28%7B%22maxWidth%22%3A%20%22100%25%22%7D%29%3B%0A%0A%20%20%20%20%20%20%20%20%0A%20%20%20%20%20%20%20%20%20%20%20%20var%20html_3929fe419bd34526a900a54978775141%20%3D%20%24%28%60%3Cdiv%20id%3D%22html_3929fe419bd34526a900a54978775141%22%20style%3D%22width%3A%20100.0%25%3B%20height%3A%20100.0%25%3B%22%3E%D0%9D%D1%83%D1%80-%D0%A1%D1%83%D0%BB%D1%82%D0%B0%D0%BD%20%28%D0%90%D1%81%D1%82%D0%B0%D0%BD%D0%B0%29%2C%20%D0%A1%D0%B0%D1%80%D1%8B%D0%B0%D1%80%D0%BA%D0%B0%20%D1%80-%D0%BD%2C%20%D0%91%D0%B5%D0%B9%D0%B1%D0%B8%D1%82%D1%88%D0%B8%D0%BB%D0%B8%D0%BA%3C/div%3E%60%29%5B0%5D%3B%0A%20%20%20%20%20%20%20%20%20%20%20%20popup_62b892edb79a491888ed358085b36642.setContent%28html_3929fe419bd34526a900a54978775141%29%3B%0A%20%20%20%20%20%20%20%20%0A%0A%20%20%20%20%20%20%20%20marker_5b09f987cbde4fb9be8ce41fe4709723.bindPopup%28popup_62b892edb79a491888ed358085b36642%29%0A%20%20%20%20%20%20%20%20%3B%0A%0A%20%20%20%20%20%20%20%20%0A%20%20%20%20%0A%20%20%20%20%0A%20%20%20%20%20%20%20%20%20%20%20%20var%20marker_9dc4843a06194b5fa35e829d9ebb609e%20%3D%20L.marker%28%0A%20%20%20%20%20%20%20%20%20%20%20%20%20%20%20%20%5B51.124691%2C%2071.491766%5D%2C%0A%20%20%20%20%20%20%20%20%20%20%20%20%20%20%20%20%7B%7D%0A%20%20%20%20%20%20%20%20%20%20%20%20%29.addTo%28map_0372e994ccf64c4ea30594c13123a576%29%3B%0A%20%20%20%20%20%20%20%20%0A%20%20%20%20%0A%20%20%20%20%20%20%20%20var%20popup_757aa708c4194b5c89e5ee32c6e244c4%20%3D%20L.popup%28%7B%22maxWidth%22%3A%20%22100%25%22%7D%29%3B%0A%0A%20%20%20%20%20%20%20%20%0A%20%20%20%20%20%20%20%20%20%20%20%20var%20html_15f7910837144fe7a6fc66fb347b6437%20%3D%20%24%28%60%3Cdiv%20id%3D%22html_15f7910837144fe7a6fc66fb347b6437%22%20style%3D%22width%3A%20100.0%25%3B%20height%3A%20100.0%25%3B%22%3E%D0%9D%D1%83%D1%80-%D0%A1%D1%83%D0%BB%D1%82%D0%B0%D0%BD%20%28%D0%90%D1%81%D1%82%D0%B0%D0%BD%D0%B0%29%2C%20%D0%90%D0%BB%D0%BC%D0%B0%D1%82%D1%8B%20%D1%80-%D0%BD%2C%20%D0%90%2098%201%3C/div%3E%60%29%5B0%5D%3B%0A%20%20%20%20%20%20%20%20%20%20%20%20popup_757aa708c4194b5c89e5ee32c6e244c4.setContent%28html_15f7910837144fe7a6fc66fb347b6437%29%3B%0A%20%20%20%20%20%20%20%20%0A%0A%20%20%20%20%20%20%20%20marker_9dc4843a06194b5fa35e829d9ebb609e.bindPopup%28popup_757aa708c4194b5c89e5ee32c6e244c4%29%0A%20%20%20%20%20%20%20%20%3B%0A%0A%20%20%20%20%20%20%20%20%0A%20%20%20%20%0A%20%20%20%20%0A%20%20%20%20%20%20%20%20%20%20%20%20var%20marker_7753907494b747cebcf3ac0946e822eb%20%3D%20L.marker%28%0A%20%20%20%20%20%20%20%20%20%20%20%20%20%20%20%20%5B51.171581%2C%2071.38917%5D%2C%0A%20%20%20%20%20%20%20%20%20%20%20%20%20%20%20%20%7B%7D%0A%20%20%20%20%20%20%20%20%20%20%20%20%29.addTo%28map_0372e994ccf64c4ea30594c13123a576%29%3B%0A%20%20%20%20%20%20%20%20%0A%20%20%20%20%0A%20%20%20%20%20%20%20%20var%20popup_9b0c948d8f83477c8d8cf9063360879e%20%3D%20L.popup%28%7B%22maxWidth%22%3A%20%22100%25%22%7D%29%3B%0A%0A%20%20%20%20%20%20%20%20%0A%20%20%20%20%20%20%20%20%20%20%20%20var%20html_23bc21d65f184a32882f5fb0f73c4362%20%3D%20%24%28%60%3Cdiv%20id%3D%22html_23bc21d65f184a32882f5fb0f73c4362%22%20style%3D%22width%3A%20100.0%25%3B%20height%3A%20100.0%25%3B%22%3E%D0%9D%D1%83%D1%80-%D0%A1%D1%83%D0%BB%D1%82%D0%B0%D0%BD%20%28%D0%90%D1%81%D1%82%D0%B0%D0%BD%D0%B0%29%2C%20%D0%A1%D0%B0%D1%80%D1%8B%D0%B0%D1%80%D0%BA%D0%B0%20%D1%80-%D0%BD%2C%20%D0%9A%D0%BE%D1%81%D1%88%D1%8B%D0%B3%D1%83%D0%B3%D1%83%D0%BB%D1%8B%20%E2%80%94%20%D0%A1%D0%B0%D0%BA%D0%B5%D0%BD%D0%B0%20%D0%A1%D0%B5%D0%B9%D1%84%D1%83%D0%BB%D0%BB%D0%B8%D0%BD%D0%B0%3C/div%3E%60%29%5B0%5D%3B%0A%20%20%20%20%20%20%20%20%20%20%20%20popup_9b0c948d8f83477c8d8cf9063360879e.setContent%28html_23bc21d65f184a32882f5fb0f73c4362%29%3B%0A%20%20%20%20%20%20%20%20%0A%0A%20%20%20%20%20%20%20%20marker_7753907494b747cebcf3ac0946e822eb.bindPopup%28popup_9b0c948d8f83477c8d8cf9063360879e%29%0A%20%20%20%20%20%20%20%20%3B%0A%0A%20%20%20%20%20%20%20%20%0A%20%20%20%20%0A%20%20%20%20%0A%20%20%20%20%20%20%20%20%20%20%20%20var%20marker_521c1f9271ce44719d8cfd6d95a6396b%20%3D%20L.marker%28%0A%20%20%20%20%20%20%20%20%20%20%20%20%20%20%20%20%5B51.179546334274%2C%2071.393830932541%5D%2C%0A%20%20%20%20%20%20%20%20%20%20%20%20%20%20%20%20%7B%7D%0A%20%20%20%20%20%20%20%20%20%20%20%20%29.addTo%28map_0372e994ccf64c4ea30594c13123a576%29%3B%0A%20%20%20%20%20%20%20%20%0A%20%20%20%20%0A%20%20%20%20%20%20%20%20var%20popup_15303a33bbb94eb7bbef498d8509b548%20%3D%20L.popup%28%7B%22maxWidth%22%3A%20%22100%25%22%7D%29%3B%0A%0A%20%20%20%20%20%20%20%20%0A%20%20%20%20%20%20%20%20%20%20%20%20var%20html_63d2540f61274ccaa563e9ac7c5e3489%20%3D%20%24%28%60%3Cdiv%20id%3D%22html_63d2540f61274ccaa563e9ac7c5e3489%22%20style%3D%22width%3A%20100.0%25%3B%20height%3A%20100.0%25%3B%22%3E%D0%9D%D1%83%D1%80-%D0%A1%D1%83%D0%BB%D1%82%D0%B0%D0%BD%20%28%D0%90%D1%81%D1%82%D0%B0%D0%BD%D0%B0%29%2C%20%D0%A1%D0%B0%D1%80%D1%8B%D0%B0%D1%80%D0%BA%D0%B0%20%D1%80-%D0%BD%2C%20%D0%9C%D0%B0%D1%81%D0%BA%D0%B5%D1%83%3C/div%3E%60%29%5B0%5D%3B%0A%20%20%20%20%20%20%20%20%20%20%20%20popup_15303a33bbb94eb7bbef498d8509b548.setContent%28html_63d2540f61274ccaa563e9ac7c5e3489%29%3B%0A%20%20%20%20%20%20%20%20%0A%0A%20%20%20%20%20%20%20%20marker_521c1f9271ce44719d8cfd6d95a6396b.bindPopup%28popup_15303a33bbb94eb7bbef498d8509b548%29%0A%20%20%20%20%20%20%20%20%3B%0A%0A%20%20%20%20%20%20%20%20%0A%20%20%20%20%0A%20%20%20%20%0A%20%20%20%20%20%20%20%20%20%20%20%20var%20marker_96021a8771a244738697866b54ef1749%20%3D%20L.marker%28%0A%20%20%20%20%20%20%20%20%20%20%20%20%20%20%20%20%5B51.059703527386%2C%2071.419682581136%5D%2C%0A%20%20%20%20%20%20%20%20%20%20%20%20%20%20%20%20%7B%7D%0A%20%20%20%20%20%20%20%20%20%20%20%20%29.addTo%28map_0372e994ccf64c4ea30594c13123a576%29%3B%0A%20%20%20%20%20%20%20%20%0A%20%20%20%20%0A%20%20%20%20%20%20%20%20var%20popup_a2ed11bca4a3498fa9809f743da4f3d6%20%3D%20L.popup%28%7B%22maxWidth%22%3A%20%22100%25%22%7D%29%3B%0A%0A%20%20%20%20%20%20%20%20%0A%20%20%20%20%20%20%20%20%20%20%20%20var%20html_71f0045ef6194fcbab1cddadcb2ba7a4%20%3D%20%24%28%60%3Cdiv%20id%3D%22html_71f0045ef6194fcbab1cddadcb2ba7a4%22%20style%3D%22width%3A%20100.0%25%3B%20height%3A%20100.0%25%3B%22%3E%D0%9D%D1%83%D1%80-%D0%A1%D1%83%D0%BB%D1%82%D0%B0%D0%BD%20%28%D0%90%D1%81%D1%82%D0%B0%D0%BD%D0%B0%29%2C%20%D0%95%D1%81%D0%B8%D0%BB%D1%8C%20%D1%80-%D0%BD%2C%20%D0%95652%3C/div%3E%60%29%5B0%5D%3B%0A%20%20%20%20%20%20%20%20%20%20%20%20popup_a2ed11bca4a3498fa9809f743da4f3d6.setContent%28html_71f0045ef6194fcbab1cddadcb2ba7a4%29%3B%0A%20%20%20%20%20%20%20%20%0A%0A%20%20%20%20%20%20%20%20marker_96021a8771a244738697866b54ef1749.bindPopup%28popup_a2ed11bca4a3498fa9809f743da4f3d6%29%0A%20%20%20%20%20%20%20%20%3B%0A%0A%20%20%20%20%20%20%20%20%0A%20%20%20%20%0A%20%20%20%20%0A%20%20%20%20%20%20%20%20%20%20%20%20var%20marker_6a2f624d6ae54870b242a098d762d499%20%3D%20L.marker%28%0A%20%20%20%20%20%20%20%20%20%20%20%20%20%20%20%20%5B51.093480638808%2C%2071.445667108783%5D%2C%0A%20%20%20%20%20%20%20%20%20%20%20%20%20%20%20%20%7B%7D%0A%20%20%20%20%20%20%20%20%20%20%20%20%29.addTo%28map_0372e994ccf64c4ea30594c13123a576%29%3B%0A%20%20%20%20%20%20%20%20%0A%20%20%20%20%0A%20%20%20%20%20%20%20%20var%20popup_d594d08d0d3d4ca0b31ba26379f89fca%20%3D%20L.popup%28%7B%22maxWidth%22%3A%20%22100%25%22%7D%29%3B%0A%0A%20%20%20%20%20%20%20%20%0A%20%20%20%20%20%20%20%20%20%20%20%20var%20html_8dd4a50dcf8c45ccb2ce96c2f8d3484b%20%3D%20%24%28%60%3Cdiv%20id%3D%22html_8dd4a50dcf8c45ccb2ce96c2f8d3484b%22%20style%3D%22width%3A%20100.0%25%3B%20height%3A%20100.0%25%3B%22%3E%D0%9D%D1%83%D1%80-%D0%A1%D1%83%D0%BB%D1%82%D0%B0%D0%BD%20%28%D0%90%D1%81%D1%82%D0%B0%D0%BD%D0%B0%29%2C%20%D0%95%D1%81%D0%B8%D0%BB%D1%8C%20%D1%80-%D0%BD%2C%20%D0%95-356%206%3C/div%3E%60%29%5B0%5D%3B%0A%20%20%20%20%20%20%20%20%20%20%20%20popup_d594d08d0d3d4ca0b31ba26379f89fca.setContent%28html_8dd4a50dcf8c45ccb2ce96c2f8d3484b%29%3B%0A%20%20%20%20%20%20%20%20%0A%0A%20%20%20%20%20%20%20%20marker_6a2f624d6ae54870b242a098d762d499.bindPopup%28popup_d594d08d0d3d4ca0b31ba26379f89fca%29%0A%20%20%20%20%20%20%20%20%3B%0A%0A%20%20%20%20%20%20%20%20%0A%20%20%20%20%0A%20%20%20%20%0A%20%20%20%20%20%20%20%20%20%20%20%20var%20marker_4ecda8fb6e4c414caf930563c36f632b%20%3D%20L.marker%28%0A%20%20%20%20%20%20%20%20%20%20%20%20%20%20%20%20%5B51.157241%2C%2071.433627%5D%2C%0A%20%20%20%20%20%20%20%20%20%20%20%20%20%20%20%20%7B%7D%0A%20%20%20%20%20%20%20%20%20%20%20%20%29.addTo%28map_0372e994ccf64c4ea30594c13123a576%29%3B%0A%20%20%20%20%20%20%20%20%0A%20%20%20%20%0A%20%20%20%20%20%20%20%20var%20popup_6503be9c158b43baad0cc331a8e00b65%20%3D%20L.popup%28%7B%22maxWidth%22%3A%20%22100%25%22%7D%29%3B%0A%0A%20%20%20%20%20%20%20%20%0A%20%20%20%20%20%20%20%20%20%20%20%20var%20html_71633e5f887f484b947a58446206e12e%20%3D%20%24%28%60%3Cdiv%20id%3D%22html_71633e5f887f484b947a58446206e12e%22%20style%3D%22width%3A%20100.0%25%3B%20height%3A%20100.0%25%3B%22%3E%D0%9D%D1%83%D1%80-%D0%A1%D1%83%D0%BB%D1%82%D0%B0%D0%BD%20%28%D0%90%D1%81%D1%82%D0%B0%D0%BD%D0%B0%29%2C%20%D1%80-%D0%BD%20%D0%91%D0%B0%D0%B9%D0%BA%D0%BE%D0%BD%D1%83%D1%80%2C%20%D0%91%D0%B0%D1%80%D0%B0%D0%B5%D0%B2%D0%B0%205%20%E2%80%94%20%D0%BF%D1%80%D0%BE%D1%81%D0%BF%D0%B5%D0%BA%D1%82%20%D0%A0%D0%B5%D1%81%D0%BF%D1%83%D0%B1%D0%BB%D0%B8%D0%BA%D0%B8%3C/div%3E%60%29%5B0%5D%3B%0A%20%20%20%20%20%20%20%20%20%20%20%20popup_6503be9c158b43baad0cc331a8e00b65.setContent%28html_71633e5f887f484b947a58446206e12e%29%3B%0A%20%20%20%20%20%20%20%20%0A%0A%20%20%20%20%20%20%20%20marker_4ecda8fb6e4c414caf930563c36f632b.bindPopup%28popup_6503be9c158b43baad0cc331a8e00b65%29%0A%20%20%20%20%20%20%20%20%3B%0A%0A%20%20%20%20%20%20%20%20%0A%20%20%20%20%0A%20%20%20%20%0A%20%20%20%20%20%20%20%20%20%20%20%20var%20marker_07f00eddf826472a96f01f0b6c0f8cc8%20%3D%20L.marker%28%0A%20%20%20%20%20%20%20%20%20%20%20%20%20%20%20%20%5B51.114367%2C%2071.432801%5D%2C%0A%20%20%20%20%20%20%20%20%20%20%20%20%20%20%20%20%7B%7D%0A%20%20%20%20%20%20%20%20%20%20%20%20%29.addTo%28map_0372e994ccf64c4ea30594c13123a576%29%3B%0A%20%20%20%20%20%20%20%20%0A%20%20%20%20%0A%20%20%20%20%20%20%20%20var%20popup_acc0608d725248d2af8d8fb42939562b%20%3D%20L.popup%28%7B%22maxWidth%22%3A%20%22100%25%22%7D%29%3B%0A%0A%20%20%20%20%20%20%20%20%0A%20%20%20%20%20%20%20%20%20%20%20%20var%20html_89e1e58c6a364af79abe7c3a65a2f471%20%3D%20%24%28%60%3Cdiv%20id%3D%22html_89e1e58c6a364af79abe7c3a65a2f471%22%20style%3D%22width%3A%20100.0%25%3B%20height%3A%20100.0%25%3B%22%3E%D0%9D%D1%83%D1%80-%D0%A1%D1%83%D0%BB%D1%82%D0%B0%D0%BD%20%28%D0%90%D1%81%D1%82%D0%B0%D0%BD%D0%B0%29%2C%20%D0%95%D1%81%D0%B8%D0%BB%D1%8C%20%D1%80-%D0%BD%2C%20%D0%9C%D0%B0%D0%BD%D0%B3%D0%B8%D0%BB%D0%B8%D0%BA%20%D0%B5%D0%BB%2019%20%E2%80%94%20%D0%90%D0%BB%D0%BC%D0%B0%D1%82%D1%8B%3C/div%3E%60%29%5B0%5D%3B%0A%20%20%20%20%20%20%20%20%20%20%20%20popup_acc0608d725248d2af8d8fb42939562b.setContent%28html_89e1e58c6a364af79abe7c3a65a2f471%29%3B%0A%20%20%20%20%20%20%20%20%0A%0A%20%20%20%20%20%20%20%20marker_07f00eddf826472a96f01f0b6c0f8cc8.bindPopup%28popup_acc0608d725248d2af8d8fb42939562b%29%0A%20%20%20%20%20%20%20%20%3B%0A%0A%20%20%20%20%20%20%20%20%0A%20%20%20%20%0A%20%20%20%20%0A%20%20%20%20%20%20%20%20%20%20%20%20var%20marker_3a3d9804e0c846f78afacea6304544a9%20%3D%20L.marker%28%0A%20%20%20%20%20%20%20%20%20%20%20%20%20%20%20%20%5B51.099520493571%2C%2071.435667721182%5D%2C%0A%20%20%20%20%20%20%20%20%20%20%20%20%20%20%20%20%7B%7D%0A%20%20%20%20%20%20%20%20%20%20%20%20%29.addTo%28map_0372e994ccf64c4ea30594c13123a576%29%3B%0A%20%20%20%20%20%20%20%20%0A%20%20%20%20%0A%20%20%20%20%20%20%20%20var%20popup_a4928b86f2454f75aa882c08144874c1%20%3D%20L.popup%28%7B%22maxWidth%22%3A%20%22100%25%22%7D%29%3B%0A%0A%20%20%20%20%20%20%20%20%0A%20%20%20%20%20%20%20%20%20%20%20%20var%20html_2831c33c0cd34afe8866db84177f20ee%20%3D%20%24%28%60%3Cdiv%20id%3D%22html_2831c33c0cd34afe8866db84177f20ee%22%20style%3D%22width%3A%20100.0%25%3B%20height%3A%20100.0%25%3B%22%3E%D0%9D%D1%83%D1%80-%D0%A1%D1%83%D0%BB%D1%82%D0%B0%D0%BD%20%28%D0%90%D1%81%D1%82%D0%B0%D0%BD%D0%B0%29%2C%20%D0%95%D1%81%D0%B8%D0%BB%D1%8C%20%D1%80-%D0%BD%2C%20%D0%90%D0%BB%D0%B8%D1%85%D0%B0%D0%BD%D0%B0%20%D0%91%D0%BE%D0%BA%D0%B5%D0%B9%D1%85%D0%B0%D0%BD%D0%BE%D0%B2%D0%B0%2030/1%20%E2%80%94%20%D0%91%D1%83%D1%85%D0%B0%D1%80%20%D0%96%D1%8B%D1%80%D0%B0%D1%83%3C/div%3E%60%29%5B0%5D%3B%0A%20%20%20%20%20%20%20%20%20%20%20%20popup_a4928b86f2454f75aa882c08144874c1.setContent%28html_2831c33c0cd34afe8866db84177f20ee%29%3B%0A%20%20%20%20%20%20%20%20%0A%0A%20%20%20%20%20%20%20%20marker_3a3d9804e0c846f78afacea6304544a9.bindPopup%28popup_a4928b86f2454f75aa882c08144874c1%29%0A%20%20%20%20%20%20%20%20%3B%0A%0A%20%20%20%20%20%20%20%20%0A%20%20%20%20%0A%20%20%20%20%0A%20%20%20%20%20%20%20%20%20%20%20%20var%20marker_a25d447ea6b847e59cd1b21b4f2160ed%20%3D%20L.marker%28%0A%20%20%20%20%20%20%20%20%20%20%20%20%20%20%20%20%5B51.157052265223%2C%2071.509936855795%5D%2C%0A%20%20%20%20%20%20%20%20%20%20%20%20%20%20%20%20%7B%7D%0A%20%20%20%20%20%20%20%20%20%20%20%20%29.addTo%28map_0372e994ccf64c4ea30594c13123a576%29%3B%0A%20%20%20%20%20%20%20%20%0A%20%20%20%20%0A%20%20%20%20%20%20%20%20var%20popup_b8816726b556454193ba423fd39e89c0%20%3D%20L.popup%28%7B%22maxWidth%22%3A%20%22100%25%22%7D%29%3B%0A%0A%20%20%20%20%20%20%20%20%0A%20%20%20%20%20%20%20%20%20%20%20%20var%20html_af72404474c44ac48d3bfd7635d133d4%20%3D%20%24%28%60%3Cdiv%20id%3D%22html_af72404474c44ac48d3bfd7635d133d4%22%20style%3D%22width%3A%20100.0%25%3B%20height%3A%20100.0%25%3B%22%3E%D0%9D%D1%83%D1%80-%D0%A1%D1%83%D0%BB%D1%82%D0%B0%D0%BD%20%28%D0%90%D1%81%D1%82%D0%B0%D0%BD%D0%B0%29%2C%20%D0%90%D0%BB%D0%BC%D0%B0%D1%82%D1%8B%20%D1%80-%D0%BD%2C%20%D0%9C%D1%83%D1%81%D1%82%D0%B0%D1%84%D0%B8%D0%BD%D0%B0%2021/1-4%3C/div%3E%60%29%5B0%5D%3B%0A%20%20%20%20%20%20%20%20%20%20%20%20popup_b8816726b556454193ba423fd39e89c0.setContent%28html_af72404474c44ac48d3bfd7635d133d4%29%3B%0A%20%20%20%20%20%20%20%20%0A%0A%20%20%20%20%20%20%20%20marker_a25d447ea6b847e59cd1b21b4f2160ed.bindPopup%28popup_b8816726b556454193ba423fd39e89c0%29%0A%20%20%20%20%20%20%20%20%3B%0A%0A%20%20%20%20%20%20%20%20%0A%20%20%20%20%0A%20%20%20%20%0A%20%20%20%20%20%20%20%20%20%20%20%20var%20marker_86231055b084491390f7fad0b82fd58b%20%3D%20L.marker%28%0A%20%20%20%20%20%20%20%20%20%20%20%20%20%20%20%20%5B51.154546%2C%2071.476773%5D%2C%0A%20%20%20%20%20%20%20%20%20%20%20%20%20%20%20%20%7B%7D%0A%20%20%20%20%20%20%20%20%20%20%20%20%29.addTo%28map_0372e994ccf64c4ea30594c13123a576%29%3B%0A%20%20%20%20%20%20%20%20%0A%20%20%20%20%0A%20%20%20%20%20%20%20%20var%20popup_4ecd68e18d0045f8bc418ed262b46082%20%3D%20L.popup%28%7B%22maxWidth%22%3A%20%22100%25%22%7D%29%3B%0A%0A%20%20%20%20%20%20%20%20%0A%20%20%20%20%20%20%20%20%20%20%20%20var%20html_0eae2385881f4f1d9cbdc85120ed379f%20%3D%20%24%28%60%3Cdiv%20id%3D%22html_0eae2385881f4f1d9cbdc85120ed379f%22%20style%3D%22width%3A%20100.0%25%3B%20height%3A%20100.0%25%3B%22%3E%D0%9D%D1%83%D1%80-%D0%A1%D1%83%D0%BB%D1%82%D0%B0%D0%BD%20%28%D0%90%D1%81%D1%82%D0%B0%D0%BD%D0%B0%29%2C%20%D0%90%D0%BB%D0%BC%D0%B0%D1%82%D1%8B%20%D1%80-%D0%BD%2C%20%D0%96%D1%83%D0%BC%D0%B0%D0%B1%D0%B0%D0%B5%D0%B2%D0%B0%203/1%20%E2%80%94%20%D0%9A%D0%B0%D0%B6%D1%8B%D0%BC%D1%83%D0%BA%D0%B0%D0%BD%D0%B0%2C%20%D0%BF%D0%B5%D1%82%D1%80%D0%BE%D0%B2%D0%B0%3C/div%3E%60%29%5B0%5D%3B%0A%20%20%20%20%20%20%20%20%20%20%20%20popup_4ecd68e18d0045f8bc418ed262b46082.setContent%28html_0eae2385881f4f1d9cbdc85120ed379f%29%3B%0A%20%20%20%20%20%20%20%20%0A%0A%20%20%20%20%20%20%20%20marker_86231055b084491390f7fad0b82fd58b.bindPopup%28popup_4ecd68e18d0045f8bc418ed262b46082%29%0A%20%20%20%20%20%20%20%20%3B%0A%0A%20%20%20%20%20%20%20%20%0A%20%20%20%20%0A%20%20%20%20%0A%20%20%20%20%20%20%20%20%20%20%20%20var%20marker_8eaf69be5035493982a9a426cc321fce%20%3D%20L.marker%28%0A%20%20%20%20%20%20%20%20%20%20%20%20%20%20%20%20%5B51.128054%2C%2071.491434%5D%2C%0A%20%20%20%20%20%20%20%20%20%20%20%20%20%20%20%20%7B%7D%0A%20%20%20%20%20%20%20%20%20%20%20%20%29.addTo%28map_0372e994ccf64c4ea30594c13123a576%29%3B%0A%20%20%20%20%20%20%20%20%0A%20%20%20%20%0A%20%20%20%20%20%20%20%20var%20popup_ba3f35a4e19f4dfa978d3c623f349cb1%20%3D%20L.popup%28%7B%22maxWidth%22%3A%20%22100%25%22%7D%29%3B%0A%0A%20%20%20%20%20%20%20%20%0A%20%20%20%20%20%20%20%20%20%20%20%20var%20html_63fed8e29553434fa0a30c01467775a1%20%3D%20%24%28%60%3Cdiv%20id%3D%22html_63fed8e29553434fa0a30c01467775a1%22%20style%3D%22width%3A%20100.0%25%3B%20height%3A%20100.0%25%3B%22%3E%D0%9D%D1%83%D1%80-%D0%A1%D1%83%D0%BB%D1%82%D0%B0%D0%BD%20%28%D0%90%D1%81%D1%82%D0%B0%D0%BD%D0%B0%29%2C%20%D0%90%D0%BB%D0%BC%D0%B0%D1%82%D1%8B%20%D1%80-%D0%BD%2C%20%D0%BF%D1%80%D0%BE%D1%81%D0%BF%D0%B5%D0%BA%D1%82%20%D0%A0%D0%B0%D1%85%D0%B8%D0%BC%D0%B6%D0%B0%D0%BD%D0%B0%20%D0%9A%D0%BE%D1%88%D0%BA%D0%B0%D1%80%D0%B1%D0%B0%D0%B5%D0%B2%D0%B0%2029%3C/div%3E%60%29%5B0%5D%3B%0A%20%20%20%20%20%20%20%20%20%20%20%20popup_ba3f35a4e19f4dfa978d3c623f349cb1.setContent%28html_63fed8e29553434fa0a30c01467775a1%29%3B%0A%20%20%20%20%20%20%20%20%0A%0A%20%20%20%20%20%20%20%20marker_8eaf69be5035493982a9a426cc321fce.bindPopup%28popup_ba3f35a4e19f4dfa978d3c623f349cb1%29%0A%20%20%20%20%20%20%20%20%3B%0A%0A%20%20%20%20%20%20%20%20%0A%20%20%20%20%0A%20%20%20%20%0A%20%20%20%20%20%20%20%20%20%20%20%20var%20marker_73f173a3e1aa414dbd7638a910117209%20%3D%20L.marker%28%0A%20%20%20%20%20%20%20%20%20%20%20%20%20%20%20%20%5B51.155101530578%2C%2071.352084914783%5D%2C%0A%20%20%20%20%20%20%20%20%20%20%20%20%20%20%20%20%7B%7D%0A%20%20%20%20%20%20%20%20%20%20%20%20%29.addTo%28map_0372e994ccf64c4ea30594c13123a576%29%3B%0A%20%20%20%20%20%20%20%20%0A%20%20%20%20%0A%20%20%20%20%20%20%20%20var%20popup_0922b28ced6e49528c44e49d9c74ad42%20%3D%20L.popup%28%7B%22maxWidth%22%3A%20%22100%25%22%7D%29%3B%0A%0A%20%20%20%20%20%20%20%20%0A%20%20%20%20%20%20%20%20%20%20%20%20var%20html_293d95b2a6444df2a47cef2dc19cb9b5%20%3D%20%24%28%60%3Cdiv%20id%3D%22html_293d95b2a6444df2a47cef2dc19cb9b5%22%20style%3D%22width%3A%20100.0%25%3B%20height%3A%20100.0%25%3B%22%3E%D0%9D%D1%83%D1%80-%D0%A1%D1%83%D0%BB%D1%82%D0%B0%D0%BD%20%28%D0%90%D1%81%D1%82%D0%B0%D0%BD%D0%B0%29%2C%20%D0%95%D1%81%D0%B8%D0%BB%D1%8C%20%D1%80-%D0%BD%2C%20%D0%9A%D0%BE%D1%80%D0%B3%D0%B0%D0%BB%D0%B6%D1%8B%D0%BD%D1%81%D0%BA%D0%BE%D0%B5%20%D1%88%D0%BE%D1%81%D1%81%D0%B5%2016%D0%B1%3C/div%3E%60%29%5B0%5D%3B%0A%20%20%20%20%20%20%20%20%20%20%20%20popup_0922b28ced6e49528c44e49d9c74ad42.setContent%28html_293d95b2a6444df2a47cef2dc19cb9b5%29%3B%0A%20%20%20%20%20%20%20%20%0A%0A%20%20%20%20%20%20%20%20marker_73f173a3e1aa414dbd7638a910117209.bindPopup%28popup_0922b28ced6e49528c44e49d9c74ad42%29%0A%20%20%20%20%20%20%20%20%3B%0A%0A%20%20%20%20%20%20%20%20%0A%20%20%20%20%0A%20%20%20%20%0A%20%20%20%20%20%20%20%20%20%20%20%20var%20marker_9da381f76fba414aa2a72266149d5e71%20%3D%20L.marker%28%0A%20%20%20%20%20%20%20%20%20%20%20%20%20%20%20%20%5B51.155608%2C%2071.485559%5D%2C%0A%20%20%20%20%20%20%20%20%20%20%20%20%20%20%20%20%7B%7D%0A%20%20%20%20%20%20%20%20%20%20%20%20%29.addTo%28map_0372e994ccf64c4ea30594c13123a576%29%3B%0A%20%20%20%20%20%20%20%20%0A%20%20%20%20%0A%20%20%20%20%20%20%20%20var%20popup_6d1c1a0011ad42088c1932756d5f478b%20%3D%20L.popup%28%7B%22maxWidth%22%3A%20%22100%25%22%7D%29%3B%0A%0A%20%20%20%20%20%20%20%20%0A%20%20%20%20%20%20%20%20%20%20%20%20var%20html_e80453b56d074885825e7ae1b889dde0%20%3D%20%24%28%60%3Cdiv%20id%3D%22html_e80453b56d074885825e7ae1b889dde0%22%20style%3D%22width%3A%20100.0%25%3B%20height%3A%20100.0%25%3B%22%3E%D0%9D%D1%83%D1%80-%D0%A1%D1%83%D0%BB%D1%82%D0%B0%D0%BD%20%28%D0%90%D1%81%D1%82%D0%B0%D0%BD%D0%B0%29%2C%20%D0%90%D0%BB%D0%BC%D0%B0%D1%82%D1%8B%20%D1%80-%D0%BD%2C%20%D0%90%D0%B1%D1%8B%D0%BB%D0%B0%D0%B9-%D1%85%D0%B0%D0%BD%D0%B0%2029/1%20%E2%80%94%20%D0%9C%D0%B0%D0%BD%D0%B0%D1%81%D0%B0%3C/div%3E%60%29%5B0%5D%3B%0A%20%20%20%20%20%20%20%20%20%20%20%20popup_6d1c1a0011ad42088c1932756d5f478b.setContent%28html_e80453b56d074885825e7ae1b889dde0%29%3B%0A%20%20%20%20%20%20%20%20%0A%0A%20%20%20%20%20%20%20%20marker_9da381f76fba414aa2a72266149d5e71.bindPopup%28popup_6d1c1a0011ad42088c1932756d5f478b%29%0A%20%20%20%20%20%20%20%20%3B%0A%0A%20%20%20%20%20%20%20%20%0A%20%20%20%20%0A%20%20%20%20%0A%20%20%20%20%20%20%20%20%20%20%20%20var%20marker_35f9571ce858400c8c870c3c4331c070%20%3D%20L.marker%28%0A%20%20%20%20%20%20%20%20%20%20%20%20%20%20%20%20%5B51.138691%2C%2071.477168%5D%2C%0A%20%20%20%20%20%20%20%20%20%20%20%20%20%20%20%20%7B%7D%0A%20%20%20%20%20%20%20%20%20%20%20%20%29.addTo%28map_0372e994ccf64c4ea30594c13123a576%29%3B%0A%20%20%20%20%20%20%20%20%0A%20%20%20%20%0A%20%20%20%20%20%20%20%20var%20popup_65484efb1766475f9cc7db4c864015a8%20%3D%20L.popup%28%7B%22maxWidth%22%3A%20%22100%25%22%7D%29%3B%0A%0A%20%20%20%20%20%20%20%20%0A%20%20%20%20%20%20%20%20%20%20%20%20var%20html_a1d3bc9db2484022afe6a38d6d1804fe%20%3D%20%24%28%60%3Cdiv%20id%3D%22html_a1d3bc9db2484022afe6a38d6d1804fe%22%20style%3D%22width%3A%20100.0%25%3B%20height%3A%20100.0%25%3B%22%3E%D0%9D%D1%83%D1%80-%D0%A1%D1%83%D0%BB%D1%82%D0%B0%D0%BD%20%28%D0%90%D1%81%D1%82%D0%B0%D0%BD%D0%B0%29%2C%20%D0%90%D0%BB%D0%BC%D0%B0%D1%82%D1%8B%20%D1%80-%D0%BD%2C%20%D0%91%D0%B0%D1%83%D1%8B%D1%80%D0%B6%D0%B0%D0%BD%20%D0%9C%D0%BE%D0%BC%D1%8B%D1%88%D1%83%D0%BB%D1%8B%2010/2%3C/div%3E%60%29%5B0%5D%3B%0A%20%20%20%20%20%20%20%20%20%20%20%20popup_65484efb1766475f9cc7db4c864015a8.setContent%28html_a1d3bc9db2484022afe6a38d6d1804fe%29%3B%0A%20%20%20%20%20%20%20%20%0A%0A%20%20%20%20%20%20%20%20marker_35f9571ce858400c8c870c3c4331c070.bindPopup%28popup_65484efb1766475f9cc7db4c864015a8%29%0A%20%20%20%20%20%20%20%20%3B%0A%0A%20%20%20%20%20%20%20%20%0A%20%20%20%20%0A%20%20%20%20%0A%20%20%20%20%20%20%20%20%20%20%20%20var%20marker_300d13310ee74521a17a27a75422edfc%20%3D%20L.marker%28%0A%20%20%20%20%20%20%20%20%20%20%20%20%20%20%20%20%5B51.11947113596%2C%2071.516438564913%5D%2C%0A%20%20%20%20%20%20%20%20%20%20%20%20%20%20%20%20%7B%7D%0A%20%20%20%20%20%20%20%20%20%20%20%20%29.addTo%28map_0372e994ccf64c4ea30594c13123a576%29%3B%0A%20%20%20%20%20%20%20%20%0A%20%20%20%20%0A%20%20%20%20%20%20%20%20var%20popup_cc46810ce2364cd788b000691b28d609%20%3D%20L.popup%28%7B%22maxWidth%22%3A%20%22100%25%22%7D%29%3B%0A%0A%20%20%20%20%20%20%20%20%0A%20%20%20%20%20%20%20%20%20%20%20%20var%20html_34454573f8f24f6e83ba08c6f176a1be%20%3D%20%24%28%60%3Cdiv%20id%3D%22html_34454573f8f24f6e83ba08c6f176a1be%22%20style%3D%22width%3A%20100.0%25%3B%20height%3A%20100.0%25%3B%22%3E%D0%9D%D1%83%D1%80-%D0%A1%D1%83%D0%BB%D1%82%D0%B0%D0%BD%20%28%D0%90%D1%81%D1%82%D0%B0%D0%BD%D0%B0%29%2C%20%D0%90%D0%BB%D0%BC%D0%B0%D1%82%D1%8B%20%D1%80-%D0%BD%2C%20%D0%91%D0%B0%D0%B9%D1%82%D1%83%D1%80%D1%81%D1%8B%D0%BD%D0%BE%D0%B2%D0%B0%3C/div%3E%60%29%5B0%5D%3B%0A%20%20%20%20%20%20%20%20%20%20%20%20popup_cc46810ce2364cd788b000691b28d609.setContent%28html_34454573f8f24f6e83ba08c6f176a1be%29%3B%0A%20%20%20%20%20%20%20%20%0A%0A%20%20%20%20%20%20%20%20marker_300d13310ee74521a17a27a75422edfc.bindPopup%28popup_cc46810ce2364cd788b000691b28d609%29%0A%20%20%20%20%20%20%20%20%3B%0A%0A%20%20%20%20%20%20%20%20%0A%20%20%20%20%0A%20%20%20%20%0A%20%20%20%20%20%20%20%20%20%20%20%20var%20marker_1ce5ead8567a4e2a9cf06a8a07d8d129%20%3D%20L.marker%28%0A%20%20%20%20%20%20%20%20%20%20%20%20%20%20%20%20%5B51.179673%2C%2071.393347%5D%2C%0A%20%20%20%20%20%20%20%20%20%20%20%20%20%20%20%20%7B%7D%0A%20%20%20%20%20%20%20%20%20%20%20%20%29.addTo%28map_0372e994ccf64c4ea30594c13123a576%29%3B%0A%20%20%20%20%20%20%20%20%0A%20%20%20%20%0A%20%20%20%20%20%20%20%20var%20popup_0b8a9dd9e67745cfa2e53ac4a8d3d408%20%3D%20L.popup%28%7B%22maxWidth%22%3A%20%22100%25%22%7D%29%3B%0A%0A%20%20%20%20%20%20%20%20%0A%20%20%20%20%20%20%20%20%20%20%20%20var%20html_b2a1ff166b4041599b71692eec7436be%20%3D%20%24%28%60%3Cdiv%20id%3D%22html_b2a1ff166b4041599b71692eec7436be%22%20style%3D%22width%3A%20100.0%25%3B%20height%3A%20100.0%25%3B%22%3E%D0%9D%D1%83%D1%80-%D0%A1%D1%83%D0%BB%D1%82%D0%B0%D0%BD%20%28%D0%90%D1%81%D1%82%D0%B0%D0%BD%D0%B0%29%2C%20%D0%A1%D0%B0%D1%80%D1%8B%D0%B0%D1%80%D0%BA%D0%B0%20%D1%80-%D0%BD%2C%20%D0%9C%D0%BE%D1%81%D0%BA%D0%BE%D0%B2%D1%81%D0%BA%D0%B0%D1%8F%208/1%20%E2%80%94%20%D0%A1%D0%B0%D1%80%D1%8B%D0%B1%D1%83%D0%BB%D0%B0%D0%BA%D1%81%D0%BA%D0%B0%D1%8F%3C/div%3E%60%29%5B0%5D%3B%0A%20%20%20%20%20%20%20%20%20%20%20%20popup_0b8a9dd9e67745cfa2e53ac4a8d3d408.setContent%28html_b2a1ff166b4041599b71692eec7436be%29%3B%0A%20%20%20%20%20%20%20%20%0A%0A%20%20%20%20%20%20%20%20marker_1ce5ead8567a4e2a9cf06a8a07d8d129.bindPopup%28popup_0b8a9dd9e67745cfa2e53ac4a8d3d408%29%0A%20%20%20%20%20%20%20%20%3B%0A%0A%20%20%20%20%20%20%20%20%0A%20%20%20%20%0A%20%20%20%20%0A%20%20%20%20%20%20%20%20%20%20%20%20var%20marker_c63e35fce15e4a2eb5a9a19dabdad0a4%20%3D%20L.marker%28%0A%20%20%20%20%20%20%20%20%20%20%20%20%20%20%20%20%5B51.102554%2C%2071.396805%5D%2C%0A%20%20%20%20%20%20%20%20%20%20%20%20%20%20%20%20%7B%7D%0A%20%20%20%20%20%20%20%20%20%20%20%20%29.addTo%28map_0372e994ccf64c4ea30594c13123a576%29%3B%0A%20%20%20%20%20%20%20%20%0A%20%20%20%20%0A%20%20%20%20%20%20%20%20var%20popup_3bcea6c93a4342089afd335a898350fe%20%3D%20L.popup%28%7B%22maxWidth%22%3A%20%22100%25%22%7D%29%3B%0A%0A%20%20%20%20%20%20%20%20%0A%20%20%20%20%20%20%20%20%20%20%20%20var%20html_4abcdadf350c42b9ba078578dcdbd38e%20%3D%20%24%28%60%3Cdiv%20id%3D%22html_4abcdadf350c42b9ba078578dcdbd38e%22%20style%3D%22width%3A%20100.0%25%3B%20height%3A%20100.0%25%3B%22%3E%D0%9D%D1%83%D1%80-%D0%A1%D1%83%D0%BB%D1%82%D0%B0%D0%BD%20%28%D0%90%D1%81%D1%82%D0%B0%D0%BD%D0%B0%29%2C%20%D0%95%D1%81%D0%B8%D0%BB%D1%8C%20%D1%80-%D0%BD%2C%20%D0%A2%D1%83%D1%80%D0%B0%D0%BD%2056%3C/div%3E%60%29%5B0%5D%3B%0A%20%20%20%20%20%20%20%20%20%20%20%20popup_3bcea6c93a4342089afd335a898350fe.setContent%28html_4abcdadf350c42b9ba078578dcdbd38e%29%3B%0A%20%20%20%20%20%20%20%20%0A%0A%20%20%20%20%20%20%20%20marker_c63e35fce15e4a2eb5a9a19dabdad0a4.bindPopup%28popup_3bcea6c93a4342089afd335a898350fe%29%0A%20%20%20%20%20%20%20%20%3B%0A%0A%20%20%20%20%20%20%20%20%0A%20%20%20%20%0A%20%20%20%20%0A%20%20%20%20%20%20%20%20%20%20%20%20var%20marker_bf7eaefa00eb4bd195647bf354a70491%20%3D%20L.marker%28%0A%20%20%20%20%20%20%20%20%20%20%20%20%20%20%20%20%5B51.135116397268%2C%2071.367380011274%5D%2C%0A%20%20%20%20%20%20%20%20%20%20%20%20%20%20%20%20%7B%7D%0A%20%20%20%20%20%20%20%20%20%20%20%20%29.addTo%28map_0372e994ccf64c4ea30594c13123a576%29%3B%0A%20%20%20%20%20%20%20%20%0A%20%20%20%20%0A%20%20%20%20%20%20%20%20var%20popup_6b21600f305d4265839346af803f2c26%20%3D%20L.popup%28%7B%22maxWidth%22%3A%20%22100%25%22%7D%29%3B%0A%0A%20%20%20%20%20%20%20%20%0A%20%20%20%20%20%20%20%20%20%20%20%20var%20html_852d0a3803e34ad49519cfba5d958837%20%3D%20%24%28%60%3Cdiv%20id%3D%22html_852d0a3803e34ad49519cfba5d958837%22%20style%3D%22width%3A%20100.0%25%3B%20height%3A%20100.0%25%3B%22%3E%D0%9D%D1%83%D1%80-%D0%A1%D1%83%D0%BB%D1%82%D0%B0%D0%BD%20%28%D0%90%D1%81%D1%82%D0%B0%D0%BD%D0%B0%29%2C%20%D0%95%D1%81%D0%B8%D0%BB%D1%8C%20%D1%80-%D0%BD%2C%20%D0%9E%D0%BC%D0%B0%D1%80%D0%BE%D0%B2%D0%B0%209%20%E2%80%94%20%D0%90%D0%B9%D1%82%D0%BC%D0%B0%D1%82%D0%BE%D0%B2%D0%B0%3C/div%3E%60%29%5B0%5D%3B%0A%20%20%20%20%20%20%20%20%20%20%20%20popup_6b21600f305d4265839346af803f2c26.setContent%28html_852d0a3803e34ad49519cfba5d958837%29%3B%0A%20%20%20%20%20%20%20%20%0A%0A%20%20%20%20%20%20%20%20marker_bf7eaefa00eb4bd195647bf354a70491.bindPopup%28popup_6b21600f305d4265839346af803f2c26%29%0A%20%20%20%20%20%20%20%20%3B%0A%0A%20%20%20%20%20%20%20%20%0A%20%20%20%20%0A%20%20%20%20%0A%20%20%20%20%20%20%20%20%20%20%20%20var%20marker_f253b037cf164befa5628d3b362eb69a%20%3D%20L.marker%28%0A%20%20%20%20%20%20%20%20%20%20%20%20%20%20%20%20%5B51.168645%2C%2071.411843%5D%2C%0A%20%20%20%20%20%20%20%20%20%20%20%20%20%20%20%20%7B%7D%0A%20%20%20%20%20%20%20%20%20%20%20%20%29.addTo%28map_0372e994ccf64c4ea30594c13123a576%29%3B%0A%20%20%20%20%20%20%20%20%0A%20%20%20%20%0A%20%20%20%20%20%20%20%20var%20popup_4a856cac67444af198e2c7ba1dc8128b%20%3D%20L.popup%28%7B%22maxWidth%22%3A%20%22100%25%22%7D%29%3B%0A%0A%20%20%20%20%20%20%20%20%0A%20%20%20%20%20%20%20%20%20%20%20%20var%20html_6a6bfc7d6b864b06b047144592e5096f%20%3D%20%24%28%60%3Cdiv%20id%3D%22html_6a6bfc7d6b864b06b047144592e5096f%22%20style%3D%22width%3A%20100.0%25%3B%20height%3A%20100.0%25%3B%22%3E%D0%9D%D1%83%D1%80-%D0%A1%D1%83%D0%BB%D1%82%D0%B0%D0%BD%20%28%D0%90%D1%81%D1%82%D0%B0%D0%BD%D0%B0%29%2C%20%D0%BF%D1%80%D0%BE%D1%81%D0%BF%D0%B5%D0%BA%D1%82%20%D0%96%D0%B5%D0%BD%D0%B8%D1%81%2017%D0%91%3C/div%3E%60%29%5B0%5D%3B%0A%20%20%20%20%20%20%20%20%20%20%20%20popup_4a856cac67444af198e2c7ba1dc8128b.setContent%28html_6a6bfc7d6b864b06b047144592e5096f%29%3B%0A%20%20%20%20%20%20%20%20%0A%0A%20%20%20%20%20%20%20%20marker_f253b037cf164befa5628d3b362eb69a.bindPopup%28popup_4a856cac67444af198e2c7ba1dc8128b%29%0A%20%20%20%20%20%20%20%20%3B%0A%0A%20%20%20%20%20%20%20%20%0A%20%20%20%20%0A%20%20%20%20%0A%20%20%20%20%20%20%20%20%20%20%20%20var%20marker_2c59cddd6a0147a9bfa1fa6fb084d49a%20%3D%20L.marker%28%0A%20%20%20%20%20%20%20%20%20%20%20%20%20%20%20%20%5B51.180074%2C%2071.40931%5D%2C%0A%20%20%20%20%20%20%20%20%20%20%20%20%20%20%20%20%7B%7D%0A%20%20%20%20%20%20%20%20%20%20%20%20%29.addTo%28map_0372e994ccf64c4ea30594c13123a576%29%3B%0A%20%20%20%20%20%20%20%20%0A%20%20%20%20%0A%20%20%20%20%20%20%20%20var%20popup_e39f697abe9d454c97feae975020256f%20%3D%20L.popup%28%7B%22maxWidth%22%3A%20%22100%25%22%7D%29%3B%0A%0A%20%20%20%20%20%20%20%20%0A%20%20%20%20%20%20%20%20%20%20%20%20var%20html_a94837acb15840f08b3f3302437048ca%20%3D%20%24%28%60%3Cdiv%20id%3D%22html_a94837acb15840f08b3f3302437048ca%22%20style%3D%22width%3A%20100.0%25%3B%20height%3A%20100.0%25%3B%22%3E%D0%9D%D1%83%D1%80-%D0%A1%D1%83%D0%BB%D1%82%D0%B0%D0%BD%20%28%D0%90%D1%81%D1%82%D0%B0%D0%BD%D0%B0%29%2C%20%D0%A1%D0%B0%D1%80%D1%8B%D0%B0%D1%80%D0%BA%D0%B0%20%D1%80-%D0%BD%2C%20%D0%96%D0%B5%D0%BD%D0%B8%D1%81%2049%20%E2%80%94%20%D0%9C%D3%99%D1%81%D0%BA%D0%B5%D1%83%3C/div%3E%60%29%5B0%5D%3B%0A%20%20%20%20%20%20%20%20%20%20%20%20popup_e39f697abe9d454c97feae975020256f.setContent%28html_a94837acb15840f08b3f3302437048ca%29%3B%0A%20%20%20%20%20%20%20%20%0A%0A%20%20%20%20%20%20%20%20marker_2c59cddd6a0147a9bfa1fa6fb084d49a.bindPopup%28popup_e39f697abe9d454c97feae975020256f%29%0A%20%20%20%20%20%20%20%20%3B%0A%0A%20%20%20%20%20%20%20%20%0A%20%20%20%20%0A%20%20%20%20%0A%20%20%20%20%20%20%20%20%20%20%20%20var%20marker_7e7aaa2b49a14461a21f492cb309caac%20%3D%20L.marker%28%0A%20%20%20%20%20%20%20%20%20%20%20%20%20%20%20%20%5B51.162701069291%2C%2071.401126436615%5D%2C%0A%20%20%20%20%20%20%20%20%20%20%20%20%20%20%20%20%7B%7D%0A%20%20%20%20%20%20%20%20%20%20%20%20%29.addTo%28map_0372e994ccf64c4ea30594c13123a576%29%3B%0A%20%20%20%20%20%20%20%20%0A%20%20%20%20%0A%20%20%20%20%20%20%20%20var%20popup_23ee1f78529c466dad8312bea020d7bd%20%3D%20L.popup%28%7B%22maxWidth%22%3A%20%22100%25%22%7D%29%3B%0A%0A%20%20%20%20%20%20%20%20%0A%20%20%20%20%20%20%20%20%20%20%20%20var%20html_99d114bbcf4e4feebe2a638e474951d4%20%3D%20%24%28%60%3Cdiv%20id%3D%22html_99d114bbcf4e4feebe2a638e474951d4%22%20style%3D%22width%3A%20100.0%25%3B%20height%3A%20100.0%25%3B%22%3E%D0%9D%D1%83%D1%80-%D0%A1%D1%83%D0%BB%D1%82%D0%B0%D0%BD%20%28%D0%90%D1%81%D1%82%D0%B0%D0%BD%D0%B0%29%2C%20%D0%A1%D0%B0%D1%80%D1%8B%D0%B0%D1%80%D0%BA%D0%B0%20%D1%80-%D0%BD%2C%20%D0%9A%D0%B5%D0%BD%D0%B5%D1%81%D0%B0%D1%80%D1%8B%20%E2%80%94%20%D0%9A%D0%B5%D0%BD%D0%B6%D0%B5%D0%B1%D0%B5%D0%BA%D0%B0%20%D0%9A%D1%83%D0%BC%D0%B8%D1%81%D0%B1%D0%B5%D0%BA%D0%BE%D0%B2%D0%B0%3C/div%3E%60%29%5B0%5D%3B%0A%20%20%20%20%20%20%20%20%20%20%20%20popup_23ee1f78529c466dad8312bea020d7bd.setContent%28html_99d114bbcf4e4feebe2a638e474951d4%29%3B%0A%20%20%20%20%20%20%20%20%0A%0A%20%20%20%20%20%20%20%20marker_7e7aaa2b49a14461a21f492cb309caac.bindPopup%28popup_23ee1f78529c466dad8312bea020d7bd%29%0A%20%20%20%20%20%20%20%20%3B%0A%0A%20%20%20%20%20%20%20%20%0A%20%20%20%20%0A%20%20%20%20%0A%20%20%20%20%20%20%20%20%20%20%20%20var%20marker_3e69f2c540c7483da36d7f10c10d0503%20%3D%20L.marker%28%0A%20%20%20%20%20%20%20%20%20%20%20%20%20%20%20%20%5B51.154202%2C%2071.429225%5D%2C%0A%20%20%20%20%20%20%20%20%20%20%20%20%20%20%20%20%7B%7D%0A%20%20%20%20%20%20%20%20%20%20%20%20%29.addTo%28map_0372e994ccf64c4ea30594c13123a576%29%3B%0A%20%20%20%20%20%20%20%20%0A%20%20%20%20%0A%20%20%20%20%20%20%20%20var%20popup_5bff6b89cb97428c8eb4f74330351c72%20%3D%20L.popup%28%7B%22maxWidth%22%3A%20%22100%25%22%7D%29%3B%0A%0A%20%20%20%20%20%20%20%20%0A%20%20%20%20%20%20%20%20%20%20%20%20var%20html_d984cb81abcc446a88d16d89ee280632%20%3D%20%24%28%60%3Cdiv%20id%3D%22html_d984cb81abcc446a88d16d89ee280632%22%20style%3D%22width%3A%20100.0%25%3B%20height%3A%20100.0%25%3B%22%3E%D0%9D%D1%83%D1%80-%D0%A1%D1%83%D0%BB%D1%82%D0%B0%D0%BD%20%28%D0%90%D1%81%D1%82%D0%B0%D0%BD%D0%B0%29%2C%20%D0%A1%D0%B0%D1%80%D1%8B%D0%B0%D1%80%D0%BA%D0%B0%20%D1%80-%D0%BD%2C%20%D0%9C%D0%BA%D1%80%20%D0%A1%D0%B0%D0%BC%D0%B0%D0%BB%201%3C/div%3E%60%29%5B0%5D%3B%0A%20%20%20%20%20%20%20%20%20%20%20%20popup_5bff6b89cb97428c8eb4f74330351c72.setContent%28html_d984cb81abcc446a88d16d89ee280632%29%3B%0A%20%20%20%20%20%20%20%20%0A%0A%20%20%20%20%20%20%20%20marker_3e69f2c540c7483da36d7f10c10d0503.bindPopup%28popup_5bff6b89cb97428c8eb4f74330351c72%29%0A%20%20%20%20%20%20%20%20%3B%0A%0A%20%20%20%20%20%20%20%20%0A%20%20%20%20%0A%20%20%20%20%0A%20%20%20%20%20%20%20%20%20%20%20%20var%20marker_6a5b936e5f614b7db0a8ecd0bffbcd6e%20%3D%20L.marker%28%0A%20%20%20%20%20%20%20%20%20%20%20%20%20%20%20%20%5B51.16266055786%2C%2071.399580192519%5D%2C%0A%20%20%20%20%20%20%20%20%20%20%20%20%20%20%20%20%7B%7D%0A%20%20%20%20%20%20%20%20%20%20%20%20%29.addTo%28map_0372e994ccf64c4ea30594c13123a576%29%3B%0A%20%20%20%20%20%20%20%20%0A%20%20%20%20%0A%20%20%20%20%20%20%20%20var%20popup_b99a2e73cc4247d38fdc28b799a3818d%20%3D%20L.popup%28%7B%22maxWidth%22%3A%20%22100%25%22%7D%29%3B%0A%0A%20%20%20%20%20%20%20%20%0A%20%20%20%20%20%20%20%20%20%20%20%20var%20html_b6975bcda6c94b10a43d5afa20fe53f4%20%3D%20%24%28%60%3Cdiv%20id%3D%22html_b6975bcda6c94b10a43d5afa20fe53f4%22%20style%3D%22width%3A%20100.0%25%3B%20height%3A%20100.0%25%3B%22%3E%D0%9D%D1%83%D1%80-%D0%A1%D1%83%D0%BB%D1%82%D0%B0%D0%BD%20%28%D0%90%D1%81%D1%82%D0%B0%D0%BD%D0%B0%29%2C%20%D0%A1%D0%B0%D1%80%D1%8B%D0%B0%D1%80%D0%BA%D0%B0%20%D1%80-%D0%BD%2C%20%D0%9A%D0%B5%D0%BD%D0%B5%D1%81%D0%B0%D1%80%D1%8B%3C/div%3E%60%29%5B0%5D%3B%0A%20%20%20%20%20%20%20%20%20%20%20%20popup_b99a2e73cc4247d38fdc28b799a3818d.setContent%28html_b6975bcda6c94b10a43d5afa20fe53f4%29%3B%0A%20%20%20%20%20%20%20%20%0A%0A%20%20%20%20%20%20%20%20marker_6a5b936e5f614b7db0a8ecd0bffbcd6e.bindPopup%28popup_b99a2e73cc4247d38fdc28b799a3818d%29%0A%20%20%20%20%20%20%20%20%3B%0A%0A%20%20%20%20%20%20%20%20%0A%20%20%20%20%0A%3C/script%3E onload=\"this.contentDocument.open();this.contentDocument.write(    decodeURIComponent(this.getAttribute('data-html')));this.contentDocument.close();\" allowfullscreen webkitallowfullscreen mozallowfullscreen></iframe></div></div>"
      ],
      "text/plain": [
       "<folium.folium.Map at 0xc9c05e0>"
      ]
     },
     "execution_count": 112,
     "metadata": {},
     "output_type": "execute_result"
    }
   ],
   "source": [
    "for i in range(0,len(df)):\n",
    "    folium.Marker([df.iloc[i]['lat'], df.iloc[i]['lon']], popup=df.iloc[i]['fullAddress']).add_to(m)\n",
    "m"
   ]
  },
  {
   "cell_type": "code",
   "execution_count": 124,
   "metadata": {},
   "outputs": [
    {
     "data": {
      "image/png": "[encoded data removed]",
      "text/plain": [
       "<Figure size 360x360 with 1 Axes>"
      ]
     },
     "metadata": {
      "needs_background": "light"
     },
     "output_type": "display_data"
    }
   ],
   "source": [
    "import seaborn as sns\n",
    "fig = sns.displot(df['rooms'])\n",
    "plt.show()"
   ]
  },
  {
   "cell_type": "code",
   "execution_count": 126,
   "metadata": {},
   "outputs": [
    {
     "data": {
      "application/vnd.plotly.v1+json": {
       "config": {
        "plotlyServerURL": "https://plot.ly"
       },
       "data": [
        {
         "alignmentgroup": "True",
         "hovertemplate": "price=%{x}<extra></extra>",
         "legendgroup": "",
         "marker": {
          "color": "#636efa"
         },
         "name": "",
         "notched": false,
         "offsetgroup": "",
         "orientation": "h",
         "showlegend": false,
         "type": "box",
         "x": [
          18000000,
          35000000,
          24000000,
          67000000,
          12500000,
          12300000,
          19500000,
          16500000,
          23300000,
          25500000,
          42500000,
          41000000,
          3700000,
          32500000,
          23400000,
          32500000,
          14500000,
          12000000,
          29500000,
          23000000,
          16000000,
          23100000,
          44500000,
          45000000,
          13700000,
          18799000,
          15799000,
          76000000,
          15000000,
          29500000,
          18500000,
          25500000,
          30000000,
          30300000,
          16900000,
          32400000,
          68000000,
          29800000,
          14400000,
          15500000,
          11400000,
          40000000,
          23500000,
          22800000,
          36000000,
          33000000,
          19000000,
          12900000,
          36500000,
          60000000,
          19300000,
          11800000,
          31000000,
          11800000,
          16500000,
          16500000,
          35000000,
          19000000,
          18500000,
          14200000,
          33000000,
          12000000,
          19000000,
          11750000,
          21000000,
          38900000,
          55000000,
          64500000,
          17500000,
          13000000,
          23500000,
          18500000,
          13800000,
          22400000,
          14700000,
          14500000,
          13000000,
          32000000,
          10999999,
          12500000,
          13500000,
          23500000,
          20500000,
          25500000,
          12200000,
          20000000,
          15800000,
          14800000,
          18954000,
          12600000,
          36400000,
          11500000,
          9200000,
          32500000,
          19900000,
          17300000,
          8900000,
          17907910,
          31500000,
          38400000
         ],
         "x0": " ",
         "xaxis": "x",
         "y0": " ",
         "yaxis": "y"
        }
       ],
       "layout": {
        "boxmode": "group",
        "legend": {
         "tracegroupgap": 0
        },
        "margin": {
         "t": 60
        },
        "template": {
         "data": {
          "bar": [
           {
            "error_x": {
             "color": "#2a3f5f"
            },
            "error_y": {
             "color": "#2a3f5f"
            },
            "marker": {
             "line": {
              "color": "#E5ECF6",
              "width": 0.5
             }
            },
            "type": "bar"
           }
          ],
          "barpolar": [
           {
            "marker": {
             "line": {
              "color": "#E5ECF6",
              "width": 0.5
             }
            },
            "type": "barpolar"
           }
          ],
          "carpet": [
           {
            "aaxis": {
             "endlinecolor": "#2a3f5f",
             "gridcolor": "white",
             "linecolor": "white",
             "minorgridcolor": "white",
             "startlinecolor": "#2a3f5f"
            },
            "baxis": {
             "endlinecolor": "#2a3f5f",
             "gridcolor": "white",
             "linecolor": "white",
             "minorgridcolor": "white",
             "startlinecolor": "#2a3f5f"
            },
            "type": "carpet"
           }
          ],
          "choropleth": [
           {
            "colorbar": {
             "outlinewidth": 0,
             "ticks": ""
            },
            "type": "choropleth"
           }
          ],
          "contour": [
           {
            "colorbar": {
             "outlinewidth": 0,
             "ticks": ""
            },
            "colorscale": [
             [
              0,
              "#0d0887"
             ],
             [
              0.1111111111111111,
              "#46039f"
             ],
             [
              0.2222222222222222,
              "#7201a8"
             ],
             [
              0.3333333333333333,
              "#9c179e"
             ],
             [
              0.4444444444444444,
              "#bd3786"
             ],
             [
              0.5555555555555556,
              "#d8576b"
             ],
             [
              0.6666666666666666,
              "#ed7953"
             ],
             [
              0.7777777777777778,
              "#fb9f3a"
             ],
             [
              0.8888888888888888,
              "#fdca26"
             ],
             [
              1,
              "#f0f921"
             ]
            ],
            "type": "contour"
           }
          ],
          "contourcarpet": [
           {
            "colorbar": {
             "outlinewidth": 0,
             "ticks": ""
            },
            "type": "contourcarpet"
           }
          ],
          "heatmap": [
           {
            "colorbar": {
             "outlinewidth": 0,
             "ticks": ""
            },
            "colorscale": [
             [
              0,
              "#0d0887"
             ],
             [
              0.1111111111111111,
              "#46039f"
             ],
             [
              0.2222222222222222,
              "#7201a8"
             ],
             [
              0.3333333333333333,
              "#9c179e"
             ],
             [
              0.4444444444444444,
              "#bd3786"
             ],
             [
              0.5555555555555556,
              "#d8576b"
             ],
             [
              0.6666666666666666,
              "#ed7953"
             ],
             [
              0.7777777777777778,
              "#fb9f3a"
             ],
             [
              0.8888888888888888,
              "#fdca26"
             ],
             [
              1,
              "#f0f921"
             ]
            ],
            "type": "heatmap"
           }
          ],
          "heatmapgl": [
           {
            "colorbar": {
             "outlinewidth": 0,
             "ticks": ""
            },
            "colorscale": [
             [
              0,
              "#0d0887"
             ],
             [
              0.1111111111111111,
              "#46039f"
             ],
             [
              0.2222222222222222,
              "#7201a8"
             ],
             [
              0.3333333333333333,
              "#9c179e"
             ],
             [
              0.4444444444444444,
              "#bd3786"
             ],
             [
              0.5555555555555556,
              "#d8576b"
             ],
             [
              0.6666666666666666,
              "#ed7953"
             ],
             [
              0.7777777777777778,
              "#fb9f3a"
             ],
             [
              0.8888888888888888,
              "#fdca26"
             ],
             [
              1,
              "#f0f921"
             ]
            ],
            "type": "heatmapgl"
           }
          ],
          "histogram": [
           {
            "marker": {
             "colorbar": {
              "outlinewidth": 0,
              "ticks": ""
             }
            },
            "type": "histogram"
           }
          ],
          "histogram2d": [
           {
            "colorbar": {
             "outlinewidth": 0,
             "ticks": ""
            },
            "colorscale": [
             [
              0,
              "#0d0887"
             ],
             [
              0.1111111111111111,
              "#46039f"
             ],
             [
              0.2222222222222222,
              "#7201a8"
             ],
             [
              0.3333333333333333,
              "#9c179e"
             ],
             [
              0.4444444444444444,
              "#bd3786"
             ],
             [
              0.5555555555555556,
              "#d8576b"
             ],
             [
              0.6666666666666666,
              "#ed7953"
             ],
             [
              0.7777777777777778,
              "#fb9f3a"
             ],
             [
              0.8888888888888888,
              "#fdca26"
             ],
             [
              1,
              "#f0f921"
             ]
            ],
            "type": "histogram2d"
           }
          ],
          "histogram2dcontour": [
           {
            "colorbar": {
             "outlinewidth": 0,
             "ticks": ""
            },
            "colorscale": [
             [
              0,
              "#0d0887"
             ],
             [
              0.1111111111111111,
              "#46039f"
             ],
             [
              0.2222222222222222,
              "#7201a8"
             ],
             [
              0.3333333333333333,
              "#9c179e"
             ],
             [
              0.4444444444444444,
              "#bd3786"
             ],
             [
              0.5555555555555556,
              "#d8576b"
             ],
             [
              0.6666666666666666,
              "#ed7953"
             ],
             [
              0.7777777777777778,
              "#fb9f3a"
             ],
             [
              0.8888888888888888,
              "#fdca26"
             ],
             [
              1,
              "#f0f921"
             ]
            ],
            "type": "histogram2dcontour"
           }
          ],
          "mesh3d": [
           {
            "colorbar": {
             "outlinewidth": 0,
             "ticks": ""
            },
            "type": "mesh3d"
           }
          ],
          "parcoords": [
           {
            "line": {
             "colorbar": {
              "outlinewidth": 0,
              "ticks": ""
             }
            },
            "type": "parcoords"
           }
          ],
          "pie": [
           {
            "automargin": true,
            "type": "pie"
           }
          ],
          "scatter": [
           {
            "marker": {
             "colorbar": {
              "outlinewidth": 0,
              "ticks": ""
             }
            },
            "type": "scatter"
           }
          ],
          "scatter3d": [
           {
            "line": {
             "colorbar": {
              "outlinewidth": 0,
              "ticks": ""
             }
            },
            "marker": {
             "colorbar": {
              "outlinewidth": 0,
              "ticks": ""
             }
            },
            "type": "scatter3d"
           }
          ],
          "scattercarpet": [
           {
            "marker": {
             "colorbar": {
              "outlinewidth": 0,
              "ticks": ""
             }
            },
            "type": "scattercarpet"
           }
          ],
          "scattergeo": [
           {
            "marker": {
             "colorbar": {
              "outlinewidth": 0,
              "ticks": ""
             }
            },
            "type": "scattergeo"
           }
          ],
          "scattergl": [
           {
            "marker": {
             "colorbar": {
              "outlinewidth": 0,
              "ticks": ""
             }
            },
            "type": "scattergl"
           }
          ],
          "scattermapbox": [
           {
            "marker": {
             "colorbar": {
              "outlinewidth": 0,
              "ticks": ""
             }
            },
            "type": "scattermapbox"
           }
          ],
          "scatterpolar": [
           {
            "marker": {
             "colorbar": {
              "outlinewidth": 0,
              "ticks": ""
             }
            },
            "type": "scatterpolar"
           }
          ],
          "scatterpolargl": [
           {
            "marker": {
             "colorbar": {
              "outlinewidth": 0,
              "ticks": ""
             }
            },
            "type": "scatterpolargl"
           }
          ],
          "scatterternary": [
           {
            "marker": {
             "colorbar": {
              "outlinewidth": 0,
              "ticks": ""
             }
            },
            "type": "scatterternary"
           }
          ],
          "surface": [
           {
            "colorbar": {
             "outlinewidth": 0,
             "ticks": ""
            },
            "colorscale": [
             [
              0,
              "#0d0887"
             ],
             [
              0.1111111111111111,
              "#46039f"
             ],
             [
              0.2222222222222222,
              "#7201a8"
             ],
             [
              0.3333333333333333,
              "#9c179e"
             ],
             [
              0.4444444444444444,
              "#bd3786"
             ],
             [
              0.5555555555555556,
              "#d8576b"
             ],
             [
              0.6666666666666666,
              "#ed7953"
             ],
             [
              0.7777777777777778,
              "#fb9f3a"
             ],
             [
              0.8888888888888888,
              "#fdca26"
             ],
             [
              1,
              "#f0f921"
             ]
            ],
            "type": "surface"
           }
          ],
          "table": [
           {
            "cells": {
             "fill": {
              "color": "#EBF0F8"
             },
             "line": {
              "color": "white"
             }
            },
            "header": {
             "fill": {
              "color": "#C8D4E3"
             },
             "line": {
              "color": "white"
             }
            },
            "type": "table"
           }
          ]
         },
         "layout": {
          "annotationdefaults": {
           "arrowcolor": "#2a3f5f",
           "arrowhead": 0,
           "arrowwidth": 1
          },
          "coloraxis": {
           "colorbar": {
            "outlinewidth": 0,
            "ticks": ""
           }
          },
          "colorscale": {
           "diverging": [
            [
             0,
             "#8e0152"
            ],
            [
             0.1,
             "#c51b7d"
            ],
            [
             0.2,
             "#de77ae"
            ],
            [
             0.3,
             "#f1b6da"
            ],
            [
             0.4,
             "#fde0ef"
            ],
            [
             0.5,
             "#f7f7f7"
            ],
            [
             0.6,
             "#e6f5d0"
            ],
            [
             0.7,
             "#b8e186"
            ],
            [
             0.8,
             "#7fbc41"
            ],
            [
             0.9,
             "#4d9221"
            ],
            [
             1,
             "#276419"
            ]
           ],
           "sequential": [
            [
             0,
             "#0d0887"
            ],
            [
             0.1111111111111111,
             "#46039f"
            ],
            [
             0.2222222222222222,
             "#7201a8"
            ],
            [
             0.3333333333333333,
             "#9c179e"
            ],
            [
             0.4444444444444444,
             "#bd3786"
            ],
            [
             0.5555555555555556,
             "#d8576b"
            ],
            [
             0.6666666666666666,
             "#ed7953"
            ],
            [
             0.7777777777777778,
             "#fb9f3a"
            ],
            [
             0.8888888888888888,
             "#fdca26"
            ],
            [
             1,
             "#f0f921"
            ]
           ],
           "sequentialminus": [
            [
             0,
             "#0d0887"
            ],
            [
             0.1111111111111111,
             "#46039f"
            ],
            [
             0.2222222222222222,
             "#7201a8"
            ],
            [
             0.3333333333333333,
             "#9c179e"
            ],
            [
             0.4444444444444444,
             "#bd3786"
            ],
            [
             0.5555555555555556,
             "#d8576b"
            ],
            [
             0.6666666666666666,
             "#ed7953"
            ],
            [
             0.7777777777777778,
             "#fb9f3a"
            ],
            [
             0.8888888888888888,
             "#fdca26"
            ],
            [
             1,
             "#f0f921"
            ]
           ]
          },
          "colorway": [
           "#636efa",
           "#EF553B",
           "#00cc96",
           "#ab63fa",
           "#FFA15A",
           "#19d3f3",
           "#FF6692",
           "#B6E880",
           "#FF97FF",
           "#FECB52"
          ],
          "font": {
           "color": "#2a3f5f"
          },
          "geo": {
           "bgcolor": "white",
           "lakecolor": "white",
           "landcolor": "#E5ECF6",
           "showlakes": true,
           "showland": true,
           "subunitcolor": "white"
          },
          "hoverlabel": {
           "align": "left"
          },
          "hovermode": "closest",
          "mapbox": {
           "style": "light"
          },
          "paper_bgcolor": "white",
          "plot_bgcolor": "#E5ECF6",
          "polar": {
           "angularaxis": {
            "gridcolor": "white",
            "linecolor": "white",
            "ticks": ""
           },
           "bgcolor": "#E5ECF6",
           "radialaxis": {
            "gridcolor": "white",
            "linecolor": "white",
            "ticks": ""
           }
          },
          "scene": {
           "xaxis": {
            "backgroundcolor": "#E5ECF6",
            "gridcolor": "white",
            "gridwidth": 2,
            "linecolor": "white",
            "showbackground": true,
            "ticks": "",
            "zerolinecolor": "white"
           },
           "yaxis": {
            "backgroundcolor": "#E5ECF6",
            "gridcolor": "white",
            "gridwidth": 2,
            "linecolor": "white",
            "showbackground": true,
            "ticks": "",
            "zerolinecolor": "white"
           },
           "zaxis": {
            "backgroundcolor": "#E5ECF6",
            "gridcolor": "white",
            "gridwidth": 2,
            "linecolor": "white",
            "showbackground": true,
            "ticks": "",
            "zerolinecolor": "white"
           }
          },
          "shapedefaults": {
           "line": {
            "color": "#2a3f5f"
           }
          },
          "ternary": {
           "aaxis": {
            "gridcolor": "white",
            "linecolor": "white",
            "ticks": ""
           },
           "baxis": {
            "gridcolor": "white",
            "linecolor": "white",
            "ticks": ""
           },
           "bgcolor": "#E5ECF6",
           "caxis": {
            "gridcolor": "white",
            "linecolor": "white",
            "ticks": ""
           }
          },
          "title": {
           "x": 0.05
          },
          "xaxis": {
           "automargin": true,
           "gridcolor": "white",
           "linecolor": "white",
           "ticks": "",
           "title": {
            "standoff": 15
           },
           "zerolinecolor": "white",
           "zerolinewidth": 2
          },
          "yaxis": {
           "automargin": true,
           "gridcolor": "white",
           "linecolor": "white",
           "ticks": "",
           "title": {
            "standoff": 15
           },
           "zerolinecolor": "white",
           "zerolinewidth": 2
          }
         }
        },
        "xaxis": {
         "anchor": "y",
         "domain": [
          0,
          1
         ],
         "title": {
          "text": "price"
         }
        },
        "yaxis": {
         "anchor": "x",
         "domain": [
          0,
          1
         ]
        }
       }
      },
      "text/html": [
       "<div>                            <div id=\"e3631a03-ed7a-4a27-8434-0c8b2c97d087\" class=\"plotly-graph-div\" style=\"height:525px; width:100%;\"></div>            <script type=\"text/javascript\">                require([\"plotly\"], function(Plotly) {                    window.PLOTLYENV=window.PLOTLYENV || {};                                    if (document.getElementById(\"e3631a03-ed7a-4a27-8434-0c8b2c97d087\")) {                    Plotly.newPlot(                        \"e3631a03-ed7a-4a27-8434-0c8b2c97d087\",                        [{\"alignmentgroup\": \"True\", \"hovertemplate\": \"price=%{x}<extra></extra>\", \"legendgroup\": \"\", \"marker\": {\"color\": \"#636efa\"}, \"name\": \"\", \"notched\": false, \"offsetgroup\": \"\", \"orientation\": \"h\", \"showlegend\": false, \"type\": \"box\", \"x\": [18000000, 35000000, 24000000, 67000000, 12500000, 12300000, 19500000, 16500000, 23300000, 25500000, 42500000, 41000000, 3700000, 32500000, 23400000, 32500000, 14500000, 12000000, 29500000, 23000000, 16000000, 23100000, 44500000, 45000000, 13700000, 18799000, 15799000, 76000000, 15000000, 29500000, 18500000, 25500000, 30000000, 30300000, 16900000, 32400000, 68000000, 29800000, 14400000, 15500000, 11400000, 40000000, 23500000, 22800000, 36000000, 33000000, 19000000, 12900000, 36500000, 60000000, 19300000, 11800000, 31000000, 11800000, 16500000, 16500000, 35000000, 19000000, 18500000, 14200000, 33000000, 12000000, 19000000, 11750000, 21000000, 38900000, 55000000, 64500000, 17500000, 13000000, 23500000, 18500000, 13800000, 22400000, 14700000, 14500000, 13000000, 32000000, 10999999, 12500000, 13500000, 23500000, 20500000, 25500000, 12200000, 20000000, 15800000, 14800000, 18954000, 12600000, 36400000, 11500000, 9200000, 32500000, 19900000, 17300000, 8900000, 17907910, 31500000, 38400000], \"x0\": \" \", \"xaxis\": \"x\", \"y0\": \" \", \"yaxis\": \"y\"}],                        {\"boxmode\": \"group\", \"legend\": {\"tracegroupgap\": 0}, \"margin\": {\"t\": 60}, \"template\": {\"data\": {\"bar\": [{\"error_x\": {\"color\": \"#2a3f5f\"}, \"error_y\": {\"color\": \"#2a3f5f\"}, \"marker\": {\"line\": {\"color\": \"#E5ECF6\", \"width\": 0.5}}, \"type\": \"bar\"}], \"barpolar\": [{\"marker\": {\"line\": {\"color\": \"#E5ECF6\", \"width\": 0.5}}, \"type\": \"barpolar\"}], \"carpet\": [{\"aaxis\": {\"endlinecolor\": \"#2a3f5f\", \"gridcolor\": \"white\", \"linecolor\": \"white\", \"minorgridcolor\": \"white\", \"startlinecolor\": \"#2a3f5f\"}, \"baxis\": {\"endlinecolor\": \"#2a3f5f\", \"gridcolor\": \"white\", \"linecolor\": \"white\", \"minorgridcolor\": \"white\", \"startlinecolor\": \"#2a3f5f\"}, \"type\": \"carpet\"}], \"choropleth\": [{\"colorbar\": {\"outlinewidth\": 0, \"ticks\": \"\"}, \"type\": \"choropleth\"}], \"contour\": [{\"colorbar\": {\"outlinewidth\": 0, \"ticks\": \"\"}, \"colorscale\": [[0.0, \"#0d0887\"], [0.1111111111111111, \"#46039f\"], [0.2222222222222222, \"#7201a8\"], [0.3333333333333333, \"#9c179e\"], [0.4444444444444444, \"#bd3786\"], [0.5555555555555556, \"#d8576b\"], [0.6666666666666666, \"#ed7953\"], [0.7777777777777778, \"#fb9f3a\"], [0.8888888888888888, \"#fdca26\"], [1.0, \"#f0f921\"]], \"type\": \"contour\"}], \"contourcarpet\": [{\"colorbar\": {\"outlinewidth\": 0, \"ticks\": \"\"}, \"type\": \"contourcarpet\"}], \"heatmap\": [{\"colorbar\": {\"outlinewidth\": 0, \"ticks\": \"\"}, \"colorscale\": [[0.0, \"#0d0887\"], [0.1111111111111111, \"#46039f\"], [0.2222222222222222, \"#7201a8\"], [0.3333333333333333, \"#9c179e\"], [0.4444444444444444, \"#bd3786\"], [0.5555555555555556, \"#d8576b\"], [0.6666666666666666, \"#ed7953\"], [0.7777777777777778, \"#fb9f3a\"], [0.8888888888888888, \"#fdca26\"], [1.0, \"#f0f921\"]], \"type\": \"heatmap\"}], \"heatmapgl\": [{\"colorbar\": {\"outlinewidth\": 0, \"ticks\": \"\"}, \"colorscale\": [[0.0, \"#0d0887\"], [0.1111111111111111, \"#46039f\"], [0.2222222222222222, \"#7201a8\"], [0.3333333333333333, \"#9c179e\"], [0.4444444444444444, \"#bd3786\"], [0.5555555555555556, \"#d8576b\"], [0.6666666666666666, \"#ed7953\"], [0.7777777777777778, \"#fb9f3a\"], [0.8888888888888888, \"#fdca26\"], [1.0, \"#f0f921\"]], \"type\": \"heatmapgl\"}], \"histogram\": [{\"marker\": {\"colorbar\": {\"outlinewidth\": 0, \"ticks\": \"\"}}, \"type\": \"histogram\"}], \"histogram2d\": [{\"colorbar\": {\"outlinewidth\": 0, \"ticks\": \"\"}, \"colorscale\": [[0.0, \"#0d0887\"], [0.1111111111111111, \"#46039f\"], [0.2222222222222222, \"#7201a8\"], [0.3333333333333333, \"#9c179e\"], [0.4444444444444444, \"#bd3786\"], [0.5555555555555556, \"#d8576b\"], [0.6666666666666666, \"#ed7953\"], [0.7777777777777778, \"#fb9f3a\"], [0.8888888888888888, \"#fdca26\"], [1.0, \"#f0f921\"]], \"type\": \"histogram2d\"}], \"histogram2dcontour\": [{\"colorbar\": {\"outlinewidth\": 0, \"ticks\": \"\"}, \"colorscale\": [[0.0, \"#0d0887\"], [0.1111111111111111, \"#46039f\"], [0.2222222222222222, \"#7201a8\"], [0.3333333333333333, \"#9c179e\"], [0.4444444444444444, \"#bd3786\"], [0.5555555555555556, \"#d8576b\"], [0.6666666666666666, \"#ed7953\"], [0.7777777777777778, \"#fb9f3a\"], [0.8888888888888888, \"#fdca26\"], [1.0, \"#f0f921\"]], \"type\": \"histogram2dcontour\"}], \"mesh3d\": [{\"colorbar\": {\"outlinewidth\": 0, \"ticks\": \"\"}, \"type\": \"mesh3d\"}], \"parcoords\": [{\"line\": {\"colorbar\": {\"outlinewidth\": 0, \"ticks\": \"\"}}, \"type\": \"parcoords\"}], \"pie\": [{\"automargin\": true, \"type\": \"pie\"}], \"scatter\": [{\"marker\": {\"colorbar\": {\"outlinewidth\": 0, \"ticks\": \"\"}}, \"type\": \"scatter\"}], \"scatter3d\": [{\"line\": {\"colorbar\": {\"outlinewidth\": 0, \"ticks\": \"\"}}, \"marker\": {\"colorbar\": {\"outlinewidth\": 0, \"ticks\": \"\"}}, \"type\": \"scatter3d\"}], \"scattercarpet\": [{\"marker\": {\"colorbar\": {\"outlinewidth\": 0, \"ticks\": \"\"}}, \"type\": \"scattercarpet\"}], \"scattergeo\": [{\"marker\": {\"colorbar\": {\"outlinewidth\": 0, \"ticks\": \"\"}}, \"type\": \"scattergeo\"}], \"scattergl\": [{\"marker\": {\"colorbar\": {\"outlinewidth\": 0, \"ticks\": \"\"}}, \"type\": \"scattergl\"}], \"scattermapbox\": [{\"marker\": {\"colorbar\": {\"outlinewidth\": 0, \"ticks\": \"\"}}, \"type\": \"scattermapbox\"}], \"scatterpolar\": [{\"marker\": {\"colorbar\": {\"outlinewidth\": 0, \"ticks\": \"\"}}, \"type\": \"scatterpolar\"}], \"scatterpolargl\": [{\"marker\": {\"colorbar\": {\"outlinewidth\": 0, \"ticks\": \"\"}}, \"type\": \"scatterpolargl\"}], \"scatterternary\": [{\"marker\": {\"colorbar\": {\"outlinewidth\": 0, \"ticks\": \"\"}}, \"type\": \"scatterternary\"}], \"surface\": [{\"colorbar\": {\"outlinewidth\": 0, \"ticks\": \"\"}, \"colorscale\": [[0.0, \"#0d0887\"], [0.1111111111111111, \"#46039f\"], [0.2222222222222222, \"#7201a8\"], [0.3333333333333333, \"#9c179e\"], [0.4444444444444444, \"#bd3786\"], [0.5555555555555556, \"#d8576b\"], [0.6666666666666666, \"#ed7953\"], [0.7777777777777778, \"#fb9f3a\"], [0.8888888888888888, \"#fdca26\"], [1.0, \"#f0f921\"]], \"type\": \"surface\"}], \"table\": [{\"cells\": {\"fill\": {\"color\": \"#EBF0F8\"}, \"line\": {\"color\": \"white\"}}, \"header\": {\"fill\": {\"color\": \"#C8D4E3\"}, \"line\": {\"color\": \"white\"}}, \"type\": \"table\"}]}, \"layout\": {\"annotationdefaults\": {\"arrowcolor\": \"#2a3f5f\", \"arrowhead\": 0, \"arrowwidth\": 1}, \"coloraxis\": {\"colorbar\": {\"outlinewidth\": 0, \"ticks\": \"\"}}, \"colorscale\": {\"diverging\": [[0, \"#8e0152\"], [0.1, \"#c51b7d\"], [0.2, \"#de77ae\"], [0.3, \"#f1b6da\"], [0.4, \"#fde0ef\"], [0.5, \"#f7f7f7\"], [0.6, \"#e6f5d0\"], [0.7, \"#b8e186\"], [0.8, \"#7fbc41\"], [0.9, \"#4d9221\"], [1, \"#276419\"]], \"sequential\": [[0.0, \"#0d0887\"], [0.1111111111111111, \"#46039f\"], [0.2222222222222222, \"#7201a8\"], [0.3333333333333333, \"#9c179e\"], [0.4444444444444444, \"#bd3786\"], [0.5555555555555556, \"#d8576b\"], [0.6666666666666666, \"#ed7953\"], [0.7777777777777778, \"#fb9f3a\"], [0.8888888888888888, \"#fdca26\"], [1.0, \"#f0f921\"]], \"sequentialminus\": [[0.0, \"#0d0887\"], [0.1111111111111111, \"#46039f\"], [0.2222222222222222, \"#7201a8\"], [0.3333333333333333, \"#9c179e\"], [0.4444444444444444, \"#bd3786\"], [0.5555555555555556, \"#d8576b\"], [0.6666666666666666, \"#ed7953\"], [0.7777777777777778, \"#fb9f3a\"], [0.8888888888888888, \"#fdca26\"], [1.0, \"#f0f921\"]]}, \"colorway\": [\"#636efa\", \"#EF553B\", \"#00cc96\", \"#ab63fa\", \"#FFA15A\", \"#19d3f3\", \"#FF6692\", \"#B6E880\", \"#FF97FF\", \"#FECB52\"], \"font\": {\"color\": \"#2a3f5f\"}, \"geo\": {\"bgcolor\": \"white\", \"lakecolor\": \"white\", \"landcolor\": \"#E5ECF6\", \"showlakes\": true, \"showland\": true, \"subunitcolor\": \"white\"}, \"hoverlabel\": {\"align\": \"left\"}, \"hovermode\": \"closest\", \"mapbox\": {\"style\": \"light\"}, \"paper_bgcolor\": \"white\", \"plot_bgcolor\": \"#E5ECF6\", \"polar\": {\"angularaxis\": {\"gridcolor\": \"white\", \"linecolor\": \"white\", \"ticks\": \"\"}, \"bgcolor\": \"#E5ECF6\", \"radialaxis\": {\"gridcolor\": \"white\", \"linecolor\": \"white\", \"ticks\": \"\"}}, \"scene\": {\"xaxis\": {\"backgroundcolor\": \"#E5ECF6\", \"gridcolor\": \"white\", \"gridwidth\": 2, \"linecolor\": \"white\", \"showbackground\": true, \"ticks\": \"\", \"zerolinecolor\": \"white\"}, \"yaxis\": {\"backgroundcolor\": \"#E5ECF6\", \"gridcolor\": \"white\", \"gridwidth\": 2, \"linecolor\": \"white\", \"showbackground\": true, \"ticks\": \"\", \"zerolinecolor\": \"white\"}, \"zaxis\": {\"backgroundcolor\": \"#E5ECF6\", \"gridcolor\": \"white\", \"gridwidth\": 2, \"linecolor\": \"white\", \"showbackground\": true, \"ticks\": \"\", \"zerolinecolor\": \"white\"}}, \"shapedefaults\": {\"line\": {\"color\": \"#2a3f5f\"}}, \"ternary\": {\"aaxis\": {\"gridcolor\": \"white\", \"linecolor\": \"white\", \"ticks\": \"\"}, \"baxis\": {\"gridcolor\": \"white\", \"linecolor\": \"white\", \"ticks\": \"\"}, \"bgcolor\": \"#E5ECF6\", \"caxis\": {\"gridcolor\": \"white\", \"linecolor\": \"white\", \"ticks\": \"\"}}, \"title\": {\"x\": 0.05}, \"xaxis\": {\"automargin\": true, \"gridcolor\": \"white\", \"linecolor\": \"white\", \"ticks\": \"\", \"title\": {\"standoff\": 15}, \"zerolinecolor\": \"white\", \"zerolinewidth\": 2}, \"yaxis\": {\"automargin\": true, \"gridcolor\": \"white\", \"linecolor\": \"white\", \"ticks\": \"\", \"title\": {\"standoff\": 15}, \"zerolinecolor\": \"white\", \"zerolinewidth\": 2}}}, \"xaxis\": {\"anchor\": \"y\", \"domain\": [0.0, 1.0], \"title\": {\"text\": \"price\"}}, \"yaxis\": {\"anchor\": \"x\", \"domain\": [0.0, 1.0]}},                        {\"responsive\": true}                    ).then(function(){\n",
       "                            \n",
       "var gd = document.getElementById('e3631a03-ed7a-4a27-8434-0c8b2c97d087');\n",
       "var x = new MutationObserver(function (mutations, observer) {{\n",
       "        var display = window.getComputedStyle(gd).display;\n",
       "        if (!display || display === 'none') {{\n",
       "            console.log([gd, 'removed!']);\n",
       "            Plotly.purge(gd);\n",
       "            observer.disconnect();\n",
       "        }}\n",
       "}});\n",
       "\n",
       "// Listen for the removal of the full notebook cells\n",
       "var notebookContainer = gd.closest('#notebook-container');\n",
       "if (notebookContainer) {{\n",
       "    x.observe(notebookContainer, {childList: true});\n",
       "}}\n",
       "\n",
       "// Listen for the clearing of the current output cell\n",
       "var outputEl = gd.closest('.output');\n",
       "if (outputEl) {{\n",
       "    x.observe(outputEl, {childList: true});\n",
       "}}\n",
       "\n",
       "                        })                };                });            </script>        </div>"
      ]
     },
     "metadata": {},
     "output_type": "display_data"
    }
   ],
   "source": [
    "fig = px.box(df, x=\"price\")\n",
    "fig.show()"
   ]
  },
  {
   "cell_type": "markdown",
   "metadata": {},
   "source": [
    "As we can see from graphs, on the website large amount of adverts is from specialists, also we can see that price range stuck within 15kk and 30kk."
   ]
  },
  {
   "cell_type": "markdown",
   "metadata": {},
   "source": [
    "## Conclusion: It must be pointed out, but here is always possibilities to do job more effective, and in the case of scraping, you always can find a new way of data representation in source code as did i."
   ]
  },
  {
   "cell_type": "code",
   "execution_count": null,
   "metadata": {},
   "outputs": [],
   "source": []
  }
 ],
 "metadata": {
  "kernelspec": {
   "display_name": "Python 3",
   "language": "python",
   "name": "python3"
  },
  "language_info": {
   "codemirror_mode": {
    "name": "ipython",
    "version": 3
   },
   "file_extension": ".py",
   "mimetype": "text/x-python",
   "name": "python",
   "nbconvert_exporter": "python",
   "pygments_lexer": "ipython3",
   "version": "3.8.2"
  }
 },
 "nbformat": 4,
 "nbformat_minor": 4
}
